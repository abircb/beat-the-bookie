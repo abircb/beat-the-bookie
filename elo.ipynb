{
 "cells": [
  {
   "cell_type": "markdown",
   "metadata": {},
   "source": [
    "## Elo rating\n",
    "We evaluate the result of a match as a 0 for a loss, 0.5 for a draw and 1 for a win.\n",
    "Useful paper: http://www.glicko.net/research/acjpaper.pdf\n",
    "\n",
    "### Expected Outcome\n",
    "We can compute the expected outcome $E_H$ of a match between two teams by using the equation (from the perspective of the home team).\n",
    "The probability of the home team winning is equal to the expected outcome.\n",
    "\\begin{equation}\n",
    "Q_H = 10^{\\frac{R_H}{400}}\n",
    "\\\\\n",
    "Q_A = 10^{\\frac{R_A}{400}}\n",
    "\\\\\n",
    "E_H = \\frac{Q_H}{Q_H + Q_A} = P(\\text{Home Winning})\n",
    "\\end{equation}\n",
    "\n",
    "### Update rating\n",
    "We update the rating of a team after a match using the equation and using the expected result $E_H$ and the actual result $S_H$. $K$ is a constant which is commonly 32.\n",
    "\\begin{equation}\n",
    "R_H' = R_H + K * (S_H - E_H)\n",
    "\\end{equation}"
   ]
  },
  {
   "cell_type": "code",
   "execution_count": 1,
   "metadata": {},
   "outputs": [],
   "source": [
    "import numpy as np\n",
    "import pandas as pd\n",
    "from collections import defaultdict"
   ]
  },
  {
   "cell_type": "code",
   "execution_count": 2,
   "metadata": {},
   "outputs": [],
   "source": [
    "training_data = pd.read_csv(\"data/football-data.co.uk/updated-epl-training.csv\")"
   ]
  },
  {
   "cell_type": "code",
   "execution_count": 3,
   "metadata": {},
   "outputs": [],
   "source": [
    "def encode_result(result):\n",
    "    outcome = 0.5\n",
    "    if result == 'H':\n",
    "        outcome = 1\n",
    "    elif result == 'A':\n",
    "        outcome = 0\n",
    "    return outcome"
   ]
  },
  {
   "cell_type": "code",
   "execution_count": 4,
   "metadata": {},
   "outputs": [],
   "source": [
    "def expected_outcome(homeTeam, awayTeam):\n",
    "    Q_home = 10 ** (ratings[homeTeam] / 400)\n",
    "    Q_away = 10 ** (ratings[awayTeam] / 400)\n",
    "    expected_outcome = Q_home / (Q_home + Q_away)\n",
    "    return expected_outcome\n"
   ]
  },
  {
   "cell_type": "code",
   "execution_count": 5,
   "metadata": {},
   "outputs": [],
   "source": [
    "def update_rating(homeTeam, awayTeam, result):\n",
    "    outcome = encode_result(result)\n",
    "    expected = expected_outcome(homeTeam, awayTeam)\n",
    "    ratings[homeTeam] = ratings[homeTeam] + k * (outcome - expected)\n",
    "    ratings[awayTeam] = ratings[awayTeam] + k * ((1 - outcome) - (1 - expected))\n",
    "    match_count[homeTeam] += 1\n",
    "    match_count[awayTeam] += 1"
   ]
  },
  {
   "cell_type": "code",
   "execution_count": 51,
   "metadata": {
    "tags": []
   },
   "outputs": [
    {
     "name": "stdout",
     "output_type": "stream",
     "text": [
      "Trained on 4500 matches\n",
      "Tested on 187 matches\n",
      "Accuracy: 0.5080213903743316\n"
     ]
    }
   ],
   "source": [
    "training_size = 4500\n",
    "test_size = 1000\n",
    "correct = 0\n",
    "tested = 0\n",
    "ratings = defaultdict(lambda: 1000)\n",
    "match_count = defaultdict(lambda: 0)\n",
    "draw_size = 0.01\n",
    "k = 32\n",
    "for i, match in training_data.iterrows():\n",
    "    if i < training_size:\n",
    "        update_rating(match['HomeTeam'], match['AwayTeam'], match['FTR'])\n",
    "    elif i - training_size < test_size:\n",
    "        expected = expected_outcome(match['HomeTeam'], match['AwayTeam'])\n",
    "        if expected < 0.5 - draw_size:\n",
    "            exp_result = 0\n",
    "        elif expected > 0.5 + draw_size:\n",
    "            exp_result = 1\n",
    "        else:\n",
    "            exp_result = 0.5\n",
    "        \n",
    "        if exp_result == encode_result(match['FTR']):\n",
    "           correct += 1\n",
    "        tested += 1\n",
    "    else:\n",
    "        break\n",
    "print(\"Trained on\", int(sum(match_count.values()) / 2), \"matches\")\n",
    "print(\"Tested on\", tested, \"matches\")\n",
    "print(\"Accuracy:\", correct / tested)\n",
    "\n"
   ]
  },
  {
   "cell_type": "code",
   "execution_count": 42,
   "metadata": {},
   "outputs": [
    {
     "name": "stdout",
     "output_type": "stream",
     "text": [
      "                Team       Rating  Matches\n",
      "11         Liverpool  1331.301726      400\n",
      "15          Man City  1320.042236      400\n",
      "9          Tottenham  1254.312716      400\n",
      "16           Chelsea  1218.055587      400\n",
      "18        Man United  1199.623807      400\n",
      "0            Arsenal  1166.246671      400\n",
      "4            Everton  1055.363160      400\n",
      "12          West Ham  1040.701789      362\n",
      "31         Leicester  1039.699070      172\n",
      "32       Bournemouth  1024.084698      134\n",
      "34          Brighton  1018.863476       58\n",
      "33           Watford  1015.713399      134\n",
      "30    Crystal Palace  1010.247857      210\n",
      "36  Sheffield United  1000.000000        0\n",
      "37             Leeds  1000.000000        0\n",
      "21            Wolves   997.004037      134\n",
      "19         Newcastle   987.498476      324\n",
      "13             Wigan   970.086997      190\n",
      "3              Stoke   967.060887      380\n",
      "1          West Brom   965.599288      342\n",
      "20           Burnley   961.835437      172\n",
      "28       Southampton   957.105890      248\n",
      "26           Swansea   951.676687      266\n",
      "2             Bolton   941.361142      152\n",
      "23         Blackpool   937.739310       38\n",
      "22        Birmingham   937.176843       76\n",
      "6               Hull   933.568271      190\n",
      "29           Cardiff   926.867402       58\n",
      "25           Norwich   914.754989      152\n",
      "7             Fulham   908.580893      248\n",
      "27           Reading   904.669705       38\n",
      "5          Blackburn   898.121169      152\n",
      "8      Middlesbrough   885.339514       76\n",
      "10        Sunderland   884.793127      342\n",
      "24               QPR   884.380015      114\n",
      "17        Portsmouth   879.920016       76\n",
      "35      Huddersfield   877.239351       58\n",
      "14       Aston Villa   833.364363      304\n"
     ]
    }
   ],
   "source": [
    "df = pd.DataFrame(ratings.items(), columns=['Team', 'Rating'])\n",
    "df['Matches'] = df['Team'].map(match_count)\n",
    "df = df.sort_values('Rating', ascending=False)\n",
    "print(df)"
   ]
  },
  {
   "cell_type": "code",
   "execution_count": null,
   "metadata": {},
   "outputs": [],
   "source": []
  }
 ],
 "metadata": {
  "kernelspec": {
   "display_name": "Python 3",
   "language": "python",
   "name": "python3"
  },
  "language_info": {
   "codemirror_mode": {
    "name": "ipython",
    "version": 3
   },
   "file_extension": ".py",
   "mimetype": "text/x-python",
   "name": "python",
   "nbconvert_exporter": "python",
   "pygments_lexer": "ipython3",
   "version": "3.7.9"
  }
 },
 "nbformat": 4,
 "nbformat_minor": 2
}
