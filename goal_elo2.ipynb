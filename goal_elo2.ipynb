{
 "metadata": {
  "language_info": {
   "codemirror_mode": {
    "name": "ipython",
    "version": 3
   },
   "file_extension": ".py",
   "mimetype": "text/x-python",
   "name": "python",
   "nbconvert_exporter": "python",
   "pygments_lexer": "ipython3",
   "version": "3.8.3-final"
  },
  "orig_nbformat": 2,
  "kernelspec": {
   "name": "python3",
   "display_name": "Python 3",
   "language": "python"
  }
 },
 "nbformat": 4,
 "nbformat_minor": 2,
 "cells": [
  {
   "source": [
    "## Offensive and defensive ELO ratings to predict number of goals\n",
    "\n",
    "We keep track of two ratings for all teams offensive rating ($R_O$) and defensive rating ($R_D$).\n",
    "\n",
    "We can then predict the number of goals a team will score by taking the difference of their offensive rating and the opponent's defensive rating.\n",
    "\n",
    "The number of goals scored against them can be calculated by considering it from the opponent's perspective.\n",
    "\n",
    "$E[\\text{team}] = R_O[\\text{team}] - R_D[\\text{opponent}]$\n",
    "\n",
    "We can update a team's offensive rating by adding the difference between the actual number of goals and the expected goals multiplied by the learning rate.\n",
    "We can update a team's defensive rating by adding the difference between the expected goals scored against them and the actual number of goals scored against them multiplied by the learning rate.\n",
    "\n",
    "$R_O[\\text{team}] = R_O[\\text{team}] + k(G[\\text{team}] - E[\\text{team}])$\n",
    "\n",
    "$R_D[\\text{team}] = R_D[\\text{team}] + k(E[\\text{opponent}] - G[\\text{opponent}])$\n",
    "\n",
    "We start every team with a rating of 0. The order of the training data makes a difference to the model and so the training data should be in chronological order in order to account for teams changing over team.\n"
   ],
   "cell_type": "markdown",
   "metadata": {}
  },
  {
   "cell_type": "code",
   "execution_count": 1,
   "metadata": {},
   "outputs": [],
   "source": [
    "import numpy as np\n",
    "import pandas as pd\n",
    "from collections import defaultdict\n",
    "from tqdm import tqdm, tqdm_notebook\n",
    "import sklearn.model_selection\n",
    "from sklearn.pipeline import make_pipeline\n",
    "from sklearn.preprocessing import StandardScaler\n",
    "from sklearn.svm import SVC\n",
    "from sklearn.metrics import accuracy_score, f1_score\n",
    "import plotly.graph_objects as go\n",
    "import math"
   ]
  },
  {
   "cell_type": "code",
   "execution_count": 2,
   "metadata": {},
   "outputs": [],
   "source": [
    "match_data = pd.read_csv(\"data/football-data.co.uk/updated-epl-training.csv\")"
   ]
  },
  {
   "cell_type": "code",
   "execution_count": 3,
   "metadata": {},
   "outputs": [],
   "source": [
    "def encode_result(result):\n",
    "    if result == 'H':\n",
    "        return 1\n",
    "    elif result == 'A':\n",
    "        return 0\n",
    "    return 0.5"
   ]
  },
  {
   "cell_type": "code",
   "execution_count": 4,
   "metadata": {},
   "outputs": [],
   "source": [
    "def decode_result(result):\n",
    "    if result == 1:\n",
    "        return 'H'\n",
    "    elif result == 0:\n",
    "        return 'A'\n",
    "    return 'D'"
   ]
  },
  {
   "cell_type": "code",
   "execution_count": 5,
   "metadata": {},
   "outputs": [],
   "source": [
    "class GoalElo:\n",
    "    def __init__(self, initial_rating=0, learning_rate=0.05, draw_size=0.5):\n",
    "        self.offensive_ratings = defaultdict(lambda: initial_rating)\n",
    "        self.defensive_ratings = defaultdict(lambda: initial_rating)\n",
    "        self.match_count = defaultdict(lambda: 0)\n",
    "        self.learning_rate = learning_rate\n",
    "        self.draw_size = draw_size\n",
    "\n",
    "    def predict(self, team, opponent):\n",
    "        ''' Predicts the number of goals team will score against opponent. '''\n",
    "        return self.offensive_ratings[team] - self.defensive_ratings[opponent]\n",
    "\n",
    "    def predict_result(self, team, opponent):\n",
    "        ''' Predicts the result of a match. 1 if team wins, 0 if opponent wins and 0.5 if it is a draw. '''\n",
    "        goals_scored = self.predict(team, opponent)\n",
    "        goals_conceded = self.predict(opponent, team)\n",
    "        return self.classify_result(goals_scored, goals_conceded)\n",
    "\n",
    "    def classify_result(self, goals_scored, goals_conceded):\n",
    "        goal_difference = goals_scored - goals_conceded\n",
    "        # result = round(1 / (1 + 10**(-goal_difference)))\n",
    "        result = 1 if goal_difference > 0 else 0\n",
    "        if abs(goal_difference) < self.draw_size:\n",
    "            result = 0.5\n",
    "        return result\n",
    "\n",
    "\n",
    "    def predict_data(self, df):\n",
    "        out = df.copy()\n",
    "        for i, row in out.iterrows():\n",
    "            out.at[i, 'EHG'] = self.predict(row['HomeTeam'], row['AwayTeam'])\n",
    "            out.at[i, 'EAG'] = self.predict(row['AwayTeam'], row['HomeTeam'])\n",
    "            out.at[i, 'ER'] = decode_result(self.predict_result(row['HomeTeam'], row['AwayTeam']))\n",
    "        return out\n",
    "\n",
    "    def update_match(self, home, away, home_actual_goals, away_actual_goals):\n",
    "        ''' Updates the offensive and defensive ratings of both teams in a match. '''\n",
    "        home_expected_goals = self.predict(home, away)\n",
    "        away_expected_goals = self.predict(away, home)\n",
    "        self.offensive_ratings[home] += self.learning_rate * (home_actual_goals - home_expected_goals)\n",
    "        self.offensive_ratings[away] += self.learning_rate * (away_actual_goals - away_expected_goals)\n",
    "        self.defensive_ratings[home] += self.learning_rate * (away_expected_goals - away_actual_goals)\n",
    "        self.defensive_ratings[away] += self.learning_rate * (home_expected_goals - home_actual_goals)\n",
    "        self.match_count[home] += 1\n",
    "        self.match_count[away] += 1\n",
    "\n",
    "    def ratings_dataframe(self):\n",
    "        ''' Creates an easy to read dataframe of the ratings '''\n",
    "        df = pd.DataFrame(self.offensive_ratings.items(), columns=['Team', 'Offensive Rating'])\n",
    "        df['Defensive Rating'] = df['Team'].map(self.defensive_ratings)\n",
    "        df['Matches'] = df['Team'].map(self.match_count)\n",
    "        df = df.sort_values('Offensive Rating', ascending=False)\n",
    "        return df\n",
    "\n",
    "    def fit(self, df):\n",
    "        ''' Takes a data frame of matches with columns HomeTeam, AwayTeam, Predicted FTHG, Predicted FTAG and updates teams ratings using the data in order. '''\n",
    "        for i, row in df.iterrows():\n",
    "            if 'Predicted FTHG' in row:\n",
    "                self.update_match(row['HomeTeam'], row['AwayTeam'], row['Predicted FTHG'], row['Predicted FTAG'])\n",
    "            else:\n",
    "                self.update_match(row['HomeTeam'], row['AwayTeam'], row['FTHG'], row['FTAG'])\n",
    "\n",
    "    def test(self, df):\n",
    "        ''' Takes a data frame of matches with columns HomeTeam, AwayTeam, FTHG, FTAG and uses the ratings to predict the number of goals scored by each side. It measures the average mean square error and average mean absolute error per match. '''\n",
    "        mse = 0\n",
    "        mae = 0\n",
    "        count = 0\n",
    "        for i, row in df.iterrows():\n",
    "            error_home = self.predict(row['HomeTeam'], row['AwayTeam']) - row['FTHG']\n",
    "            error_away = self.predict(row['AwayTeam'], row['HomeTeam']) - row['FTAG']\n",
    "            mse += error_home ** 2 + error_away ** 2\n",
    "            mae += abs(error_home) + abs(error_away)\n",
    "            count += 1\n",
    "        return mse / count, mae / count\n",
    "\n",
    "    def test_result(self, df):\n",
    "        ''' Takes a data frame of matches with columns HomeTeam, AwayTeam, FTR and predicts the outcome using the ratings. It measures the number of correct predictions as a percentage of the size of the data. '''\n",
    "        correct = 0\n",
    "        count = 0\n",
    "        for i, row in df.iterrows():\n",
    "            result = self.predict_result(row['HomeTeam'], row['AwayTeam'])\n",
    "            if decode_result(result) == row['FTR']:\n",
    "                correct += 1\n",
    "            count += 1\n",
    "        return correct / count\n",
    "\n"
   ]
  },
  {
   "cell_type": "code",
   "execution_count": 6,
   "metadata": {},
   "outputs": [],
   "source": [
    "training, test = sklearn.model_selection.train_test_split(match_data, test_size=0.05, shuffle=False)"
   ]
  },
  {
   "cell_type": "code",
   "execution_count": 7,
   "metadata": {},
   "outputs": [],
   "source": [
    "goal_elo = GoalElo()\n",
    "goal_elo.fit(training)\n",
    "\n",
    "data = goal_elo.predict_data(training)\n",
    "\n"
   ]
  },
  {
   "cell_type": "code",
   "execution_count": 8,
   "metadata": {},
   "outputs": [
    {
     "output_type": "execute_result",
     "data": {
      "text/plain": [
       "SVC(gamma='auto')"
      ]
     },
     "metadata": {},
     "execution_count": 8
    }
   ],
   "source": [
    "X = np.array([data['EHG'].to_numpy(), data['EAG'].to_numpy()]).T\n",
    "\n",
    "y = data['FTR'].to_numpy()\n",
    "\n",
    "model = SVC(gamma='auto')\n",
    "model.fit(X, y)"
   ]
  },
  {
   "cell_type": "code",
   "execution_count": 9,
   "metadata": {},
   "outputs": [
    {
     "output_type": "stream",
     "name": "stdout",
     "text": [
      "Accuracy:\nDS:  0.4641350210970464\nSVC:  0.48945147679324896\nF1 Score:\nDS:  0.4787062568876539\nSVC:  0.40903123787610335\n"
     ]
    }
   ],
   "source": [
    "data = goal_elo.predict_data(test)\n",
    "X_test = np.array([data['EHG'].to_numpy(), data['EAG'].to_numpy()]).T\n",
    "y_test = data['FTR'].to_numpy()\n",
    "y_pred = model.predict(X_test)\n",
    "y_pred2 = data['ER'].to_numpy()\n",
    "\n",
    "print(\"Accuracy:\")\n",
    "print(\"DS: \", accuracy_score(y_test, y_pred2))\n",
    "print(\"SVC: \", accuracy_score(y_test, y_pred))\n",
    "\n",
    "print(\"F1 Score:\")\n",
    "print(\"DS: \", f1_score(y_test, y_pred2, average='weighted'))\n",
    "print(\"SVC: \", f1_score(y_test, y_pred, average='weighted'))"
   ]
  },
  {
   "cell_type": "code",
   "execution_count": 10,
   "metadata": {},
   "outputs": [],
   "source": [
    "fig = go.Figure(data=go.Bar(x=[\"Simple System\", \"Support Vector Classification\"], y=[accuracy_score(y_test, y_pred2), accuracy_score(y_test, y_pred)]))\n",
    "fig.update_layout(yaxis_title='Accuracy')\n",
    "fig.write_image(\"images/result_classifier_comparison.png\")"
   ]
  },
  {
   "cell_type": "code",
   "execution_count": 18,
   "metadata": {},
   "outputs": [
    {
     "output_type": "execute_result",
     "data": {
      "text/plain": [
       "0.4380445651168395"
      ]
     },
     "metadata": {},
     "execution_count": 18
    }
   ],
   "source": []
  },
  {
   "cell_type": "code",
   "execution_count": 19,
   "metadata": {
    "tags": []
   },
   "outputs": [
    {
     "output_type": "stream",
     "name": "stderr",
     "text": [
      "100%|██████████| 100/100 [00:36<00:00,  2.71it/s]Accuracy:\n",
      "\n"
     ]
    },
    {
     "output_type": "execute_result",
     "data": {
      "text/plain": [
       "    Learning Rate  Mean Square Error / Match  Root Mean Square Error / Match  \\\n",
       "0        0.001000                   4.624652                        2.150500   \n",
       "1        0.001048                   4.562745                        2.136058   \n",
       "2        0.001097                   4.501779                        2.121740   \n",
       "3        0.001150                   4.441900                        2.107582   \n",
       "4        0.001205                   4.383253                        2.093622   \n",
       "..            ...                        ...                             ...   \n",
       "95       0.083022                   3.600387                        1.897469   \n",
       "96       0.086975                   3.605818                        1.898899   \n",
       "97       0.091116                   3.611821                        1.900479   \n",
       "98       0.095455                   3.618446                        1.902221   \n",
       "99       0.100000                   3.625739                        1.904137   \n",
       "\n",
       "    Mean Absolute Error / Match  Accuracy  \n",
       "0                      2.196545  0.278481  \n",
       "1                      2.180355  0.278481  \n",
       "2                      2.165150  0.286920  \n",
       "3                      2.150933  0.291139  \n",
       "4                      2.137636  0.291139  \n",
       "..                          ...       ...  \n",
       "95                     2.027446  0.447257  \n",
       "96                     2.027275  0.447257  \n",
       "97                     2.027228  0.438819  \n",
       "98                     2.027425  0.430380  \n",
       "99                     2.027807  0.421941  \n",
       "\n",
       "[100 rows x 5 columns]"
      ],
      "text/html": "<div>\n<style scoped>\n    .dataframe tbody tr th:only-of-type {\n        vertical-align: middle;\n    }\n\n    .dataframe tbody tr th {\n        vertical-align: top;\n    }\n\n    .dataframe thead th {\n        text-align: right;\n    }\n</style>\n<table border=\"1\" class=\"dataframe\">\n  <thead>\n    <tr style=\"text-align: right;\">\n      <th></th>\n      <th>Learning Rate</th>\n      <th>Mean Square Error / Match</th>\n      <th>Root Mean Square Error / Match</th>\n      <th>Mean Absolute Error / Match</th>\n      <th>Accuracy</th>\n    </tr>\n  </thead>\n  <tbody>\n    <tr>\n      <th>0</th>\n      <td>0.001000</td>\n      <td>4.624652</td>\n      <td>2.150500</td>\n      <td>2.196545</td>\n      <td>0.278481</td>\n    </tr>\n    <tr>\n      <th>1</th>\n      <td>0.001048</td>\n      <td>4.562745</td>\n      <td>2.136058</td>\n      <td>2.180355</td>\n      <td>0.278481</td>\n    </tr>\n    <tr>\n      <th>2</th>\n      <td>0.001097</td>\n      <td>4.501779</td>\n      <td>2.121740</td>\n      <td>2.165150</td>\n      <td>0.286920</td>\n    </tr>\n    <tr>\n      <th>3</th>\n      <td>0.001150</td>\n      <td>4.441900</td>\n      <td>2.107582</td>\n      <td>2.150933</td>\n      <td>0.291139</td>\n    </tr>\n    <tr>\n      <th>4</th>\n      <td>0.001205</td>\n      <td>4.383253</td>\n      <td>2.093622</td>\n      <td>2.137636</td>\n      <td>0.291139</td>\n    </tr>\n    <tr>\n      <th>...</th>\n      <td>...</td>\n      <td>...</td>\n      <td>...</td>\n      <td>...</td>\n      <td>...</td>\n    </tr>\n    <tr>\n      <th>95</th>\n      <td>0.083022</td>\n      <td>3.600387</td>\n      <td>1.897469</td>\n      <td>2.027446</td>\n      <td>0.447257</td>\n    </tr>\n    <tr>\n      <th>96</th>\n      <td>0.086975</td>\n      <td>3.605818</td>\n      <td>1.898899</td>\n      <td>2.027275</td>\n      <td>0.447257</td>\n    </tr>\n    <tr>\n      <th>97</th>\n      <td>0.091116</td>\n      <td>3.611821</td>\n      <td>1.900479</td>\n      <td>2.027228</td>\n      <td>0.438819</td>\n    </tr>\n    <tr>\n      <th>98</th>\n      <td>0.095455</td>\n      <td>3.618446</td>\n      <td>1.902221</td>\n      <td>2.027425</td>\n      <td>0.430380</td>\n    </tr>\n    <tr>\n      <th>99</th>\n      <td>0.100000</td>\n      <td>3.625739</td>\n      <td>1.904137</td>\n      <td>2.027807</td>\n      <td>0.421941</td>\n    </tr>\n  </tbody>\n</table>\n<p>100 rows × 5 columns</p>\n</div>"
     },
     "metadata": {},
     "execution_count": 19
    }
   ],
   "source": [
    "learning_rates = np.logspace(-3, -1, num=100)\n",
    "mse_list = []\n",
    "rmse_list = []\n",
    "mae_list = []\n",
    "accuracy = []\n",
    "f1_list = []\n",
    "\n",
    "for learning_rate in tqdm(learning_rates):\n",
    "    goal_elo = GoalElo(learning_rate=learning_rate)\n",
    "    goal_elo.fit(training)\n",
    "    mse, mae = goal_elo.test(test)\n",
    "    mse_list.append(mse)\n",
    "    rmse_list.append(math.sqrt(mse))\n",
    "    mae_list.append(mae)\n",
    "    accuracy.append(goal_elo.test_result(test))\n",
    "    pred = goal_elo.predict_data(test)\n",
    "    f1 = f1_score(pred.FTR, pred.ER, average='weighted')\n",
    "    f1_list.append(f1)\n",
    "\n",
    "    \n",
    "print(\"Accuracy:\") \n",
    "pd.DataFrame(zip(learning_rates, mse_list, rmse_list, mae_list, accuracy), columns=['Learning Rate', 'Mean Square Error / Match', 'Root Mean Square Error / Match', 'Mean Absolute Error / Match', 'Accuracy'])"
   ]
  },
  {
   "cell_type": "code",
   "execution_count": 21,
   "metadata": {},
   "outputs": [
    {
     "output_type": "display_data",
     "data": {
      "application/vnd.plotly.v1+json": {
       "config": {
        "plotlyServerURL": "https://plot.ly"
       },
       "data": [
        {
         "type": "scatter",
         "x": [
          0.001,
          0.001047615752789665,
          0.0010974987654930556,
          0.0011497569953977356,
          0.0012045035402587824,
          0.0012618568830660211,
          0.0013219411484660286,
          0.0013848863713938732,
          0.0014508287784959402,
          0.0015199110829529332,
          0.0015922827933410922,
          0.0016681005372000592,
          0.001747528400007683,
          0.0018307382802953678,
          0.0019179102616724887,
          0.002009233002565048,
          0.00210490414451202,
          0.0022051307399030455,
          0.0023101297000831605,
          0.0024201282647943836,
          0.0025353644939701114,
          0.0026560877829466868,
          0.0027825594022071257,
          0.002915053062825176,
          0.0030538555088334154,
          0.0031992671377973846,
          0.003351602650938841,
          0.003511191734215131,
          0.0036783797718286343,
          0.0038535285937105275,
          0.004037017258596553,
          0.0042292428743894986,
          0.004430621457583882,
          0.004641588833612782,
          0.004862601580065354,
          0.0050941380148163806,
          0.005336699231206312,
          0.005590810182512223,
          0.005857020818056668,
          0.006135907273413176,
          0.006428073117284319,
          0.006734150657750821,
          0.007054802310718645,
          0.007390722033525776,
          0.007742636826811269,
          0.008111308307896872,
          0.008497534359086447,
          0.008902150854450393,
          0.0093260334688322,
          0.009770099572992257,
          0.010235310218990263,
          0.010722672220103237,
          0.011233240329780276,
          0.011768119524349984,
          0.012328467394420665,
          0.01291549665014884,
          0.013530477745798075,
          0.014174741629268055,
          0.01484968262254465,
          0.015556761439304723,
          0.016297508346206444,
          0.017073526474706915,
          0.01788649529057435,
          0.018738174228603847,
          0.019630406500402715,
          0.020565123083486514,
          0.021544346900318846,
          0.022570197196339202,
          0.023644894126454083,
          0.024770763559917114,
          0.025950242113997372,
          0.027185882427329416,
          0.02848035868435802,
          0.029836472402833405,
          0.03125715849688237,
          0.0327454916287773,
          0.03430469286314919,
          0.03593813663804628,
          0.037649358067924694,
          0.03944206059437656,
          0.04132012400115339,
          0.04328761281083059,
          0.04534878508128584,
          0.04750810162102798,
          0.049770235643321115,
          0.05214008287999687,
          0.05462277217684343,
          0.0572236765935022,
          0.05994842503189412,
          0.06280291441834256,
          0.06579332246575682,
          0.06892612104349699,
          0.07220809018385467,
          0.07564633275546291,
          0.07924828983539177,
          0.08302175681319748,
          0.08697490026177834,
          0.09111627561154896,
          0.09545484566618342,
          0.1
         ],
         "y": [
          2.150500398130172,
          2.136058239320049,
          2.1217395072463514,
          2.1075815240716604,
          2.093621965081201,
          2.0798984989896034,
          2.0664483977684966,
          2.053308121242165,
          2.040512883187762,
          2.0280962071435082,
          2.0160894814948347,
          2.0045215245868055,
          1.99341817150814,
          1.9828018947157247,
          1.9726914707344698,
          1.9631017047081203,
          1.9540432235487741,
          1.9455223468249105,
          1.9375410423648542,
          1.9300969709000504,
          1.9231836210345175,
          1.9167905325423498,
          1.9109036026302155,
          1.9055054665386604,
          1.9005759408802123,
          1.8960925155988289,
          1.892030878535745,
          1.8883654554173963,
          1.8850699477142,
          1.8821178512773766,
          1.8794829399169832,
          1.8771397000609502,
          1.8750637052129582,
          1.8732319219521059,
          1.8716229425118156,
          1.8702171423495755,
          1.868996764383971,
          1.8679459345549463,
          1.8670506159052478,
          1.8662985103666918,
          1.8656789187857736,
          1.8651825704047422,
          1.8648014330375828,
          1.8645285145990407,
          1.8643576655500183,
          1.8642833903346137,
          1.8643006741420254,
          1.8644048294764948,
          1.8645913652020225,
          1.8648558790703758,
          1.8651939733398566,
          1.865601192014283,
          1.866072977505616,
          1.8666046441429651,
          1.8671913658761563,
          1.8678281756904602,
          1.868509974582476,
          1.8692315483643491,
          1.8699875909896464,
          1.870772733470326,
          1.8715815777415694,
          1.8724087350137442,
          1.873248868232645,
          1.8740967382703766,
          1.8749472534179816,
          1.8757955216774855,
          1.876636905279763,
          1.8774670768014445,
          1.8782820762229964,
          1.8790783682557344,
          1.879852899255314,
          1.8806031530192284,
          1.8813272047245984,
          1.882023772196366,
          1.882692263610199,
          1.883332820644164,
          1.883946356020147,
          1.8845345843449255,
          1.8851000451934363,
          1.8856461174873007,
          1.8861770244124036,
          1.8866978283797897,
          1.887214415841709,
          1.8877334720994297,
          1.8882624465498516,
          1.8888095090880734,
          1.8893834985988616,
          1.8899938646336878,
          1.890650603500062,
          1.891364190118792,
          1.892145507170931,
          1.8930057732949805,
          1.893956472428337,
          1.8950092868144948,
          1.8961760366909153,
          1.8974686301749621,
          1.8988990272970374,
          1.900479222398375,
          1.9022212491249653,
          1.9041372119368585
         ]
        }
       ],
       "layout": {
        "template": {
         "data": {
          "bar": [
           {
            "error_x": {
             "color": "#2a3f5f"
            },
            "error_y": {
             "color": "#2a3f5f"
            },
            "marker": {
             "line": {
              "color": "#E5ECF6",
              "width": 0.5
             }
            },
            "type": "bar"
           }
          ],
          "barpolar": [
           {
            "marker": {
             "line": {
              "color": "#E5ECF6",
              "width": 0.5
             }
            },
            "type": "barpolar"
           }
          ],
          "carpet": [
           {
            "aaxis": {
             "endlinecolor": "#2a3f5f",
             "gridcolor": "white",
             "linecolor": "white",
             "minorgridcolor": "white",
             "startlinecolor": "#2a3f5f"
            },
            "baxis": {
             "endlinecolor": "#2a3f5f",
             "gridcolor": "white",
             "linecolor": "white",
             "minorgridcolor": "white",
             "startlinecolor": "#2a3f5f"
            },
            "type": "carpet"
           }
          ],
          "choropleth": [
           {
            "colorbar": {
             "outlinewidth": 0,
             "ticks": ""
            },
            "type": "choropleth"
           }
          ],
          "contour": [
           {
            "colorbar": {
             "outlinewidth": 0,
             "ticks": ""
            },
            "colorscale": [
             [
              0,
              "#0d0887"
             ],
             [
              0.1111111111111111,
              "#46039f"
             ],
             [
              0.2222222222222222,
              "#7201a8"
             ],
             [
              0.3333333333333333,
              "#9c179e"
             ],
             [
              0.4444444444444444,
              "#bd3786"
             ],
             [
              0.5555555555555556,
              "#d8576b"
             ],
             [
              0.6666666666666666,
              "#ed7953"
             ],
             [
              0.7777777777777778,
              "#fb9f3a"
             ],
             [
              0.8888888888888888,
              "#fdca26"
             ],
             [
              1,
              "#f0f921"
             ]
            ],
            "type": "contour"
           }
          ],
          "contourcarpet": [
           {
            "colorbar": {
             "outlinewidth": 0,
             "ticks": ""
            },
            "type": "contourcarpet"
           }
          ],
          "heatmap": [
           {
            "colorbar": {
             "outlinewidth": 0,
             "ticks": ""
            },
            "colorscale": [
             [
              0,
              "#0d0887"
             ],
             [
              0.1111111111111111,
              "#46039f"
             ],
             [
              0.2222222222222222,
              "#7201a8"
             ],
             [
              0.3333333333333333,
              "#9c179e"
             ],
             [
              0.4444444444444444,
              "#bd3786"
             ],
             [
              0.5555555555555556,
              "#d8576b"
             ],
             [
              0.6666666666666666,
              "#ed7953"
             ],
             [
              0.7777777777777778,
              "#fb9f3a"
             ],
             [
              0.8888888888888888,
              "#fdca26"
             ],
             [
              1,
              "#f0f921"
             ]
            ],
            "type": "heatmap"
           }
          ],
          "heatmapgl": [
           {
            "colorbar": {
             "outlinewidth": 0,
             "ticks": ""
            },
            "colorscale": [
             [
              0,
              "#0d0887"
             ],
             [
              0.1111111111111111,
              "#46039f"
             ],
             [
              0.2222222222222222,
              "#7201a8"
             ],
             [
              0.3333333333333333,
              "#9c179e"
             ],
             [
              0.4444444444444444,
              "#bd3786"
             ],
             [
              0.5555555555555556,
              "#d8576b"
             ],
             [
              0.6666666666666666,
              "#ed7953"
             ],
             [
              0.7777777777777778,
              "#fb9f3a"
             ],
             [
              0.8888888888888888,
              "#fdca26"
             ],
             [
              1,
              "#f0f921"
             ]
            ],
            "type": "heatmapgl"
           }
          ],
          "histogram": [
           {
            "marker": {
             "colorbar": {
              "outlinewidth": 0,
              "ticks": ""
             }
            },
            "type": "histogram"
           }
          ],
          "histogram2d": [
           {
            "colorbar": {
             "outlinewidth": 0,
             "ticks": ""
            },
            "colorscale": [
             [
              0,
              "#0d0887"
             ],
             [
              0.1111111111111111,
              "#46039f"
             ],
             [
              0.2222222222222222,
              "#7201a8"
             ],
             [
              0.3333333333333333,
              "#9c179e"
             ],
             [
              0.4444444444444444,
              "#bd3786"
             ],
             [
              0.5555555555555556,
              "#d8576b"
             ],
             [
              0.6666666666666666,
              "#ed7953"
             ],
             [
              0.7777777777777778,
              "#fb9f3a"
             ],
             [
              0.8888888888888888,
              "#fdca26"
             ],
             [
              1,
              "#f0f921"
             ]
            ],
            "type": "histogram2d"
           }
          ],
          "histogram2dcontour": [
           {
            "colorbar": {
             "outlinewidth": 0,
             "ticks": ""
            },
            "colorscale": [
             [
              0,
              "#0d0887"
             ],
             [
              0.1111111111111111,
              "#46039f"
             ],
             [
              0.2222222222222222,
              "#7201a8"
             ],
             [
              0.3333333333333333,
              "#9c179e"
             ],
             [
              0.4444444444444444,
              "#bd3786"
             ],
             [
              0.5555555555555556,
              "#d8576b"
             ],
             [
              0.6666666666666666,
              "#ed7953"
             ],
             [
              0.7777777777777778,
              "#fb9f3a"
             ],
             [
              0.8888888888888888,
              "#fdca26"
             ],
             [
              1,
              "#f0f921"
             ]
            ],
            "type": "histogram2dcontour"
           }
          ],
          "mesh3d": [
           {
            "colorbar": {
             "outlinewidth": 0,
             "ticks": ""
            },
            "type": "mesh3d"
           }
          ],
          "parcoords": [
           {
            "line": {
             "colorbar": {
              "outlinewidth": 0,
              "ticks": ""
             }
            },
            "type": "parcoords"
           }
          ],
          "pie": [
           {
            "automargin": true,
            "type": "pie"
           }
          ],
          "scatter": [
           {
            "marker": {
             "colorbar": {
              "outlinewidth": 0,
              "ticks": ""
             }
            },
            "type": "scatter"
           }
          ],
          "scatter3d": [
           {
            "line": {
             "colorbar": {
              "outlinewidth": 0,
              "ticks": ""
             }
            },
            "marker": {
             "colorbar": {
              "outlinewidth": 0,
              "ticks": ""
             }
            },
            "type": "scatter3d"
           }
          ],
          "scattercarpet": [
           {
            "marker": {
             "colorbar": {
              "outlinewidth": 0,
              "ticks": ""
             }
            },
            "type": "scattercarpet"
           }
          ],
          "scattergeo": [
           {
            "marker": {
             "colorbar": {
              "outlinewidth": 0,
              "ticks": ""
             }
            },
            "type": "scattergeo"
           }
          ],
          "scattergl": [
           {
            "marker": {
             "colorbar": {
              "outlinewidth": 0,
              "ticks": ""
             }
            },
            "type": "scattergl"
           }
          ],
          "scattermapbox": [
           {
            "marker": {
             "colorbar": {
              "outlinewidth": 0,
              "ticks": ""
             }
            },
            "type": "scattermapbox"
           }
          ],
          "scatterpolar": [
           {
            "marker": {
             "colorbar": {
              "outlinewidth": 0,
              "ticks": ""
             }
            },
            "type": "scatterpolar"
           }
          ],
          "scatterpolargl": [
           {
            "marker": {
             "colorbar": {
              "outlinewidth": 0,
              "ticks": ""
             }
            },
            "type": "scatterpolargl"
           }
          ],
          "scatterternary": [
           {
            "marker": {
             "colorbar": {
              "outlinewidth": 0,
              "ticks": ""
             }
            },
            "type": "scatterternary"
           }
          ],
          "surface": [
           {
            "colorbar": {
             "outlinewidth": 0,
             "ticks": ""
            },
            "colorscale": [
             [
              0,
              "#0d0887"
             ],
             [
              0.1111111111111111,
              "#46039f"
             ],
             [
              0.2222222222222222,
              "#7201a8"
             ],
             [
              0.3333333333333333,
              "#9c179e"
             ],
             [
              0.4444444444444444,
              "#bd3786"
             ],
             [
              0.5555555555555556,
              "#d8576b"
             ],
             [
              0.6666666666666666,
              "#ed7953"
             ],
             [
              0.7777777777777778,
              "#fb9f3a"
             ],
             [
              0.8888888888888888,
              "#fdca26"
             ],
             [
              1,
              "#f0f921"
             ]
            ],
            "type": "surface"
           }
          ],
          "table": [
           {
            "cells": {
             "fill": {
              "color": "#EBF0F8"
             },
             "line": {
              "color": "white"
             }
            },
            "header": {
             "fill": {
              "color": "#C8D4E3"
             },
             "line": {
              "color": "white"
             }
            },
            "type": "table"
           }
          ]
         },
         "layout": {
          "annotationdefaults": {
           "arrowcolor": "#2a3f5f",
           "arrowhead": 0,
           "arrowwidth": 1
          },
          "autotypenumbers": "strict",
          "coloraxis": {
           "colorbar": {
            "outlinewidth": 0,
            "ticks": ""
           }
          },
          "colorscale": {
           "diverging": [
            [
             0,
             "#8e0152"
            ],
            [
             0.1,
             "#c51b7d"
            ],
            [
             0.2,
             "#de77ae"
            ],
            [
             0.3,
             "#f1b6da"
            ],
            [
             0.4,
             "#fde0ef"
            ],
            [
             0.5,
             "#f7f7f7"
            ],
            [
             0.6,
             "#e6f5d0"
            ],
            [
             0.7,
             "#b8e186"
            ],
            [
             0.8,
             "#7fbc41"
            ],
            [
             0.9,
             "#4d9221"
            ],
            [
             1,
             "#276419"
            ]
           ],
           "sequential": [
            [
             0,
             "#0d0887"
            ],
            [
             0.1111111111111111,
             "#46039f"
            ],
            [
             0.2222222222222222,
             "#7201a8"
            ],
            [
             0.3333333333333333,
             "#9c179e"
            ],
            [
             0.4444444444444444,
             "#bd3786"
            ],
            [
             0.5555555555555556,
             "#d8576b"
            ],
            [
             0.6666666666666666,
             "#ed7953"
            ],
            [
             0.7777777777777778,
             "#fb9f3a"
            ],
            [
             0.8888888888888888,
             "#fdca26"
            ],
            [
             1,
             "#f0f921"
            ]
           ],
           "sequentialminus": [
            [
             0,
             "#0d0887"
            ],
            [
             0.1111111111111111,
             "#46039f"
            ],
            [
             0.2222222222222222,
             "#7201a8"
            ],
            [
             0.3333333333333333,
             "#9c179e"
            ],
            [
             0.4444444444444444,
             "#bd3786"
            ],
            [
             0.5555555555555556,
             "#d8576b"
            ],
            [
             0.6666666666666666,
             "#ed7953"
            ],
            [
             0.7777777777777778,
             "#fb9f3a"
            ],
            [
             0.8888888888888888,
             "#fdca26"
            ],
            [
             1,
             "#f0f921"
            ]
           ]
          },
          "colorway": [
           "#636efa",
           "#EF553B",
           "#00cc96",
           "#ab63fa",
           "#FFA15A",
           "#19d3f3",
           "#FF6692",
           "#B6E880",
           "#FF97FF",
           "#FECB52"
          ],
          "font": {
           "color": "#2a3f5f"
          },
          "geo": {
           "bgcolor": "white",
           "lakecolor": "white",
           "landcolor": "#E5ECF6",
           "showlakes": true,
           "showland": true,
           "subunitcolor": "white"
          },
          "hoverlabel": {
           "align": "left"
          },
          "hovermode": "closest",
          "mapbox": {
           "style": "light"
          },
          "paper_bgcolor": "white",
          "plot_bgcolor": "#E5ECF6",
          "polar": {
           "angularaxis": {
            "gridcolor": "white",
            "linecolor": "white",
            "ticks": ""
           },
           "bgcolor": "#E5ECF6",
           "radialaxis": {
            "gridcolor": "white",
            "linecolor": "white",
            "ticks": ""
           }
          },
          "scene": {
           "xaxis": {
            "backgroundcolor": "#E5ECF6",
            "gridcolor": "white",
            "gridwidth": 2,
            "linecolor": "white",
            "showbackground": true,
            "ticks": "",
            "zerolinecolor": "white"
           },
           "yaxis": {
            "backgroundcolor": "#E5ECF6",
            "gridcolor": "white",
            "gridwidth": 2,
            "linecolor": "white",
            "showbackground": true,
            "ticks": "",
            "zerolinecolor": "white"
           },
           "zaxis": {
            "backgroundcolor": "#E5ECF6",
            "gridcolor": "white",
            "gridwidth": 2,
            "linecolor": "white",
            "showbackground": true,
            "ticks": "",
            "zerolinecolor": "white"
           }
          },
          "shapedefaults": {
           "line": {
            "color": "#2a3f5f"
           }
          },
          "ternary": {
           "aaxis": {
            "gridcolor": "white",
            "linecolor": "white",
            "ticks": ""
           },
           "baxis": {
            "gridcolor": "white",
            "linecolor": "white",
            "ticks": ""
           },
           "bgcolor": "#E5ECF6",
           "caxis": {
            "gridcolor": "white",
            "linecolor": "white",
            "ticks": ""
           }
          },
          "title": {
           "x": 0.05
          },
          "xaxis": {
           "automargin": true,
           "gridcolor": "white",
           "linecolor": "white",
           "ticks": "",
           "title": {
            "standoff": 15
           },
           "zerolinecolor": "white",
           "zerolinewidth": 2
          },
          "yaxis": {
           "automargin": true,
           "gridcolor": "white",
           "linecolor": "white",
           "ticks": "",
           "title": {
            "standoff": 15
           },
           "zerolinecolor": "white",
           "zerolinewidth": 2
          }
         }
        },
        "xaxis": {
         "title": {
          "text": "Learning Rate"
         }
        },
        "yaxis": {
         "title": {
          "text": "RMSE"
         }
        }
       }
      }
     },
     "metadata": {}
    }
   ],
   "source": [
    "fig = go.Figure(data=go.Scatter(x=learning_rates, y=rmse_list))\n",
    "fig.update_layout(xaxis_title='Learning Rate', yaxis_title='RMSE')\n",
    "fig.write_image(\"images/result_rmse_learning_rate.png\")\n",
    "fig.show()"
   ]
  },
  {
   "cell_type": "code",
   "execution_count": 20,
   "metadata": {},
   "outputs": [
    {
     "output_type": "display_data",
     "data": {
      "application/vnd.plotly.v1+json": {
       "config": {
        "plotlyServerURL": "https://plot.ly"
       },
       "data": [
        {
         "type": "scatter",
         "x": [
          0.001,
          0.001047615752789665,
          0.0010974987654930556,
          0.0011497569953977356,
          0.0012045035402587824,
          0.0012618568830660211,
          0.0013219411484660286,
          0.0013848863713938732,
          0.0014508287784959402,
          0.0015199110829529332,
          0.0015922827933410922,
          0.0016681005372000592,
          0.001747528400007683,
          0.0018307382802953678,
          0.0019179102616724887,
          0.002009233002565048,
          0.00210490414451202,
          0.0022051307399030455,
          0.0023101297000831605,
          0.0024201282647943836,
          0.0025353644939701114,
          0.0026560877829466868,
          0.0027825594022071257,
          0.002915053062825176,
          0.0030538555088334154,
          0.0031992671377973846,
          0.003351602650938841,
          0.003511191734215131,
          0.0036783797718286343,
          0.0038535285937105275,
          0.004037017258596553,
          0.0042292428743894986,
          0.004430621457583882,
          0.004641588833612782,
          0.004862601580065354,
          0.0050941380148163806,
          0.005336699231206312,
          0.005590810182512223,
          0.005857020818056668,
          0.006135907273413176,
          0.006428073117284319,
          0.006734150657750821,
          0.007054802310718645,
          0.007390722033525776,
          0.007742636826811269,
          0.008111308307896872,
          0.008497534359086447,
          0.008902150854450393,
          0.0093260334688322,
          0.009770099572992257,
          0.010235310218990263,
          0.010722672220103237,
          0.011233240329780276,
          0.011768119524349984,
          0.012328467394420665,
          0.01291549665014884,
          0.013530477745798075,
          0.014174741629268055,
          0.01484968262254465,
          0.015556761439304723,
          0.016297508346206444,
          0.017073526474706915,
          0.01788649529057435,
          0.018738174228603847,
          0.019630406500402715,
          0.020565123083486514,
          0.021544346900318846,
          0.022570197196339202,
          0.023644894126454083,
          0.024770763559917114,
          0.025950242113997372,
          0.027185882427329416,
          0.02848035868435802,
          0.029836472402833405,
          0.03125715849688237,
          0.0327454916287773,
          0.03430469286314919,
          0.03593813663804628,
          0.037649358067924694,
          0.03944206059437656,
          0.04132012400115339,
          0.04328761281083059,
          0.04534878508128584,
          0.04750810162102798,
          0.049770235643321115,
          0.05214008287999687,
          0.05462277217684343,
          0.0572236765935022,
          0.05994842503189412,
          0.06280291441834256,
          0.06579332246575682,
          0.06892612104349699,
          0.07220809018385467,
          0.07564633275546291,
          0.07924828983539177,
          0.08302175681319748,
          0.08697490026177834,
          0.09111627561154896,
          0.09545484566618342,
          0.1
         ],
         "y": [
          0.17995123350503217,
          0.17995123350503217,
          0.1953690265526085,
          0.21392018713384567,
          0.21879199874980465,
          0.22459850644062337,
          0.25747833840978235,
          0.2870826918611137,
          0.30874270595716347,
          0.34398896588614025,
          0.3531042740541041,
          0.3756847758034634,
          0.3800304477519667,
          0.3951872244480633,
          0.4037557224943954,
          0.40566997174877306,
          0.40254585492735734,
          0.4125550962642105,
          0.40315541990895676,
          0.3968416371474399,
          0.4016931071531487,
          0.40638717045779005,
          0.4111836942307524,
          0.4150249892145848,
          0.4150249892145848,
          0.41177093618323274,
          0.4149045824774139,
          0.4149045824774139,
          0.4149045824774139,
          0.4161601440205958,
          0.4208842559260207,
          0.4252138177966145,
          0.4252138177966145,
          0.4252138177966145,
          0.42424560732209904,
          0.42424560732209904,
          0.42424560732209904,
          0.42424560732209904,
          0.43090927942556917,
          0.43090927942556917,
          0.4354937391212984,
          0.4354937391212984,
          0.4340240366040184,
          0.44237168045756675,
          0.44312891934477544,
          0.4473389284434794,
          0.45076128457321846,
          0.4500399212828063,
          0.4641369757000793,
          0.47258785299924844,
          0.47639356342795586,
          0.47259282376804873,
          0.48062754359201887,
          0.48062754359201887,
          0.48062754359201887,
          0.47678146453156656,
          0.47678146453156656,
          0.47678146453156656,
          0.48071342903807524,
          0.476821427204399,
          0.4760956273387949,
          0.4840523937915953,
          0.48171044054442413,
          0.47852549948348383,
          0.47852549948348383,
          0.4824224311600151,
          0.4791324777867425,
          0.482994118335657,
          0.486251534127048,
          0.4823109634017208,
          0.4823109634017208,
          0.4823109634017208,
          0.4782818966629019,
          0.47810727287202087,
          0.47810727287202087,
          0.4743178797442897,
          0.4814439647625166,
          0.4768531726336331,
          0.4768531726336331,
          0.479956382550125,
          0.479956382550125,
          0.4840061800802854,
          0.4801385834959771,
          0.4793960726854889,
          0.4787062568876539,
          0.4787062568876539,
          0.48267006052269723,
          0.4867063360997394,
          0.4867063360997394,
          0.4867063360997394,
          0.4740781493010424,
          0.4701396482159743,
          0.4693778571099351,
          0.465432812284436,
          0.46152409079603773,
          0.46152409079603773,
          0.46152409079603773,
          0.45423574183989907,
          0.4462656546241911,
          0.4380445651168395
         ]
        }
       ],
       "layout": {
        "template": {
         "data": {
          "bar": [
           {
            "error_x": {
             "color": "#2a3f5f"
            },
            "error_y": {
             "color": "#2a3f5f"
            },
            "marker": {
             "line": {
              "color": "#E5ECF6",
              "width": 0.5
             }
            },
            "type": "bar"
           }
          ],
          "barpolar": [
           {
            "marker": {
             "line": {
              "color": "#E5ECF6",
              "width": 0.5
             }
            },
            "type": "barpolar"
           }
          ],
          "carpet": [
           {
            "aaxis": {
             "endlinecolor": "#2a3f5f",
             "gridcolor": "white",
             "linecolor": "white",
             "minorgridcolor": "white",
             "startlinecolor": "#2a3f5f"
            },
            "baxis": {
             "endlinecolor": "#2a3f5f",
             "gridcolor": "white",
             "linecolor": "white",
             "minorgridcolor": "white",
             "startlinecolor": "#2a3f5f"
            },
            "type": "carpet"
           }
          ],
          "choropleth": [
           {
            "colorbar": {
             "outlinewidth": 0,
             "ticks": ""
            },
            "type": "choropleth"
           }
          ],
          "contour": [
           {
            "colorbar": {
             "outlinewidth": 0,
             "ticks": ""
            },
            "colorscale": [
             [
              0,
              "#0d0887"
             ],
             [
              0.1111111111111111,
              "#46039f"
             ],
             [
              0.2222222222222222,
              "#7201a8"
             ],
             [
              0.3333333333333333,
              "#9c179e"
             ],
             [
              0.4444444444444444,
              "#bd3786"
             ],
             [
              0.5555555555555556,
              "#d8576b"
             ],
             [
              0.6666666666666666,
              "#ed7953"
             ],
             [
              0.7777777777777778,
              "#fb9f3a"
             ],
             [
              0.8888888888888888,
              "#fdca26"
             ],
             [
              1,
              "#f0f921"
             ]
            ],
            "type": "contour"
           }
          ],
          "contourcarpet": [
           {
            "colorbar": {
             "outlinewidth": 0,
             "ticks": ""
            },
            "type": "contourcarpet"
           }
          ],
          "heatmap": [
           {
            "colorbar": {
             "outlinewidth": 0,
             "ticks": ""
            },
            "colorscale": [
             [
              0,
              "#0d0887"
             ],
             [
              0.1111111111111111,
              "#46039f"
             ],
             [
              0.2222222222222222,
              "#7201a8"
             ],
             [
              0.3333333333333333,
              "#9c179e"
             ],
             [
              0.4444444444444444,
              "#bd3786"
             ],
             [
              0.5555555555555556,
              "#d8576b"
             ],
             [
              0.6666666666666666,
              "#ed7953"
             ],
             [
              0.7777777777777778,
              "#fb9f3a"
             ],
             [
              0.8888888888888888,
              "#fdca26"
             ],
             [
              1,
              "#f0f921"
             ]
            ],
            "type": "heatmap"
           }
          ],
          "heatmapgl": [
           {
            "colorbar": {
             "outlinewidth": 0,
             "ticks": ""
            },
            "colorscale": [
             [
              0,
              "#0d0887"
             ],
             [
              0.1111111111111111,
              "#46039f"
             ],
             [
              0.2222222222222222,
              "#7201a8"
             ],
             [
              0.3333333333333333,
              "#9c179e"
             ],
             [
              0.4444444444444444,
              "#bd3786"
             ],
             [
              0.5555555555555556,
              "#d8576b"
             ],
             [
              0.6666666666666666,
              "#ed7953"
             ],
             [
              0.7777777777777778,
              "#fb9f3a"
             ],
             [
              0.8888888888888888,
              "#fdca26"
             ],
             [
              1,
              "#f0f921"
             ]
            ],
            "type": "heatmapgl"
           }
          ],
          "histogram": [
           {
            "marker": {
             "colorbar": {
              "outlinewidth": 0,
              "ticks": ""
             }
            },
            "type": "histogram"
           }
          ],
          "histogram2d": [
           {
            "colorbar": {
             "outlinewidth": 0,
             "ticks": ""
            },
            "colorscale": [
             [
              0,
              "#0d0887"
             ],
             [
              0.1111111111111111,
              "#46039f"
             ],
             [
              0.2222222222222222,
              "#7201a8"
             ],
             [
              0.3333333333333333,
              "#9c179e"
             ],
             [
              0.4444444444444444,
              "#bd3786"
             ],
             [
              0.5555555555555556,
              "#d8576b"
             ],
             [
              0.6666666666666666,
              "#ed7953"
             ],
             [
              0.7777777777777778,
              "#fb9f3a"
             ],
             [
              0.8888888888888888,
              "#fdca26"
             ],
             [
              1,
              "#f0f921"
             ]
            ],
            "type": "histogram2d"
           }
          ],
          "histogram2dcontour": [
           {
            "colorbar": {
             "outlinewidth": 0,
             "ticks": ""
            },
            "colorscale": [
             [
              0,
              "#0d0887"
             ],
             [
              0.1111111111111111,
              "#46039f"
             ],
             [
              0.2222222222222222,
              "#7201a8"
             ],
             [
              0.3333333333333333,
              "#9c179e"
             ],
             [
              0.4444444444444444,
              "#bd3786"
             ],
             [
              0.5555555555555556,
              "#d8576b"
             ],
             [
              0.6666666666666666,
              "#ed7953"
             ],
             [
              0.7777777777777778,
              "#fb9f3a"
             ],
             [
              0.8888888888888888,
              "#fdca26"
             ],
             [
              1,
              "#f0f921"
             ]
            ],
            "type": "histogram2dcontour"
           }
          ],
          "mesh3d": [
           {
            "colorbar": {
             "outlinewidth": 0,
             "ticks": ""
            },
            "type": "mesh3d"
           }
          ],
          "parcoords": [
           {
            "line": {
             "colorbar": {
              "outlinewidth": 0,
              "ticks": ""
             }
            },
            "type": "parcoords"
           }
          ],
          "pie": [
           {
            "automargin": true,
            "type": "pie"
           }
          ],
          "scatter": [
           {
            "marker": {
             "colorbar": {
              "outlinewidth": 0,
              "ticks": ""
             }
            },
            "type": "scatter"
           }
          ],
          "scatter3d": [
           {
            "line": {
             "colorbar": {
              "outlinewidth": 0,
              "ticks": ""
             }
            },
            "marker": {
             "colorbar": {
              "outlinewidth": 0,
              "ticks": ""
             }
            },
            "type": "scatter3d"
           }
          ],
          "scattercarpet": [
           {
            "marker": {
             "colorbar": {
              "outlinewidth": 0,
              "ticks": ""
             }
            },
            "type": "scattercarpet"
           }
          ],
          "scattergeo": [
           {
            "marker": {
             "colorbar": {
              "outlinewidth": 0,
              "ticks": ""
             }
            },
            "type": "scattergeo"
           }
          ],
          "scattergl": [
           {
            "marker": {
             "colorbar": {
              "outlinewidth": 0,
              "ticks": ""
             }
            },
            "type": "scattergl"
           }
          ],
          "scattermapbox": [
           {
            "marker": {
             "colorbar": {
              "outlinewidth": 0,
              "ticks": ""
             }
            },
            "type": "scattermapbox"
           }
          ],
          "scatterpolar": [
           {
            "marker": {
             "colorbar": {
              "outlinewidth": 0,
              "ticks": ""
             }
            },
            "type": "scatterpolar"
           }
          ],
          "scatterpolargl": [
           {
            "marker": {
             "colorbar": {
              "outlinewidth": 0,
              "ticks": ""
             }
            },
            "type": "scatterpolargl"
           }
          ],
          "scatterternary": [
           {
            "marker": {
             "colorbar": {
              "outlinewidth": 0,
              "ticks": ""
             }
            },
            "type": "scatterternary"
           }
          ],
          "surface": [
           {
            "colorbar": {
             "outlinewidth": 0,
             "ticks": ""
            },
            "colorscale": [
             [
              0,
              "#0d0887"
             ],
             [
              0.1111111111111111,
              "#46039f"
             ],
             [
              0.2222222222222222,
              "#7201a8"
             ],
             [
              0.3333333333333333,
              "#9c179e"
             ],
             [
              0.4444444444444444,
              "#bd3786"
             ],
             [
              0.5555555555555556,
              "#d8576b"
             ],
             [
              0.6666666666666666,
              "#ed7953"
             ],
             [
              0.7777777777777778,
              "#fb9f3a"
             ],
             [
              0.8888888888888888,
              "#fdca26"
             ],
             [
              1,
              "#f0f921"
             ]
            ],
            "type": "surface"
           }
          ],
          "table": [
           {
            "cells": {
             "fill": {
              "color": "#EBF0F8"
             },
             "line": {
              "color": "white"
             }
            },
            "header": {
             "fill": {
              "color": "#C8D4E3"
             },
             "line": {
              "color": "white"
             }
            },
            "type": "table"
           }
          ]
         },
         "layout": {
          "annotationdefaults": {
           "arrowcolor": "#2a3f5f",
           "arrowhead": 0,
           "arrowwidth": 1
          },
          "autotypenumbers": "strict",
          "coloraxis": {
           "colorbar": {
            "outlinewidth": 0,
            "ticks": ""
           }
          },
          "colorscale": {
           "diverging": [
            [
             0,
             "#8e0152"
            ],
            [
             0.1,
             "#c51b7d"
            ],
            [
             0.2,
             "#de77ae"
            ],
            [
             0.3,
             "#f1b6da"
            ],
            [
             0.4,
             "#fde0ef"
            ],
            [
             0.5,
             "#f7f7f7"
            ],
            [
             0.6,
             "#e6f5d0"
            ],
            [
             0.7,
             "#b8e186"
            ],
            [
             0.8,
             "#7fbc41"
            ],
            [
             0.9,
             "#4d9221"
            ],
            [
             1,
             "#276419"
            ]
           ],
           "sequential": [
            [
             0,
             "#0d0887"
            ],
            [
             0.1111111111111111,
             "#46039f"
            ],
            [
             0.2222222222222222,
             "#7201a8"
            ],
            [
             0.3333333333333333,
             "#9c179e"
            ],
            [
             0.4444444444444444,
             "#bd3786"
            ],
            [
             0.5555555555555556,
             "#d8576b"
            ],
            [
             0.6666666666666666,
             "#ed7953"
            ],
            [
             0.7777777777777778,
             "#fb9f3a"
            ],
            [
             0.8888888888888888,
             "#fdca26"
            ],
            [
             1,
             "#f0f921"
            ]
           ],
           "sequentialminus": [
            [
             0,
             "#0d0887"
            ],
            [
             0.1111111111111111,
             "#46039f"
            ],
            [
             0.2222222222222222,
             "#7201a8"
            ],
            [
             0.3333333333333333,
             "#9c179e"
            ],
            [
             0.4444444444444444,
             "#bd3786"
            ],
            [
             0.5555555555555556,
             "#d8576b"
            ],
            [
             0.6666666666666666,
             "#ed7953"
            ],
            [
             0.7777777777777778,
             "#fb9f3a"
            ],
            [
             0.8888888888888888,
             "#fdca26"
            ],
            [
             1,
             "#f0f921"
            ]
           ]
          },
          "colorway": [
           "#636efa",
           "#EF553B",
           "#00cc96",
           "#ab63fa",
           "#FFA15A",
           "#19d3f3",
           "#FF6692",
           "#B6E880",
           "#FF97FF",
           "#FECB52"
          ],
          "font": {
           "color": "#2a3f5f"
          },
          "geo": {
           "bgcolor": "white",
           "lakecolor": "white",
           "landcolor": "#E5ECF6",
           "showlakes": true,
           "showland": true,
           "subunitcolor": "white"
          },
          "hoverlabel": {
           "align": "left"
          },
          "hovermode": "closest",
          "mapbox": {
           "style": "light"
          },
          "paper_bgcolor": "white",
          "plot_bgcolor": "#E5ECF6",
          "polar": {
           "angularaxis": {
            "gridcolor": "white",
            "linecolor": "white",
            "ticks": ""
           },
           "bgcolor": "#E5ECF6",
           "radialaxis": {
            "gridcolor": "white",
            "linecolor": "white",
            "ticks": ""
           }
          },
          "scene": {
           "xaxis": {
            "backgroundcolor": "#E5ECF6",
            "gridcolor": "white",
            "gridwidth": 2,
            "linecolor": "white",
            "showbackground": true,
            "ticks": "",
            "zerolinecolor": "white"
           },
           "yaxis": {
            "backgroundcolor": "#E5ECF6",
            "gridcolor": "white",
            "gridwidth": 2,
            "linecolor": "white",
            "showbackground": true,
            "ticks": "",
            "zerolinecolor": "white"
           },
           "zaxis": {
            "backgroundcolor": "#E5ECF6",
            "gridcolor": "white",
            "gridwidth": 2,
            "linecolor": "white",
            "showbackground": true,
            "ticks": "",
            "zerolinecolor": "white"
           }
          },
          "shapedefaults": {
           "line": {
            "color": "#2a3f5f"
           }
          },
          "ternary": {
           "aaxis": {
            "gridcolor": "white",
            "linecolor": "white",
            "ticks": ""
           },
           "baxis": {
            "gridcolor": "white",
            "linecolor": "white",
            "ticks": ""
           },
           "bgcolor": "#E5ECF6",
           "caxis": {
            "gridcolor": "white",
            "linecolor": "white",
            "ticks": ""
           }
          },
          "title": {
           "x": 0.05
          },
          "xaxis": {
           "automargin": true,
           "gridcolor": "white",
           "linecolor": "white",
           "ticks": "",
           "title": {
            "standoff": 15
           },
           "zerolinecolor": "white",
           "zerolinewidth": 2
          },
          "yaxis": {
           "automargin": true,
           "gridcolor": "white",
           "linecolor": "white",
           "ticks": "",
           "title": {
            "standoff": 15
           },
           "zerolinecolor": "white",
           "zerolinewidth": 2
          }
         }
        },
        "xaxis": {
         "title": {
          "text": "Learning Rate"
         }
        },
        "yaxis": {
         "title": {
          "text": "F1 Score"
         }
        }
       }
      }
     },
     "metadata": {}
    }
   ],
   "source": [
    "fig = go.Figure(data=go.Scatter(x=learning_rates, y=f1_list))\n",
    "fig.update_layout(xaxis_title='Learning Rate', yaxis_title='F1 Score')\n",
    "fig.write_image(\"images/result_f1_learning_rate.png\")\n",
    "fig.show()"
   ]
  },
  {
   "cell_type": "code",
   "execution_count": 13,
   "metadata": {},
   "outputs": [
    {
     "output_type": "display_data",
     "data": {
      "application/vnd.plotly.v1+json": {
       "config": {
        "plotlyServerURL": "https://plot.ly"
       },
       "data": [
        {
         "type": "scatter",
         "x": [
          0.001,
          0.001047615752789665,
          0.0010974987654930556,
          0.0011497569953977356,
          0.0012045035402587824,
          0.0012618568830660211,
          0.0013219411484660286,
          0.0013848863713938732,
          0.0014508287784959402,
          0.0015199110829529332,
          0.0015922827933410922,
          0.0016681005372000592,
          0.001747528400007683,
          0.0018307382802953678,
          0.0019179102616724887,
          0.002009233002565048,
          0.00210490414451202,
          0.0022051307399030455,
          0.0023101297000831605,
          0.0024201282647943836,
          0.0025353644939701114,
          0.0026560877829466868,
          0.0027825594022071257,
          0.002915053062825176,
          0.0030538555088334154,
          0.0031992671377973846,
          0.003351602650938841,
          0.003511191734215131,
          0.0036783797718286343,
          0.0038535285937105275,
          0.004037017258596553,
          0.0042292428743894986,
          0.004430621457583882,
          0.004641588833612782,
          0.004862601580065354,
          0.0050941380148163806,
          0.005336699231206312,
          0.005590810182512223,
          0.005857020818056668,
          0.006135907273413176,
          0.006428073117284319,
          0.006734150657750821,
          0.007054802310718645,
          0.007390722033525776,
          0.007742636826811269,
          0.008111308307896872,
          0.008497534359086447,
          0.008902150854450393,
          0.0093260334688322,
          0.009770099572992257,
          0.010235310218990263,
          0.010722672220103237,
          0.011233240329780276,
          0.011768119524349984,
          0.012328467394420665,
          0.01291549665014884,
          0.013530477745798075,
          0.014174741629268055,
          0.01484968262254465,
          0.015556761439304723,
          0.016297508346206444,
          0.017073526474706915,
          0.01788649529057435,
          0.018738174228603847,
          0.019630406500402715,
          0.020565123083486514,
          0.021544346900318846,
          0.022570197196339202,
          0.023644894126454083,
          0.024770763559917114,
          0.025950242113997372,
          0.027185882427329416,
          0.02848035868435802,
          0.029836472402833405,
          0.03125715849688237,
          0.0327454916287773,
          0.03430469286314919,
          0.03593813663804628,
          0.037649358067924694,
          0.03944206059437656,
          0.04132012400115339,
          0.04328761281083059,
          0.04534878508128584,
          0.04750810162102798,
          0.049770235643321115,
          0.05214008287999687,
          0.05462277217684343,
          0.0572236765935022,
          0.05994842503189412,
          0.06280291441834256,
          0.06579332246575682,
          0.06892612104349699,
          0.07220809018385467,
          0.07564633275546291,
          0.07924828983539177,
          0.08302175681319748,
          0.08697490026177834,
          0.09111627561154896,
          0.09545484566618342,
          0.1
         ],
         "y": [
          0.27848101265822783,
          0.27848101265822783,
          0.2869198312236287,
          0.2911392405063291,
          0.2911392405063291,
          0.28270042194092826,
          0.3037974683544304,
          0.3206751054852321,
          0.3333333333333333,
          0.35864978902953587,
          0.3670886075949367,
          0.38396624472573837,
          0.38396624472573837,
          0.3924050632911392,
          0.39662447257383965,
          0.39662447257383965,
          0.3924050632911392,
          0.4008438818565401,
          0.3881856540084388,
          0.379746835443038,
          0.38396624472573837,
          0.3881856540084388,
          0.3924050632911392,
          0.39662447257383965,
          0.39662447257383965,
          0.3924050632911392,
          0.39662447257383965,
          0.39662447257383965,
          0.39662447257383965,
          0.39662447257383965,
          0.4008438818565401,
          0.4050632911392405,
          0.4050632911392405,
          0.4050632911392405,
          0.4050632911392405,
          0.4050632911392405,
          0.4050632911392405,
          0.4050632911392405,
          0.41350210970464135,
          0.41350210970464135,
          0.4177215189873418,
          0.4177215189873418,
          0.4177215189873418,
          0.42616033755274263,
          0.42616033755274263,
          0.43037974683544306,
          0.4345991561181435,
          0.4345991561181435,
          0.4472573839662447,
          0.45569620253164556,
          0.459915611814346,
          0.45569620253164556,
          0.4641350210970464,
          0.4641350210970464,
          0.4641350210970464,
          0.459915611814346,
          0.459915611814346,
          0.459915611814346,
          0.4641350210970464,
          0.459915611814346,
          0.459915611814346,
          0.46835443037974683,
          0.4641350210970464,
          0.459915611814346,
          0.459915611814346,
          0.4641350210970464,
          0.459915611814346,
          0.4641350210970464,
          0.46835443037974683,
          0.4641350210970464,
          0.4641350210970464,
          0.4641350210970464,
          0.459915611814346,
          0.459915611814346,
          0.459915611814346,
          0.45569620253164556,
          0.4641350210970464,
          0.459915611814346,
          0.459915611814346,
          0.4641350210970464,
          0.4641350210970464,
          0.46835443037974683,
          0.4641350210970464,
          0.4641350210970464,
          0.4641350210970464,
          0.4641350210970464,
          0.46835443037974683,
          0.47257383966244726,
          0.47257383966244726,
          0.47257383966244726,
          0.459915611814346,
          0.45569620253164556,
          0.45569620253164556,
          0.45147679324894513,
          0.4472573839662447,
          0.4472573839662447,
          0.4472573839662447,
          0.4388185654008439,
          0.43037974683544306,
          0.4219409282700422
         ]
        }
       ],
       "layout": {
        "template": {
         "data": {
          "bar": [
           {
            "error_x": {
             "color": "#2a3f5f"
            },
            "error_y": {
             "color": "#2a3f5f"
            },
            "marker": {
             "line": {
              "color": "#E5ECF6",
              "width": 0.5
             }
            },
            "type": "bar"
           }
          ],
          "barpolar": [
           {
            "marker": {
             "line": {
              "color": "#E5ECF6",
              "width": 0.5
             }
            },
            "type": "barpolar"
           }
          ],
          "carpet": [
           {
            "aaxis": {
             "endlinecolor": "#2a3f5f",
             "gridcolor": "white",
             "linecolor": "white",
             "minorgridcolor": "white",
             "startlinecolor": "#2a3f5f"
            },
            "baxis": {
             "endlinecolor": "#2a3f5f",
             "gridcolor": "white",
             "linecolor": "white",
             "minorgridcolor": "white",
             "startlinecolor": "#2a3f5f"
            },
            "type": "carpet"
           }
          ],
          "choropleth": [
           {
            "colorbar": {
             "outlinewidth": 0,
             "ticks": ""
            },
            "type": "choropleth"
           }
          ],
          "contour": [
           {
            "colorbar": {
             "outlinewidth": 0,
             "ticks": ""
            },
            "colorscale": [
             [
              0,
              "#0d0887"
             ],
             [
              0.1111111111111111,
              "#46039f"
             ],
             [
              0.2222222222222222,
              "#7201a8"
             ],
             [
              0.3333333333333333,
              "#9c179e"
             ],
             [
              0.4444444444444444,
              "#bd3786"
             ],
             [
              0.5555555555555556,
              "#d8576b"
             ],
             [
              0.6666666666666666,
              "#ed7953"
             ],
             [
              0.7777777777777778,
              "#fb9f3a"
             ],
             [
              0.8888888888888888,
              "#fdca26"
             ],
             [
              1,
              "#f0f921"
             ]
            ],
            "type": "contour"
           }
          ],
          "contourcarpet": [
           {
            "colorbar": {
             "outlinewidth": 0,
             "ticks": ""
            },
            "type": "contourcarpet"
           }
          ],
          "heatmap": [
           {
            "colorbar": {
             "outlinewidth": 0,
             "ticks": ""
            },
            "colorscale": [
             [
              0,
              "#0d0887"
             ],
             [
              0.1111111111111111,
              "#46039f"
             ],
             [
              0.2222222222222222,
              "#7201a8"
             ],
             [
              0.3333333333333333,
              "#9c179e"
             ],
             [
              0.4444444444444444,
              "#bd3786"
             ],
             [
              0.5555555555555556,
              "#d8576b"
             ],
             [
              0.6666666666666666,
              "#ed7953"
             ],
             [
              0.7777777777777778,
              "#fb9f3a"
             ],
             [
              0.8888888888888888,
              "#fdca26"
             ],
             [
              1,
              "#f0f921"
             ]
            ],
            "type": "heatmap"
           }
          ],
          "heatmapgl": [
           {
            "colorbar": {
             "outlinewidth": 0,
             "ticks": ""
            },
            "colorscale": [
             [
              0,
              "#0d0887"
             ],
             [
              0.1111111111111111,
              "#46039f"
             ],
             [
              0.2222222222222222,
              "#7201a8"
             ],
             [
              0.3333333333333333,
              "#9c179e"
             ],
             [
              0.4444444444444444,
              "#bd3786"
             ],
             [
              0.5555555555555556,
              "#d8576b"
             ],
             [
              0.6666666666666666,
              "#ed7953"
             ],
             [
              0.7777777777777778,
              "#fb9f3a"
             ],
             [
              0.8888888888888888,
              "#fdca26"
             ],
             [
              1,
              "#f0f921"
             ]
            ],
            "type": "heatmapgl"
           }
          ],
          "histogram": [
           {
            "marker": {
             "colorbar": {
              "outlinewidth": 0,
              "ticks": ""
             }
            },
            "type": "histogram"
           }
          ],
          "histogram2d": [
           {
            "colorbar": {
             "outlinewidth": 0,
             "ticks": ""
            },
            "colorscale": [
             [
              0,
              "#0d0887"
             ],
             [
              0.1111111111111111,
              "#46039f"
             ],
             [
              0.2222222222222222,
              "#7201a8"
             ],
             [
              0.3333333333333333,
              "#9c179e"
             ],
             [
              0.4444444444444444,
              "#bd3786"
             ],
             [
              0.5555555555555556,
              "#d8576b"
             ],
             [
              0.6666666666666666,
              "#ed7953"
             ],
             [
              0.7777777777777778,
              "#fb9f3a"
             ],
             [
              0.8888888888888888,
              "#fdca26"
             ],
             [
              1,
              "#f0f921"
             ]
            ],
            "type": "histogram2d"
           }
          ],
          "histogram2dcontour": [
           {
            "colorbar": {
             "outlinewidth": 0,
             "ticks": ""
            },
            "colorscale": [
             [
              0,
              "#0d0887"
             ],
             [
              0.1111111111111111,
              "#46039f"
             ],
             [
              0.2222222222222222,
              "#7201a8"
             ],
             [
              0.3333333333333333,
              "#9c179e"
             ],
             [
              0.4444444444444444,
              "#bd3786"
             ],
             [
              0.5555555555555556,
              "#d8576b"
             ],
             [
              0.6666666666666666,
              "#ed7953"
             ],
             [
              0.7777777777777778,
              "#fb9f3a"
             ],
             [
              0.8888888888888888,
              "#fdca26"
             ],
             [
              1,
              "#f0f921"
             ]
            ],
            "type": "histogram2dcontour"
           }
          ],
          "mesh3d": [
           {
            "colorbar": {
             "outlinewidth": 0,
             "ticks": ""
            },
            "type": "mesh3d"
           }
          ],
          "parcoords": [
           {
            "line": {
             "colorbar": {
              "outlinewidth": 0,
              "ticks": ""
             }
            },
            "type": "parcoords"
           }
          ],
          "pie": [
           {
            "automargin": true,
            "type": "pie"
           }
          ],
          "scatter": [
           {
            "marker": {
             "colorbar": {
              "outlinewidth": 0,
              "ticks": ""
             }
            },
            "type": "scatter"
           }
          ],
          "scatter3d": [
           {
            "line": {
             "colorbar": {
              "outlinewidth": 0,
              "ticks": ""
             }
            },
            "marker": {
             "colorbar": {
              "outlinewidth": 0,
              "ticks": ""
             }
            },
            "type": "scatter3d"
           }
          ],
          "scattercarpet": [
           {
            "marker": {
             "colorbar": {
              "outlinewidth": 0,
              "ticks": ""
             }
            },
            "type": "scattercarpet"
           }
          ],
          "scattergeo": [
           {
            "marker": {
             "colorbar": {
              "outlinewidth": 0,
              "ticks": ""
             }
            },
            "type": "scattergeo"
           }
          ],
          "scattergl": [
           {
            "marker": {
             "colorbar": {
              "outlinewidth": 0,
              "ticks": ""
             }
            },
            "type": "scattergl"
           }
          ],
          "scattermapbox": [
           {
            "marker": {
             "colorbar": {
              "outlinewidth": 0,
              "ticks": ""
             }
            },
            "type": "scattermapbox"
           }
          ],
          "scatterpolar": [
           {
            "marker": {
             "colorbar": {
              "outlinewidth": 0,
              "ticks": ""
             }
            },
            "type": "scatterpolar"
           }
          ],
          "scatterpolargl": [
           {
            "marker": {
             "colorbar": {
              "outlinewidth": 0,
              "ticks": ""
             }
            },
            "type": "scatterpolargl"
           }
          ],
          "scatterternary": [
           {
            "marker": {
             "colorbar": {
              "outlinewidth": 0,
              "ticks": ""
             }
            },
            "type": "scatterternary"
           }
          ],
          "surface": [
           {
            "colorbar": {
             "outlinewidth": 0,
             "ticks": ""
            },
            "colorscale": [
             [
              0,
              "#0d0887"
             ],
             [
              0.1111111111111111,
              "#46039f"
             ],
             [
              0.2222222222222222,
              "#7201a8"
             ],
             [
              0.3333333333333333,
              "#9c179e"
             ],
             [
              0.4444444444444444,
              "#bd3786"
             ],
             [
              0.5555555555555556,
              "#d8576b"
             ],
             [
              0.6666666666666666,
              "#ed7953"
             ],
             [
              0.7777777777777778,
              "#fb9f3a"
             ],
             [
              0.8888888888888888,
              "#fdca26"
             ],
             [
              1,
              "#f0f921"
             ]
            ],
            "type": "surface"
           }
          ],
          "table": [
           {
            "cells": {
             "fill": {
              "color": "#EBF0F8"
             },
             "line": {
              "color": "white"
             }
            },
            "header": {
             "fill": {
              "color": "#C8D4E3"
             },
             "line": {
              "color": "white"
             }
            },
            "type": "table"
           }
          ]
         },
         "layout": {
          "annotationdefaults": {
           "arrowcolor": "#2a3f5f",
           "arrowhead": 0,
           "arrowwidth": 1
          },
          "autotypenumbers": "strict",
          "coloraxis": {
           "colorbar": {
            "outlinewidth": 0,
            "ticks": ""
           }
          },
          "colorscale": {
           "diverging": [
            [
             0,
             "#8e0152"
            ],
            [
             0.1,
             "#c51b7d"
            ],
            [
             0.2,
             "#de77ae"
            ],
            [
             0.3,
             "#f1b6da"
            ],
            [
             0.4,
             "#fde0ef"
            ],
            [
             0.5,
             "#f7f7f7"
            ],
            [
             0.6,
             "#e6f5d0"
            ],
            [
             0.7,
             "#b8e186"
            ],
            [
             0.8,
             "#7fbc41"
            ],
            [
             0.9,
             "#4d9221"
            ],
            [
             1,
             "#276419"
            ]
           ],
           "sequential": [
            [
             0,
             "#0d0887"
            ],
            [
             0.1111111111111111,
             "#46039f"
            ],
            [
             0.2222222222222222,
             "#7201a8"
            ],
            [
             0.3333333333333333,
             "#9c179e"
            ],
            [
             0.4444444444444444,
             "#bd3786"
            ],
            [
             0.5555555555555556,
             "#d8576b"
            ],
            [
             0.6666666666666666,
             "#ed7953"
            ],
            [
             0.7777777777777778,
             "#fb9f3a"
            ],
            [
             0.8888888888888888,
             "#fdca26"
            ],
            [
             1,
             "#f0f921"
            ]
           ],
           "sequentialminus": [
            [
             0,
             "#0d0887"
            ],
            [
             0.1111111111111111,
             "#46039f"
            ],
            [
             0.2222222222222222,
             "#7201a8"
            ],
            [
             0.3333333333333333,
             "#9c179e"
            ],
            [
             0.4444444444444444,
             "#bd3786"
            ],
            [
             0.5555555555555556,
             "#d8576b"
            ],
            [
             0.6666666666666666,
             "#ed7953"
            ],
            [
             0.7777777777777778,
             "#fb9f3a"
            ],
            [
             0.8888888888888888,
             "#fdca26"
            ],
            [
             1,
             "#f0f921"
            ]
           ]
          },
          "colorway": [
           "#636efa",
           "#EF553B",
           "#00cc96",
           "#ab63fa",
           "#FFA15A",
           "#19d3f3",
           "#FF6692",
           "#B6E880",
           "#FF97FF",
           "#FECB52"
          ],
          "font": {
           "color": "#2a3f5f"
          },
          "geo": {
           "bgcolor": "white",
           "lakecolor": "white",
           "landcolor": "#E5ECF6",
           "showlakes": true,
           "showland": true,
           "subunitcolor": "white"
          },
          "hoverlabel": {
           "align": "left"
          },
          "hovermode": "closest",
          "mapbox": {
           "style": "light"
          },
          "paper_bgcolor": "white",
          "plot_bgcolor": "#E5ECF6",
          "polar": {
           "angularaxis": {
            "gridcolor": "white",
            "linecolor": "white",
            "ticks": ""
           },
           "bgcolor": "#E5ECF6",
           "radialaxis": {
            "gridcolor": "white",
            "linecolor": "white",
            "ticks": ""
           }
          },
          "scene": {
           "xaxis": {
            "backgroundcolor": "#E5ECF6",
            "gridcolor": "white",
            "gridwidth": 2,
            "linecolor": "white",
            "showbackground": true,
            "ticks": "",
            "zerolinecolor": "white"
           },
           "yaxis": {
            "backgroundcolor": "#E5ECF6",
            "gridcolor": "white",
            "gridwidth": 2,
            "linecolor": "white",
            "showbackground": true,
            "ticks": "",
            "zerolinecolor": "white"
           },
           "zaxis": {
            "backgroundcolor": "#E5ECF6",
            "gridcolor": "white",
            "gridwidth": 2,
            "linecolor": "white",
            "showbackground": true,
            "ticks": "",
            "zerolinecolor": "white"
           }
          },
          "shapedefaults": {
           "line": {
            "color": "#2a3f5f"
           }
          },
          "ternary": {
           "aaxis": {
            "gridcolor": "white",
            "linecolor": "white",
            "ticks": ""
           },
           "baxis": {
            "gridcolor": "white",
            "linecolor": "white",
            "ticks": ""
           },
           "bgcolor": "#E5ECF6",
           "caxis": {
            "gridcolor": "white",
            "linecolor": "white",
            "ticks": ""
           }
          },
          "title": {
           "x": 0.05
          },
          "xaxis": {
           "automargin": true,
           "gridcolor": "white",
           "linecolor": "white",
           "ticks": "",
           "title": {
            "standoff": 15
           },
           "zerolinecolor": "white",
           "zerolinewidth": 2
          },
          "yaxis": {
           "automargin": true,
           "gridcolor": "white",
           "linecolor": "white",
           "ticks": "",
           "title": {
            "standoff": 15
           },
           "zerolinecolor": "white",
           "zerolinewidth": 2
          }
         }
        },
        "xaxis": {
         "title": {
          "text": "Learning Rate"
         }
        },
        "yaxis": {
         "title": {
          "text": "Accuracy"
         }
        }
       }
      }
     },
     "metadata": {}
    }
   ],
   "source": [
    "fig = go.Figure(data=go.Scatter(x=learning_rates, y=accuracy))\n",
    "fig.update_layout(xaxis_title='Learning Rate', yaxis_title='Accuracy')\n",
    "fig.write_image(\"images/result_accuracy_learning_rate.png\")\n",
    "fig.show()"
   ]
  },
  {
   "cell_type": "code",
   "execution_count": 26,
   "metadata": {},
   "outputs": [
    {
     "output_type": "stream",
     "name": "stderr",
     "text": [
      "100%|██████████| 100/100 [00:36<00:00,  2.74it/s]Accuracy:\n",
      "\n"
     ]
    },
    {
     "output_type": "execute_result",
     "data": {
      "text/plain": [
       "    Draw Size  Mean Square Error / Match  Mean Absolute Error / Match  \\\n",
       "0    0.000100                   3.565736                     2.034976   \n",
       "1    0.000110                   3.565736                     2.034976   \n",
       "2    0.000120                   3.565736                     2.034976   \n",
       "3    0.000132                   3.565736                     2.034976   \n",
       "4    0.000145                   3.565736                     2.034976   \n",
       "..        ...                        ...                          ...   \n",
       "95   0.689261                   3.565736                     2.034976   \n",
       "96   0.756463                   3.565736                     2.034976   \n",
       "97   0.830218                   3.565736                     2.034976   \n",
       "98   0.911163                   3.565736                     2.034976   \n",
       "99   1.000000                   3.565736                     2.034976   \n",
       "\n",
       "    Accuracy  \n",
       "0   0.510549  \n",
       "1   0.510549  \n",
       "2   0.510549  \n",
       "3   0.510549  \n",
       "4   0.510549  \n",
       "..       ...  \n",
       "95  0.405063  \n",
       "96  0.392405  \n",
       "97  0.367089  \n",
       "98  0.337553  \n",
       "99  0.329114  \n",
       "\n",
       "[100 rows x 4 columns]"
      ],
      "text/html": "<div>\n<style scoped>\n    .dataframe tbody tr th:only-of-type {\n        vertical-align: middle;\n    }\n\n    .dataframe tbody tr th {\n        vertical-align: top;\n    }\n\n    .dataframe thead th {\n        text-align: right;\n    }\n</style>\n<table border=\"1\" class=\"dataframe\">\n  <thead>\n    <tr style=\"text-align: right;\">\n      <th></th>\n      <th>Draw Size</th>\n      <th>Mean Square Error / Match</th>\n      <th>Mean Absolute Error / Match</th>\n      <th>Accuracy</th>\n    </tr>\n  </thead>\n  <tbody>\n    <tr>\n      <th>0</th>\n      <td>0.000100</td>\n      <td>3.565736</td>\n      <td>2.034976</td>\n      <td>0.510549</td>\n    </tr>\n    <tr>\n      <th>1</th>\n      <td>0.000110</td>\n      <td>3.565736</td>\n      <td>2.034976</td>\n      <td>0.510549</td>\n    </tr>\n    <tr>\n      <th>2</th>\n      <td>0.000120</td>\n      <td>3.565736</td>\n      <td>2.034976</td>\n      <td>0.510549</td>\n    </tr>\n    <tr>\n      <th>3</th>\n      <td>0.000132</td>\n      <td>3.565736</td>\n      <td>2.034976</td>\n      <td>0.510549</td>\n    </tr>\n    <tr>\n      <th>4</th>\n      <td>0.000145</td>\n      <td>3.565736</td>\n      <td>2.034976</td>\n      <td>0.510549</td>\n    </tr>\n    <tr>\n      <th>...</th>\n      <td>...</td>\n      <td>...</td>\n      <td>...</td>\n      <td>...</td>\n    </tr>\n    <tr>\n      <th>95</th>\n      <td>0.689261</td>\n      <td>3.565736</td>\n      <td>2.034976</td>\n      <td>0.405063</td>\n    </tr>\n    <tr>\n      <th>96</th>\n      <td>0.756463</td>\n      <td>3.565736</td>\n      <td>2.034976</td>\n      <td>0.392405</td>\n    </tr>\n    <tr>\n      <th>97</th>\n      <td>0.830218</td>\n      <td>3.565736</td>\n      <td>2.034976</td>\n      <td>0.367089</td>\n    </tr>\n    <tr>\n      <th>98</th>\n      <td>0.911163</td>\n      <td>3.565736</td>\n      <td>2.034976</td>\n      <td>0.337553</td>\n    </tr>\n    <tr>\n      <th>99</th>\n      <td>1.000000</td>\n      <td>3.565736</td>\n      <td>2.034976</td>\n      <td>0.329114</td>\n    </tr>\n  </tbody>\n</table>\n<p>100 rows × 4 columns</p>\n</div>"
     },
     "metadata": {},
     "execution_count": 26
    }
   ],
   "source": [
    "draw_sizes = np.logspace(-4, 0, num=100)\n",
    "mse_list = []\n",
    "rmse_list = []\n",
    "mae_list = []\n",
    "accuracy = []\n",
    "f1_list = []\n",
    "\n",
    "for draw_size in tqdm(draw_sizes):\n",
    "    goal_elo = GoalElo(draw_size=draw_size)\n",
    "    goal_elo.fit(training)\n",
    "    mse, mae = goal_elo.test(test)\n",
    "    mse_list.append(mse)\n",
    "    rmse_list.append(math.sqrt(mse))\n",
    "    mae_list.append(mae)\n",
    "    accuracy.append(goal_elo.test_result(test))\n",
    "    pred = goal_elo.predict_data(test)\n",
    "    f1 = f1_score(pred.FTR, pred.ER, average='weighted')\n",
    "    f1_list.append(f1)\n",
    "print(\"Accuracy:\") \n",
    "pd.DataFrame(zip(draw_sizes, mse_list, mae_list, accuracy), columns=['Draw Size', 'Mean Square Error / Match', 'Mean Absolute Error / Match', 'Accuracy'])"
   ]
  },
  {
   "cell_type": "code",
   "execution_count": 27,
   "metadata": {},
   "outputs": [
    {
     "output_type": "display_data",
     "data": {
      "application/vnd.plotly.v1+json": {
       "config": {
        "plotlyServerURL": "https://plot.ly"
       },
       "data": [
        {
         "type": "scatter",
         "x": [
          0.0001,
          0.00010974987654930556,
          0.00012045035402587823,
          0.00013219411484660288,
          0.000145082877849594,
          0.00015922827933410923,
          0.0001747528400007683,
          0.00019179102616724886,
          0.00021049041445120198,
          0.00023101297000831605,
          0.00025353644939701115,
          0.0002782559402207126,
          0.0003053855508833416,
          0.0003351602650938841,
          0.0003678379771828634,
          0.0004037017258596554,
          0.0004430621457583882,
          0.00048626015800653534,
          0.0005336699231206312,
          0.0005857020818056667,
          0.0006428073117284319,
          0.0007054802310718645,
          0.000774263682681127,
          0.0008497534359086447,
          0.0009326033468832199,
          0.001023531021899027,
          0.0011233240329780276,
          0.0012328467394420659,
          0.0013530477745798076,
          0.001484968262254465,
          0.0016297508346206436,
          0.001788649529057435,
          0.0019630406500402726,
          0.0021544346900318843,
          0.002364489412645407,
          0.002595024211399737,
          0.002848035868435802,
          0.0031257158496882354,
          0.003430469286314919,
          0.0037649358067924714,
          0.0041320124001153384,
          0.004534878508128582,
          0.004977023564332114,
          0.0054622772176843425,
          0.005994842503189409,
          0.006579332246575682,
          0.007220809018385471,
          0.007924828983539177,
          0.008697490026177835,
          0.009545484566618348,
          0.010476157527896652,
          0.011497569953977368,
          0.012618568830660211,
          0.013848863713938732,
          0.015199110829529346,
          0.016681005372000592,
          0.018307382802953697,
          0.02009233002565048,
          0.022051307399030457,
          0.024201282647943835,
          0.026560877829466867,
          0.02915053062825179,
          0.03199267137797385,
          0.03511191734215135,
          0.03853528593710531,
          0.04229242874389499,
          0.04641588833612782,
          0.0509413801481638,
          0.055908101825122285,
          0.061359072734131756,
          0.06734150657750829,
          0.07390722033525783,
          0.08111308307896872,
          0.08902150854450393,
          0.09770099572992257,
          0.10722672220103242,
          0.1176811952434999,
          0.1291549665014884,
          0.14174741629268062,
          0.15556761439304723,
          0.1707352647470692,
          0.1873817422860385,
          0.20565123083486536,
          0.22570197196339215,
          0.24770763559917114,
          0.2718588242732943,
          0.298364724028334,
          0.3274549162877732,
          0.3593813663804629,
          0.394420605943766,
          0.43287612810830617,
          0.4750810162102798,
          0.521400828799969,
          0.572236765935022,
          0.6280291441834259,
          0.6892612104349702,
          0.7564633275546291,
          0.8302175681319752,
          0.9111627561154896,
          1
         ],
         "y": [
          0.510548523206751,
          0.510548523206751,
          0.510548523206751,
          0.510548523206751,
          0.510548523206751,
          0.510548523206751,
          0.510548523206751,
          0.510548523206751,
          0.510548523206751,
          0.510548523206751,
          0.510548523206751,
          0.510548523206751,
          0.510548523206751,
          0.510548523206751,
          0.510548523206751,
          0.510548523206751,
          0.510548523206751,
          0.510548523206751,
          0.510548523206751,
          0.510548523206751,
          0.510548523206751,
          0.510548523206751,
          0.510548523206751,
          0.510548523206751,
          0.510548523206751,
          0.510548523206751,
          0.510548523206751,
          0.510548523206751,
          0.510548523206751,
          0.510548523206751,
          0.510548523206751,
          0.510548523206751,
          0.510548523206751,
          0.510548523206751,
          0.5063291139240507,
          0.5063291139240507,
          0.5063291139240507,
          0.5063291139240507,
          0.5063291139240507,
          0.5063291139240507,
          0.5063291139240507,
          0.5063291139240507,
          0.5063291139240507,
          0.5063291139240507,
          0.5063291139240507,
          0.5063291139240507,
          0.5063291139240507,
          0.5063291139240507,
          0.5063291139240507,
          0.5063291139240507,
          0.5063291139240507,
          0.5063291139240507,
          0.5063291139240507,
          0.5021097046413502,
          0.5021097046413502,
          0.5063291139240507,
          0.5063291139240507,
          0.4978902953586498,
          0.4978902953586498,
          0.4978902953586498,
          0.4978902953586498,
          0.4978902953586498,
          0.4936708860759494,
          0.4978902953586498,
          0.4978902953586498,
          0.4978902953586498,
          0.4978902953586498,
          0.48945147679324896,
          0.48945147679324896,
          0.48945147679324896,
          0.4936708860759494,
          0.48945147679324896,
          0.48945147679324896,
          0.48523206751054854,
          0.48945147679324896,
          0.48523206751054854,
          0.48523206751054854,
          0.4810126582278481,
          0.4810126582278481,
          0.4810126582278481,
          0.48523206751054854,
          0.48523206751054854,
          0.4810126582278481,
          0.47257383966244726,
          0.4810126582278481,
          0.47257383966244726,
          0.4641350210970464,
          0.46835443037974683,
          0.47257383966244726,
          0.4767932489451477,
          0.47257383966244726,
          0.4767932489451477,
          0.46835443037974683,
          0.45569620253164556,
          0.42616033755274263,
          0.4050632911392405,
          0.3924050632911392,
          0.3670886075949367,
          0.33755274261603374,
          0.3291139240506329
         ]
        }
       ],
       "layout": {
        "template": {
         "data": {
          "bar": [
           {
            "error_x": {
             "color": "#2a3f5f"
            },
            "error_y": {
             "color": "#2a3f5f"
            },
            "marker": {
             "line": {
              "color": "#E5ECF6",
              "width": 0.5
             }
            },
            "type": "bar"
           }
          ],
          "barpolar": [
           {
            "marker": {
             "line": {
              "color": "#E5ECF6",
              "width": 0.5
             }
            },
            "type": "barpolar"
           }
          ],
          "carpet": [
           {
            "aaxis": {
             "endlinecolor": "#2a3f5f",
             "gridcolor": "white",
             "linecolor": "white",
             "minorgridcolor": "white",
             "startlinecolor": "#2a3f5f"
            },
            "baxis": {
             "endlinecolor": "#2a3f5f",
             "gridcolor": "white",
             "linecolor": "white",
             "minorgridcolor": "white",
             "startlinecolor": "#2a3f5f"
            },
            "type": "carpet"
           }
          ],
          "choropleth": [
           {
            "colorbar": {
             "outlinewidth": 0,
             "ticks": ""
            },
            "type": "choropleth"
           }
          ],
          "contour": [
           {
            "colorbar": {
             "outlinewidth": 0,
             "ticks": ""
            },
            "colorscale": [
             [
              0,
              "#0d0887"
             ],
             [
              0.1111111111111111,
              "#46039f"
             ],
             [
              0.2222222222222222,
              "#7201a8"
             ],
             [
              0.3333333333333333,
              "#9c179e"
             ],
             [
              0.4444444444444444,
              "#bd3786"
             ],
             [
              0.5555555555555556,
              "#d8576b"
             ],
             [
              0.6666666666666666,
              "#ed7953"
             ],
             [
              0.7777777777777778,
              "#fb9f3a"
             ],
             [
              0.8888888888888888,
              "#fdca26"
             ],
             [
              1,
              "#f0f921"
             ]
            ],
            "type": "contour"
           }
          ],
          "contourcarpet": [
           {
            "colorbar": {
             "outlinewidth": 0,
             "ticks": ""
            },
            "type": "contourcarpet"
           }
          ],
          "heatmap": [
           {
            "colorbar": {
             "outlinewidth": 0,
             "ticks": ""
            },
            "colorscale": [
             [
              0,
              "#0d0887"
             ],
             [
              0.1111111111111111,
              "#46039f"
             ],
             [
              0.2222222222222222,
              "#7201a8"
             ],
             [
              0.3333333333333333,
              "#9c179e"
             ],
             [
              0.4444444444444444,
              "#bd3786"
             ],
             [
              0.5555555555555556,
              "#d8576b"
             ],
             [
              0.6666666666666666,
              "#ed7953"
             ],
             [
              0.7777777777777778,
              "#fb9f3a"
             ],
             [
              0.8888888888888888,
              "#fdca26"
             ],
             [
              1,
              "#f0f921"
             ]
            ],
            "type": "heatmap"
           }
          ],
          "heatmapgl": [
           {
            "colorbar": {
             "outlinewidth": 0,
             "ticks": ""
            },
            "colorscale": [
             [
              0,
              "#0d0887"
             ],
             [
              0.1111111111111111,
              "#46039f"
             ],
             [
              0.2222222222222222,
              "#7201a8"
             ],
             [
              0.3333333333333333,
              "#9c179e"
             ],
             [
              0.4444444444444444,
              "#bd3786"
             ],
             [
              0.5555555555555556,
              "#d8576b"
             ],
             [
              0.6666666666666666,
              "#ed7953"
             ],
             [
              0.7777777777777778,
              "#fb9f3a"
             ],
             [
              0.8888888888888888,
              "#fdca26"
             ],
             [
              1,
              "#f0f921"
             ]
            ],
            "type": "heatmapgl"
           }
          ],
          "histogram": [
           {
            "marker": {
             "colorbar": {
              "outlinewidth": 0,
              "ticks": ""
             }
            },
            "type": "histogram"
           }
          ],
          "histogram2d": [
           {
            "colorbar": {
             "outlinewidth": 0,
             "ticks": ""
            },
            "colorscale": [
             [
              0,
              "#0d0887"
             ],
             [
              0.1111111111111111,
              "#46039f"
             ],
             [
              0.2222222222222222,
              "#7201a8"
             ],
             [
              0.3333333333333333,
              "#9c179e"
             ],
             [
              0.4444444444444444,
              "#bd3786"
             ],
             [
              0.5555555555555556,
              "#d8576b"
             ],
             [
              0.6666666666666666,
              "#ed7953"
             ],
             [
              0.7777777777777778,
              "#fb9f3a"
             ],
             [
              0.8888888888888888,
              "#fdca26"
             ],
             [
              1,
              "#f0f921"
             ]
            ],
            "type": "histogram2d"
           }
          ],
          "histogram2dcontour": [
           {
            "colorbar": {
             "outlinewidth": 0,
             "ticks": ""
            },
            "colorscale": [
             [
              0,
              "#0d0887"
             ],
             [
              0.1111111111111111,
              "#46039f"
             ],
             [
              0.2222222222222222,
              "#7201a8"
             ],
             [
              0.3333333333333333,
              "#9c179e"
             ],
             [
              0.4444444444444444,
              "#bd3786"
             ],
             [
              0.5555555555555556,
              "#d8576b"
             ],
             [
              0.6666666666666666,
              "#ed7953"
             ],
             [
              0.7777777777777778,
              "#fb9f3a"
             ],
             [
              0.8888888888888888,
              "#fdca26"
             ],
             [
              1,
              "#f0f921"
             ]
            ],
            "type": "histogram2dcontour"
           }
          ],
          "mesh3d": [
           {
            "colorbar": {
             "outlinewidth": 0,
             "ticks": ""
            },
            "type": "mesh3d"
           }
          ],
          "parcoords": [
           {
            "line": {
             "colorbar": {
              "outlinewidth": 0,
              "ticks": ""
             }
            },
            "type": "parcoords"
           }
          ],
          "pie": [
           {
            "automargin": true,
            "type": "pie"
           }
          ],
          "scatter": [
           {
            "marker": {
             "colorbar": {
              "outlinewidth": 0,
              "ticks": ""
             }
            },
            "type": "scatter"
           }
          ],
          "scatter3d": [
           {
            "line": {
             "colorbar": {
              "outlinewidth": 0,
              "ticks": ""
             }
            },
            "marker": {
             "colorbar": {
              "outlinewidth": 0,
              "ticks": ""
             }
            },
            "type": "scatter3d"
           }
          ],
          "scattercarpet": [
           {
            "marker": {
             "colorbar": {
              "outlinewidth": 0,
              "ticks": ""
             }
            },
            "type": "scattercarpet"
           }
          ],
          "scattergeo": [
           {
            "marker": {
             "colorbar": {
              "outlinewidth": 0,
              "ticks": ""
             }
            },
            "type": "scattergeo"
           }
          ],
          "scattergl": [
           {
            "marker": {
             "colorbar": {
              "outlinewidth": 0,
              "ticks": ""
             }
            },
            "type": "scattergl"
           }
          ],
          "scattermapbox": [
           {
            "marker": {
             "colorbar": {
              "outlinewidth": 0,
              "ticks": ""
             }
            },
            "type": "scattermapbox"
           }
          ],
          "scatterpolar": [
           {
            "marker": {
             "colorbar": {
              "outlinewidth": 0,
              "ticks": ""
             }
            },
            "type": "scatterpolar"
           }
          ],
          "scatterpolargl": [
           {
            "marker": {
             "colorbar": {
              "outlinewidth": 0,
              "ticks": ""
             }
            },
            "type": "scatterpolargl"
           }
          ],
          "scatterternary": [
           {
            "marker": {
             "colorbar": {
              "outlinewidth": 0,
              "ticks": ""
             }
            },
            "type": "scatterternary"
           }
          ],
          "surface": [
           {
            "colorbar": {
             "outlinewidth": 0,
             "ticks": ""
            },
            "colorscale": [
             [
              0,
              "#0d0887"
             ],
             [
              0.1111111111111111,
              "#46039f"
             ],
             [
              0.2222222222222222,
              "#7201a8"
             ],
             [
              0.3333333333333333,
              "#9c179e"
             ],
             [
              0.4444444444444444,
              "#bd3786"
             ],
             [
              0.5555555555555556,
              "#d8576b"
             ],
             [
              0.6666666666666666,
              "#ed7953"
             ],
             [
              0.7777777777777778,
              "#fb9f3a"
             ],
             [
              0.8888888888888888,
              "#fdca26"
             ],
             [
              1,
              "#f0f921"
             ]
            ],
            "type": "surface"
           }
          ],
          "table": [
           {
            "cells": {
             "fill": {
              "color": "#EBF0F8"
             },
             "line": {
              "color": "white"
             }
            },
            "header": {
             "fill": {
              "color": "#C8D4E3"
             },
             "line": {
              "color": "white"
             }
            },
            "type": "table"
           }
          ]
         },
         "layout": {
          "annotationdefaults": {
           "arrowcolor": "#2a3f5f",
           "arrowhead": 0,
           "arrowwidth": 1
          },
          "autotypenumbers": "strict",
          "coloraxis": {
           "colorbar": {
            "outlinewidth": 0,
            "ticks": ""
           }
          },
          "colorscale": {
           "diverging": [
            [
             0,
             "#8e0152"
            ],
            [
             0.1,
             "#c51b7d"
            ],
            [
             0.2,
             "#de77ae"
            ],
            [
             0.3,
             "#f1b6da"
            ],
            [
             0.4,
             "#fde0ef"
            ],
            [
             0.5,
             "#f7f7f7"
            ],
            [
             0.6,
             "#e6f5d0"
            ],
            [
             0.7,
             "#b8e186"
            ],
            [
             0.8,
             "#7fbc41"
            ],
            [
             0.9,
             "#4d9221"
            ],
            [
             1,
             "#276419"
            ]
           ],
           "sequential": [
            [
             0,
             "#0d0887"
            ],
            [
             0.1111111111111111,
             "#46039f"
            ],
            [
             0.2222222222222222,
             "#7201a8"
            ],
            [
             0.3333333333333333,
             "#9c179e"
            ],
            [
             0.4444444444444444,
             "#bd3786"
            ],
            [
             0.5555555555555556,
             "#d8576b"
            ],
            [
             0.6666666666666666,
             "#ed7953"
            ],
            [
             0.7777777777777778,
             "#fb9f3a"
            ],
            [
             0.8888888888888888,
             "#fdca26"
            ],
            [
             1,
             "#f0f921"
            ]
           ],
           "sequentialminus": [
            [
             0,
             "#0d0887"
            ],
            [
             0.1111111111111111,
             "#46039f"
            ],
            [
             0.2222222222222222,
             "#7201a8"
            ],
            [
             0.3333333333333333,
             "#9c179e"
            ],
            [
             0.4444444444444444,
             "#bd3786"
            ],
            [
             0.5555555555555556,
             "#d8576b"
            ],
            [
             0.6666666666666666,
             "#ed7953"
            ],
            [
             0.7777777777777778,
             "#fb9f3a"
            ],
            [
             0.8888888888888888,
             "#fdca26"
            ],
            [
             1,
             "#f0f921"
            ]
           ]
          },
          "colorway": [
           "#636efa",
           "#EF553B",
           "#00cc96",
           "#ab63fa",
           "#FFA15A",
           "#19d3f3",
           "#FF6692",
           "#B6E880",
           "#FF97FF",
           "#FECB52"
          ],
          "font": {
           "color": "#2a3f5f"
          },
          "geo": {
           "bgcolor": "white",
           "lakecolor": "white",
           "landcolor": "#E5ECF6",
           "showlakes": true,
           "showland": true,
           "subunitcolor": "white"
          },
          "hoverlabel": {
           "align": "left"
          },
          "hovermode": "closest",
          "mapbox": {
           "style": "light"
          },
          "paper_bgcolor": "white",
          "plot_bgcolor": "#E5ECF6",
          "polar": {
           "angularaxis": {
            "gridcolor": "white",
            "linecolor": "white",
            "ticks": ""
           },
           "bgcolor": "#E5ECF6",
           "radialaxis": {
            "gridcolor": "white",
            "linecolor": "white",
            "ticks": ""
           }
          },
          "scene": {
           "xaxis": {
            "backgroundcolor": "#E5ECF6",
            "gridcolor": "white",
            "gridwidth": 2,
            "linecolor": "white",
            "showbackground": true,
            "ticks": "",
            "zerolinecolor": "white"
           },
           "yaxis": {
            "backgroundcolor": "#E5ECF6",
            "gridcolor": "white",
            "gridwidth": 2,
            "linecolor": "white",
            "showbackground": true,
            "ticks": "",
            "zerolinecolor": "white"
           },
           "zaxis": {
            "backgroundcolor": "#E5ECF6",
            "gridcolor": "white",
            "gridwidth": 2,
            "linecolor": "white",
            "showbackground": true,
            "ticks": "",
            "zerolinecolor": "white"
           }
          },
          "shapedefaults": {
           "line": {
            "color": "#2a3f5f"
           }
          },
          "ternary": {
           "aaxis": {
            "gridcolor": "white",
            "linecolor": "white",
            "ticks": ""
           },
           "baxis": {
            "gridcolor": "white",
            "linecolor": "white",
            "ticks": ""
           },
           "bgcolor": "#E5ECF6",
           "caxis": {
            "gridcolor": "white",
            "linecolor": "white",
            "ticks": ""
           }
          },
          "title": {
           "x": 0.05
          },
          "xaxis": {
           "automargin": true,
           "gridcolor": "white",
           "linecolor": "white",
           "ticks": "",
           "title": {
            "standoff": 15
           },
           "zerolinecolor": "white",
           "zerolinewidth": 2
          },
          "yaxis": {
           "automargin": true,
           "gridcolor": "white",
           "linecolor": "white",
           "ticks": "",
           "title": {
            "standoff": 15
           },
           "zerolinecolor": "white",
           "zerolinewidth": 2
          }
         }
        },
        "xaxis": {
         "title": {
          "text": "Draw Size"
         }
        },
        "yaxis": {
         "title": {
          "text": "Accuracy"
         }
        }
       }
      }
     },
     "metadata": {}
    }
   ],
   "source": [
    "fig = go.Figure(data=go.Scatter(x=draw_sizes, y=accuracy))\n",
    "fig.update_layout(xaxis_title='Draw Size', yaxis_title='Accuracy')\n",
    "fig.write_image(\"images/result_accuracy_draw_size.png\")\n",
    "fig.show()"
   ]
  },
  {
   "cell_type": "code",
   "execution_count": 28,
   "metadata": {},
   "outputs": [
    {
     "output_type": "display_data",
     "data": {
      "application/vnd.plotly.v1+json": {
       "config": {
        "plotlyServerURL": "https://plot.ly"
       },
       "data": [
        {
         "type": "scatter",
         "x": [
          0.0001,
          0.00010974987654930556,
          0.00012045035402587823,
          0.00013219411484660288,
          0.000145082877849594,
          0.00015922827933410923,
          0.0001747528400007683,
          0.00019179102616724886,
          0.00021049041445120198,
          0.00023101297000831605,
          0.00025353644939701115,
          0.0002782559402207126,
          0.0003053855508833416,
          0.0003351602650938841,
          0.0003678379771828634,
          0.0004037017258596554,
          0.0004430621457583882,
          0.00048626015800653534,
          0.0005336699231206312,
          0.0005857020818056667,
          0.0006428073117284319,
          0.0007054802310718645,
          0.000774263682681127,
          0.0008497534359086447,
          0.0009326033468832199,
          0.001023531021899027,
          0.0011233240329780276,
          0.0012328467394420659,
          0.0013530477745798076,
          0.001484968262254465,
          0.0016297508346206436,
          0.001788649529057435,
          0.0019630406500402726,
          0.0021544346900318843,
          0.002364489412645407,
          0.002595024211399737,
          0.002848035868435802,
          0.0031257158496882354,
          0.003430469286314919,
          0.0037649358067924714,
          0.0041320124001153384,
          0.004534878508128582,
          0.004977023564332114,
          0.0054622772176843425,
          0.005994842503189409,
          0.006579332246575682,
          0.007220809018385471,
          0.007924828983539177,
          0.008697490026177835,
          0.009545484566618348,
          0.010476157527896652,
          0.011497569953977368,
          0.012618568830660211,
          0.013848863713938732,
          0.015199110829529346,
          0.016681005372000592,
          0.018307382802953697,
          0.02009233002565048,
          0.022051307399030457,
          0.024201282647943835,
          0.026560877829466867,
          0.02915053062825179,
          0.03199267137797385,
          0.03511191734215135,
          0.03853528593710531,
          0.04229242874389499,
          0.04641588833612782,
          0.0509413801481638,
          0.055908101825122285,
          0.061359072734131756,
          0.06734150657750829,
          0.07390722033525783,
          0.08111308307896872,
          0.08902150854450393,
          0.09770099572992257,
          0.10722672220103242,
          0.1176811952434999,
          0.1291549665014884,
          0.14174741629268062,
          0.15556761439304723,
          0.1707352647470692,
          0.1873817422860385,
          0.20565123083486536,
          0.22570197196339215,
          0.24770763559917114,
          0.2718588242732943,
          0.298364724028334,
          0.3274549162877732,
          0.3593813663804629,
          0.394420605943766,
          0.43287612810830617,
          0.4750810162102798,
          0.521400828799969,
          0.572236765935022,
          0.6280291441834259,
          0.6892612104349702,
          0.7564633275546291,
          0.8302175681319752,
          0.9111627561154896,
          1
         ],
         "y": [
          0.440360731830187,
          0.440360731830187,
          0.440360731830187,
          0.440360731830187,
          0.440360731830187,
          0.440360731830187,
          0.440360731830187,
          0.440360731830187,
          0.440360731830187,
          0.440360731830187,
          0.440360731830187,
          0.440360731830187,
          0.440360731830187,
          0.440360731830187,
          0.440360731830187,
          0.440360731830187,
          0.440360731830187,
          0.440360731830187,
          0.440360731830187,
          0.440360731830187,
          0.440360731830187,
          0.440360731830187,
          0.440360731830187,
          0.440360731830187,
          0.440360731830187,
          0.440360731830187,
          0.440360731830187,
          0.440360731830187,
          0.440360731830187,
          0.440360731830187,
          0.440360731830187,
          0.440360731830187,
          0.440360731830187,
          0.440360731830187,
          0.437607557873012,
          0.437607557873012,
          0.437607557873012,
          0.437607557873012,
          0.437607557873012,
          0.437607557873012,
          0.437607557873012,
          0.437607557873012,
          0.437607557873012,
          0.437607557873012,
          0.437607557873012,
          0.437607557873012,
          0.437607557873012,
          0.437607557873012,
          0.437607557873012,
          0.437607557873012,
          0.437607557873012,
          0.437607557873012,
          0.437607557873012,
          0.4351603197162468,
          0.4351603197162468,
          0.445153603602376,
          0.445153603602376,
          0.4405390259212939,
          0.4405390259212939,
          0.4405390259212939,
          0.4405390259212939,
          0.4405390259212939,
          0.43889404679985,
          0.44796967526026044,
          0.44796967526026044,
          0.44796967526026044,
          0.44796967526026044,
          0.4430131845927889,
          0.44385149907395804,
          0.44385149907395804,
          0.4512943979024017,
          0.44922502809405684,
          0.44922502809405684,
          0.4506809140649383,
          0.45748730964467005,
          0.45448476415085254,
          0.45931865498872204,
          0.45811098244756704,
          0.4617878193734884,
          0.46782127879430785,
          0.4781051852438577,
          0.47960447184039334,
          0.476198651047817,
          0.4705083407970622,
          0.4821413482233083,
          0.4779703478257163,
          0.4713281093027928,
          0.4765257761001814,
          0.48233023840676315,
          0.4877557101896439,
          0.48533570657700575,
          0.49057199641509475,
          0.48333557293486334,
          0.47410112519293773,
          0.4440909474803913,
          0.4204867075332736,
          0.40001374027446196,
          0.36802499222279184,
          0.32897466649235785,
          0.3129732701674679
         ]
        }
       ],
       "layout": {
        "template": {
         "data": {
          "bar": [
           {
            "error_x": {
             "color": "#2a3f5f"
            },
            "error_y": {
             "color": "#2a3f5f"
            },
            "marker": {
             "line": {
              "color": "#E5ECF6",
              "width": 0.5
             }
            },
            "type": "bar"
           }
          ],
          "barpolar": [
           {
            "marker": {
             "line": {
              "color": "#E5ECF6",
              "width": 0.5
             }
            },
            "type": "barpolar"
           }
          ],
          "carpet": [
           {
            "aaxis": {
             "endlinecolor": "#2a3f5f",
             "gridcolor": "white",
             "linecolor": "white",
             "minorgridcolor": "white",
             "startlinecolor": "#2a3f5f"
            },
            "baxis": {
             "endlinecolor": "#2a3f5f",
             "gridcolor": "white",
             "linecolor": "white",
             "minorgridcolor": "white",
             "startlinecolor": "#2a3f5f"
            },
            "type": "carpet"
           }
          ],
          "choropleth": [
           {
            "colorbar": {
             "outlinewidth": 0,
             "ticks": ""
            },
            "type": "choropleth"
           }
          ],
          "contour": [
           {
            "colorbar": {
             "outlinewidth": 0,
             "ticks": ""
            },
            "colorscale": [
             [
              0,
              "#0d0887"
             ],
             [
              0.1111111111111111,
              "#46039f"
             ],
             [
              0.2222222222222222,
              "#7201a8"
             ],
             [
              0.3333333333333333,
              "#9c179e"
             ],
             [
              0.4444444444444444,
              "#bd3786"
             ],
             [
              0.5555555555555556,
              "#d8576b"
             ],
             [
              0.6666666666666666,
              "#ed7953"
             ],
             [
              0.7777777777777778,
              "#fb9f3a"
             ],
             [
              0.8888888888888888,
              "#fdca26"
             ],
             [
              1,
              "#f0f921"
             ]
            ],
            "type": "contour"
           }
          ],
          "contourcarpet": [
           {
            "colorbar": {
             "outlinewidth": 0,
             "ticks": ""
            },
            "type": "contourcarpet"
           }
          ],
          "heatmap": [
           {
            "colorbar": {
             "outlinewidth": 0,
             "ticks": ""
            },
            "colorscale": [
             [
              0,
              "#0d0887"
             ],
             [
              0.1111111111111111,
              "#46039f"
             ],
             [
              0.2222222222222222,
              "#7201a8"
             ],
             [
              0.3333333333333333,
              "#9c179e"
             ],
             [
              0.4444444444444444,
              "#bd3786"
             ],
             [
              0.5555555555555556,
              "#d8576b"
             ],
             [
              0.6666666666666666,
              "#ed7953"
             ],
             [
              0.7777777777777778,
              "#fb9f3a"
             ],
             [
              0.8888888888888888,
              "#fdca26"
             ],
             [
              1,
              "#f0f921"
             ]
            ],
            "type": "heatmap"
           }
          ],
          "heatmapgl": [
           {
            "colorbar": {
             "outlinewidth": 0,
             "ticks": ""
            },
            "colorscale": [
             [
              0,
              "#0d0887"
             ],
             [
              0.1111111111111111,
              "#46039f"
             ],
             [
              0.2222222222222222,
              "#7201a8"
             ],
             [
              0.3333333333333333,
              "#9c179e"
             ],
             [
              0.4444444444444444,
              "#bd3786"
             ],
             [
              0.5555555555555556,
              "#d8576b"
             ],
             [
              0.6666666666666666,
              "#ed7953"
             ],
             [
              0.7777777777777778,
              "#fb9f3a"
             ],
             [
              0.8888888888888888,
              "#fdca26"
             ],
             [
              1,
              "#f0f921"
             ]
            ],
            "type": "heatmapgl"
           }
          ],
          "histogram": [
           {
            "marker": {
             "colorbar": {
              "outlinewidth": 0,
              "ticks": ""
             }
            },
            "type": "histogram"
           }
          ],
          "histogram2d": [
           {
            "colorbar": {
             "outlinewidth": 0,
             "ticks": ""
            },
            "colorscale": [
             [
              0,
              "#0d0887"
             ],
             [
              0.1111111111111111,
              "#46039f"
             ],
             [
              0.2222222222222222,
              "#7201a8"
             ],
             [
              0.3333333333333333,
              "#9c179e"
             ],
             [
              0.4444444444444444,
              "#bd3786"
             ],
             [
              0.5555555555555556,
              "#d8576b"
             ],
             [
              0.6666666666666666,
              "#ed7953"
             ],
             [
              0.7777777777777778,
              "#fb9f3a"
             ],
             [
              0.8888888888888888,
              "#fdca26"
             ],
             [
              1,
              "#f0f921"
             ]
            ],
            "type": "histogram2d"
           }
          ],
          "histogram2dcontour": [
           {
            "colorbar": {
             "outlinewidth": 0,
             "ticks": ""
            },
            "colorscale": [
             [
              0,
              "#0d0887"
             ],
             [
              0.1111111111111111,
              "#46039f"
             ],
             [
              0.2222222222222222,
              "#7201a8"
             ],
             [
              0.3333333333333333,
              "#9c179e"
             ],
             [
              0.4444444444444444,
              "#bd3786"
             ],
             [
              0.5555555555555556,
              "#d8576b"
             ],
             [
              0.6666666666666666,
              "#ed7953"
             ],
             [
              0.7777777777777778,
              "#fb9f3a"
             ],
             [
              0.8888888888888888,
              "#fdca26"
             ],
             [
              1,
              "#f0f921"
             ]
            ],
            "type": "histogram2dcontour"
           }
          ],
          "mesh3d": [
           {
            "colorbar": {
             "outlinewidth": 0,
             "ticks": ""
            },
            "type": "mesh3d"
           }
          ],
          "parcoords": [
           {
            "line": {
             "colorbar": {
              "outlinewidth": 0,
              "ticks": ""
             }
            },
            "type": "parcoords"
           }
          ],
          "pie": [
           {
            "automargin": true,
            "type": "pie"
           }
          ],
          "scatter": [
           {
            "marker": {
             "colorbar": {
              "outlinewidth": 0,
              "ticks": ""
             }
            },
            "type": "scatter"
           }
          ],
          "scatter3d": [
           {
            "line": {
             "colorbar": {
              "outlinewidth": 0,
              "ticks": ""
             }
            },
            "marker": {
             "colorbar": {
              "outlinewidth": 0,
              "ticks": ""
             }
            },
            "type": "scatter3d"
           }
          ],
          "scattercarpet": [
           {
            "marker": {
             "colorbar": {
              "outlinewidth": 0,
              "ticks": ""
             }
            },
            "type": "scattercarpet"
           }
          ],
          "scattergeo": [
           {
            "marker": {
             "colorbar": {
              "outlinewidth": 0,
              "ticks": ""
             }
            },
            "type": "scattergeo"
           }
          ],
          "scattergl": [
           {
            "marker": {
             "colorbar": {
              "outlinewidth": 0,
              "ticks": ""
             }
            },
            "type": "scattergl"
           }
          ],
          "scattermapbox": [
           {
            "marker": {
             "colorbar": {
              "outlinewidth": 0,
              "ticks": ""
             }
            },
            "type": "scattermapbox"
           }
          ],
          "scatterpolar": [
           {
            "marker": {
             "colorbar": {
              "outlinewidth": 0,
              "ticks": ""
             }
            },
            "type": "scatterpolar"
           }
          ],
          "scatterpolargl": [
           {
            "marker": {
             "colorbar": {
              "outlinewidth": 0,
              "ticks": ""
             }
            },
            "type": "scatterpolargl"
           }
          ],
          "scatterternary": [
           {
            "marker": {
             "colorbar": {
              "outlinewidth": 0,
              "ticks": ""
             }
            },
            "type": "scatterternary"
           }
          ],
          "surface": [
           {
            "colorbar": {
             "outlinewidth": 0,
             "ticks": ""
            },
            "colorscale": [
             [
              0,
              "#0d0887"
             ],
             [
              0.1111111111111111,
              "#46039f"
             ],
             [
              0.2222222222222222,
              "#7201a8"
             ],
             [
              0.3333333333333333,
              "#9c179e"
             ],
             [
              0.4444444444444444,
              "#bd3786"
             ],
             [
              0.5555555555555556,
              "#d8576b"
             ],
             [
              0.6666666666666666,
              "#ed7953"
             ],
             [
              0.7777777777777778,
              "#fb9f3a"
             ],
             [
              0.8888888888888888,
              "#fdca26"
             ],
             [
              1,
              "#f0f921"
             ]
            ],
            "type": "surface"
           }
          ],
          "table": [
           {
            "cells": {
             "fill": {
              "color": "#EBF0F8"
             },
             "line": {
              "color": "white"
             }
            },
            "header": {
             "fill": {
              "color": "#C8D4E3"
             },
             "line": {
              "color": "white"
             }
            },
            "type": "table"
           }
          ]
         },
         "layout": {
          "annotationdefaults": {
           "arrowcolor": "#2a3f5f",
           "arrowhead": 0,
           "arrowwidth": 1
          },
          "autotypenumbers": "strict",
          "coloraxis": {
           "colorbar": {
            "outlinewidth": 0,
            "ticks": ""
           }
          },
          "colorscale": {
           "diverging": [
            [
             0,
             "#8e0152"
            ],
            [
             0.1,
             "#c51b7d"
            ],
            [
             0.2,
             "#de77ae"
            ],
            [
             0.3,
             "#f1b6da"
            ],
            [
             0.4,
             "#fde0ef"
            ],
            [
             0.5,
             "#f7f7f7"
            ],
            [
             0.6,
             "#e6f5d0"
            ],
            [
             0.7,
             "#b8e186"
            ],
            [
             0.8,
             "#7fbc41"
            ],
            [
             0.9,
             "#4d9221"
            ],
            [
             1,
             "#276419"
            ]
           ],
           "sequential": [
            [
             0,
             "#0d0887"
            ],
            [
             0.1111111111111111,
             "#46039f"
            ],
            [
             0.2222222222222222,
             "#7201a8"
            ],
            [
             0.3333333333333333,
             "#9c179e"
            ],
            [
             0.4444444444444444,
             "#bd3786"
            ],
            [
             0.5555555555555556,
             "#d8576b"
            ],
            [
             0.6666666666666666,
             "#ed7953"
            ],
            [
             0.7777777777777778,
             "#fb9f3a"
            ],
            [
             0.8888888888888888,
             "#fdca26"
            ],
            [
             1,
             "#f0f921"
            ]
           ],
           "sequentialminus": [
            [
             0,
             "#0d0887"
            ],
            [
             0.1111111111111111,
             "#46039f"
            ],
            [
             0.2222222222222222,
             "#7201a8"
            ],
            [
             0.3333333333333333,
             "#9c179e"
            ],
            [
             0.4444444444444444,
             "#bd3786"
            ],
            [
             0.5555555555555556,
             "#d8576b"
            ],
            [
             0.6666666666666666,
             "#ed7953"
            ],
            [
             0.7777777777777778,
             "#fb9f3a"
            ],
            [
             0.8888888888888888,
             "#fdca26"
            ],
            [
             1,
             "#f0f921"
            ]
           ]
          },
          "colorway": [
           "#636efa",
           "#EF553B",
           "#00cc96",
           "#ab63fa",
           "#FFA15A",
           "#19d3f3",
           "#FF6692",
           "#B6E880",
           "#FF97FF",
           "#FECB52"
          ],
          "font": {
           "color": "#2a3f5f"
          },
          "geo": {
           "bgcolor": "white",
           "lakecolor": "white",
           "landcolor": "#E5ECF6",
           "showlakes": true,
           "showland": true,
           "subunitcolor": "white"
          },
          "hoverlabel": {
           "align": "left"
          },
          "hovermode": "closest",
          "mapbox": {
           "style": "light"
          },
          "paper_bgcolor": "white",
          "plot_bgcolor": "#E5ECF6",
          "polar": {
           "angularaxis": {
            "gridcolor": "white",
            "linecolor": "white",
            "ticks": ""
           },
           "bgcolor": "#E5ECF6",
           "radialaxis": {
            "gridcolor": "white",
            "linecolor": "white",
            "ticks": ""
           }
          },
          "scene": {
           "xaxis": {
            "backgroundcolor": "#E5ECF6",
            "gridcolor": "white",
            "gridwidth": 2,
            "linecolor": "white",
            "showbackground": true,
            "ticks": "",
            "zerolinecolor": "white"
           },
           "yaxis": {
            "backgroundcolor": "#E5ECF6",
            "gridcolor": "white",
            "gridwidth": 2,
            "linecolor": "white",
            "showbackground": true,
            "ticks": "",
            "zerolinecolor": "white"
           },
           "zaxis": {
            "backgroundcolor": "#E5ECF6",
            "gridcolor": "white",
            "gridwidth": 2,
            "linecolor": "white",
            "showbackground": true,
            "ticks": "",
            "zerolinecolor": "white"
           }
          },
          "shapedefaults": {
           "line": {
            "color": "#2a3f5f"
           }
          },
          "ternary": {
           "aaxis": {
            "gridcolor": "white",
            "linecolor": "white",
            "ticks": ""
           },
           "baxis": {
            "gridcolor": "white",
            "linecolor": "white",
            "ticks": ""
           },
           "bgcolor": "#E5ECF6",
           "caxis": {
            "gridcolor": "white",
            "linecolor": "white",
            "ticks": ""
           }
          },
          "title": {
           "x": 0.05
          },
          "xaxis": {
           "automargin": true,
           "gridcolor": "white",
           "linecolor": "white",
           "ticks": "",
           "title": {
            "standoff": 15
           },
           "zerolinecolor": "white",
           "zerolinewidth": 2
          },
          "yaxis": {
           "automargin": true,
           "gridcolor": "white",
           "linecolor": "white",
           "ticks": "",
           "title": {
            "standoff": 15
           },
           "zerolinecolor": "white",
           "zerolinewidth": 2
          }
         }
        },
        "xaxis": {
         "title": {
          "text": "Draw Size"
         }
        },
        "yaxis": {
         "title": {
          "text": "F1 Score"
         }
        }
       }
      }
     },
     "metadata": {}
    }
   ],
   "source": [
    "fig = go.Figure(data=go.Scatter(x=draw_sizes, y=f1_list))\n",
    "fig.update_layout(xaxis_title='Draw Size', yaxis_title='F1 Score')\n",
    "fig.write_image(\"images/result_f1_draw_size.png\")\n",
    "fig.show()"
   ]
  },
  {
   "cell_type": "code",
   "execution_count": null,
   "metadata": {},
   "outputs": [],
   "source": []
  }
 ]
}