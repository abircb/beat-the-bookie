{
 "cells": [
  {
   "cell_type": "markdown",
   "metadata": {},
   "source": [
    "# COMP0036: Group Coursework \n",
    "\n",
    "## Beat the Bookie\n",
    "\n",
    "`<insert Introduction here>`"
   ]
  },
  {
   "cell_type": "markdown",
   "metadata": {},
   "source": [
    "### Package Import"
   ]
  },
  {
   "cell_type": "code",
   "execution_count": 5,
   "metadata": {},
   "outputs": [],
   "source": [
    "import os\n",
    "import sys\n",
    "\n",
    "#Standard Python libraries for data and visualisation\n",
    "import numpy as np\n",
    "import pandas as pd\n",
    "import matplotlib.pyplot as plt\n",
    "\n",
    "#Import models\n",
    "from sklearn.ensemble import RandomForestRegressor\n",
    "\n",
    "#Import error metric\n",
    "from sklearn.metrics import mean_squared_error, mean_absolute_error, r2_score\n",
    "\n",
    "#Import data munging tools\n",
    "from sklearn.model_selection import train_test_split\n",
    "from sklearn.preprocessing import StandardScaler\n",
    "from sklearn.preprocessing import PolynomialFeatures\n",
    "\n",
    "#Display charts in the notebook\n",
    "%matplotlib inline"
   ]
  },
  {
   "cell_type": "markdown",
   "metadata": {},
   "source": [
    "### Data Import\n",
    "``<insert a brief description of our datasets here>``"
   ]
  },
  {
   "cell_type": "markdown",
   "metadata": {},
   "source": [
    "### Shots xG model"
   ]
  },
  {
   "cell_type": "markdown",
   "metadata": {},
   "source": [
    "### Non-shots xG model"
   ]
  },
  {
   "cell_type": "markdown",
   "metadata": {},
   "source": [
    "#### Load Data\n",
    "\n",
    "For the non-shot-based expected goals (xG) model, we have obtained a dataset from [football-data.co.uk] (https://www.football-data.co.uk/) consisting of football match information over the past 10+ years. We have reduced this dataset to data from the last 5 seasons (including the current one), i.e., __2016-2021__. This version contains 1684 samples, each of which consists of 12 features and 2 labels of the full time home team goals (FTHG) and the full time away team goals (FTAG). The features are:\n",
    "\n",
    "1. GameID = Unique ID for the match\n",
    "2. Date = Match Date (dd/mm/yy)\n",
    "3. HomeTeam = Home Team\n",
    "4. AwayTeam = Away Team\n",
    "5. Referee = Match Referee\n",
    "6. HC = Home Team Corners\n",
    "7. AC = Away Team Corners\n",
    "8. HF = Home Team Fouls Committed\n",
    "9. AF = Away Team Fouls Committed\n",
    "10. HY = Home Team Yellow Cards\n",
    "11. AY = Away Team Yellow Cards\n",
    "12. HR = Home Team Red Cards\n",
    "13. AR = Away Team Red Cards"
   ]
  },
  {
   "cell_type": "code",
   "execution_count": 9,
   "metadata": {},
   "outputs": [],
   "source": [
    "DATASET_PATH = os.path.join(os.getcwd(), \"data/non-shot-xG/non_shot_data.csv\")\n",
    "complete_data = pd.read_csv(DATASET_PATH)"
   ]
  },
  {
   "cell_type": "code",
   "execution_count": 10,
   "metadata": {},
   "outputs": [
    {
     "data": {
      "text/html": [
       "<div>\n",
       "<style scoped>\n",
       "    .dataframe tbody tr th:only-of-type {\n",
       "        vertical-align: middle;\n",
       "    }\n",
       "\n",
       "    .dataframe tbody tr th {\n",
       "        vertical-align: top;\n",
       "    }\n",
       "\n",
       "    .dataframe thead th {\n",
       "        text-align: right;\n",
       "    }\n",
       "</style>\n",
       "<table border=\"1\" class=\"dataframe\">\n",
       "  <thead>\n",
       "    <tr style=\"text-align: right;\">\n",
       "      <th></th>\n",
       "      <th>GameID</th>\n",
       "      <th>Date</th>\n",
       "      <th>HomeTeam</th>\n",
       "      <th>AwayTeam</th>\n",
       "      <th>Referee</th>\n",
       "      <th>HC</th>\n",
       "      <th>AC</th>\n",
       "      <th>HF</th>\n",
       "      <th>AF</th>\n",
       "      <th>HY</th>\n",
       "      <th>AY</th>\n",
       "      <th>HR</th>\n",
       "      <th>AR</th>\n",
       "    </tr>\n",
       "  </thead>\n",
       "  <tbody>\n",
       "    <tr>\n",
       "      <th>0</th>\n",
       "      <td>1</td>\n",
       "      <td>13/08/16</td>\n",
       "      <td>Burnley</td>\n",
       "      <td>Swansea</td>\n",
       "      <td>J Moss</td>\n",
       "      <td>7</td>\n",
       "      <td>4</td>\n",
       "      <td>10</td>\n",
       "      <td>14</td>\n",
       "      <td>3</td>\n",
       "      <td>2</td>\n",
       "      <td>0</td>\n",
       "      <td>0</td>\n",
       "    </tr>\n",
       "    <tr>\n",
       "      <th>1</th>\n",
       "      <td>2</td>\n",
       "      <td>13/08/16</td>\n",
       "      <td>Crystal Palace</td>\n",
       "      <td>West Brom</td>\n",
       "      <td>C Pawson</td>\n",
       "      <td>3</td>\n",
       "      <td>6</td>\n",
       "      <td>12</td>\n",
       "      <td>15</td>\n",
       "      <td>2</td>\n",
       "      <td>2</td>\n",
       "      <td>0</td>\n",
       "      <td>0</td>\n",
       "    </tr>\n",
       "    <tr>\n",
       "      <th>2</th>\n",
       "      <td>3</td>\n",
       "      <td>13/08/16</td>\n",
       "      <td>Everton</td>\n",
       "      <td>Tottenham</td>\n",
       "      <td>M Atkinson</td>\n",
       "      <td>5</td>\n",
       "      <td>6</td>\n",
       "      <td>10</td>\n",
       "      <td>14</td>\n",
       "      <td>0</td>\n",
       "      <td>0</td>\n",
       "      <td>0</td>\n",
       "      <td>0</td>\n",
       "    </tr>\n",
       "    <tr>\n",
       "      <th>3</th>\n",
       "      <td>4</td>\n",
       "      <td>13/08/16</td>\n",
       "      <td>Hull</td>\n",
       "      <td>Leicester</td>\n",
       "      <td>M Dean</td>\n",
       "      <td>5</td>\n",
       "      <td>3</td>\n",
       "      <td>8</td>\n",
       "      <td>17</td>\n",
       "      <td>2</td>\n",
       "      <td>2</td>\n",
       "      <td>0</td>\n",
       "      <td>0</td>\n",
       "    </tr>\n",
       "    <tr>\n",
       "      <th>4</th>\n",
       "      <td>5</td>\n",
       "      <td>13/08/16</td>\n",
       "      <td>Man City</td>\n",
       "      <td>Sunderland</td>\n",
       "      <td>R Madley</td>\n",
       "      <td>9</td>\n",
       "      <td>6</td>\n",
       "      <td>11</td>\n",
       "      <td>14</td>\n",
       "      <td>1</td>\n",
       "      <td>2</td>\n",
       "      <td>0</td>\n",
       "      <td>0</td>\n",
       "    </tr>\n",
       "  </tbody>\n",
       "</table>\n",
       "</div>"
      ],
      "text/plain": [
       "   GameID      Date        HomeTeam    AwayTeam     Referee  HC  AC  HF  AF  \\\n",
       "0       1  13/08/16         Burnley     Swansea      J Moss   7   4  10  14   \n",
       "1       2  13/08/16  Crystal Palace   West Brom    C Pawson   3   6  12  15   \n",
       "2       3  13/08/16         Everton   Tottenham  M Atkinson   5   6  10  14   \n",
       "3       4  13/08/16            Hull   Leicester      M Dean   5   3   8  17   \n",
       "4       5  13/08/16        Man City  Sunderland    R Madley   9   6  11  14   \n",
       "\n",
       "   HY  AY  HR  AR  \n",
       "0   3   2   0   0  \n",
       "1   2   2   0   0  \n",
       "2   0   0   0   0  \n",
       "3   2   2   0   0  \n",
       "4   1   2   0   0  "
      ]
     },
     "execution_count": 10,
     "metadata": {},
     "output_type": "execute_result"
    }
   ],
   "source": [
    "complete_data.head()"
   ]
  },
  {
   "cell_type": "markdown",
   "metadata": {},
   "source": [
    "### Data Transformation and Exploration\n",
    "``<insert a brief description of our preperation and standardisation process here>``"
   ]
  },
  {
   "cell_type": "markdown",
   "metadata": {},
   "source": [
    "### Shots xG model"
   ]
  },
  {
   "cell_type": "markdown",
   "metadata": {},
   "source": [
    "### Non-shots xG model"
   ]
  },
  {
   "cell_type": "markdown",
   "metadata": {},
   "source": [
    "Now we will take a look at different features — sanitise and standardise them for use in other models.\n",
    "\n",
    "1. Dropping columns that are not essential to train our model."
   ]
  },
  {
   "cell_type": "code",
   "execution_count": 16,
   "metadata": {},
   "outputs": [],
   "source": [
    "general_training_data = complete_data.drop(['GameID','Date'], axis=1)"
   ]
  },
  {
   "cell_type": "markdown",
   "metadata": {},
   "source": [
    "2. Standardise names of the teams and referees"
   ]
  },
  {
   "cell_type": "markdown",
   "metadata": {},
   "source": [
    "### Methodology Overview\n",
    "``Pipeline overview``"
   ]
  },
  {
   "cell_type": "markdown",
   "metadata": {},
   "source": [
    "### Model training and validation\n",
    "\n",
    "### Shots xG model"
   ]
  },
  {
   "cell_type": "markdown",
   "metadata": {},
   "source": [
    "### Non-shots xG model"
   ]
  },
  {
   "cell_type": "markdown",
   "metadata": {},
   "source": [
    "### ELO Rating classifier"
   ]
  },
  {
   "cell_type": "code",
   "execution_count": null,
   "metadata": {},
   "outputs": [],
   "source": [
    "class GoalElo:\n",
    "    def __init__(self, initial_rating=0, learning_rate=0.05, draw_size=0.5):\n",
    "        self.offensive_ratings = defaultdict(lambda: initial_rating)\n",
    "        self.defensive_ratings = defaultdict(lambda: initial_rating)\n",
    "        self.match_count = defaultdict(lambda: 0)\n",
    "        self.learning_rate = learning_rate\n",
    "        self.draw_size = draw_size\n",
    "\n",
    "    def predict(self, team, opponent):\n",
    "        ''' Predicts the number of goals team will score against opponent. '''\n",
    "        return self.offensive_ratings[team] - self.defensive_ratings[opponent]\n",
    "\n",
    "    def predict_result(self, team, opponent):\n",
    "        ''' Predicts the result of a match. 1 if team wins, 0 if opponent wins and 0.5 if it is a draw. '''\n",
    "        goals_scored = self.predict(team, opponent)\n",
    "        goals_conceded = self.predict(opponent, team)\n",
    "        return self.classify_result(goals_scored, goals_conceded)\n",
    "\n",
    "    def classify_result(self, goals_scored, goals_conceded):\n",
    "        ''' Piecewise function to predict result from number of goals '''\n",
    "        goal_difference = goals_scored - goals_conceded\n",
    "        # result = round(1 / (1 + 10**(-goal_difference)))\n",
    "        result = 1 if goal_difference > 0 else 0\n",
    "        if abs(goal_difference) < self.draw_size:\n",
    "            result = 0.5\n",
    "        return result\n",
    "\n",
    "\n",
    "    def predict_data(self, df):\n",
    "        ''' Takes a data frame of home and away teams to predict the number of goals and result of '''\n",
    "        out = df.copy()\n",
    "        for i, row in out.iterrows():\n",
    "            out.at[i, 'EHG'] = self.predict(row['HomeTeam'], row['AwayTeam'])\n",
    "            out.at[i, 'EAG'] = self.predict(row['AwayTeam'], row['HomeTeam'])\n",
    "            out.at[i, 'ER'] = decode_result(self.predict_result(row['HomeTeam'], row['AwayTeam']))\n",
    "        return out\n",
    "\n",
    "    def update_match(self, home, away, home_actual_goals, away_actual_goals):\n",
    "        ''' Updates the offensive and defensive ratings of both teams in a match. '''\n",
    "        home_expected_goals = self.predict(home, away)\n",
    "        away_expected_goals = self.predict(away, home)\n",
    "        self.offensive_ratings[home] += self.learning_rate * (home_actual_goals - home_expected_goals)\n",
    "        self.offensive_ratings[away] += self.learning_rate * (away_actual_goals - away_expected_goals)\n",
    "        self.defensive_ratings[home] += self.learning_rate * (away_expected_goals - away_actual_goals)\n",
    "        self.defensive_ratings[away] += self.learning_rate * (home_expected_goals - home_actual_goals)\n",
    "        self.match_count[home] += 1\n",
    "        self.match_count[away] += 1\n",
    "\n",
    "    def ratings_dataframe(self):\n",
    "        ''' Creates an easy to read dataframe of the ratings '''\n",
    "        df = pd.DataFrame(self.offensive_ratings.items(), columns=['Team', 'Offensive Rating'])\n",
    "        df['Defensive Rating'] = df['Team'].map(self.defensive_ratings)\n",
    "        df['Matches'] = df['Team'].map(self.match_count)\n",
    "        df = df.sort_values('Offensive Rating', ascending=False)\n",
    "        return df\n",
    "\n",
    "    def fit(self, df):\n",
    "        ''' Takes a data frame of matches with columns HomeTeam, AwayTeam, Predicted FTHG, Predicted FTAG and updates teams ratings using the data in order. '''\n",
    "        for i, row in df.iterrows():\n",
    "            if 'Predicted FTHG' in row:\n",
    "                self.update_match(row['HomeTeam'], row['AwayTeam'], row['Predicted FTHG'], row['Predicted FTAG'])\n",
    "            else:\n",
    "                self.update_match(row['HomeTeam'], row['AwayTeam'], row['FTHG'], row['FTAG'])\n"
   ]
  },
  {
   "cell_type": "code",
   "execution_count": null,
   "metadata": {},
   "outputs": [],
   "source": [
    "# Train elo ratings\n",
    "goal_elo = GoalElo()\n",
    "goal_elo.fit(training)\n"
   ]
  },
  {
   "cell_type": "code",
   "execution_count": null,
   "metadata": {},
   "outputs": [],
   "source": [
    "# Predict number of goals for use in training result classifier\n",
    "goal_predicted_data = goal_elo.predict_data(training)\n",
    "\n",
    "X = np.array([data['EHG'].to_numpy(), data['EAG'].to_numpy()]).T\n",
    "y = data['FTR'].to_numpy()\n",
    "# y = [decode_result(r) for r in data['FTR'].to_numpy()]\n",
    "\n",
    "# Train classifier to predict result from number of goals\n",
    "goal_result_classifier = SVC(gamma='auto')\n",
    "goal_result_classifier.fit(X, y)"
   ]
  },
  {
   "cell_type": "code",
   "execution_count": null,
   "metadata": {},
   "outputs": [],
   "source": [
    "# Predict number of goals scored using goal_elo\n",
    "goal_prediction = goal_elo.predict_data(test)\n",
    "X_test = np.array([goal_prediction['EHG'].to_numpy(), goal_prediction['EAG'].to_numpy()]).T\n",
    "y_test = goal_prediction['FTR'].to_numpy()\n",
    "# Predict result using SVC and elo predicted number of goals\n",
    "y_pred = model.predict(X_test)\n",
    "# Predict result using piecewise function and elo predicted number of goals\n",
    "y_pred2 = goal_prediction['ER'].to_numpy()\n",
    "\n",
    "# Measure accuracy\n",
    "print(\"Accuracy:\")\n",
    "print(\"DS: \", accuracy_score(y_test, y_pred2))\n",
    "print(\"SVC: \", accuracy_score(y_test, y_pred))\n",
    "\n",
    "# Measure f1 score\n",
    "print(\"F1 Score:\")\n",
    "print(\"DS: \", f1_score(y_test, y_pred2, average='weighted'))\n",
    "print(\"SVC: \", f1_score(y_test, y_pred, average='weighted'))"
   ]
  },
  {
   "cell_type": "markdown",
   "metadata": {},
   "source": [
    "### Results\n",
    "\n",
    "``<insert model tests here>``"
   ]
  },
  {
   "cell_type": "markdown",
   "metadata": {},
   "source": [
    "### Final predictions"
   ]
  },
  {
   "cell_type": "code",
   "execution_count": null,
   "metadata": {},
   "outputs": [],
   "source": []
  }
 ],
 "metadata": {
  "kernelspec": {
   "display_name": "Python 3",
   "language": "python",
   "name": "python3"
  },
  "language_info": {
   "codemirror_mode": {
    "name": "ipython",
    "version": 3
   },
   "file_extension": ".py",
   "mimetype": "text/x-python",
   "name": "python",
   "nbconvert_exporter": "python",
   "pygments_lexer": "ipython3",
   "version": "3.7.9"
  }
 },
 "nbformat": 4,
 "nbformat_minor": 4
}