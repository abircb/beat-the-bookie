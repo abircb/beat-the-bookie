{
 "cells": [
  {
   "cell_type": "markdown",
   "metadata": {},
   "source": [
    "# COMP0036: Group Coursework \n",
    "\n",
    "## Beat the Bookie\n",
    "\n",
    "`<insert Introduction here>`"
   ]
  },
  {
   "cell_type": "markdown",
   "metadata": {},
   "source": [
    "### Package Import"
   ]
  },
  {
   "cell_type": "code",
   "execution_count": 30,
   "metadata": {},
   "outputs": [],
   "source": [
    "import os\n",
    "import sys\n",
    "import re\n",
    "from math import ceil\n",
    "from IPython.core.display import HTML\n",
    "import random\n",
    "from collections import defaultdict\n",
    "\n",
    "#Standard Python libraries for data and visualisation\n",
    "import numpy as np\n",
    "import pandas as pd\n",
    "import matplotlib.pyplot as plt\n",
    "import plotly.express as px\n",
    "\n",
    "#Import models\n",
    "from sklearn.ensemble import RandomForestRegressor\n",
    "from sklearn.naive_bayes import GaussianNB\n",
    "from sklearn.linear_model import LogisticRegression\n",
    "from sklearn.neighbors import KNeighborsClassifier\n",
    "from sklearn.ensemble import GradientBoostingClassifier\n",
    "from sklearn.svm import SVC\n",
    "from sklearn.model_selection import GridSearchCV, PredefinedSplit, KFold\n",
    "from sklearn.metrics import make_scorer\n",
    "\n",
    "#Import error metric\n",
    "from sklearn.metrics import mean_squared_error, mean_absolute_error, r2_score, f1_score, accuracy_score\n",
    "\n",
    "#Import data munging tools\n",
    "from sklearn.model_selection import train_test_split\n",
    "from sklearn.preprocessing import StandardScaler\n",
    "from sklearn.preprocessing import PolynomialFeatures\n",
    "\n",
    "#Display charts in the notebook\n",
    "%matplotlib inline"
   ]
  },
  {
   "cell_type": "markdown",
   "metadata": {},
   "source": [
    "### Data Import\n",
    "``<insert a brief description of our datasets here>``"
   ]
  },
  {
   "cell_type": "markdown",
   "metadata": {},
   "source": [
    "### Shots xG model"
   ]
  },
  {
   "cell_type": "markdown",
   "metadata": {},
   "source": [
    "The shot-based-data for predicting expected goals (xG) model, data was obtained from https://fbref.com. The data obtained consists of shots made in the match and match highlights at MAKO (minute after kick-off). \n",
    "Shot data was limited to the last 4 seasons, i.e., <b>2017-2021</b>.\n",
    "The data was scraped off the webpage with a custom built scraper.\n",
    "The scraper is available at ... insert here\n",
    "\n",
    "Currently our data contains the following values:\n",
    "    <li><b>Minute</b>: mins after kick-off shot took place, mis after the first half have 100 added to them.</li> \n",
    "    <li><b>Player</b>: player making the shot</li>\n",
    "    <li><b>Squad</b>: squad the player is from</li>\n",
    "    <li><b>Against</b>: squad against which shot is made</li>\n",
    "    <li><b>Outcome</b>: whether a shot is a goal|blocked|saved|etc.</li>\n",
    "    <li><b>Distance</b>: distance from the goal-post the shot was made</li>\n",
    "    <li><b>Body Part</b>: body part used to make the shot</li>\n",
    "    <li><b>Notes</b>: what kind of shot it was e.g. header|volley|etc.</li>\n",
    "    <li><b>SCA 1 Player</b>: player inducing event leading to shot</li> \n",
    "    <li><b>SCA 1 Event</b>: event leading to shot</li>\n",
    "    <li><b>SCA 2 Player</b>: player inducing event leading to 'SCA 1 Event'</li>\n",
    "    <li><b>SCA 2 Event</b>: event leading to 'SCA 1 Event'</li>\n",
    "    <li><b>Timestamp</b>: time and date of the kick-off</li>\n",
    "    <li><b>Score</b>: score of the squad at the time of the shot being taken</li>\n",
    "    <li><b>Player Advantage</b>: whether the squad has more players than the other</li>\n",
    "    <li><b>Threat</b>: threat level of the player making the shot</li>"
   ]
  },
  {
   "cell_type": "code",
   "execution_count": 425,
   "metadata": {},
   "outputs": [],
   "source": [
    "shot_data = pd.read_csv('data/fantasy-league/shot_data.csv', index_col=0)"
   ]
  },
  {
   "cell_type": "code",
   "execution_count": 426,
   "metadata": {},
   "outputs": [
    {
     "data": {
      "text/html": [
       "<div>\n",
       "<style scoped>\n",
       "    .dataframe tbody tr th:only-of-type {\n",
       "        vertical-align: middle;\n",
       "    }\n",
       "\n",
       "    .dataframe tbody tr th {\n",
       "        vertical-align: top;\n",
       "    }\n",
       "\n",
       "    .dataframe thead th {\n",
       "        text-align: right;\n",
       "    }\n",
       "</style>\n",
       "<table border=\"1\" class=\"dataframe\">\n",
       "  <thead>\n",
       "    <tr style=\"text-align: right;\">\n",
       "      <th></th>\n",
       "      <th>Timestamp</th>\n",
       "      <th>Score</th>\n",
       "      <th>Player Advantage</th>\n",
       "      <th>Minute</th>\n",
       "      <th>Player</th>\n",
       "      <th>Squad</th>\n",
       "      <th>Against</th>\n",
       "      <th>Outcome</th>\n",
       "      <th>Distance</th>\n",
       "      <th>Body Part</th>\n",
       "      <th>Notes</th>\n",
       "      <th>SCA 1 Player</th>\n",
       "      <th>SCA 1 Event</th>\n",
       "      <th>SCA 2 Player</th>\n",
       "      <th>SCA 2 Event</th>\n",
       "      <th>Threat</th>\n",
       "    </tr>\n",
       "  </thead>\n",
       "  <tbody>\n",
       "    <tr>\n",
       "      <th>0</th>\n",
       "      <td>2016-08-13 12:30:00</td>\n",
       "      <td>0.0</td>\n",
       "      <td>0.0</td>\n",
       "      <td>147</td>\n",
       "      <td>Riyad Mahrez</td>\n",
       "      <td>Leicester City</td>\n",
       "      <td>Hull City</td>\n",
       "      <td>Goal</td>\n",
       "      <td>NaN</td>\n",
       "      <td>NaN</td>\n",
       "      <td>Penalty Kick</td>\n",
       "      <td>Goal</td>\n",
       "      <td>NaN</td>\n",
       "      <td>NaN</td>\n",
       "      <td>NaN</td>\n",
       "      <td>720.0</td>\n",
       "    </tr>\n",
       "    <tr>\n",
       "      <th>1</th>\n",
       "      <td>2016-08-13 17:30:00</td>\n",
       "      <td>1.0</td>\n",
       "      <td>0.0</td>\n",
       "      <td>4</td>\n",
       "      <td>Sergio Agüero</td>\n",
       "      <td>Manchester City</td>\n",
       "      <td>Sunderland</td>\n",
       "      <td>Goal</td>\n",
       "      <td>NaN</td>\n",
       "      <td>NaN</td>\n",
       "      <td>Penalty Kick</td>\n",
       "      <td>—</td>\n",
       "      <td>NaN</td>\n",
       "      <td>NaN</td>\n",
       "      <td>NaN</td>\n",
       "      <td>720.0</td>\n",
       "    </tr>\n",
       "    <tr>\n",
       "      <th>2</th>\n",
       "      <td>2016-08-15 20:00:00</td>\n",
       "      <td>1.0</td>\n",
       "      <td>0.0</td>\n",
       "      <td>147</td>\n",
       "      <td>Eden Hazard</td>\n",
       "      <td>Chelsea</td>\n",
       "      <td>West Ham United</td>\n",
       "      <td>Goal</td>\n",
       "      <td>NaN</td>\n",
       "      <td>NaN</td>\n",
       "      <td>Penalty Kick</td>\n",
       "      <td>Yellow Card</td>\n",
       "      <td>NaN</td>\n",
       "      <td>NaN</td>\n",
       "      <td>NaN</td>\n",
       "      <td>627.0</td>\n",
       "    </tr>\n",
       "    <tr>\n",
       "      <th>3</th>\n",
       "      <td>2016-08-19 20:00:00</td>\n",
       "      <td>2.0</td>\n",
       "      <td>0.0</td>\n",
       "      <td>152</td>\n",
       "      <td>Zlatan Ibrahimović</td>\n",
       "      <td>Manchester United</td>\n",
       "      <td>Southampton</td>\n",
       "      <td>Goal</td>\n",
       "      <td>NaN</td>\n",
       "      <td>NaN</td>\n",
       "      <td>Penalty Kick</td>\n",
       "      <td>Goal</td>\n",
       "      <td>NaN</td>\n",
       "      <td>NaN</td>\n",
       "      <td>NaN</td>\n",
       "      <td>627.0</td>\n",
       "    </tr>\n",
       "    <tr>\n",
       "      <th>4</th>\n",
       "      <td>2016-08-20 12:30:00</td>\n",
       "      <td>1.0</td>\n",
       "      <td>0.0</td>\n",
       "      <td>27</td>\n",
       "      <td>Sergio Agüero</td>\n",
       "      <td>Manchester City</td>\n",
       "      <td>Stoke City</td>\n",
       "      <td>Goal</td>\n",
       "      <td>NaN</td>\n",
       "      <td>NaN</td>\n",
       "      <td>Penalty Kick</td>\n",
       "      <td>Yellow Card</td>\n",
       "      <td>NaN</td>\n",
       "      <td>NaN</td>\n",
       "      <td>NaN</td>\n",
       "      <td>NaN</td>\n",
       "    </tr>\n",
       "  </tbody>\n",
       "</table>\n",
       "</div>"
      ],
      "text/plain": [
       "             Timestamp  Score  Player Advantage  Minute              Player  \\\n",
       "0  2016-08-13 12:30:00    0.0               0.0     147        Riyad Mahrez   \n",
       "1  2016-08-13 17:30:00    1.0               0.0       4       Sergio Agüero   \n",
       "2  2016-08-15 20:00:00    1.0               0.0     147         Eden Hazard   \n",
       "3  2016-08-19 20:00:00    2.0               0.0     152  Zlatan Ibrahimović   \n",
       "4  2016-08-20 12:30:00    1.0               0.0      27       Sergio Agüero   \n",
       "\n",
       "               Squad          Against Outcome  Distance Body Part  \\\n",
       "0     Leicester City        Hull City    Goal       NaN       NaN   \n",
       "1    Manchester City       Sunderland    Goal       NaN       NaN   \n",
       "2            Chelsea  West Ham United    Goal       NaN       NaN   \n",
       "3  Manchester United      Southampton    Goal       NaN       NaN   \n",
       "4    Manchester City       Stoke City    Goal       NaN       NaN   \n",
       "\n",
       "          Notes SCA 1 Player SCA 1 Event SCA 2 Player SCA 2 Event  Threat  \n",
       "0  Penalty Kick         Goal         NaN          NaN         NaN   720.0  \n",
       "1  Penalty Kick            —         NaN          NaN         NaN   720.0  \n",
       "2  Penalty Kick  Yellow Card         NaN          NaN         NaN   627.0  \n",
       "3  Penalty Kick         Goal         NaN          NaN         NaN   627.0  \n",
       "4  Penalty Kick  Yellow Card         NaN          NaN         NaN     NaN  "
      ]
     },
     "execution_count": 426,
     "metadata": {},
     "output_type": "execute_result"
    }
   ],
   "source": [
    "shot_data.head()"
   ]
  },
  {
   "cell_type": "markdown",
   "metadata": {},
   "source": [
    "### Non-shots xG model"
   ]
  },
  {
   "cell_type": "markdown",
   "metadata": {},
   "source": [
    "#### Load Data\n",
    "\n",
    "For the non-shot-based expected goals (xG) model, we have obtained a dataset from [football-data.co.uk] (https://www.football-data.co.uk/) consisting of football match information over the past 10+ years. We have reduced this dataset to data from the last 5 seasons (including the current one), i.e., __2016-2021__. This version contains 1684 samples, each of which consists of 12 features and 2 labels of the full time home team goals (FTHG) and the full time away team goals (FTAG). The features are:\n",
    "\n",
    "1. GameID = Unique ID for the match\n",
    "2. Date = Match Date (dd/mm/yy)\n",
    "3. HomeTeam = Home Team\n",
    "4. AwayTeam = Away Team\n",
    "5. Referee = Match Referee\n",
    "6. HC = Home Team Corners\n",
    "7. AC = Away Team Corners\n",
    "8. HF = Home Team Fouls Committed\n",
    "9. AF = Away Team Fouls Committed\n",
    "10. HY = Home Team Yellow Cards\n",
    "11. AY = Away Team Yellow Cards\n",
    "12. HR = Home Team Red Cards\n",
    "13. AR = Away Team Red Cards"
   ]
  },
  {
   "cell_type": "code",
   "execution_count": 427,
   "metadata": {},
   "outputs": [],
   "source": [
    "DATASET_PATH = os.path.join(os.getcwd(), \"data/non-shot-xG/non_shot_data.csv\")\n",
    "complete_data = pd.read_csv(DATASET_PATH)"
   ]
  },
  {
   "cell_type": "code",
   "execution_count": 428,
   "metadata": {},
   "outputs": [
    {
     "data": {
      "text/html": [
       "<div>\n",
       "<style scoped>\n",
       "    .dataframe tbody tr th:only-of-type {\n",
       "        vertical-align: middle;\n",
       "    }\n",
       "\n",
       "    .dataframe tbody tr th {\n",
       "        vertical-align: top;\n",
       "    }\n",
       "\n",
       "    .dataframe thead th {\n",
       "        text-align: right;\n",
       "    }\n",
       "</style>\n",
       "<table border=\"1\" class=\"dataframe\">\n",
       "  <thead>\n",
       "    <tr style=\"text-align: right;\">\n",
       "      <th></th>\n",
       "      <th>GameID</th>\n",
       "      <th>Date</th>\n",
       "      <th>HomeTeam</th>\n",
       "      <th>AwayTeam</th>\n",
       "      <th>Referee</th>\n",
       "      <th>HC</th>\n",
       "      <th>AC</th>\n",
       "      <th>HF</th>\n",
       "      <th>AF</th>\n",
       "      <th>HY</th>\n",
       "      <th>AY</th>\n",
       "      <th>HR</th>\n",
       "      <th>AR</th>\n",
       "      <th>FTHG</th>\n",
       "      <th>FTAG</th>\n",
       "      <th>FTR</th>\n",
       "    </tr>\n",
       "  </thead>\n",
       "  <tbody>\n",
       "    <tr>\n",
       "      <th>0</th>\n",
       "      <td>1</td>\n",
       "      <td>13/08/2016</td>\n",
       "      <td>Burnley</td>\n",
       "      <td>Swansea</td>\n",
       "      <td>J Moss</td>\n",
       "      <td>7</td>\n",
       "      <td>4</td>\n",
       "      <td>10</td>\n",
       "      <td>14</td>\n",
       "      <td>3</td>\n",
       "      <td>2</td>\n",
       "      <td>0</td>\n",
       "      <td>0</td>\n",
       "      <td>0</td>\n",
       "      <td>1</td>\n",
       "      <td>A</td>\n",
       "    </tr>\n",
       "    <tr>\n",
       "      <th>1</th>\n",
       "      <td>2</td>\n",
       "      <td>13/08/2016</td>\n",
       "      <td>Crystal Palace</td>\n",
       "      <td>West Brom</td>\n",
       "      <td>C Pawson</td>\n",
       "      <td>3</td>\n",
       "      <td>6</td>\n",
       "      <td>12</td>\n",
       "      <td>15</td>\n",
       "      <td>2</td>\n",
       "      <td>2</td>\n",
       "      <td>0</td>\n",
       "      <td>0</td>\n",
       "      <td>0</td>\n",
       "      <td>1</td>\n",
       "      <td>A</td>\n",
       "    </tr>\n",
       "    <tr>\n",
       "      <th>2</th>\n",
       "      <td>3</td>\n",
       "      <td>13/08/2016</td>\n",
       "      <td>Everton</td>\n",
       "      <td>Tottenham</td>\n",
       "      <td>M Atkinson</td>\n",
       "      <td>5</td>\n",
       "      <td>6</td>\n",
       "      <td>10</td>\n",
       "      <td>14</td>\n",
       "      <td>0</td>\n",
       "      <td>0</td>\n",
       "      <td>0</td>\n",
       "      <td>0</td>\n",
       "      <td>1</td>\n",
       "      <td>1</td>\n",
       "      <td>D</td>\n",
       "    </tr>\n",
       "    <tr>\n",
       "      <th>3</th>\n",
       "      <td>4</td>\n",
       "      <td>13/08/2016</td>\n",
       "      <td>Hull</td>\n",
       "      <td>Leicester</td>\n",
       "      <td>M Dean</td>\n",
       "      <td>5</td>\n",
       "      <td>3</td>\n",
       "      <td>8</td>\n",
       "      <td>17</td>\n",
       "      <td>2</td>\n",
       "      <td>2</td>\n",
       "      <td>0</td>\n",
       "      <td>0</td>\n",
       "      <td>2</td>\n",
       "      <td>1</td>\n",
       "      <td>H</td>\n",
       "    </tr>\n",
       "    <tr>\n",
       "      <th>4</th>\n",
       "      <td>5</td>\n",
       "      <td>13/08/2016</td>\n",
       "      <td>Man City</td>\n",
       "      <td>Sunderland</td>\n",
       "      <td>R Madley</td>\n",
       "      <td>9</td>\n",
       "      <td>6</td>\n",
       "      <td>11</td>\n",
       "      <td>14</td>\n",
       "      <td>1</td>\n",
       "      <td>2</td>\n",
       "      <td>0</td>\n",
       "      <td>0</td>\n",
       "      <td>2</td>\n",
       "      <td>1</td>\n",
       "      <td>H</td>\n",
       "    </tr>\n",
       "  </tbody>\n",
       "</table>\n",
       "</div>"
      ],
      "text/plain": [
       "   GameID        Date        HomeTeam    AwayTeam     Referee  HC  AC  HF  AF  \\\n",
       "0       1  13/08/2016         Burnley     Swansea      J Moss   7   4  10  14   \n",
       "1       2  13/08/2016  Crystal Palace   West Brom    C Pawson   3   6  12  15   \n",
       "2       3  13/08/2016         Everton   Tottenham  M Atkinson   5   6  10  14   \n",
       "3       4  13/08/2016            Hull   Leicester      M Dean   5   3   8  17   \n",
       "4       5  13/08/2016        Man City  Sunderland    R Madley   9   6  11  14   \n",
       "\n",
       "   HY  AY  HR  AR  FTHG  FTAG FTR  \n",
       "0   3   2   0   0     0     1   A  \n",
       "1   2   2   0   0     0     1   A  \n",
       "2   0   0   0   0     1     1   D  \n",
       "3   2   2   0   0     2     1   H  \n",
       "4   1   2   0   0     2     1   H  "
      ]
     },
     "execution_count": 428,
     "metadata": {},
     "output_type": "execute_result"
    }
   ],
   "source": [
    "complete_data.head()"
   ]
  },
  {
   "cell_type": "markdown",
   "metadata": {},
   "source": [
    "### Data Transformation and Exploration\n",
    "``<insert a brief description of our preperation and standardisation process here>``"
   ]
  },
  {
   "cell_type": "markdown",
   "metadata": {},
   "source": [
    "### Shots xG model"
   ]
  },
  {
   "cell_type": "markdown",
   "metadata": {},
   "source": [
    "set 'Timestamp' to datetime objects"
   ]
  },
  {
   "cell_type": "code",
   "execution_count": 187,
   "metadata": {},
   "outputs": [],
   "source": [
    "shot_data['Timestamp'] = pd.to_datetime(shot_data['Timestamp'])"
   ]
  },
  {
   "cell_type": "markdown",
   "metadata": {},
   "source": [
    "we assume that getting near to the end of the match, shots patterns change as attacks become more aggressive"
   ]
  },
  {
   "cell_type": "code",
   "execution_count": 188,
   "metadata": {},
   "outputs": [],
   "source": [
    "shot_data['End_close'] = (shot_data['Minute'] > 185).astype(int)"
   ]
  },
  {
   "cell_type": "markdown",
   "metadata": {},
   "source": [
    "null values of notes are associated with normal shots"
   ]
  },
  {
   "cell_type": "code",
   "execution_count": 189,
   "metadata": {},
   "outputs": [],
   "source": [
    "shot_data['Notes'] = shot_data['Notes'].fillna('normal')"
   ]
  },
  {
   "cell_type": "markdown",
   "metadata": {},
   "source": [
    "##### Separate Shot data by type\n",
    " We assume that a shots of different types have different probabilities of being a goal from the same distance."
   ]
  },
  {
   "cell_type": "code",
   "execution_count": 190,
   "metadata": {},
   "outputs": [],
   "source": [
    "def shot_data_by_type(type_name, df):\n",
    "    # collect notes including the substring type_name, e.g. 'volley'\n",
    "    types = [v for v in df['Notes'].unique() if type_name in v.lower()]\n",
    "    # extract shots of the type specified\n",
    "    type_df = df[[n in types for n in df['Notes']]]\n",
    "    # deduce outcome of shot i.e. Goal or not Goal\n",
    "    type_goals = type_df['Outcome'] == 'Goal'\n",
    "    # drop unneeded columns\n",
    "    type_df = type_df.drop(columns=['Squad', 'Against', 'Outcome', 'Player', \n",
    "                                    'Body Part', 'SCA 1 Player', 'SCA 1 Event', \n",
    "                                   'SCA 2 Player', 'SCA 2 Event'])\n",
    "    # one-hot encoding for subtyoes\n",
    "    type_df = pd.concat([type_df, pd.get_dummies(type_df['Notes'])], axis=1)\n",
    "    # add a new column with label\n",
    "    type_df['Goal'] = type_goals.astype(int)\n",
    "    \n",
    "    return type_df"
   ]
  },
  {
   "cell_type": "markdown",
   "metadata": {},
   "source": [
    "types of shots excluding normal, which conatains everything but those below"
   ]
  },
  {
   "cell_type": "code",
   "execution_count": 191,
   "metadata": {},
   "outputs": [],
   "source": [
    "types = ['volley', 'header', 'free kick', 'overhead', 'back heel', 'penalty kick']\n",
    "# collect all DataFrames for each type\n",
    "type_dfs = dict()\n",
    "# sets to keep records of which types of shots have been collected\n",
    "all_types = set(shot_data['Notes'].unique())\n",
    "used = set()\n",
    "\n",
    "for t in types:\n",
    "    # using the function, separates the shots by type\n",
    "    type_dfs[t] = shot_data_by_type(t, shot_data)\n",
    "    # adds used types to the set 'used'\n",
    "    used = used.union(set([v for v in shot_data['Notes'].unique() if t in v.lower()]))"
   ]
  },
  {
   "cell_type": "markdown",
   "metadata": {},
   "source": [
    "remaining to be added to 'normal' shots"
   ]
  },
  {
   "cell_type": "code",
   "execution_count": 192,
   "metadata": {},
   "outputs": [],
   "source": [
    "rest_of_shots = list(all_types.difference(used))\n",
    "new_names = []\n",
    "\n",
    "# add normal to each type left for use of shot_data_by_type function\n",
    "for i in range(len(rest_of_shots)):\n",
    "    current = rest_of_shots[i]\n",
    "    new_names.append(current + ' normal' if not 'normal' == current else current)\n",
    "    \n",
    "# change notes according to above changes in the dataframe\n",
    "for o, n in zip(rest_of_shots, new_names):\n",
    "    # 'normal' does not change\n",
    "    if o != n:\n",
    "        originals = shot_data['Notes'] == o\n",
    "        shot_data.loc[originals, 'Notes'] = n"
   ]
  },
  {
   "cell_type": "code",
   "execution_count": 193,
   "metadata": {},
   "outputs": [],
   "source": [
    "type_dfs['normal'] = shot_data_by_type('normal', shot_data)"
   ]
  },
  {
   "cell_type": "markdown",
   "metadata": {},
   "source": [
    "### Non-shots xG model"
   ]
  },
  {
   "cell_type": "markdown",
   "metadata": {},
   "source": [
    "Now we will take a look at different features — sanitise and standardise them for use in other models.\n",
    "\n",
    "__Note__: Standard team names and referee names along with their respective unique IDs are located in [this](data/standard) directory\n",
    "\n",
    "#### 1. Dropping columns that are not essential to train our model."
   ]
  },
  {
   "cell_type": "code",
   "execution_count": 429,
   "metadata": {},
   "outputs": [],
   "source": [
    "general_training_data = complete_data.drop(['GameID','Date'], axis=1)"
   ]
  },
  {
   "cell_type": "markdown",
   "metadata": {},
   "source": [
    "#### 2. Encode names of the teams and referees using standardised data"
   ]
  },
  {
   "cell_type": "code",
   "execution_count": 430,
   "metadata": {},
   "outputs": [],
   "source": [
    "teams_data = pd.read_csv(os.path.join(os.getcwd(), \"data/standard/standard.teamnames.csv\"))\n",
    "referee_data = pd.read_csv(os.path.join(os.getcwd(), \"data/standard/standard.referee.names.csv\"))"
   ]
  },
  {
   "cell_type": "code",
   "execution_count": 431,
   "metadata": {},
   "outputs": [],
   "source": [
    "# Generating teams mappings \n",
    "teamname, teamID = list(teams_data['Standard teamname']), list(teams_data['TeamID'])\n",
    "teamID_mapping = dict(zip(teamname, teamID))\n",
    "\n",
    "generate_teamID_mappings = lambda teamnames: [teamID_mapping[teamname] for teamname in teamnames]"
   ]
  },
  {
   "cell_type": "code",
   "execution_count": 432,
   "metadata": {},
   "outputs": [],
   "source": [
    "# Generating referees mappings \n",
    "referee, refereeID = list(referee_data['Standard referee name']), list(referee_data['RefereeID'])\n",
    "refereeID_mapping = dict(zip(referee, refereeID))\n",
    "\n",
    "generate_refereeID_mappings = lambda referees: [refereeID_mapping[referee] for referee in referees]"
   ]
  },
  {
   "cell_type": "markdown",
   "metadata": {},
   "source": [
    "#### Applying transformations to the (general) training dataset."
   ]
  },
  {
   "cell_type": "code",
   "execution_count": 433,
   "metadata": {},
   "outputs": [],
   "source": [
    "# Teams\n",
    "general_training_data['HomeTeam'] = generate_teamID_mappings(general_training_data['HomeTeam'])\n",
    "general_training_data['AwayTeam'] = generate_teamID_mappings(general_training_data['AwayTeam'])\n",
    "\n",
    "# Referees\n",
    "general_training_data['Referee'] = generate_refereeID_mappings(general_training_data['Referee'])"
   ]
  },
  {
   "cell_type": "markdown",
   "metadata": {},
   "source": [
    "#### 3. Integrating expected goals (xG) data from shots-based model "
   ]
  },
  {
   "cell_type": "markdown",
   "metadata": {},
   "source": [
    "Extracting the results of the shots-based model."
   ]
  },
  {
   "cell_type": "code",
   "execution_count": 434,
   "metadata": {},
   "outputs": [],
   "source": [
    "shots_xg_predictions = pd.read_csv(os.path.join(os.getcwd(), 'output/shots_xG_predictions.csv'))"
   ]
  },
  {
   "cell_type": "code",
   "execution_count": 435,
   "metadata": {},
   "outputs": [],
   "source": [
    "# Add expected goals for the home team\n",
    "general_training_data['xHG'] = shots_xg_predictions['xG_h']\n",
    "\n",
    "# Add expected goals for the away team\n",
    "general_training_data['xAG'] = shots_xg_predictions['xG_a']"
   ]
  },
  {
   "cell_type": "code",
   "execution_count": 436,
   "metadata": {},
   "outputs": [
    {
     "data": {
      "text/html": [
       "<div>\n",
       "<style scoped>\n",
       "    .dataframe tbody tr th:only-of-type {\n",
       "        vertical-align: middle;\n",
       "    }\n",
       "\n",
       "    .dataframe tbody tr th {\n",
       "        vertical-align: top;\n",
       "    }\n",
       "\n",
       "    .dataframe thead th {\n",
       "        text-align: right;\n",
       "    }\n",
       "</style>\n",
       "<table border=\"1\" class=\"dataframe\">\n",
       "  <thead>\n",
       "    <tr style=\"text-align: right;\">\n",
       "      <th></th>\n",
       "      <th>HomeTeam</th>\n",
       "      <th>AwayTeam</th>\n",
       "      <th>Referee</th>\n",
       "      <th>HC</th>\n",
       "      <th>AC</th>\n",
       "      <th>HF</th>\n",
       "      <th>AF</th>\n",
       "      <th>HY</th>\n",
       "      <th>AY</th>\n",
       "      <th>HR</th>\n",
       "      <th>AR</th>\n",
       "      <th>FTHG</th>\n",
       "      <th>FTAG</th>\n",
       "      <th>FTR</th>\n",
       "      <th>xHG</th>\n",
       "      <th>xAG</th>\n",
       "    </tr>\n",
       "  </thead>\n",
       "  <tbody>\n",
       "    <tr>\n",
       "      <th>0</th>\n",
       "      <td>10</td>\n",
       "      <td>34</td>\n",
       "      <td>12</td>\n",
       "      <td>7</td>\n",
       "      <td>4</td>\n",
       "      <td>10</td>\n",
       "      <td>14</td>\n",
       "      <td>3</td>\n",
       "      <td>2</td>\n",
       "      <td>0</td>\n",
       "      <td>0</td>\n",
       "      <td>0</td>\n",
       "      <td>1</td>\n",
       "      <td>A</td>\n",
       "      <td>0.000000</td>\n",
       "      <td>0.429106</td>\n",
       "    </tr>\n",
       "    <tr>\n",
       "      <th>1</th>\n",
       "      <td>13</td>\n",
       "      <td>37</td>\n",
       "      <td>7</td>\n",
       "      <td>3</td>\n",
       "      <td>6</td>\n",
       "      <td>12</td>\n",
       "      <td>15</td>\n",
       "      <td>2</td>\n",
       "      <td>2</td>\n",
       "      <td>0</td>\n",
       "      <td>0</td>\n",
       "      <td>0</td>\n",
       "      <td>1</td>\n",
       "      <td>A</td>\n",
       "      <td>0.000000</td>\n",
       "      <td>0.429106</td>\n",
       "    </tr>\n",
       "    <tr>\n",
       "      <th>2</th>\n",
       "      <td>14</td>\n",
       "      <td>35</td>\n",
       "      <td>18</td>\n",
       "      <td>5</td>\n",
       "      <td>6</td>\n",
       "      <td>10</td>\n",
       "      <td>14</td>\n",
       "      <td>0</td>\n",
       "      <td>0</td>\n",
       "      <td>0</td>\n",
       "      <td>0</td>\n",
       "      <td>1</td>\n",
       "      <td>1</td>\n",
       "      <td>D</td>\n",
       "      <td>0.103297</td>\n",
       "      <td>0.429106</td>\n",
       "    </tr>\n",
       "    <tr>\n",
       "      <th>3</th>\n",
       "      <td>18</td>\n",
       "      <td>20</td>\n",
       "      <td>20</td>\n",
       "      <td>5</td>\n",
       "      <td>3</td>\n",
       "      <td>8</td>\n",
       "      <td>17</td>\n",
       "      <td>2</td>\n",
       "      <td>2</td>\n",
       "      <td>0</td>\n",
       "      <td>0</td>\n",
       "      <td>2</td>\n",
       "      <td>1</td>\n",
       "      <td>H</td>\n",
       "      <td>1.103297</td>\n",
       "      <td>0.999136</td>\n",
       "    </tr>\n",
       "    <tr>\n",
       "      <th>4</th>\n",
       "      <td>22</td>\n",
       "      <td>33</td>\n",
       "      <td>34</td>\n",
       "      <td>9</td>\n",
       "      <td>6</td>\n",
       "      <td>11</td>\n",
       "      <td>14</td>\n",
       "      <td>1</td>\n",
       "      <td>2</td>\n",
       "      <td>0</td>\n",
       "      <td>0</td>\n",
       "      <td>2</td>\n",
       "      <td>1</td>\n",
       "      <td>H</td>\n",
       "      <td>0.999340</td>\n",
       "      <td>0.429106</td>\n",
       "    </tr>\n",
       "    <tr>\n",
       "      <th>...</th>\n",
       "      <td>...</td>\n",
       "      <td>...</td>\n",
       "      <td>...</td>\n",
       "      <td>...</td>\n",
       "      <td>...</td>\n",
       "      <td>...</td>\n",
       "      <td>...</td>\n",
       "      <td>...</td>\n",
       "      <td>...</td>\n",
       "      <td>...</td>\n",
       "      <td>...</td>\n",
       "      <td>...</td>\n",
       "      <td>...</td>\n",
       "      <td>...</td>\n",
       "      <td>...</td>\n",
       "      <td>...</td>\n",
       "    </tr>\n",
       "    <tr>\n",
       "      <th>1679</th>\n",
       "      <td>9</td>\n",
       "      <td>40</td>\n",
       "      <td>1</td>\n",
       "      <td>5</td>\n",
       "      <td>8</td>\n",
       "      <td>13</td>\n",
       "      <td>8</td>\n",
       "      <td>2</td>\n",
       "      <td>1</td>\n",
       "      <td>0</td>\n",
       "      <td>0</td>\n",
       "      <td>3</td>\n",
       "      <td>3</td>\n",
       "      <td>D</td>\n",
       "      <td>0.940175</td>\n",
       "      <td>0.099108</td>\n",
       "    </tr>\n",
       "    <tr>\n",
       "      <th>1680</th>\n",
       "      <td>37</td>\n",
       "      <td>1</td>\n",
       "      <td>18</td>\n",
       "      <td>3</td>\n",
       "      <td>5</td>\n",
       "      <td>7</td>\n",
       "      <td>4</td>\n",
       "      <td>1</td>\n",
       "      <td>2</td>\n",
       "      <td>0</td>\n",
       "      <td>0</td>\n",
       "      <td>0</td>\n",
       "      <td>4</td>\n",
       "      <td>A</td>\n",
       "      <td>0.056729</td>\n",
       "      <td>0.692021</td>\n",
       "    </tr>\n",
       "    <tr>\n",
       "      <th>1681</th>\n",
       "      <td>25</td>\n",
       "      <td>20</td>\n",
       "      <td>33</td>\n",
       "      <td>3</td>\n",
       "      <td>6</td>\n",
       "      <td>10</td>\n",
       "      <td>11</td>\n",
       "      <td>0</td>\n",
       "      <td>2</td>\n",
       "      <td>0</td>\n",
       "      <td>0</td>\n",
       "      <td>1</td>\n",
       "      <td>2</td>\n",
       "      <td>A</td>\n",
       "      <td>0.320681</td>\n",
       "      <td>1.183681</td>\n",
       "    </tr>\n",
       "    <tr>\n",
       "      <th>1682</th>\n",
       "      <td>12</td>\n",
       "      <td>22</td>\n",
       "      <td>3</td>\n",
       "      <td>5</td>\n",
       "      <td>3</td>\n",
       "      <td>11</td>\n",
       "      <td>10</td>\n",
       "      <td>3</td>\n",
       "      <td>1</td>\n",
       "      <td>0</td>\n",
       "      <td>0</td>\n",
       "      <td>1</td>\n",
       "      <td>3</td>\n",
       "      <td>A</td>\n",
       "      <td>0.010900</td>\n",
       "      <td>0.167596</td>\n",
       "    </tr>\n",
       "    <tr>\n",
       "      <th>1683</th>\n",
       "      <td>31</td>\n",
       "      <td>21</td>\n",
       "      <td>2</td>\n",
       "      <td>1</td>\n",
       "      <td>10</td>\n",
       "      <td>5</td>\n",
       "      <td>12</td>\n",
       "      <td>1</td>\n",
       "      <td>3</td>\n",
       "      <td>0</td>\n",
       "      <td>0</td>\n",
       "      <td>1</td>\n",
       "      <td>0</td>\n",
       "      <td>H</td>\n",
       "      <td>0.103297</td>\n",
       "      <td>0.000000</td>\n",
       "    </tr>\n",
       "  </tbody>\n",
       "</table>\n",
       "<p>1684 rows × 16 columns</p>\n",
       "</div>"
      ],
      "text/plain": [
       "      HomeTeam  AwayTeam  Referee  HC  AC  HF  AF  HY  AY  HR  AR  FTHG  FTAG  \\\n",
       "0           10        34       12   7   4  10  14   3   2   0   0     0     1   \n",
       "1           13        37        7   3   6  12  15   2   2   0   0     0     1   \n",
       "2           14        35       18   5   6  10  14   0   0   0   0     1     1   \n",
       "3           18        20       20   5   3   8  17   2   2   0   0     2     1   \n",
       "4           22        33       34   9   6  11  14   1   2   0   0     2     1   \n",
       "...        ...       ...      ...  ..  ..  ..  ..  ..  ..  ..  ..   ...   ...   \n",
       "1679         9        40        1   5   8  13   8   2   1   0   0     3     3   \n",
       "1680        37         1       18   3   5   7   4   1   2   0   0     0     4   \n",
       "1681        25        20       33   3   6  10  11   0   2   0   0     1     2   \n",
       "1682        12        22        3   5   3  11  10   3   1   0   0     1     3   \n",
       "1683        31        21        2   1  10   5  12   1   3   0   0     1     0   \n",
       "\n",
       "     FTR       xHG       xAG  \n",
       "0      A  0.000000  0.429106  \n",
       "1      A  0.000000  0.429106  \n",
       "2      D  0.103297  0.429106  \n",
       "3      H  1.103297  0.999136  \n",
       "4      H  0.999340  0.429106  \n",
       "...   ..       ...       ...  \n",
       "1679   D  0.940175  0.099108  \n",
       "1680   A  0.056729  0.692021  \n",
       "1681   A  0.320681  1.183681  \n",
       "1682   A  0.010900  0.167596  \n",
       "1683   H  0.103297  0.000000  \n",
       "\n",
       "[1684 rows x 16 columns]"
      ]
     },
     "execution_count": 436,
     "metadata": {},
     "output_type": "execute_result"
    }
   ],
   "source": [
    "general_training_data"
   ]
  },
  {
   "cell_type": "markdown",
   "metadata": {},
   "source": [
    "For the purposes of the non-shot-based model, we will split the dataset into two: one containing data for predicting the __FTHG__ (Full Time Home Goals) and one containing data for predicting the __FTAG__ (Full Time Away Goals).\n",
    "\n",
    "#### 4. Split the dataset into two parts: ``home_training_data`` and ``away_training_data``"
   ]
  },
  {
   "cell_type": "code",
   "execution_count": 437,
   "metadata": {},
   "outputs": [],
   "source": [
    "X_home = home_training_data = general_training_data.drop(['FTAG', 'FTHG', 'AC', 'xAG', 'FTR'], axis=1)"
   ]
  },
  {
   "cell_type": "code",
   "execution_count": 438,
   "metadata": {},
   "outputs": [
    {
     "data": {
      "text/html": [
       "<div>\n",
       "<style scoped>\n",
       "    .dataframe tbody tr th:only-of-type {\n",
       "        vertical-align: middle;\n",
       "    }\n",
       "\n",
       "    .dataframe tbody tr th {\n",
       "        vertical-align: top;\n",
       "    }\n",
       "\n",
       "    .dataframe thead th {\n",
       "        text-align: right;\n",
       "    }\n",
       "</style>\n",
       "<table border=\"1\" class=\"dataframe\">\n",
       "  <thead>\n",
       "    <tr style=\"text-align: right;\">\n",
       "      <th></th>\n",
       "      <th>HomeTeam</th>\n",
       "      <th>AwayTeam</th>\n",
       "      <th>Referee</th>\n",
       "      <th>HC</th>\n",
       "      <th>HF</th>\n",
       "      <th>AF</th>\n",
       "      <th>HY</th>\n",
       "      <th>AY</th>\n",
       "      <th>HR</th>\n",
       "      <th>AR</th>\n",
       "      <th>xHG</th>\n",
       "    </tr>\n",
       "  </thead>\n",
       "  <tbody>\n",
       "    <tr>\n",
       "      <th>0</th>\n",
       "      <td>10</td>\n",
       "      <td>34</td>\n",
       "      <td>12</td>\n",
       "      <td>7</td>\n",
       "      <td>10</td>\n",
       "      <td>14</td>\n",
       "      <td>3</td>\n",
       "      <td>2</td>\n",
       "      <td>0</td>\n",
       "      <td>0</td>\n",
       "      <td>0.000000</td>\n",
       "    </tr>\n",
       "    <tr>\n",
       "      <th>1</th>\n",
       "      <td>13</td>\n",
       "      <td>37</td>\n",
       "      <td>7</td>\n",
       "      <td>3</td>\n",
       "      <td>12</td>\n",
       "      <td>15</td>\n",
       "      <td>2</td>\n",
       "      <td>2</td>\n",
       "      <td>0</td>\n",
       "      <td>0</td>\n",
       "      <td>0.000000</td>\n",
       "    </tr>\n",
       "    <tr>\n",
       "      <th>2</th>\n",
       "      <td>14</td>\n",
       "      <td>35</td>\n",
       "      <td>18</td>\n",
       "      <td>5</td>\n",
       "      <td>10</td>\n",
       "      <td>14</td>\n",
       "      <td>0</td>\n",
       "      <td>0</td>\n",
       "      <td>0</td>\n",
       "      <td>0</td>\n",
       "      <td>0.103297</td>\n",
       "    </tr>\n",
       "    <tr>\n",
       "      <th>3</th>\n",
       "      <td>18</td>\n",
       "      <td>20</td>\n",
       "      <td>20</td>\n",
       "      <td>5</td>\n",
       "      <td>8</td>\n",
       "      <td>17</td>\n",
       "      <td>2</td>\n",
       "      <td>2</td>\n",
       "      <td>0</td>\n",
       "      <td>0</td>\n",
       "      <td>1.103297</td>\n",
       "    </tr>\n",
       "    <tr>\n",
       "      <th>4</th>\n",
       "      <td>22</td>\n",
       "      <td>33</td>\n",
       "      <td>34</td>\n",
       "      <td>9</td>\n",
       "      <td>11</td>\n",
       "      <td>14</td>\n",
       "      <td>1</td>\n",
       "      <td>2</td>\n",
       "      <td>0</td>\n",
       "      <td>0</td>\n",
       "      <td>0.999340</td>\n",
       "    </tr>\n",
       "  </tbody>\n",
       "</table>\n",
       "</div>"
      ],
      "text/plain": [
       "   HomeTeam  AwayTeam  Referee  HC  HF  AF  HY  AY  HR  AR       xHG\n",
       "0        10        34       12   7  10  14   3   2   0   0  0.000000\n",
       "1        13        37        7   3  12  15   2   2   0   0  0.000000\n",
       "2        14        35       18   5  10  14   0   0   0   0  0.103297\n",
       "3        18        20       20   5   8  17   2   2   0   0  1.103297\n",
       "4        22        33       34   9  11  14   1   2   0   0  0.999340"
      ]
     },
     "execution_count": 438,
     "metadata": {},
     "output_type": "execute_result"
    }
   ],
   "source": [
    "X_home.head()"
   ]
  },
  {
   "cell_type": "code",
   "execution_count": 439,
   "metadata": {},
   "outputs": [],
   "source": [
    "X_away = home_training_data = general_training_data.drop(['FTHG', 'FTAG', 'HC', 'xHG', 'FTR'], axis=1)"
   ]
  },
  {
   "cell_type": "code",
   "execution_count": 440,
   "metadata": {},
   "outputs": [
    {
     "data": {
      "text/html": [
       "<div>\n",
       "<style scoped>\n",
       "    .dataframe tbody tr th:only-of-type {\n",
       "        vertical-align: middle;\n",
       "    }\n",
       "\n",
       "    .dataframe tbody tr th {\n",
       "        vertical-align: top;\n",
       "    }\n",
       "\n",
       "    .dataframe thead th {\n",
       "        text-align: right;\n",
       "    }\n",
       "</style>\n",
       "<table border=\"1\" class=\"dataframe\">\n",
       "  <thead>\n",
       "    <tr style=\"text-align: right;\">\n",
       "      <th></th>\n",
       "      <th>HomeTeam</th>\n",
       "      <th>AwayTeam</th>\n",
       "      <th>Referee</th>\n",
       "      <th>AC</th>\n",
       "      <th>HF</th>\n",
       "      <th>AF</th>\n",
       "      <th>HY</th>\n",
       "      <th>AY</th>\n",
       "      <th>HR</th>\n",
       "      <th>AR</th>\n",
       "      <th>xAG</th>\n",
       "    </tr>\n",
       "  </thead>\n",
       "  <tbody>\n",
       "    <tr>\n",
       "      <th>0</th>\n",
       "      <td>10</td>\n",
       "      <td>34</td>\n",
       "      <td>12</td>\n",
       "      <td>4</td>\n",
       "      <td>10</td>\n",
       "      <td>14</td>\n",
       "      <td>3</td>\n",
       "      <td>2</td>\n",
       "      <td>0</td>\n",
       "      <td>0</td>\n",
       "      <td>0.429106</td>\n",
       "    </tr>\n",
       "    <tr>\n",
       "      <th>1</th>\n",
       "      <td>13</td>\n",
       "      <td>37</td>\n",
       "      <td>7</td>\n",
       "      <td>6</td>\n",
       "      <td>12</td>\n",
       "      <td>15</td>\n",
       "      <td>2</td>\n",
       "      <td>2</td>\n",
       "      <td>0</td>\n",
       "      <td>0</td>\n",
       "      <td>0.429106</td>\n",
       "    </tr>\n",
       "    <tr>\n",
       "      <th>2</th>\n",
       "      <td>14</td>\n",
       "      <td>35</td>\n",
       "      <td>18</td>\n",
       "      <td>6</td>\n",
       "      <td>10</td>\n",
       "      <td>14</td>\n",
       "      <td>0</td>\n",
       "      <td>0</td>\n",
       "      <td>0</td>\n",
       "      <td>0</td>\n",
       "      <td>0.429106</td>\n",
       "    </tr>\n",
       "    <tr>\n",
       "      <th>3</th>\n",
       "      <td>18</td>\n",
       "      <td>20</td>\n",
       "      <td>20</td>\n",
       "      <td>3</td>\n",
       "      <td>8</td>\n",
       "      <td>17</td>\n",
       "      <td>2</td>\n",
       "      <td>2</td>\n",
       "      <td>0</td>\n",
       "      <td>0</td>\n",
       "      <td>0.999136</td>\n",
       "    </tr>\n",
       "    <tr>\n",
       "      <th>4</th>\n",
       "      <td>22</td>\n",
       "      <td>33</td>\n",
       "      <td>34</td>\n",
       "      <td>6</td>\n",
       "      <td>11</td>\n",
       "      <td>14</td>\n",
       "      <td>1</td>\n",
       "      <td>2</td>\n",
       "      <td>0</td>\n",
       "      <td>0</td>\n",
       "      <td>0.429106</td>\n",
       "    </tr>\n",
       "  </tbody>\n",
       "</table>\n",
       "</div>"
      ],
      "text/plain": [
       "   HomeTeam  AwayTeam  Referee  AC  HF  AF  HY  AY  HR  AR       xAG\n",
       "0        10        34       12   4  10  14   3   2   0   0  0.429106\n",
       "1        13        37        7   6  12  15   2   2   0   0  0.429106\n",
       "2        14        35       18   6  10  14   0   0   0   0  0.429106\n",
       "3        18        20       20   3   8  17   2   2   0   0  0.999136\n",
       "4        22        33       34   6  11  14   1   2   0   0  0.429106"
      ]
     },
     "execution_count": 440,
     "metadata": {},
     "output_type": "execute_result"
    }
   ],
   "source": [
    "X_away.head()"
   ]
  },
  {
   "cell_type": "markdown",
   "metadata": {},
   "source": [
    "### Methodology Overview\n",
    "``Pipeline overview``"
   ]
  },
  {
   "cell_type": "markdown",
   "metadata": {},
   "source": [
    "### Model training and validation\n",
    "\n",
    "### Shots xG model"
   ]
  },
  {
   "cell_type": "markdown",
   "metadata": {},
   "source": [
    "##### Model Analysis"
   ]
  },
  {
   "cell_type": "code",
   "execution_count": 206,
   "metadata": {},
   "outputs": [],
   "source": [
    "def clean_split_analysis(data):\n",
    "    # drop non-feature columns\n",
    "    data = data.drop(columns=['Timestamp', 'Notes', 'Minute'])\n",
    "    # fill null values in threat with mean\n",
    "    data['Threat'] = data['Threat'].fillna(data['Threat'].mean())\n",
    "    # separate label columns from data\n",
    "    goals = data['Goal']\n",
    "    data = data.drop(columns=['Goal'])\n",
    "    # fill any null value, only true for penalty kicks' distance\n",
    "    data = data.fillna(0)\n",
    "    \n",
    "    scaler = StandardScaler()\n",
    "    \n",
    "    data[['Distance', 'Threat']] = scaler.fit_transform(data[['Distance', 'Threat']])\n",
    "    \n",
    "    return train_test_split(data, goals, test_size=0.1, random_state=10)"
   ]
  },
  {
   "cell_type": "markdown",
   "metadata": {},
   "source": [
    "We iterate over each selected classifier and collect scores for each shot type"
   ]
  },
  {
   "cell_type": "code",
   "execution_count": 213,
   "metadata": {},
   "outputs": [],
   "source": [
    "classifiers = [GradientBoostingClassifier(max_depth=5, learning_rate=0.1, subsample=0.15),\n",
    "              GaussianNB(), LogisticRegression(max_iter=1000)]\n",
    "\n",
    "cls_names = ['xgbc',\n",
    "            'gaussian',\n",
    "            'log']\n",
    "\n",
    "cls_scores = []\n",
    "\n",
    "for cls in classifiers:\n",
    "    # variables to collect data\n",
    "    correct_shots = 0\n",
    "    goals = 0\n",
    "    false_goals = 0\n",
    "    f1_scores = 0\n",
    "    total_pred_goals = 0\n",
    "    total_shots = 0\n",
    "    total_goals = 0\n",
    "\n",
    "    # training and collecting result from each classifier over each type of shot\n",
    "    for k, v in type_dfs.items():\n",
    "\n",
    "        x_train, x_test, y_train, y_test = get_train_ready(v)\n",
    "        cls = cls.fit(x_train, y_train)\n",
    "        pred = cls.predict(x_test)\n",
    "\n",
    "        total_shots += len(y_test)\n",
    "        total_goals += sum(y_test > 0)\n",
    "        total_pred_goals += sum(pred > 0)\n",
    "\n",
    "        false_goals += sum(pred[pred > 0] != y_test[pred > 0])\n",
    "        correct_shots += sum(pred == y_test)\n",
    "        goals += sum(pred[y_test > 0] == y_test[y_test > 0])\n",
    "        f1_scores += f1_score(y_test, pred) * len(y_test)\n",
    "\n",
    "    cls_scores.append([correct_shots / total_shots, goals / total_goals, \n",
    "                   false_goals / total_pred_goals, f1_scores / total_shots])"
   ]
  },
  {
   "cell_type": "markdown",
   "metadata": {},
   "source": [
    "We put these readings into a DataFrame object"
   ]
  },
  {
   "cell_type": "code",
   "execution_count": 214,
   "metadata": {},
   "outputs": [],
   "source": [
    "# new DataFrame object\n",
    "classifer_score_df = pd.DataFrame()\n",
    "# iterate over scores\n",
    "for n, s in zip(cls_names, cls_scores):\n",
    "    new_row = [n, *s]\n",
    "    classifer_score_df = classifer_score_df.append([new_row])\n",
    "    \n",
    "classifer_score_df.columns = ['Classifier', 'Accuracy', 'True positives', 'False Positives', 'F1 score']\n",
    "classifer_score_df = classifer_score_df.reset_index(drop=True)"
   ]
  },
  {
   "cell_type": "code",
   "execution_count": 215,
   "metadata": {},
   "outputs": [
    {
     "data": {
      "application/vnd.plotly.v1+json": {
       "config": {
        "plotlyServerURL": "https://plot.ly"
       },
       "data": [
        {
         "alignmentgroup": "True",
         "hovertemplate": "variable=Accuracy<br>Classifier=%{x}<br>value=%{y}<extra></extra>",
         "legendgroup": "Accuracy",
         "marker": {
          "color": "#636efa"
         },
         "name": "Accuracy",
         "offsetgroup": "Accuracy",
         "orientation": "v",
         "showlegend": true,
         "textposition": "auto",
         "type": "bar",
         "x": [
          "xgbc",
          "gaussian",
          "log"
         ],
         "xaxis": "x",
         "y": [
          0.8936170212765957,
          0.8529411764705882,
          0.9017521902377973
         ],
         "yaxis": "y"
        },
        {
         "alignmentgroup": "True",
         "hovertemplate": "variable=True positives<br>Classifier=%{x}<br>value=%{y}<extra></extra>",
         "legendgroup": "True positives",
         "marker": {
          "color": "#EF553B"
         },
         "name": "True positives",
         "offsetgroup": "True positives",
         "orientation": "v",
         "showlegend": true,
         "textposition": "auto",
         "type": "bar",
         "x": [
          "xgbc",
          "gaussian",
          "log"
         ],
         "xaxis": "x",
         "y": [
          0.20604395604395603,
          0.14560439560439561,
          0.2032967032967033
         ],
         "yaxis": "y"
        },
        {
         "alignmentgroup": "True",
         "hovertemplate": "variable=False Positives<br>Classifier=%{x}<br>value=%{y}<extra></extra>",
         "legendgroup": "False Positives",
         "marker": {
          "color": "#00cc96"
         },
         "name": "False Positives",
         "offsetgroup": "False Positives",
         "orientation": "v",
         "showlegend": true,
         "textposition": "auto",
         "type": "bar",
         "x": [
          "xgbc",
          "gaussian",
          "log"
         ],
         "xaxis": "x",
         "y": [
          0.40476190476190477,
          0.75,
          0.24489795918367346
         ],
         "yaxis": "y"
        },
        {
         "alignmentgroup": "True",
         "hovertemplate": "variable=F1 score<br>Classifier=%{x}<br>value=%{y}<extra></extra>",
         "legendgroup": "F1 score",
         "marker": {
          "color": "#ab63fa"
         },
         "name": "F1 score",
         "offsetgroup": "F1 score",
         "orientation": "v",
         "showlegend": true,
         "textposition": "auto",
         "type": "bar",
         "x": [
          "xgbc",
          "gaussian",
          "log"
         ],
         "xaxis": "x",
         "y": [
          0.19420421644738664,
          0.18152353362769547,
          0.1996509284805702
         ],
         "yaxis": "y"
        }
       ],
       "layout": {
        "barmode": "group",
        "legend": {
         "title": {
          "text": "variable"
         },
         "tracegroupgap": 0
        },
        "template": {
         "data": {
          "bar": [
           {
            "error_x": {
             "color": "#2a3f5f"
            },
            "error_y": {
             "color": "#2a3f5f"
            },
            "marker": {
             "line": {
              "color": "#E5ECF6",
              "width": 0.5
             }
            },
            "type": "bar"
           }
          ],
          "barpolar": [
           {
            "marker": {
             "line": {
              "color": "#E5ECF6",
              "width": 0.5
             }
            },
            "type": "barpolar"
           }
          ],
          "carpet": [
           {
            "aaxis": {
             "endlinecolor": "#2a3f5f",
             "gridcolor": "white",
             "linecolor": "white",
             "minorgridcolor": "white",
             "startlinecolor": "#2a3f5f"
            },
            "baxis": {
             "endlinecolor": "#2a3f5f",
             "gridcolor": "white",
             "linecolor": "white",
             "minorgridcolor": "white",
             "startlinecolor": "#2a3f5f"
            },
            "type": "carpet"
           }
          ],
          "choropleth": [
           {
            "colorbar": {
             "outlinewidth": 0,
             "ticks": ""
            },
            "type": "choropleth"
           }
          ],
          "contour": [
           {
            "colorbar": {
             "outlinewidth": 0,
             "ticks": ""
            },
            "colorscale": [
             [
              0,
              "#0d0887"
             ],
             [
              0.1111111111111111,
              "#46039f"
             ],
             [
              0.2222222222222222,
              "#7201a8"
             ],
             [
              0.3333333333333333,
              "#9c179e"
             ],
             [
              0.4444444444444444,
              "#bd3786"
             ],
             [
              0.5555555555555556,
              "#d8576b"
             ],
             [
              0.6666666666666666,
              "#ed7953"
             ],
             [
              0.7777777777777778,
              "#fb9f3a"
             ],
             [
              0.8888888888888888,
              "#fdca26"
             ],
             [
              1,
              "#f0f921"
             ]
            ],
            "type": "contour"
           }
          ],
          "contourcarpet": [
           {
            "colorbar": {
             "outlinewidth": 0,
             "ticks": ""
            },
            "type": "contourcarpet"
           }
          ],
          "heatmap": [
           {
            "colorbar": {
             "outlinewidth": 0,
             "ticks": ""
            },
            "colorscale": [
             [
              0,
              "#0d0887"
             ],
             [
              0.1111111111111111,
              "#46039f"
             ],
             [
              0.2222222222222222,
              "#7201a8"
             ],
             [
              0.3333333333333333,
              "#9c179e"
             ],
             [
              0.4444444444444444,
              "#bd3786"
             ],
             [
              0.5555555555555556,
              "#d8576b"
             ],
             [
              0.6666666666666666,
              "#ed7953"
             ],
             [
              0.7777777777777778,
              "#fb9f3a"
             ],
             [
              0.8888888888888888,
              "#fdca26"
             ],
             [
              1,
              "#f0f921"
             ]
            ],
            "type": "heatmap"
           }
          ],
          "heatmapgl": [
           {
            "colorbar": {
             "outlinewidth": 0,
             "ticks": ""
            },
            "colorscale": [
             [
              0,
              "#0d0887"
             ],
             [
              0.1111111111111111,
              "#46039f"
             ],
             [
              0.2222222222222222,
              "#7201a8"
             ],
             [
              0.3333333333333333,
              "#9c179e"
             ],
             [
              0.4444444444444444,
              "#bd3786"
             ],
             [
              0.5555555555555556,
              "#d8576b"
             ],
             [
              0.6666666666666666,
              "#ed7953"
             ],
             [
              0.7777777777777778,
              "#fb9f3a"
             ],
             [
              0.8888888888888888,
              "#fdca26"
             ],
             [
              1,
              "#f0f921"
             ]
            ],
            "type": "heatmapgl"
           }
          ],
          "histogram": [
           {
            "marker": {
             "colorbar": {
              "outlinewidth": 0,
              "ticks": ""
             }
            },
            "type": "histogram"
           }
          ],
          "histogram2d": [
           {
            "colorbar": {
             "outlinewidth": 0,
             "ticks": ""
            },
            "colorscale": [
             [
              0,
              "#0d0887"
             ],
             [
              0.1111111111111111,
              "#46039f"
             ],
             [
              0.2222222222222222,
              "#7201a8"
             ],
             [
              0.3333333333333333,
              "#9c179e"
             ],
             [
              0.4444444444444444,
              "#bd3786"
             ],
             [
              0.5555555555555556,
              "#d8576b"
             ],
             [
              0.6666666666666666,
              "#ed7953"
             ],
             [
              0.7777777777777778,
              "#fb9f3a"
             ],
             [
              0.8888888888888888,
              "#fdca26"
             ],
             [
              1,
              "#f0f921"
             ]
            ],
            "type": "histogram2d"
           }
          ],
          "histogram2dcontour": [
           {
            "colorbar": {
             "outlinewidth": 0,
             "ticks": ""
            },
            "colorscale": [
             [
              0,
              "#0d0887"
             ],
             [
              0.1111111111111111,
              "#46039f"
             ],
             [
              0.2222222222222222,
              "#7201a8"
             ],
             [
              0.3333333333333333,
              "#9c179e"
             ],
             [
              0.4444444444444444,
              "#bd3786"
             ],
             [
              0.5555555555555556,
              "#d8576b"
             ],
             [
              0.6666666666666666,
              "#ed7953"
             ],
             [
              0.7777777777777778,
              "#fb9f3a"
             ],
             [
              0.8888888888888888,
              "#fdca26"
             ],
             [
              1,
              "#f0f921"
             ]
            ],
            "type": "histogram2dcontour"
           }
          ],
          "mesh3d": [
           {
            "colorbar": {
             "outlinewidth": 0,
             "ticks": ""
            },
            "type": "mesh3d"
           }
          ],
          "parcoords": [
           {
            "line": {
             "colorbar": {
              "outlinewidth": 0,
              "ticks": ""
             }
            },
            "type": "parcoords"
           }
          ],
          "pie": [
           {
            "automargin": true,
            "type": "pie"
           }
          ],
          "scatter": [
           {
            "marker": {
             "colorbar": {
              "outlinewidth": 0,
              "ticks": ""
             }
            },
            "type": "scatter"
           }
          ],
          "scatter3d": [
           {
            "line": {
             "colorbar": {
              "outlinewidth": 0,
              "ticks": ""
             }
            },
            "marker": {
             "colorbar": {
              "outlinewidth": 0,
              "ticks": ""
             }
            },
            "type": "scatter3d"
           }
          ],
          "scattercarpet": [
           {
            "marker": {
             "colorbar": {
              "outlinewidth": 0,
              "ticks": ""
             }
            },
            "type": "scattercarpet"
           }
          ],
          "scattergeo": [
           {
            "marker": {
             "colorbar": {
              "outlinewidth": 0,
              "ticks": ""
             }
            },
            "type": "scattergeo"
           }
          ],
          "scattergl": [
           {
            "marker": {
             "colorbar": {
              "outlinewidth": 0,
              "ticks": ""
             }
            },
            "type": "scattergl"
           }
          ],
          "scattermapbox": [
           {
            "marker": {
             "colorbar": {
              "outlinewidth": 0,
              "ticks": ""
             }
            },
            "type": "scattermapbox"
           }
          ],
          "scatterpolar": [
           {
            "marker": {
             "colorbar": {
              "outlinewidth": 0,
              "ticks": ""
             }
            },
            "type": "scatterpolar"
           }
          ],
          "scatterpolargl": [
           {
            "marker": {
             "colorbar": {
              "outlinewidth": 0,
              "ticks": ""
             }
            },
            "type": "scatterpolargl"
           }
          ],
          "scatterternary": [
           {
            "marker": {
             "colorbar": {
              "outlinewidth": 0,
              "ticks": ""
             }
            },
            "type": "scatterternary"
           }
          ],
          "surface": [
           {
            "colorbar": {
             "outlinewidth": 0,
             "ticks": ""
            },
            "colorscale": [
             [
              0,
              "#0d0887"
             ],
             [
              0.1111111111111111,
              "#46039f"
             ],
             [
              0.2222222222222222,
              "#7201a8"
             ],
             [
              0.3333333333333333,
              "#9c179e"
             ],
             [
              0.4444444444444444,
              "#bd3786"
             ],
             [
              0.5555555555555556,
              "#d8576b"
             ],
             [
              0.6666666666666666,
              "#ed7953"
             ],
             [
              0.7777777777777778,
              "#fb9f3a"
             ],
             [
              0.8888888888888888,
              "#fdca26"
             ],
             [
              1,
              "#f0f921"
             ]
            ],
            "type": "surface"
           }
          ],
          "table": [
           {
            "cells": {
             "fill": {
              "color": "#EBF0F8"
             },
             "line": {
              "color": "white"
             }
            },
            "header": {
             "fill": {
              "color": "#C8D4E3"
             },
             "line": {
              "color": "white"
             }
            },
            "type": "table"
           }
          ]
         },
         "layout": {
          "annotationdefaults": {
           "arrowcolor": "#2a3f5f",
           "arrowhead": 0,
           "arrowwidth": 1
          },
          "coloraxis": {
           "colorbar": {
            "outlinewidth": 0,
            "ticks": ""
           }
          },
          "colorscale": {
           "diverging": [
            [
             0,
             "#8e0152"
            ],
            [
             0.1,
             "#c51b7d"
            ],
            [
             0.2,
             "#de77ae"
            ],
            [
             0.3,
             "#f1b6da"
            ],
            [
             0.4,
             "#fde0ef"
            ],
            [
             0.5,
             "#f7f7f7"
            ],
            [
             0.6,
             "#e6f5d0"
            ],
            [
             0.7,
             "#b8e186"
            ],
            [
             0.8,
             "#7fbc41"
            ],
            [
             0.9,
             "#4d9221"
            ],
            [
             1,
             "#276419"
            ]
           ],
           "sequential": [
            [
             0,
             "#0d0887"
            ],
            [
             0.1111111111111111,
             "#46039f"
            ],
            [
             0.2222222222222222,
             "#7201a8"
            ],
            [
             0.3333333333333333,
             "#9c179e"
            ],
            [
             0.4444444444444444,
             "#bd3786"
            ],
            [
             0.5555555555555556,
             "#d8576b"
            ],
            [
             0.6666666666666666,
             "#ed7953"
            ],
            [
             0.7777777777777778,
             "#fb9f3a"
            ],
            [
             0.8888888888888888,
             "#fdca26"
            ],
            [
             1,
             "#f0f921"
            ]
           ],
           "sequentialminus": [
            [
             0,
             "#0d0887"
            ],
            [
             0.1111111111111111,
             "#46039f"
            ],
            [
             0.2222222222222222,
             "#7201a8"
            ],
            [
             0.3333333333333333,
             "#9c179e"
            ],
            [
             0.4444444444444444,
             "#bd3786"
            ],
            [
             0.5555555555555556,
             "#d8576b"
            ],
            [
             0.6666666666666666,
             "#ed7953"
            ],
            [
             0.7777777777777778,
             "#fb9f3a"
            ],
            [
             0.8888888888888888,
             "#fdca26"
            ],
            [
             1,
             "#f0f921"
            ]
           ]
          },
          "colorway": [
           "#636efa",
           "#EF553B",
           "#00cc96",
           "#ab63fa",
           "#FFA15A",
           "#19d3f3",
           "#FF6692",
           "#B6E880",
           "#FF97FF",
           "#FECB52"
          ],
          "font": {
           "color": "#2a3f5f"
          },
          "geo": {
           "bgcolor": "white",
           "lakecolor": "white",
           "landcolor": "#E5ECF6",
           "showlakes": true,
           "showland": true,
           "subunitcolor": "white"
          },
          "hoverlabel": {
           "align": "left"
          },
          "hovermode": "closest",
          "mapbox": {
           "style": "light"
          },
          "paper_bgcolor": "white",
          "plot_bgcolor": "#E5ECF6",
          "polar": {
           "angularaxis": {
            "gridcolor": "white",
            "linecolor": "white",
            "ticks": ""
           },
           "bgcolor": "#E5ECF6",
           "radialaxis": {
            "gridcolor": "white",
            "linecolor": "white",
            "ticks": ""
           }
          },
          "scene": {
           "xaxis": {
            "backgroundcolor": "#E5ECF6",
            "gridcolor": "white",
            "gridwidth": 2,
            "linecolor": "white",
            "showbackground": true,
            "ticks": "",
            "zerolinecolor": "white"
           },
           "yaxis": {
            "backgroundcolor": "#E5ECF6",
            "gridcolor": "white",
            "gridwidth": 2,
            "linecolor": "white",
            "showbackground": true,
            "ticks": "",
            "zerolinecolor": "white"
           },
           "zaxis": {
            "backgroundcolor": "#E5ECF6",
            "gridcolor": "white",
            "gridwidth": 2,
            "linecolor": "white",
            "showbackground": true,
            "ticks": "",
            "zerolinecolor": "white"
           }
          },
          "shapedefaults": {
           "line": {
            "color": "#2a3f5f"
           }
          },
          "ternary": {
           "aaxis": {
            "gridcolor": "white",
            "linecolor": "white",
            "ticks": ""
           },
           "baxis": {
            "gridcolor": "white",
            "linecolor": "white",
            "ticks": ""
           },
           "bgcolor": "#E5ECF6",
           "caxis": {
            "gridcolor": "white",
            "linecolor": "white",
            "ticks": ""
           }
          },
          "title": {
           "x": 0.05
          },
          "xaxis": {
           "automargin": true,
           "gridcolor": "white",
           "linecolor": "white",
           "ticks": "",
           "title": {
            "standoff": 15
           },
           "zerolinecolor": "white",
           "zerolinewidth": 2
          },
          "yaxis": {
           "automargin": true,
           "gridcolor": "white",
           "linecolor": "white",
           "ticks": "",
           "title": {
            "standoff": 15
           },
           "zerolinecolor": "white",
           "zerolinewidth": 2
          }
         }
        },
        "title": {
         "text": "Classifier comparison"
        },
        "xaxis": {
         "anchor": "y",
         "domain": [
          0,
          1
         ],
         "title": {
          "text": "Classifier"
         }
        },
        "yaxis": {
         "anchor": "x",
         "domain": [
          0,
          1
         ],
         "title": {
          "text": "value"
         }
        }
       }
      },
      "text/html": [
       "<div>\n",
       "        \n",
       "        \n",
       "            <div id=\"4b5d590f-d452-42c5-9351-d731c6203cce\" class=\"plotly-graph-div\" style=\"height:525px; width:100%;\"></div>\n",
       "            <script type=\"text/javascript\">\n",
       "                require([\"plotly\"], function(Plotly) {\n",
       "                    window.PLOTLYENV=window.PLOTLYENV || {};\n",
       "                    \n",
       "                if (document.getElementById(\"4b5d590f-d452-42c5-9351-d731c6203cce\")) {\n",
       "                    Plotly.newPlot(\n",
       "                        '4b5d590f-d452-42c5-9351-d731c6203cce',\n",
       "                        [{\"alignmentgroup\": \"True\", \"hovertemplate\": \"variable=Accuracy<br>Classifier=%{x}<br>value=%{y}<extra></extra>\", \"legendgroup\": \"Accuracy\", \"marker\": {\"color\": \"#636efa\"}, \"name\": \"Accuracy\", \"offsetgroup\": \"Accuracy\", \"orientation\": \"v\", \"showlegend\": true, \"textposition\": \"auto\", \"type\": \"bar\", \"x\": [\"xgbc\", \"gaussian\", \"log\"], \"xaxis\": \"x\", \"y\": [0.8936170212765957, 0.8529411764705882, 0.9017521902377973], \"yaxis\": \"y\"}, {\"alignmentgroup\": \"True\", \"hovertemplate\": \"variable=True positives<br>Classifier=%{x}<br>value=%{y}<extra></extra>\", \"legendgroup\": \"True positives\", \"marker\": {\"color\": \"#EF553B\"}, \"name\": \"True positives\", \"offsetgroup\": \"True positives\", \"orientation\": \"v\", \"showlegend\": true, \"textposition\": \"auto\", \"type\": \"bar\", \"x\": [\"xgbc\", \"gaussian\", \"log\"], \"xaxis\": \"x\", \"y\": [0.20604395604395603, 0.14560439560439561, 0.2032967032967033], \"yaxis\": \"y\"}, {\"alignmentgroup\": \"True\", \"hovertemplate\": \"variable=False Positives<br>Classifier=%{x}<br>value=%{y}<extra></extra>\", \"legendgroup\": \"False Positives\", \"marker\": {\"color\": \"#00cc96\"}, \"name\": \"False Positives\", \"offsetgroup\": \"False Positives\", \"orientation\": \"v\", \"showlegend\": true, \"textposition\": \"auto\", \"type\": \"bar\", \"x\": [\"xgbc\", \"gaussian\", \"log\"], \"xaxis\": \"x\", \"y\": [0.40476190476190477, 0.75, 0.24489795918367346], \"yaxis\": \"y\"}, {\"alignmentgroup\": \"True\", \"hovertemplate\": \"variable=F1 score<br>Classifier=%{x}<br>value=%{y}<extra></extra>\", \"legendgroup\": \"F1 score\", \"marker\": {\"color\": \"#ab63fa\"}, \"name\": \"F1 score\", \"offsetgroup\": \"F1 score\", \"orientation\": \"v\", \"showlegend\": true, \"textposition\": \"auto\", \"type\": \"bar\", \"x\": [\"xgbc\", \"gaussian\", \"log\"], \"xaxis\": \"x\", \"y\": [0.19420421644738664, 0.18152353362769547, 0.1996509284805702], \"yaxis\": \"y\"}],\n",
       "                        {\"barmode\": \"group\", \"legend\": {\"title\": {\"text\": \"variable\"}, \"tracegroupgap\": 0}, \"template\": {\"data\": {\"bar\": [{\"error_x\": {\"color\": \"#2a3f5f\"}, \"error_y\": {\"color\": \"#2a3f5f\"}, \"marker\": {\"line\": {\"color\": \"#E5ECF6\", \"width\": 0.5}}, \"type\": \"bar\"}], \"barpolar\": [{\"marker\": {\"line\": {\"color\": \"#E5ECF6\", \"width\": 0.5}}, \"type\": \"barpolar\"}], \"carpet\": [{\"aaxis\": {\"endlinecolor\": \"#2a3f5f\", \"gridcolor\": \"white\", \"linecolor\": \"white\", \"minorgridcolor\": \"white\", \"startlinecolor\": \"#2a3f5f\"}, \"baxis\": {\"endlinecolor\": \"#2a3f5f\", \"gridcolor\": \"white\", \"linecolor\": \"white\", \"minorgridcolor\": \"white\", \"startlinecolor\": \"#2a3f5f\"}, \"type\": \"carpet\"}], \"choropleth\": [{\"colorbar\": {\"outlinewidth\": 0, \"ticks\": \"\"}, \"type\": \"choropleth\"}], \"contour\": [{\"colorbar\": {\"outlinewidth\": 0, \"ticks\": \"\"}, \"colorscale\": [[0.0, \"#0d0887\"], [0.1111111111111111, \"#46039f\"], [0.2222222222222222, \"#7201a8\"], [0.3333333333333333, \"#9c179e\"], [0.4444444444444444, \"#bd3786\"], [0.5555555555555556, \"#d8576b\"], [0.6666666666666666, \"#ed7953\"], [0.7777777777777778, \"#fb9f3a\"], [0.8888888888888888, \"#fdca26\"], [1.0, \"#f0f921\"]], \"type\": \"contour\"}], \"contourcarpet\": [{\"colorbar\": {\"outlinewidth\": 0, \"ticks\": \"\"}, \"type\": \"contourcarpet\"}], \"heatmap\": [{\"colorbar\": {\"outlinewidth\": 0, \"ticks\": \"\"}, \"colorscale\": [[0.0, \"#0d0887\"], [0.1111111111111111, \"#46039f\"], [0.2222222222222222, \"#7201a8\"], [0.3333333333333333, \"#9c179e\"], [0.4444444444444444, \"#bd3786\"], [0.5555555555555556, \"#d8576b\"], [0.6666666666666666, \"#ed7953\"], [0.7777777777777778, \"#fb9f3a\"], [0.8888888888888888, \"#fdca26\"], [1.0, \"#f0f921\"]], \"type\": \"heatmap\"}], \"heatmapgl\": [{\"colorbar\": {\"outlinewidth\": 0, \"ticks\": \"\"}, \"colorscale\": [[0.0, \"#0d0887\"], [0.1111111111111111, \"#46039f\"], [0.2222222222222222, \"#7201a8\"], [0.3333333333333333, \"#9c179e\"], [0.4444444444444444, \"#bd3786\"], [0.5555555555555556, \"#d8576b\"], [0.6666666666666666, \"#ed7953\"], [0.7777777777777778, \"#fb9f3a\"], [0.8888888888888888, \"#fdca26\"], [1.0, \"#f0f921\"]], \"type\": \"heatmapgl\"}], \"histogram\": [{\"marker\": {\"colorbar\": {\"outlinewidth\": 0, \"ticks\": \"\"}}, \"type\": \"histogram\"}], \"histogram2d\": [{\"colorbar\": {\"outlinewidth\": 0, \"ticks\": \"\"}, \"colorscale\": [[0.0, \"#0d0887\"], [0.1111111111111111, \"#46039f\"], [0.2222222222222222, \"#7201a8\"], [0.3333333333333333, \"#9c179e\"], [0.4444444444444444, \"#bd3786\"], [0.5555555555555556, \"#d8576b\"], [0.6666666666666666, \"#ed7953\"], [0.7777777777777778, \"#fb9f3a\"], [0.8888888888888888, \"#fdca26\"], [1.0, \"#f0f921\"]], \"type\": \"histogram2d\"}], \"histogram2dcontour\": [{\"colorbar\": {\"outlinewidth\": 0, \"ticks\": \"\"}, \"colorscale\": [[0.0, \"#0d0887\"], [0.1111111111111111, \"#46039f\"], [0.2222222222222222, \"#7201a8\"], [0.3333333333333333, \"#9c179e\"], [0.4444444444444444, \"#bd3786\"], [0.5555555555555556, \"#d8576b\"], [0.6666666666666666, \"#ed7953\"], [0.7777777777777778, \"#fb9f3a\"], [0.8888888888888888, \"#fdca26\"], [1.0, \"#f0f921\"]], \"type\": \"histogram2dcontour\"}], \"mesh3d\": [{\"colorbar\": {\"outlinewidth\": 0, \"ticks\": \"\"}, \"type\": \"mesh3d\"}], \"parcoords\": [{\"line\": {\"colorbar\": {\"outlinewidth\": 0, \"ticks\": \"\"}}, \"type\": \"parcoords\"}], \"pie\": [{\"automargin\": true, \"type\": \"pie\"}], \"scatter\": [{\"marker\": {\"colorbar\": {\"outlinewidth\": 0, \"ticks\": \"\"}}, \"type\": \"scatter\"}], \"scatter3d\": [{\"line\": {\"colorbar\": {\"outlinewidth\": 0, \"ticks\": \"\"}}, \"marker\": {\"colorbar\": {\"outlinewidth\": 0, \"ticks\": \"\"}}, \"type\": \"scatter3d\"}], \"scattercarpet\": [{\"marker\": {\"colorbar\": {\"outlinewidth\": 0, \"ticks\": \"\"}}, \"type\": \"scattercarpet\"}], \"scattergeo\": [{\"marker\": {\"colorbar\": {\"outlinewidth\": 0, \"ticks\": \"\"}}, \"type\": \"scattergeo\"}], \"scattergl\": [{\"marker\": {\"colorbar\": {\"outlinewidth\": 0, \"ticks\": \"\"}}, \"type\": \"scattergl\"}], \"scattermapbox\": [{\"marker\": {\"colorbar\": {\"outlinewidth\": 0, \"ticks\": \"\"}}, \"type\": \"scattermapbox\"}], \"scatterpolar\": [{\"marker\": {\"colorbar\": {\"outlinewidth\": 0, \"ticks\": \"\"}}, \"type\": \"scatterpolar\"}], \"scatterpolargl\": [{\"marker\": {\"colorbar\": {\"outlinewidth\": 0, \"ticks\": \"\"}}, \"type\": \"scatterpolargl\"}], \"scatterternary\": [{\"marker\": {\"colorbar\": {\"outlinewidth\": 0, \"ticks\": \"\"}}, \"type\": \"scatterternary\"}], \"surface\": [{\"colorbar\": {\"outlinewidth\": 0, \"ticks\": \"\"}, \"colorscale\": [[0.0, \"#0d0887\"], [0.1111111111111111, \"#46039f\"], [0.2222222222222222, \"#7201a8\"], [0.3333333333333333, \"#9c179e\"], [0.4444444444444444, \"#bd3786\"], [0.5555555555555556, \"#d8576b\"], [0.6666666666666666, \"#ed7953\"], [0.7777777777777778, \"#fb9f3a\"], [0.8888888888888888, \"#fdca26\"], [1.0, \"#f0f921\"]], \"type\": \"surface\"}], \"table\": [{\"cells\": {\"fill\": {\"color\": \"#EBF0F8\"}, \"line\": {\"color\": \"white\"}}, \"header\": {\"fill\": {\"color\": \"#C8D4E3\"}, \"line\": {\"color\": \"white\"}}, \"type\": \"table\"}]}, \"layout\": {\"annotationdefaults\": {\"arrowcolor\": \"#2a3f5f\", \"arrowhead\": 0, \"arrowwidth\": 1}, \"coloraxis\": {\"colorbar\": {\"outlinewidth\": 0, \"ticks\": \"\"}}, \"colorscale\": {\"diverging\": [[0, \"#8e0152\"], [0.1, \"#c51b7d\"], [0.2, \"#de77ae\"], [0.3, \"#f1b6da\"], [0.4, \"#fde0ef\"], [0.5, \"#f7f7f7\"], [0.6, \"#e6f5d0\"], [0.7, \"#b8e186\"], [0.8, \"#7fbc41\"], [0.9, \"#4d9221\"], [1, \"#276419\"]], \"sequential\": [[0.0, \"#0d0887\"], [0.1111111111111111, \"#46039f\"], [0.2222222222222222, \"#7201a8\"], [0.3333333333333333, \"#9c179e\"], [0.4444444444444444, \"#bd3786\"], [0.5555555555555556, \"#d8576b\"], [0.6666666666666666, \"#ed7953\"], [0.7777777777777778, \"#fb9f3a\"], [0.8888888888888888, \"#fdca26\"], [1.0, \"#f0f921\"]], \"sequentialminus\": [[0.0, \"#0d0887\"], [0.1111111111111111, \"#46039f\"], [0.2222222222222222, \"#7201a8\"], [0.3333333333333333, \"#9c179e\"], [0.4444444444444444, \"#bd3786\"], [0.5555555555555556, \"#d8576b\"], [0.6666666666666666, \"#ed7953\"], [0.7777777777777778, \"#fb9f3a\"], [0.8888888888888888, \"#fdca26\"], [1.0, \"#f0f921\"]]}, \"colorway\": [\"#636efa\", \"#EF553B\", \"#00cc96\", \"#ab63fa\", \"#FFA15A\", \"#19d3f3\", \"#FF6692\", \"#B6E880\", \"#FF97FF\", \"#FECB52\"], \"font\": {\"color\": \"#2a3f5f\"}, \"geo\": {\"bgcolor\": \"white\", \"lakecolor\": \"white\", \"landcolor\": \"#E5ECF6\", \"showlakes\": true, \"showland\": true, \"subunitcolor\": \"white\"}, \"hoverlabel\": {\"align\": \"left\"}, \"hovermode\": \"closest\", \"mapbox\": {\"style\": \"light\"}, \"paper_bgcolor\": \"white\", \"plot_bgcolor\": \"#E5ECF6\", \"polar\": {\"angularaxis\": {\"gridcolor\": \"white\", \"linecolor\": \"white\", \"ticks\": \"\"}, \"bgcolor\": \"#E5ECF6\", \"radialaxis\": {\"gridcolor\": \"white\", \"linecolor\": \"white\", \"ticks\": \"\"}}, \"scene\": {\"xaxis\": {\"backgroundcolor\": \"#E5ECF6\", \"gridcolor\": \"white\", \"gridwidth\": 2, \"linecolor\": \"white\", \"showbackground\": true, \"ticks\": \"\", \"zerolinecolor\": \"white\"}, \"yaxis\": {\"backgroundcolor\": \"#E5ECF6\", \"gridcolor\": \"white\", \"gridwidth\": 2, \"linecolor\": \"white\", \"showbackground\": true, \"ticks\": \"\", \"zerolinecolor\": \"white\"}, \"zaxis\": {\"backgroundcolor\": \"#E5ECF6\", \"gridcolor\": \"white\", \"gridwidth\": 2, \"linecolor\": \"white\", \"showbackground\": true, \"ticks\": \"\", \"zerolinecolor\": \"white\"}}, \"shapedefaults\": {\"line\": {\"color\": \"#2a3f5f\"}}, \"ternary\": {\"aaxis\": {\"gridcolor\": \"white\", \"linecolor\": \"white\", \"ticks\": \"\"}, \"baxis\": {\"gridcolor\": \"white\", \"linecolor\": \"white\", \"ticks\": \"\"}, \"bgcolor\": \"#E5ECF6\", \"caxis\": {\"gridcolor\": \"white\", \"linecolor\": \"white\", \"ticks\": \"\"}}, \"title\": {\"x\": 0.05}, \"xaxis\": {\"automargin\": true, \"gridcolor\": \"white\", \"linecolor\": \"white\", \"ticks\": \"\", \"title\": {\"standoff\": 15}, \"zerolinecolor\": \"white\", \"zerolinewidth\": 2}, \"yaxis\": {\"automargin\": true, \"gridcolor\": \"white\", \"linecolor\": \"white\", \"ticks\": \"\", \"title\": {\"standoff\": 15}, \"zerolinecolor\": \"white\", \"zerolinewidth\": 2}}}, \"title\": {\"text\": \"Classifier comparison\"}, \"xaxis\": {\"anchor\": \"y\", \"domain\": [0.0, 1.0], \"title\": {\"text\": \"Classifier\"}}, \"yaxis\": {\"anchor\": \"x\", \"domain\": [0.0, 1.0], \"title\": {\"text\": \"value\"}}},\n",
       "                        {\"responsive\": true}\n",
       "                    ).then(function(){\n",
       "                            \n",
       "var gd = document.getElementById('4b5d590f-d452-42c5-9351-d731c6203cce');\n",
       "var x = new MutationObserver(function (mutations, observer) {{\n",
       "        var display = window.getComputedStyle(gd).display;\n",
       "        if (!display || display === 'none') {{\n",
       "            console.log([gd, 'removed!']);\n",
       "            Plotly.purge(gd);\n",
       "            observer.disconnect();\n",
       "        }}\n",
       "}});\n",
       "\n",
       "// Listen for the removal of the full notebook cells\n",
       "var notebookContainer = gd.closest('#notebook-container');\n",
       "if (notebookContainer) {{\n",
       "    x.observe(notebookContainer, {childList: true});\n",
       "}}\n",
       "\n",
       "// Listen for the clearing of the current output cell\n",
       "var outputEl = gd.closest('.output');\n",
       "if (outputEl) {{\n",
       "    x.observe(outputEl, {childList: true});\n",
       "}}\n",
       "\n",
       "                        })\n",
       "                };\n",
       "                });\n",
       "            </script>\n",
       "        </div>"
      ]
     },
     "metadata": {},
     "output_type": "display_data"
    },
    {
     "data": {
      "text/html": [
       "<ol>\n",
       "            <li><strong>Accuracy</strong>: correctly predicted shots / total shots</li>\n",
       "            <li><strong>True positives</strong>: correctly classified goals / actual goals</li>\n",
       "            <li><strong>False positives</strong>: incorrectly classified goals / actual goals</li>\n",
       "            <li><strong>F1 score</strong>: F1 score of the classifier</li>\n",
       "        </ol><br>\n",
       "        Accuracy is not a reliable metric in this case due to uneven label numbers.<br>\n",
       "        We instead rely on F1 scores while keeping an eye on True positives and False positives.<br>\n",
       "        F1 scores for all three models are similar, we focus on True positives as a secondary metric since \n",
       "        our aim is to correctly predict goals.\n",
       "        <br><br>\n",
       "        <strong>From the data we can conclude that the Logistic Regression is the best option for \n",
       "        this classification.</strong>"
      ],
      "text/plain": [
       "<IPython.core.display.HTML object>"
      ]
     },
     "metadata": {},
     "output_type": "display_data"
    }
   ],
   "source": [
    "fig = px.bar(classifer_score_df, y=['Accuracy', 'True positives', 'False Positives', 'F1 score'], x='Classifier', barmode='group', title='Classifier comparison')\n",
    "fig.show()\n",
    "\n",
    "display(HTML('''<ol>\n",
    "            <li><strong>Accuracy</strong>: correctly predicted shots / total shots</li>\n",
    "            <li><strong>True positives</strong>: correctly classified goals / actual goals</li>\n",
    "            <li><strong>False positives</strong>: incorrectly classified goals / actual goals</li>\n",
    "            <li><strong>F1 score</strong>: F1 score of the classifier</li>\n",
    "        </ol><br>\n",
    "        Accuracy is not a reliable metric in this case due to uneven label numbers.<br>\n",
    "        We instead rely on F1 scores while keeping an eye on True positives and False positives.<br>\n",
    "        F1 scores for all three models are similar, we focus on True positives as a secondary metric since \n",
    "        our aim is to correctly predict goals.\n",
    "        <br><br>\n",
    "        <strong>From the data we can conclude that the Logistic Regression is the best option for \n",
    "        this classification.</strong>'''))"
   ]
  },
  {
   "cell_type": "markdown",
   "metadata": {},
   "source": [
    "##### Parameter tuning"
   ]
  },
  {
   "cell_type": "code",
   "execution_count": 140,
   "metadata": {},
   "outputs": [],
   "source": [
    "def clean_split_validation(data):\n",
    "    # drop non-feature columns\n",
    "    data = data.drop(columns=['Timestamp', 'Notes', 'Minute'])\n",
    "    # fill null values in threat with mean\n",
    "    data['Threat'] = data['Threat'].fillna(data['Threat'].mean())\n",
    "    # separate label columns from data\n",
    "    goals = data['Goal']\n",
    "    data = data.drop(columns=['Goal'])\n",
    "    # fill any null value, only true for penalty kicks' distance\n",
    "    data = data.fillna(0)\n",
    "    \n",
    "    scaler = StandardScaler()\n",
    "    \n",
    "    data[['Distance', 'Threat']] = scaler.fit_transform(data[['Distance', 'Threat']])\n",
    "    \n",
    "    return train_test_split(data, goals, test_size=0.1, random_state=10)"
   ]
  },
  {
   "cell_type": "markdown",
   "metadata": {},
   "source": [
    "We iterate over each selected classifier and collect scores for each shot type"
   ]
  },
  {
   "cell_type": "code",
   "execution_count": 141,
   "metadata": {},
   "outputs": [],
   "source": [
    "classifiers = [GradientBoostingClassifier(max_depth=2, learning_rate=0.1, subsample=0.15),\n",
    "               GradientBoostingClassifier(max_depth=3, learning_rate=0.1, subsample=0.15),\n",
    "              GradientBoostingClassifier(max_depth=4, learning_rate=0.1, subsample=0.15),\n",
    "              GradientBoostingClassifier(max_depth=5, learning_rate=0.1, subsample=0.15),\n",
    "              GradientBoostingClassifier(max_depth=7, learning_rate=0.1, subsample=0.15),\n",
    "              GradientBoostingClassifier(max_depth=10, learning_rate=0.1, subsample=0.15)]\n",
    "\n",
    "cls_scores = []\n",
    "\n",
    "cls_names = ['2', '3', '4', '5', '7', '10']\n",
    "\n",
    "for cls in classifiers:\n",
    "    # variables to collect data\n",
    "    correct_shots = 0\n",
    "    goals = 0\n",
    "    false_goals = 0\n",
    "    f1_scores = 0\n",
    "    total_pred_goals = 0\n",
    "    total_shots = 0\n",
    "    total_goals = 0\n",
    "\n",
    "    # training and collecting result from each classifier over each type of shot\n",
    "    for k, v in type_dfs.items():\n",
    "\n",
    "        x_train, x_test, y_train, y_test = get_train_ready(v)\n",
    "        cls = cls.fit(x_train, y_train)\n",
    "        pred = cls.predict(x_test)\n",
    "\n",
    "        total_shots += len(y_test)\n",
    "        total_goals += sum(y_test > 0)\n",
    "        total_pred_goals += sum(pred > 0)\n",
    "\n",
    "        false_goals += sum(pred[pred > 0] != y_test[pred > 0])\n",
    "        correct_shots += sum(pred == y_test)\n",
    "        goals += sum(pred[y_test > 0] == y_test[y_test > 0])\n",
    "        f1_scores += f1_score(y_test, pred) * len(y_test)\n",
    "\n",
    "    cls_scores.append([correct_shots / total_shots, goals / total_goals, \n",
    "                   false_goals / total_pred_goals, f1_scores / total_shots])"
   ]
  },
  {
   "cell_type": "markdown",
   "metadata": {},
   "source": [
    "We put these readings into a DataFrame object"
   ]
  },
  {
   "cell_type": "code",
   "execution_count": 146,
   "metadata": {},
   "outputs": [],
   "source": [
    "# new DataFrame object\n",
    "classifer_score_df = pd.DataFrame()\n",
    "# iterate over scores\n",
    "for n, s in zip(cls_names, cls_scores):\n",
    "    new_row = [n, *s]\n",
    "    classifer_score_df = classifer_score_df.append([new_row])\n",
    "    \n",
    "classifer_score_df.columns = ['Classifier', 'Accuracy', 'True positives', 'False Positives', 'F1 score']\n",
    "classifer_score_df = classifer_score_df.reset_index(drop=True)"
   ]
  },
  {
   "cell_type": "code",
   "execution_count": 147,
   "metadata": {},
   "outputs": [
    {
     "data": {
      "application/vnd.plotly.v1+json": {
       "config": {
        "plotlyServerURL": "https://plot.ly"
       },
       "data": [
        {
         "alignmentgroup": "True",
         "hovertemplate": "variable=Accuracy<br>Classifier=%{x}<br>value=%{y}<extra></extra>",
         "legendgroup": "Accuracy",
         "marker": {
          "color": "#636efa"
         },
         "name": "Accuracy",
         "offsetgroup": "Accuracy",
         "orientation": "v",
         "showlegend": true,
         "textposition": "auto",
         "type": "bar",
         "x": [
          "2",
          "3",
          "4",
          "5",
          "7",
          "10"
         ],
         "xaxis": "x",
         "y": [
          0.9005006257822278,
          0.8970588235294118,
          0.8995619524405507,
          0.8911138923654568,
          0.8914267834793492,
          0.8773466833541927
         ],
         "yaxis": "y"
        },
        {
         "alignmentgroup": "True",
         "hovertemplate": "variable=True positives<br>Classifier=%{x}<br>value=%{y}<extra></extra>",
         "legendgroup": "True positives",
         "marker": {
          "color": "#EF553B"
         },
         "name": "True positives",
         "offsetgroup": "True positives",
         "orientation": "v",
         "showlegend": true,
         "textposition": "auto",
         "type": "bar",
         "x": [
          "2",
          "3",
          "4",
          "5",
          "7",
          "10"
         ],
         "xaxis": "x",
         "y": [
          0.19230769230769232,
          0.19505494505494506,
          0.2032967032967033,
          0.2087912087912088,
          0.23901098901098902,
          0.28296703296703296
         ],
         "yaxis": "y"
        },
        {
         "alignmentgroup": "True",
         "hovertemplate": "variable=False Positives<br>Classifier=%{x}<br>value=%{y}<extra></extra>",
         "legendgroup": "False Positives",
         "marker": {
          "color": "#00cc96"
         },
         "name": "False Positives",
         "offsetgroup": "False Positives",
         "orientation": "v",
         "showlegend": true,
         "textposition": "auto",
         "type": "bar",
         "x": [
          "2",
          "3",
          "4",
          "5",
          "7",
          "10"
         ],
         "xaxis": "x",
         "y": [
          0.2553191489361702,
          0.3364485981308411,
          0.29523809523809524,
          0.4411764705882353,
          0.445859872611465,
          0.5598290598290598
         ],
         "yaxis": "y"
        },
        {
         "alignmentgroup": "True",
         "hovertemplate": "variable=F1 score<br>Classifier=%{x}<br>value=%{y}<extra></extra>",
         "legendgroup": "F1 score",
         "marker": {
          "color": "#ab63fa"
         },
         "name": "F1 score",
         "offsetgroup": "F1 score",
         "orientation": "v",
         "showlegend": true,
         "textposition": "auto",
         "type": "bar",
         "x": [
          "2",
          "3",
          "4",
          "5",
          "7",
          "10"
         ],
         "xaxis": "x",
         "y": [
          0.17703814697245066,
          0.1812251425392852,
          0.200963015491345,
          0.19318411221031742,
          0.22818465367745716,
          0.2581677082669703
         ],
         "yaxis": "y"
        }
       ],
       "layout": {
        "barmode": "group",
        "legend": {
         "title": {
          "text": "variable"
         },
         "tracegroupgap": 0
        },
        "template": {
         "data": {
          "bar": [
           {
            "error_x": {
             "color": "#2a3f5f"
            },
            "error_y": {
             "color": "#2a3f5f"
            },
            "marker": {
             "line": {
              "color": "#E5ECF6",
              "width": 0.5
             }
            },
            "type": "bar"
           }
          ],
          "barpolar": [
           {
            "marker": {
             "line": {
              "color": "#E5ECF6",
              "width": 0.5
             }
            },
            "type": "barpolar"
           }
          ],
          "carpet": [
           {
            "aaxis": {
             "endlinecolor": "#2a3f5f",
             "gridcolor": "white",
             "linecolor": "white",
             "minorgridcolor": "white",
             "startlinecolor": "#2a3f5f"
            },
            "baxis": {
             "endlinecolor": "#2a3f5f",
             "gridcolor": "white",
             "linecolor": "white",
             "minorgridcolor": "white",
             "startlinecolor": "#2a3f5f"
            },
            "type": "carpet"
           }
          ],
          "choropleth": [
           {
            "colorbar": {
             "outlinewidth": 0,
             "ticks": ""
            },
            "type": "choropleth"
           }
          ],
          "contour": [
           {
            "colorbar": {
             "outlinewidth": 0,
             "ticks": ""
            },
            "colorscale": [
             [
              0,
              "#0d0887"
             ],
             [
              0.1111111111111111,
              "#46039f"
             ],
             [
              0.2222222222222222,
              "#7201a8"
             ],
             [
              0.3333333333333333,
              "#9c179e"
             ],
             [
              0.4444444444444444,
              "#bd3786"
             ],
             [
              0.5555555555555556,
              "#d8576b"
             ],
             [
              0.6666666666666666,
              "#ed7953"
             ],
             [
              0.7777777777777778,
              "#fb9f3a"
             ],
             [
              0.8888888888888888,
              "#fdca26"
             ],
             [
              1,
              "#f0f921"
             ]
            ],
            "type": "contour"
           }
          ],
          "contourcarpet": [
           {
            "colorbar": {
             "outlinewidth": 0,
             "ticks": ""
            },
            "type": "contourcarpet"
           }
          ],
          "heatmap": [
           {
            "colorbar": {
             "outlinewidth": 0,
             "ticks": ""
            },
            "colorscale": [
             [
              0,
              "#0d0887"
             ],
             [
              0.1111111111111111,
              "#46039f"
             ],
             [
              0.2222222222222222,
              "#7201a8"
             ],
             [
              0.3333333333333333,
              "#9c179e"
             ],
             [
              0.4444444444444444,
              "#bd3786"
             ],
             [
              0.5555555555555556,
              "#d8576b"
             ],
             [
              0.6666666666666666,
              "#ed7953"
             ],
             [
              0.7777777777777778,
              "#fb9f3a"
             ],
             [
              0.8888888888888888,
              "#fdca26"
             ],
             [
              1,
              "#f0f921"
             ]
            ],
            "type": "heatmap"
           }
          ],
          "heatmapgl": [
           {
            "colorbar": {
             "outlinewidth": 0,
             "ticks": ""
            },
            "colorscale": [
             [
              0,
              "#0d0887"
             ],
             [
              0.1111111111111111,
              "#46039f"
             ],
             [
              0.2222222222222222,
              "#7201a8"
             ],
             [
              0.3333333333333333,
              "#9c179e"
             ],
             [
              0.4444444444444444,
              "#bd3786"
             ],
             [
              0.5555555555555556,
              "#d8576b"
             ],
             [
              0.6666666666666666,
              "#ed7953"
             ],
             [
              0.7777777777777778,
              "#fb9f3a"
             ],
             [
              0.8888888888888888,
              "#fdca26"
             ],
             [
              1,
              "#f0f921"
             ]
            ],
            "type": "heatmapgl"
           }
          ],
          "histogram": [
           {
            "marker": {
             "colorbar": {
              "outlinewidth": 0,
              "ticks": ""
             }
            },
            "type": "histogram"
           }
          ],
          "histogram2d": [
           {
            "colorbar": {
             "outlinewidth": 0,
             "ticks": ""
            },
            "colorscale": [
             [
              0,
              "#0d0887"
             ],
             [
              0.1111111111111111,
              "#46039f"
             ],
             [
              0.2222222222222222,
              "#7201a8"
             ],
             [
              0.3333333333333333,
              "#9c179e"
             ],
             [
              0.4444444444444444,
              "#bd3786"
             ],
             [
              0.5555555555555556,
              "#d8576b"
             ],
             [
              0.6666666666666666,
              "#ed7953"
             ],
             [
              0.7777777777777778,
              "#fb9f3a"
             ],
             [
              0.8888888888888888,
              "#fdca26"
             ],
             [
              1,
              "#f0f921"
             ]
            ],
            "type": "histogram2d"
           }
          ],
          "histogram2dcontour": [
           {
            "colorbar": {
             "outlinewidth": 0,
             "ticks": ""
            },
            "colorscale": [
             [
              0,
              "#0d0887"
             ],
             [
              0.1111111111111111,
              "#46039f"
             ],
             [
              0.2222222222222222,
              "#7201a8"
             ],
             [
              0.3333333333333333,
              "#9c179e"
             ],
             [
              0.4444444444444444,
              "#bd3786"
             ],
             [
              0.5555555555555556,
              "#d8576b"
             ],
             [
              0.6666666666666666,
              "#ed7953"
             ],
             [
              0.7777777777777778,
              "#fb9f3a"
             ],
             [
              0.8888888888888888,
              "#fdca26"
             ],
             [
              1,
              "#f0f921"
             ]
            ],
            "type": "histogram2dcontour"
           }
          ],
          "mesh3d": [
           {
            "colorbar": {
             "outlinewidth": 0,
             "ticks": ""
            },
            "type": "mesh3d"
           }
          ],
          "parcoords": [
           {
            "line": {
             "colorbar": {
              "outlinewidth": 0,
              "ticks": ""
             }
            },
            "type": "parcoords"
           }
          ],
          "pie": [
           {
            "automargin": true,
            "type": "pie"
           }
          ],
          "scatter": [
           {
            "marker": {
             "colorbar": {
              "outlinewidth": 0,
              "ticks": ""
             }
            },
            "type": "scatter"
           }
          ],
          "scatter3d": [
           {
            "line": {
             "colorbar": {
              "outlinewidth": 0,
              "ticks": ""
             }
            },
            "marker": {
             "colorbar": {
              "outlinewidth": 0,
              "ticks": ""
             }
            },
            "type": "scatter3d"
           }
          ],
          "scattercarpet": [
           {
            "marker": {
             "colorbar": {
              "outlinewidth": 0,
              "ticks": ""
             }
            },
            "type": "scattercarpet"
           }
          ],
          "scattergeo": [
           {
            "marker": {
             "colorbar": {
              "outlinewidth": 0,
              "ticks": ""
             }
            },
            "type": "scattergeo"
           }
          ],
          "scattergl": [
           {
            "marker": {
             "colorbar": {
              "outlinewidth": 0,
              "ticks": ""
             }
            },
            "type": "scattergl"
           }
          ],
          "scattermapbox": [
           {
            "marker": {
             "colorbar": {
              "outlinewidth": 0,
              "ticks": ""
             }
            },
            "type": "scattermapbox"
           }
          ],
          "scatterpolar": [
           {
            "marker": {
             "colorbar": {
              "outlinewidth": 0,
              "ticks": ""
             }
            },
            "type": "scatterpolar"
           }
          ],
          "scatterpolargl": [
           {
            "marker": {
             "colorbar": {
              "outlinewidth": 0,
              "ticks": ""
             }
            },
            "type": "scatterpolargl"
           }
          ],
          "scatterternary": [
           {
            "marker": {
             "colorbar": {
              "outlinewidth": 0,
              "ticks": ""
             }
            },
            "type": "scatterternary"
           }
          ],
          "surface": [
           {
            "colorbar": {
             "outlinewidth": 0,
             "ticks": ""
            },
            "colorscale": [
             [
              0,
              "#0d0887"
             ],
             [
              0.1111111111111111,
              "#46039f"
             ],
             [
              0.2222222222222222,
              "#7201a8"
             ],
             [
              0.3333333333333333,
              "#9c179e"
             ],
             [
              0.4444444444444444,
              "#bd3786"
             ],
             [
              0.5555555555555556,
              "#d8576b"
             ],
             [
              0.6666666666666666,
              "#ed7953"
             ],
             [
              0.7777777777777778,
              "#fb9f3a"
             ],
             [
              0.8888888888888888,
              "#fdca26"
             ],
             [
              1,
              "#f0f921"
             ]
            ],
            "type": "surface"
           }
          ],
          "table": [
           {
            "cells": {
             "fill": {
              "color": "#EBF0F8"
             },
             "line": {
              "color": "white"
             }
            },
            "header": {
             "fill": {
              "color": "#C8D4E3"
             },
             "line": {
              "color": "white"
             }
            },
            "type": "table"
           }
          ]
         },
         "layout": {
          "annotationdefaults": {
           "arrowcolor": "#2a3f5f",
           "arrowhead": 0,
           "arrowwidth": 1
          },
          "coloraxis": {
           "colorbar": {
            "outlinewidth": 0,
            "ticks": ""
           }
          },
          "colorscale": {
           "diverging": [
            [
             0,
             "#8e0152"
            ],
            [
             0.1,
             "#c51b7d"
            ],
            [
             0.2,
             "#de77ae"
            ],
            [
             0.3,
             "#f1b6da"
            ],
            [
             0.4,
             "#fde0ef"
            ],
            [
             0.5,
             "#f7f7f7"
            ],
            [
             0.6,
             "#e6f5d0"
            ],
            [
             0.7,
             "#b8e186"
            ],
            [
             0.8,
             "#7fbc41"
            ],
            [
             0.9,
             "#4d9221"
            ],
            [
             1,
             "#276419"
            ]
           ],
           "sequential": [
            [
             0,
             "#0d0887"
            ],
            [
             0.1111111111111111,
             "#46039f"
            ],
            [
             0.2222222222222222,
             "#7201a8"
            ],
            [
             0.3333333333333333,
             "#9c179e"
            ],
            [
             0.4444444444444444,
             "#bd3786"
            ],
            [
             0.5555555555555556,
             "#d8576b"
            ],
            [
             0.6666666666666666,
             "#ed7953"
            ],
            [
             0.7777777777777778,
             "#fb9f3a"
            ],
            [
             0.8888888888888888,
             "#fdca26"
            ],
            [
             1,
             "#f0f921"
            ]
           ],
           "sequentialminus": [
            [
             0,
             "#0d0887"
            ],
            [
             0.1111111111111111,
             "#46039f"
            ],
            [
             0.2222222222222222,
             "#7201a8"
            ],
            [
             0.3333333333333333,
             "#9c179e"
            ],
            [
             0.4444444444444444,
             "#bd3786"
            ],
            [
             0.5555555555555556,
             "#d8576b"
            ],
            [
             0.6666666666666666,
             "#ed7953"
            ],
            [
             0.7777777777777778,
             "#fb9f3a"
            ],
            [
             0.8888888888888888,
             "#fdca26"
            ],
            [
             1,
             "#f0f921"
            ]
           ]
          },
          "colorway": [
           "#636efa",
           "#EF553B",
           "#00cc96",
           "#ab63fa",
           "#FFA15A",
           "#19d3f3",
           "#FF6692",
           "#B6E880",
           "#FF97FF",
           "#FECB52"
          ],
          "font": {
           "color": "#2a3f5f"
          },
          "geo": {
           "bgcolor": "white",
           "lakecolor": "white",
           "landcolor": "#E5ECF6",
           "showlakes": true,
           "showland": true,
           "subunitcolor": "white"
          },
          "hoverlabel": {
           "align": "left"
          },
          "hovermode": "closest",
          "mapbox": {
           "style": "light"
          },
          "paper_bgcolor": "white",
          "plot_bgcolor": "#E5ECF6",
          "polar": {
           "angularaxis": {
            "gridcolor": "white",
            "linecolor": "white",
            "ticks": ""
           },
           "bgcolor": "#E5ECF6",
           "radialaxis": {
            "gridcolor": "white",
            "linecolor": "white",
            "ticks": ""
           }
          },
          "scene": {
           "xaxis": {
            "backgroundcolor": "#E5ECF6",
            "gridcolor": "white",
            "gridwidth": 2,
            "linecolor": "white",
            "showbackground": true,
            "ticks": "",
            "zerolinecolor": "white"
           },
           "yaxis": {
            "backgroundcolor": "#E5ECF6",
            "gridcolor": "white",
            "gridwidth": 2,
            "linecolor": "white",
            "showbackground": true,
            "ticks": "",
            "zerolinecolor": "white"
           },
           "zaxis": {
            "backgroundcolor": "#E5ECF6",
            "gridcolor": "white",
            "gridwidth": 2,
            "linecolor": "white",
            "showbackground": true,
            "ticks": "",
            "zerolinecolor": "white"
           }
          },
          "shapedefaults": {
           "line": {
            "color": "#2a3f5f"
           }
          },
          "ternary": {
           "aaxis": {
            "gridcolor": "white",
            "linecolor": "white",
            "ticks": ""
           },
           "baxis": {
            "gridcolor": "white",
            "linecolor": "white",
            "ticks": ""
           },
           "bgcolor": "#E5ECF6",
           "caxis": {
            "gridcolor": "white",
            "linecolor": "white",
            "ticks": ""
           }
          },
          "title": {
           "x": 0.05
          },
          "xaxis": {
           "automargin": true,
           "gridcolor": "white",
           "linecolor": "white",
           "ticks": "",
           "title": {
            "standoff": 15
           },
           "zerolinecolor": "white",
           "zerolinewidth": 2
          },
          "yaxis": {
           "automargin": true,
           "gridcolor": "white",
           "linecolor": "white",
           "ticks": "",
           "title": {
            "standoff": 15
           },
           "zerolinecolor": "white",
           "zerolinewidth": 2
          }
         }
        },
        "title": {
         "text": "Classifier comparison"
        },
        "xaxis": {
         "anchor": "y",
         "domain": [
          0,
          1
         ],
         "title": {
          "text": "Classifier"
         }
        },
        "yaxis": {
         "anchor": "x",
         "domain": [
          0,
          1
         ],
         "title": {
          "text": "value"
         }
        }
       }
      },
      "text/html": [
       "<div>\n",
       "        \n",
       "        \n",
       "            <div id=\"b1153203-331d-45ed-9a92-69e116f6715c\" class=\"plotly-graph-div\" style=\"height:525px; width:100%;\"></div>\n",
       "            <script type=\"text/javascript\">\n",
       "                require([\"plotly\"], function(Plotly) {\n",
       "                    window.PLOTLYENV=window.PLOTLYENV || {};\n",
       "                    \n",
       "                if (document.getElementById(\"b1153203-331d-45ed-9a92-69e116f6715c\")) {\n",
       "                    Plotly.newPlot(\n",
       "                        'b1153203-331d-45ed-9a92-69e116f6715c',\n",
       "                        [{\"alignmentgroup\": \"True\", \"hovertemplate\": \"variable=Accuracy<br>Classifier=%{x}<br>value=%{y}<extra></extra>\", \"legendgroup\": \"Accuracy\", \"marker\": {\"color\": \"#636efa\"}, \"name\": \"Accuracy\", \"offsetgroup\": \"Accuracy\", \"orientation\": \"v\", \"showlegend\": true, \"textposition\": \"auto\", \"type\": \"bar\", \"x\": [\"2\", \"3\", \"4\", \"5\", \"7\", \"10\"], \"xaxis\": \"x\", \"y\": [0.9005006257822278, 0.8970588235294118, 0.8995619524405507, 0.8911138923654568, 0.8914267834793492, 0.8773466833541927], \"yaxis\": \"y\"}, {\"alignmentgroup\": \"True\", \"hovertemplate\": \"variable=True positives<br>Classifier=%{x}<br>value=%{y}<extra></extra>\", \"legendgroup\": \"True positives\", \"marker\": {\"color\": \"#EF553B\"}, \"name\": \"True positives\", \"offsetgroup\": \"True positives\", \"orientation\": \"v\", \"showlegend\": true, \"textposition\": \"auto\", \"type\": \"bar\", \"x\": [\"2\", \"3\", \"4\", \"5\", \"7\", \"10\"], \"xaxis\": \"x\", \"y\": [0.19230769230769232, 0.19505494505494506, 0.2032967032967033, 0.2087912087912088, 0.23901098901098902, 0.28296703296703296], \"yaxis\": \"y\"}, {\"alignmentgroup\": \"True\", \"hovertemplate\": \"variable=False Positives<br>Classifier=%{x}<br>value=%{y}<extra></extra>\", \"legendgroup\": \"False Positives\", \"marker\": {\"color\": \"#00cc96\"}, \"name\": \"False Positives\", \"offsetgroup\": \"False Positives\", \"orientation\": \"v\", \"showlegend\": true, \"textposition\": \"auto\", \"type\": \"bar\", \"x\": [\"2\", \"3\", \"4\", \"5\", \"7\", \"10\"], \"xaxis\": \"x\", \"y\": [0.2553191489361702, 0.3364485981308411, 0.29523809523809524, 0.4411764705882353, 0.445859872611465, 0.5598290598290598], \"yaxis\": \"y\"}, {\"alignmentgroup\": \"True\", \"hovertemplate\": \"variable=F1 score<br>Classifier=%{x}<br>value=%{y}<extra></extra>\", \"legendgroup\": \"F1 score\", \"marker\": {\"color\": \"#ab63fa\"}, \"name\": \"F1 score\", \"offsetgroup\": \"F1 score\", \"orientation\": \"v\", \"showlegend\": true, \"textposition\": \"auto\", \"type\": \"bar\", \"x\": [\"2\", \"3\", \"4\", \"5\", \"7\", \"10\"], \"xaxis\": \"x\", \"y\": [0.17703814697245066, 0.1812251425392852, 0.200963015491345, 0.19318411221031742, 0.22818465367745716, 0.2581677082669703], \"yaxis\": \"y\"}],\n",
       "                        {\"barmode\": \"group\", \"legend\": {\"title\": {\"text\": \"variable\"}, \"tracegroupgap\": 0}, \"template\": {\"data\": {\"bar\": [{\"error_x\": {\"color\": \"#2a3f5f\"}, \"error_y\": {\"color\": \"#2a3f5f\"}, \"marker\": {\"line\": {\"color\": \"#E5ECF6\", \"width\": 0.5}}, \"type\": \"bar\"}], \"barpolar\": [{\"marker\": {\"line\": {\"color\": \"#E5ECF6\", \"width\": 0.5}}, \"type\": \"barpolar\"}], \"carpet\": [{\"aaxis\": {\"endlinecolor\": \"#2a3f5f\", \"gridcolor\": \"white\", \"linecolor\": \"white\", \"minorgridcolor\": \"white\", \"startlinecolor\": \"#2a3f5f\"}, \"baxis\": {\"endlinecolor\": \"#2a3f5f\", \"gridcolor\": \"white\", \"linecolor\": \"white\", \"minorgridcolor\": \"white\", \"startlinecolor\": \"#2a3f5f\"}, \"type\": \"carpet\"}], \"choropleth\": [{\"colorbar\": {\"outlinewidth\": 0, \"ticks\": \"\"}, \"type\": \"choropleth\"}], \"contour\": [{\"colorbar\": {\"outlinewidth\": 0, \"ticks\": \"\"}, \"colorscale\": [[0.0, \"#0d0887\"], [0.1111111111111111, \"#46039f\"], [0.2222222222222222, \"#7201a8\"], [0.3333333333333333, \"#9c179e\"], [0.4444444444444444, \"#bd3786\"], [0.5555555555555556, \"#d8576b\"], [0.6666666666666666, \"#ed7953\"], [0.7777777777777778, \"#fb9f3a\"], [0.8888888888888888, \"#fdca26\"], [1.0, \"#f0f921\"]], \"type\": \"contour\"}], \"contourcarpet\": [{\"colorbar\": {\"outlinewidth\": 0, \"ticks\": \"\"}, \"type\": \"contourcarpet\"}], \"heatmap\": [{\"colorbar\": {\"outlinewidth\": 0, \"ticks\": \"\"}, \"colorscale\": [[0.0, \"#0d0887\"], [0.1111111111111111, \"#46039f\"], [0.2222222222222222, \"#7201a8\"], [0.3333333333333333, \"#9c179e\"], [0.4444444444444444, \"#bd3786\"], [0.5555555555555556, \"#d8576b\"], [0.6666666666666666, \"#ed7953\"], [0.7777777777777778, \"#fb9f3a\"], [0.8888888888888888, \"#fdca26\"], [1.0, \"#f0f921\"]], \"type\": \"heatmap\"}], \"heatmapgl\": [{\"colorbar\": {\"outlinewidth\": 0, \"ticks\": \"\"}, \"colorscale\": [[0.0, \"#0d0887\"], [0.1111111111111111, \"#46039f\"], [0.2222222222222222, \"#7201a8\"], [0.3333333333333333, \"#9c179e\"], [0.4444444444444444, \"#bd3786\"], [0.5555555555555556, \"#d8576b\"], [0.6666666666666666, \"#ed7953\"], [0.7777777777777778, \"#fb9f3a\"], [0.8888888888888888, \"#fdca26\"], [1.0, \"#f0f921\"]], \"type\": \"heatmapgl\"}], \"histogram\": [{\"marker\": {\"colorbar\": {\"outlinewidth\": 0, \"ticks\": \"\"}}, \"type\": \"histogram\"}], \"histogram2d\": [{\"colorbar\": {\"outlinewidth\": 0, \"ticks\": \"\"}, \"colorscale\": [[0.0, \"#0d0887\"], [0.1111111111111111, \"#46039f\"], [0.2222222222222222, \"#7201a8\"], [0.3333333333333333, \"#9c179e\"], [0.4444444444444444, \"#bd3786\"], [0.5555555555555556, \"#d8576b\"], [0.6666666666666666, \"#ed7953\"], [0.7777777777777778, \"#fb9f3a\"], [0.8888888888888888, \"#fdca26\"], [1.0, \"#f0f921\"]], \"type\": \"histogram2d\"}], \"histogram2dcontour\": [{\"colorbar\": {\"outlinewidth\": 0, \"ticks\": \"\"}, \"colorscale\": [[0.0, \"#0d0887\"], [0.1111111111111111, \"#46039f\"], [0.2222222222222222, \"#7201a8\"], [0.3333333333333333, \"#9c179e\"], [0.4444444444444444, \"#bd3786\"], [0.5555555555555556, \"#d8576b\"], [0.6666666666666666, \"#ed7953\"], [0.7777777777777778, \"#fb9f3a\"], [0.8888888888888888, \"#fdca26\"], [1.0, \"#f0f921\"]], \"type\": \"histogram2dcontour\"}], \"mesh3d\": [{\"colorbar\": {\"outlinewidth\": 0, \"ticks\": \"\"}, \"type\": \"mesh3d\"}], \"parcoords\": [{\"line\": {\"colorbar\": {\"outlinewidth\": 0, \"ticks\": \"\"}}, \"type\": \"parcoords\"}], \"pie\": [{\"automargin\": true, \"type\": \"pie\"}], \"scatter\": [{\"marker\": {\"colorbar\": {\"outlinewidth\": 0, \"ticks\": \"\"}}, \"type\": \"scatter\"}], \"scatter3d\": [{\"line\": {\"colorbar\": {\"outlinewidth\": 0, \"ticks\": \"\"}}, \"marker\": {\"colorbar\": {\"outlinewidth\": 0, \"ticks\": \"\"}}, \"type\": \"scatter3d\"}], \"scattercarpet\": [{\"marker\": {\"colorbar\": {\"outlinewidth\": 0, \"ticks\": \"\"}}, \"type\": \"scattercarpet\"}], \"scattergeo\": [{\"marker\": {\"colorbar\": {\"outlinewidth\": 0, \"ticks\": \"\"}}, \"type\": \"scattergeo\"}], \"scattergl\": [{\"marker\": {\"colorbar\": {\"outlinewidth\": 0, \"ticks\": \"\"}}, \"type\": \"scattergl\"}], \"scattermapbox\": [{\"marker\": {\"colorbar\": {\"outlinewidth\": 0, \"ticks\": \"\"}}, \"type\": \"scattermapbox\"}], \"scatterpolar\": [{\"marker\": {\"colorbar\": {\"outlinewidth\": 0, \"ticks\": \"\"}}, \"type\": \"scatterpolar\"}], \"scatterpolargl\": [{\"marker\": {\"colorbar\": {\"outlinewidth\": 0, \"ticks\": \"\"}}, \"type\": \"scatterpolargl\"}], \"scatterternary\": [{\"marker\": {\"colorbar\": {\"outlinewidth\": 0, \"ticks\": \"\"}}, \"type\": \"scatterternary\"}], \"surface\": [{\"colorbar\": {\"outlinewidth\": 0, \"ticks\": \"\"}, \"colorscale\": [[0.0, \"#0d0887\"], [0.1111111111111111, \"#46039f\"], [0.2222222222222222, \"#7201a8\"], [0.3333333333333333, \"#9c179e\"], [0.4444444444444444, \"#bd3786\"], [0.5555555555555556, \"#d8576b\"], [0.6666666666666666, \"#ed7953\"], [0.7777777777777778, \"#fb9f3a\"], [0.8888888888888888, \"#fdca26\"], [1.0, \"#f0f921\"]], \"type\": \"surface\"}], \"table\": [{\"cells\": {\"fill\": {\"color\": \"#EBF0F8\"}, \"line\": {\"color\": \"white\"}}, \"header\": {\"fill\": {\"color\": \"#C8D4E3\"}, \"line\": {\"color\": \"white\"}}, \"type\": \"table\"}]}, \"layout\": {\"annotationdefaults\": {\"arrowcolor\": \"#2a3f5f\", \"arrowhead\": 0, \"arrowwidth\": 1}, \"coloraxis\": {\"colorbar\": {\"outlinewidth\": 0, \"ticks\": \"\"}}, \"colorscale\": {\"diverging\": [[0, \"#8e0152\"], [0.1, \"#c51b7d\"], [0.2, \"#de77ae\"], [0.3, \"#f1b6da\"], [0.4, \"#fde0ef\"], [0.5, \"#f7f7f7\"], [0.6, \"#e6f5d0\"], [0.7, \"#b8e186\"], [0.8, \"#7fbc41\"], [0.9, \"#4d9221\"], [1, \"#276419\"]], \"sequential\": [[0.0, \"#0d0887\"], [0.1111111111111111, \"#46039f\"], [0.2222222222222222, \"#7201a8\"], [0.3333333333333333, \"#9c179e\"], [0.4444444444444444, \"#bd3786\"], [0.5555555555555556, \"#d8576b\"], [0.6666666666666666, \"#ed7953\"], [0.7777777777777778, \"#fb9f3a\"], [0.8888888888888888, \"#fdca26\"], [1.0, \"#f0f921\"]], \"sequentialminus\": [[0.0, \"#0d0887\"], [0.1111111111111111, \"#46039f\"], [0.2222222222222222, \"#7201a8\"], [0.3333333333333333, \"#9c179e\"], [0.4444444444444444, \"#bd3786\"], [0.5555555555555556, \"#d8576b\"], [0.6666666666666666, \"#ed7953\"], [0.7777777777777778, \"#fb9f3a\"], [0.8888888888888888, \"#fdca26\"], [1.0, \"#f0f921\"]]}, \"colorway\": [\"#636efa\", \"#EF553B\", \"#00cc96\", \"#ab63fa\", \"#FFA15A\", \"#19d3f3\", \"#FF6692\", \"#B6E880\", \"#FF97FF\", \"#FECB52\"], \"font\": {\"color\": \"#2a3f5f\"}, \"geo\": {\"bgcolor\": \"white\", \"lakecolor\": \"white\", \"landcolor\": \"#E5ECF6\", \"showlakes\": true, \"showland\": true, \"subunitcolor\": \"white\"}, \"hoverlabel\": {\"align\": \"left\"}, \"hovermode\": \"closest\", \"mapbox\": {\"style\": \"light\"}, \"paper_bgcolor\": \"white\", \"plot_bgcolor\": \"#E5ECF6\", \"polar\": {\"angularaxis\": {\"gridcolor\": \"white\", \"linecolor\": \"white\", \"ticks\": \"\"}, \"bgcolor\": \"#E5ECF6\", \"radialaxis\": {\"gridcolor\": \"white\", \"linecolor\": \"white\", \"ticks\": \"\"}}, \"scene\": {\"xaxis\": {\"backgroundcolor\": \"#E5ECF6\", \"gridcolor\": \"white\", \"gridwidth\": 2, \"linecolor\": \"white\", \"showbackground\": true, \"ticks\": \"\", \"zerolinecolor\": \"white\"}, \"yaxis\": {\"backgroundcolor\": \"#E5ECF6\", \"gridcolor\": \"white\", \"gridwidth\": 2, \"linecolor\": \"white\", \"showbackground\": true, \"ticks\": \"\", \"zerolinecolor\": \"white\"}, \"zaxis\": {\"backgroundcolor\": \"#E5ECF6\", \"gridcolor\": \"white\", \"gridwidth\": 2, \"linecolor\": \"white\", \"showbackground\": true, \"ticks\": \"\", \"zerolinecolor\": \"white\"}}, \"shapedefaults\": {\"line\": {\"color\": \"#2a3f5f\"}}, \"ternary\": {\"aaxis\": {\"gridcolor\": \"white\", \"linecolor\": \"white\", \"ticks\": \"\"}, \"baxis\": {\"gridcolor\": \"white\", \"linecolor\": \"white\", \"ticks\": \"\"}, \"bgcolor\": \"#E5ECF6\", \"caxis\": {\"gridcolor\": \"white\", \"linecolor\": \"white\", \"ticks\": \"\"}}, \"title\": {\"x\": 0.05}, \"xaxis\": {\"automargin\": true, \"gridcolor\": \"white\", \"linecolor\": \"white\", \"ticks\": \"\", \"title\": {\"standoff\": 15}, \"zerolinecolor\": \"white\", \"zerolinewidth\": 2}, \"yaxis\": {\"automargin\": true, \"gridcolor\": \"white\", \"linecolor\": \"white\", \"ticks\": \"\", \"title\": {\"standoff\": 15}, \"zerolinecolor\": \"white\", \"zerolinewidth\": 2}}}, \"title\": {\"text\": \"Classifier comparison\"}, \"xaxis\": {\"anchor\": \"y\", \"domain\": [0.0, 1.0], \"title\": {\"text\": \"Classifier\"}}, \"yaxis\": {\"anchor\": \"x\", \"domain\": [0.0, 1.0], \"title\": {\"text\": \"value\"}}},\n",
       "                        {\"responsive\": true}\n",
       "                    ).then(function(){\n",
       "                            \n",
       "var gd = document.getElementById('b1153203-331d-45ed-9a92-69e116f6715c');\n",
       "var x = new MutationObserver(function (mutations, observer) {{\n",
       "        var display = window.getComputedStyle(gd).display;\n",
       "        if (!display || display === 'none') {{\n",
       "            console.log([gd, 'removed!']);\n",
       "            Plotly.purge(gd);\n",
       "            observer.disconnect();\n",
       "        }}\n",
       "}});\n",
       "\n",
       "// Listen for the removal of the full notebook cells\n",
       "var notebookContainer = gd.closest('#notebook-container');\n",
       "if (notebookContainer) {{\n",
       "    x.observe(notebookContainer, {childList: true});\n",
       "}}\n",
       "\n",
       "// Listen for the clearing of the current output cell\n",
       "var outputEl = gd.closest('.output');\n",
       "if (outputEl) {{\n",
       "    x.observe(outputEl, {childList: true});\n",
       "}}\n",
       "\n",
       "                        })\n",
       "                };\n",
       "                });\n",
       "            </script>\n",
       "        </div>"
      ]
     },
     "metadata": {},
     "output_type": "display_data"
    },
    {
     "data": {
      "text/html": [
       "<ol>\n",
       "            <li><strong>Accuracy</strong>: correctly predicted shots / total shots</li>\n",
       "            <li><strong>True positives</strong>: correctly classified goals / actual goals</li>\n",
       "            <li><strong>False positives</strong>: incorrectly classified goals / actual goals</li>\n",
       "            <li><strong>F1 score</strong>: F1 score of the classifier</li>\n",
       "        </ol><br>\n",
       "        Accuracy is not a reliable metric in this case due to uneven label numbers.<br>\n",
       "        We instead rely on F1 scores while keeping an eye on True positives and False positives.<br>\n",
       "        F1 scores for all three models are similar, we focus on True positives as a secondary metric since \n",
       "        our aim is to correctly predict goals.\n",
       "        <br><br>\n",
       "        <strong>From the data we can conclude that a a max depth of 4 is the best option.<br>\n",
       "        Since the Logistic Regression performs better than this hyperparam of XGBC, we use Logistic Regression\n",
       "        as our model</strong>"
      ],
      "text/plain": [
       "<IPython.core.display.HTML object>"
      ]
     },
     "metadata": {},
     "output_type": "display_data"
    }
   ],
   "source": [
    "fig = px.bar(classifer_score_df, y=['Accuracy', 'True positives', 'False Positives', 'F1 score'], x='Classifier', barmode='group', title='Classifier comparison')\n",
    "fig.show()\n",
    "\n",
    "display(HTML('''<ol>\n",
    "            <li><strong>Accuracy</strong>: correctly predicted shots / total shots</li>\n",
    "            <li><strong>True positives</strong>: correctly classified goals / actual goals</li>\n",
    "            <li><strong>False positives</strong>: incorrectly classified goals / actual goals</li>\n",
    "            <li><strong>F1 score</strong>: F1 score of the classifier</li>\n",
    "        </ol><br>\n",
    "        Accuracy is not a reliable metric in this case due to uneven label numbers.<br>\n",
    "        We instead rely on F1 scores while keeping an eye on True positives and False positives.<br>\n",
    "        F1 scores for all three models are similar, we focus on True positives as a secondary metric since \n",
    "        our aim is to correctly predict goals.\n",
    "        <br><br>\n",
    "        <strong>From the data we can conclude that a a max depth of 4 is the best option.<br>\n",
    "        Since the Logistic Regression performs better than this hyperparam of XGBC, we use Logistic Regression\n",
    "        as our model</strong>'''))"
   ]
  },
  {
   "cell_type": "markdown",
   "metadata": {},
   "source": [
    "##### Model training"
   ]
  },
  {
   "cell_type": "code",
   "execution_count": 153,
   "metadata": {},
   "outputs": [],
   "source": [
    "def get_data_train_ready(data):\n",
    "    # drop columns which are not selected as features in our model\n",
    "    data = data.drop(columns=['Timestamp', 'Notes', 'Minute'])\n",
    "    # fill empty threat values with mean\n",
    "    data['Threat'] = data['Threat'].fillna(data['Threat'].mean())\n",
    "    # separate 'Goal' columns, they are considered labels\n",
    "    goals = data['Goal']\n",
    "    data = data.drop(columns=['Goal'])\n",
    "    \n",
    "    return train_test_split(data, goals, test_size=0.1, random_state=10)"
   ]
  },
  {
   "cell_type": "code",
   "execution_count": 156,
   "metadata": {},
   "outputs": [],
   "source": [
    "def get_classifier(x_train, x_test, y_train, y_test):\n",
    "    \n",
    "    cls = LogisticRegression(max_iter=1000)\n",
    "    cls.fit(x_train, y_train)\n",
    "    \n",
    "    return cls"
   ]
  },
  {
   "cell_type": "code",
   "execution_count": 157,
   "metadata": {},
   "outputs": [],
   "source": [
    "classifier_by_type = {}\n",
    "\n",
    "for k, v in type_dfs.items():\n",
    "    \n",
    "    model_ready_data = get_data_train_ready(type_dfs[k].fillna(0))\n",
    "    \n",
    "    clsf = get_classifier(*model_ready_data)\n",
    "    \n",
    "    classifier_by_type[k] = clsf\n",
    "    "
   ]
  },
  {
   "cell_type": "markdown",
   "metadata": {},
   "source": [
    "##### Predict"
   ]
  },
  {
   "cell_type": "code",
   "execution_count": 260,
   "metadata": {},
   "outputs": [],
   "source": [
    "path = os.path.join(os.getcwd(), \"output/shot_data.csv\")\n",
    "shot_data = pd.read_csv(path)"
   ]
  },
  {
   "cell_type": "code",
   "execution_count": 262,
   "metadata": {},
   "outputs": [],
   "source": [
    "# type_df Timestamp goes beyond the scope of complete data\n",
    "# we fix this below\n",
    "for k in type_dfs.keys():\n",
    "    type_df = type_dfs[k]\n",
    "    \n",
    "    acceptable_date = type_df['Timestamp'] < shot_data['Timestamp'].max()\n",
    "    \n",
    "    type_dfs[k] = type_df[acceptable_date]"
   ]
  },
  {
   "cell_type": "code",
   "execution_count": 292,
   "metadata": {},
   "outputs": [],
   "source": [
    "# MatchIDs from complete_data matched separately\n",
    "# this is adjoined to type_dfs each\n",
    "pred_type_df = {}\n",
    "for k, type_df in type_dfs.items():\n",
    "    pred_type_df[k] = type_df\n",
    "    pred_type_df[k]['MatchID'] = shot_data.loc[type_df.index]['MatchID']\n",
    "    pred_type_df[k]['Squad'] = shot_data.loc[type_df.index]['Squad']"
   ]
  },
  {
   "cell_type": "markdown",
   "metadata": {},
   "source": [
    "##### We sum over the probabilities of each team in a match to the expected goals"
   ]
  },
  {
   "cell_type": "code",
   "execution_count": 301,
   "metadata": {},
   "outputs": [],
   "source": [
    "def calc_expected_goals(key, type_dfs, cls_s, collecting_df):\n",
    "    '''Calculates the expected goals in a match by a team based on shots made and classifiers trained.'''\n",
    "    data = type_dfs[key]\n",
    "    # fill empty threat values\n",
    "    data['Threat'] = data['Threat'].fillna(data['Threat'].mean())\n",
    "    # group the data by 'MatchID'\n",
    "    ids = data.groupby('MatchID').groups\n",
    "    # get classifier for type of shot\n",
    "    cls = cls_s[key]\n",
    "    \n",
    "    for k, v in ids.items():\n",
    "        # get shots for the match\n",
    "        match_data = data.loc[v]\n",
    "        # split data over Squads\n",
    "        teams = match_data.groupby('Squad').groups\n",
    "        \n",
    "        for t, d in teams.items():\n",
    "            # team shot data\n",
    "            team_data = data.loc[d]\n",
    "            # drop Squad column\n",
    "            team_data = team_data.drop(columns=['Squad', 'Goal',\n",
    "                                                'Timestamp', 'Notes', \n",
    "                                                'Minute', 'MatchID'])\n",
    "            # fill empty values with 0\n",
    "            team_data = team_data.fillna(0)\n",
    "            prob = cls.predict_proba(team_data)\n",
    "            # sum over probabilites of all shots\n",
    "            collecting_df = collecting_df.append([[k, t, sum(prob[:, 1])]])\n",
    "    \n",
    "    return collecting_df"
   ]
  },
  {
   "cell_type": "code",
   "execution_count": 306,
   "metadata": {},
   "outputs": [],
   "source": [
    "collecting_df = pd.DataFrame()\n",
    "\n",
    "for k in pred_type_df.keys():\n",
    "    collecting_df = calc_expected_goals(k, pred_type_df, classifier_by_type, collecting_df)\n",
    "    \n",
    "collecting_df.columns = ['GameID', 'Squad', 'xG']\n",
    "collecting_df = collecting_df.sort_values('GameID').reset_index(drop=True)"
   ]
  },
  {
   "cell_type": "code",
   "execution_count": 310,
   "metadata": {},
   "outputs": [
    {
     "data": {
      "text/html": [
       "<div>\n",
       "<style scoped>\n",
       "    .dataframe tbody tr th:only-of-type {\n",
       "        vertical-align: middle;\n",
       "    }\n",
       "\n",
       "    .dataframe tbody tr th {\n",
       "        vertical-align: top;\n",
       "    }\n",
       "\n",
       "    .dataframe thead th {\n",
       "        text-align: right;\n",
       "    }\n",
       "</style>\n",
       "<table border=\"1\" class=\"dataframe\">\n",
       "  <thead>\n",
       "    <tr style=\"text-align: right;\">\n",
       "      <th></th>\n",
       "      <th>GameID</th>\n",
       "      <th>Squad</th>\n",
       "      <th>xG</th>\n",
       "    </tr>\n",
       "  </thead>\n",
       "  <tbody>\n",
       "    <tr>\n",
       "      <th>0</th>\n",
       "      <td>4.0</td>\n",
       "      <td>Leicester</td>\n",
       "      <td>0.999136</td>\n",
       "    </tr>\n",
       "    <tr>\n",
       "      <th>1</th>\n",
       "      <td>5.0</td>\n",
       "      <td>Man City</td>\n",
       "      <td>0.999340</td>\n",
       "    </tr>\n",
       "    <tr>\n",
       "      <th>2</th>\n",
       "      <td>10.0</td>\n",
       "      <td>Chelsea</td>\n",
       "      <td>0.998984</td>\n",
       "    </tr>\n",
       "    <tr>\n",
       "      <th>3</th>\n",
       "      <td>11.0</td>\n",
       "      <td>Man United</td>\n",
       "      <td>0.999224</td>\n",
       "    </tr>\n",
       "    <tr>\n",
       "      <th>4</th>\n",
       "      <td>14.0</td>\n",
       "      <td>Stoke</td>\n",
       "      <td>0.994079</td>\n",
       "    </tr>\n",
       "  </tbody>\n",
       "</table>\n",
       "</div>"
      ],
      "text/plain": [
       "   GameID       Squad        xG\n",
       "0     4.0   Leicester  0.999136\n",
       "1     5.0    Man City  0.999340\n",
       "2    10.0     Chelsea  0.998984\n",
       "3    11.0  Man United  0.999224\n",
       "4    14.0       Stoke  0.994079"
      ]
     },
     "execution_count": 310,
     "metadata": {},
     "output_type": "execute_result"
    }
   ],
   "source": [
    "collecting_df.head()"
   ]
  },
  {
   "cell_type": "markdown",
   "metadata": {},
   "source": [
    "##### We now separate Squads with the same MatchID into Home and Away"
   ]
  },
  {
   "cell_type": "code",
   "execution_count": 392,
   "metadata": {},
   "outputs": [],
   "source": [
    "squad_and_id = complete_data[['GameID', 'HomeTeam', 'AwayTeam']]"
   ]
  },
  {
   "cell_type": "code",
   "execution_count": 393,
   "metadata": {},
   "outputs": [],
   "source": [
    "summed_xG = collecting_df.groupby(['GameID', 'Squad']).sum()\n",
    "summed_xG = summed_xG.reset_index()"
   ]
  },
  {
   "cell_type": "code",
   "execution_count": 394,
   "metadata": {},
   "outputs": [],
   "source": [
    "matches = summed_xG.groupby('GameID').groups"
   ]
  },
  {
   "cell_type": "code",
   "execution_count": 397,
   "metadata": {},
   "outputs": [],
   "source": [
    "xG_predictions = pd.DataFrame()\n",
    "\n",
    "for match_id in matches.keys():\n",
    "    match_data = collecting_df.loc[matches[match_id]]\n",
    "    squad_id_row = squad_and_id[squad_and_id['GameID'] == match_id].iloc[0]\n",
    "    \n",
    "    # where one team's prediction is missing\n",
    "    if len(match_data) == 1:\n",
    "        is_home = match_data['Squad'].iloc[0] == squad_id_row['HomeTeam']\n",
    "        if is_home:\n",
    "            xG_predictions = xG_predictions.append([[match_id, squad_id_row['HomeTeam'], match_data['xG'].iloc[0],\n",
    "                                                    squad_id_row['AwayTeam'], np.NaN]])\n",
    "        else:\n",
    "            xG_predictions = xG_predictions.append([[match_id, squad_id_row['HomeTeam'], np.NaN,\n",
    "                                                    squad_id_row['AwayTeam'],  match_data['xG'].iloc[0]]])\n",
    "            \n",
    "    # where both predictions are present\n",
    "    elif len(match_data) == 2:\n",
    "        is_home = match_data['Squad'].iloc[0] == squad_id_row['HomeTeam']\n",
    "        if is_home:\n",
    "            xG_predictions = xG_predictions.append([[match_id, squad_id_row['HomeTeam'], match_data['xG'].iloc[0],\n",
    "                                                    squad_id_row['AwayTeam'], match_data['xG'].iloc[1]]])\n",
    "        else:\n",
    "            xG_predictions = xG_predictions.append([[match_id, squad_id_row['HomeTeam'], match_data['xG'].iloc[0],\n",
    "                                                    squad_id_row['AwayTeam'],  match_data['xG'].iloc[1]]])\n",
    "    \n",
    "    else:\n",
    "        ##### this should not happen #####\n",
    "        display(match_data)\n",
    "    \n",
    "xG_predictions.columns = ['MatchID', 'HomeTeam', 'xG_h', 'AwayTeam', 'xG_a']\n",
    "xG_predictions = xG_predictions.reset_index(drop=True)"
   ]
  },
  {
   "cell_type": "markdown",
   "metadata": {},
   "source": [
    "##### Fill missing xG values\n",
    "We fill these by taking the average of the difference between xG_(a|h) and FT(A|H)G<br>\n",
    "The difference is then subtracted from FT(A|H)G to get an estimate of xG_(a|h)"
   ]
  },
  {
   "cell_type": "code",
   "execution_count": 404,
   "metadata": {},
   "outputs": [],
   "source": [
    "complete_data.index = complete_data['GameID']\n",
    "complete_data = complete_data.drop(columns='GameID')"
   ]
  },
  {
   "cell_type": "code",
   "execution_count": 405,
   "metadata": {},
   "outputs": [],
   "source": [
    "xG_predictions.index = xG_predictions['MatchID']\n",
    "xG_predictions = xG_predictions.drop(columns='MatchID')"
   ]
  },
  {
   "cell_type": "code",
   "execution_count": 410,
   "metadata": {},
   "outputs": [],
   "source": [
    "complete_with_missing_xG = pd.concat([xG_predictions[['xG_h', 'xG_a']], complete_data], axis=1)"
   ]
  },
  {
   "cell_type": "code",
   "execution_count": 412,
   "metadata": {},
   "outputs": [],
   "source": [
    "home_goals = complete_with_missing_xG[['FTHG', 'xG_h']].dropna()\n",
    "\n",
    "away_goals = complete_with_missing_xG[['FTAG', 'xG_a']].dropna()"
   ]
  },
  {
   "cell_type": "code",
   "execution_count": 413,
   "metadata": {},
   "outputs": [],
   "source": [
    "# fills missing values for xG_h\n",
    "home_goals['Difference'] = home_goals['FTHG'] - home_goals['xG_h']\n",
    "greater = home_goals['Difference'] > home_goals['Difference'].quantile(0.1)\n",
    "lesser = home_goals['Difference'] < home_goals['Difference'].quantile(0.9)\n",
    "dif = home_goals[np.logical_and(greater, lesser)]['Difference'].mean()\n",
    "\n",
    "missing = pd.isnull(complete_with_missing_xG['xG_h'])\n",
    "\n",
    "complete_with_missing_xG.loc[missing, 'xG_h'] = complete_with_missing_xG.loc[missing, 'FTHG'] - dif\n",
    "\n",
    "below_zero = complete_with_missing_xG.loc[missing, 'xG_h'] < 0\n",
    "\n",
    "complete_with_missing_xG.loc[below_zero & missing, 'xG_h'] = 0"
   ]
  },
  {
   "cell_type": "code",
   "execution_count": 415,
   "metadata": {},
   "outputs": [],
   "source": [
    "# fills missing values for xG_a\n",
    "away_goals['Difference'] = away_goals['FTAG'] - away_goals['xG_a']\n",
    "greater = away_goals['Difference'] > away_goals['Difference'].quantile(0.1)\n",
    "lesser = away_goals['Difference'] < away_goals['Difference'].quantile(0.9)\n",
    "dif = away_goals[np.logical_and(greater, lesser)]['Difference'].mean()\n",
    "\n",
    "missing = pd.isnull(complete_with_missing_xG['xG_a'])\n",
    "\n",
    "complete_with_missing_xG.loc[missing, 'xG_a'] = complete_with_missing_xG.loc[missing, 'FTAG'] - dif\n",
    "\n",
    "below_zero = complete_with_missing_xG.loc[missing, 'xG_a'] < 0\n",
    "\n",
    "complete_with_missing_xG.loc[below_zero & missing, 'xG_a'] = 0"
   ]
  },
  {
   "cell_type": "markdown",
   "metadata": {},
   "source": [
    "##### Now we check if any values are missing"
   ]
  },
  {
   "cell_type": "code",
   "execution_count": 417,
   "metadata": {},
   "outputs": [
    {
     "data": {
      "text/plain": [
       "0"
      ]
     },
     "execution_count": 417,
     "metadata": {},
     "output_type": "execute_result"
    }
   ],
   "source": [
    "pd.isnull(complete_with_missing_xG[['xG_h', 'xG_a']]).sum().sum()"
   ]
  },
  {
   "cell_type": "code",
   "execution_count": 418,
   "metadata": {},
   "outputs": [],
   "source": [
    "complete_data_with_xG = complete_with_missing_xG"
   ]
  },
  {
   "cell_type": "code",
   "execution_count": 420,
   "metadata": {},
   "outputs": [],
   "source": [
    "path = os.path.join(os.getcwd(), \"output/shots_xG_predictions.csv\")\n",
    "complete_data_with_xG.to_csv(path)"
   ]
  },
  {
   "cell_type": "markdown",
   "metadata": {},
   "source": [
    "### Non-shots xG model"
   ]
  },
  {
   "cell_type": "markdown",
   "metadata": {},
   "source": [
    "### FTHG model"
   ]
  },
  {
   "cell_type": "code",
   "execution_count": 441,
   "metadata": {},
   "outputs": [],
   "source": [
    "Y_home = general_training_data.FTHG"
   ]
  },
  {
   "cell_type": "code",
   "execution_count": 442,
   "metadata": {},
   "outputs": [],
   "source": [
    "X_home_train, X_home_test, Y_home_train, Y_home_test = train_test_split(X_home, Y_home, test_size=0.2)"
   ]
  },
  {
   "cell_type": "code",
   "execution_count": 443,
   "metadata": {},
   "outputs": [
    {
     "data": {
      "text/plain": [
       "RandomForestRegressor(bootstrap=True, ccp_alpha=0.0, criterion='mse',\n",
       "                      max_depth=None, max_features='auto', max_leaf_nodes=None,\n",
       "                      max_samples=None, min_impurity_decrease=0.0,\n",
       "                      min_impurity_split=None, min_samples_leaf=1,\n",
       "                      min_samples_split=2, min_weight_fraction_leaf=0.0,\n",
       "                      n_estimators=100, n_jobs=None, oob_score=False,\n",
       "                      random_state=None, verbose=0, warm_start=False)"
      ]
     },
     "execution_count": 443,
     "metadata": {},
     "output_type": "execute_result"
    }
   ],
   "source": [
    "model_home = RandomForestRegressor(n_estimators = 100)\n",
    "model_home.fit(X_home_train, Y_home_train)"
   ]
  },
  {
   "cell_type": "markdown",
   "metadata": {},
   "source": [
    "### FTAG model"
   ]
  },
  {
   "cell_type": "code",
   "execution_count": 444,
   "metadata": {},
   "outputs": [],
   "source": [
    "Y_away = general_training_data.FTAG"
   ]
  },
  {
   "cell_type": "code",
   "execution_count": 445,
   "metadata": {},
   "outputs": [],
   "source": [
    "X_away_train, X_away_test, Y_away_train, Y_away_test = train_test_split(X_away, Y_away, test_size=0.2)"
   ]
  },
  {
   "cell_type": "code",
   "execution_count": 446,
   "metadata": {},
   "outputs": [
    {
     "data": {
      "text/plain": [
       "RandomForestRegressor(bootstrap=True, ccp_alpha=0.0, criterion='mse',\n",
       "                      max_depth=None, max_features='auto', max_leaf_nodes=None,\n",
       "                      max_samples=None, min_impurity_decrease=0.0,\n",
       "                      min_impurity_split=None, min_samples_leaf=1,\n",
       "                      min_samples_split=2, min_weight_fraction_leaf=0.0,\n",
       "                      n_estimators=100, n_jobs=None, oob_score=False,\n",
       "                      random_state=None, verbose=0, warm_start=False)"
      ]
     },
     "execution_count": 446,
     "metadata": {},
     "output_type": "execute_result"
    }
   ],
   "source": [
    "model_away = RandomForestRegressor(n_estimators = 100)\n",
    "model_away.fit(X_away_train, Y_away_train)"
   ]
  },
  {
   "cell_type": "markdown",
   "metadata": {},
   "source": [
    "### FTHG Results"
   ]
  },
  {
   "cell_type": "code",
   "execution_count": 447,
   "metadata": {},
   "outputs": [],
   "source": [
    "home_training_data = general_training_data.copy().drop(['FTAG', 'AC', 'xAG', 'FTR'], axis=1)\n",
    "home_model_input_data = home_training_data.copy().drop(columns=['FTHG'])"
   ]
  },
  {
   "cell_type": "code",
   "execution_count": 448,
   "metadata": {},
   "outputs": [
    {
     "data": {
      "text/html": [
       "<div>\n",
       "<style scoped>\n",
       "    .dataframe tbody tr th:only-of-type {\n",
       "        vertical-align: middle;\n",
       "    }\n",
       "\n",
       "    .dataframe tbody tr th {\n",
       "        vertical-align: top;\n",
       "    }\n",
       "\n",
       "    .dataframe thead th {\n",
       "        text-align: right;\n",
       "    }\n",
       "</style>\n",
       "<table border=\"1\" class=\"dataframe\">\n",
       "  <thead>\n",
       "    <tr style=\"text-align: right;\">\n",
       "      <th></th>\n",
       "      <th>HomeTeam</th>\n",
       "      <th>AwayTeam</th>\n",
       "      <th>Referee</th>\n",
       "      <th>HC</th>\n",
       "      <th>HF</th>\n",
       "      <th>AF</th>\n",
       "      <th>HY</th>\n",
       "      <th>AY</th>\n",
       "      <th>HR</th>\n",
       "      <th>AR</th>\n",
       "      <th>FTHG</th>\n",
       "      <th>xHG</th>\n",
       "    </tr>\n",
       "  </thead>\n",
       "  <tbody>\n",
       "    <tr>\n",
       "      <th>0</th>\n",
       "      <td>10</td>\n",
       "      <td>34</td>\n",
       "      <td>12</td>\n",
       "      <td>7</td>\n",
       "      <td>10</td>\n",
       "      <td>14</td>\n",
       "      <td>3</td>\n",
       "      <td>2</td>\n",
       "      <td>0</td>\n",
       "      <td>0</td>\n",
       "      <td>0</td>\n",
       "      <td>0.000000</td>\n",
       "    </tr>\n",
       "    <tr>\n",
       "      <th>1</th>\n",
       "      <td>13</td>\n",
       "      <td>37</td>\n",
       "      <td>7</td>\n",
       "      <td>3</td>\n",
       "      <td>12</td>\n",
       "      <td>15</td>\n",
       "      <td>2</td>\n",
       "      <td>2</td>\n",
       "      <td>0</td>\n",
       "      <td>0</td>\n",
       "      <td>0</td>\n",
       "      <td>0.000000</td>\n",
       "    </tr>\n",
       "    <tr>\n",
       "      <th>2</th>\n",
       "      <td>14</td>\n",
       "      <td>35</td>\n",
       "      <td>18</td>\n",
       "      <td>5</td>\n",
       "      <td>10</td>\n",
       "      <td>14</td>\n",
       "      <td>0</td>\n",
       "      <td>0</td>\n",
       "      <td>0</td>\n",
       "      <td>0</td>\n",
       "      <td>1</td>\n",
       "      <td>0.103297</td>\n",
       "    </tr>\n",
       "    <tr>\n",
       "      <th>3</th>\n",
       "      <td>18</td>\n",
       "      <td>20</td>\n",
       "      <td>20</td>\n",
       "      <td>5</td>\n",
       "      <td>8</td>\n",
       "      <td>17</td>\n",
       "      <td>2</td>\n",
       "      <td>2</td>\n",
       "      <td>0</td>\n",
       "      <td>0</td>\n",
       "      <td>2</td>\n",
       "      <td>1.103297</td>\n",
       "    </tr>\n",
       "    <tr>\n",
       "      <th>4</th>\n",
       "      <td>22</td>\n",
       "      <td>33</td>\n",
       "      <td>34</td>\n",
       "      <td>9</td>\n",
       "      <td>11</td>\n",
       "      <td>14</td>\n",
       "      <td>1</td>\n",
       "      <td>2</td>\n",
       "      <td>0</td>\n",
       "      <td>0</td>\n",
       "      <td>2</td>\n",
       "      <td>0.999340</td>\n",
       "    </tr>\n",
       "    <tr>\n",
       "      <th>...</th>\n",
       "      <td>...</td>\n",
       "      <td>...</td>\n",
       "      <td>...</td>\n",
       "      <td>...</td>\n",
       "      <td>...</td>\n",
       "      <td>...</td>\n",
       "      <td>...</td>\n",
       "      <td>...</td>\n",
       "      <td>...</td>\n",
       "      <td>...</td>\n",
       "      <td>...</td>\n",
       "      <td>...</td>\n",
       "    </tr>\n",
       "    <tr>\n",
       "      <th>1679</th>\n",
       "      <td>9</td>\n",
       "      <td>40</td>\n",
       "      <td>1</td>\n",
       "      <td>5</td>\n",
       "      <td>13</td>\n",
       "      <td>8</td>\n",
       "      <td>2</td>\n",
       "      <td>1</td>\n",
       "      <td>0</td>\n",
       "      <td>0</td>\n",
       "      <td>3</td>\n",
       "      <td>0.940175</td>\n",
       "    </tr>\n",
       "    <tr>\n",
       "      <th>1680</th>\n",
       "      <td>37</td>\n",
       "      <td>1</td>\n",
       "      <td>18</td>\n",
       "      <td>3</td>\n",
       "      <td>7</td>\n",
       "      <td>4</td>\n",
       "      <td>1</td>\n",
       "      <td>2</td>\n",
       "      <td>0</td>\n",
       "      <td>0</td>\n",
       "      <td>0</td>\n",
       "      <td>0.056729</td>\n",
       "    </tr>\n",
       "    <tr>\n",
       "      <th>1681</th>\n",
       "      <td>25</td>\n",
       "      <td>20</td>\n",
       "      <td>33</td>\n",
       "      <td>3</td>\n",
       "      <td>10</td>\n",
       "      <td>11</td>\n",
       "      <td>0</td>\n",
       "      <td>2</td>\n",
       "      <td>0</td>\n",
       "      <td>0</td>\n",
       "      <td>1</td>\n",
       "      <td>0.320681</td>\n",
       "    </tr>\n",
       "    <tr>\n",
       "      <th>1682</th>\n",
       "      <td>12</td>\n",
       "      <td>22</td>\n",
       "      <td>3</td>\n",
       "      <td>5</td>\n",
       "      <td>11</td>\n",
       "      <td>10</td>\n",
       "      <td>3</td>\n",
       "      <td>1</td>\n",
       "      <td>0</td>\n",
       "      <td>0</td>\n",
       "      <td>1</td>\n",
       "      <td>0.010900</td>\n",
       "    </tr>\n",
       "    <tr>\n",
       "      <th>1683</th>\n",
       "      <td>31</td>\n",
       "      <td>21</td>\n",
       "      <td>2</td>\n",
       "      <td>1</td>\n",
       "      <td>5</td>\n",
       "      <td>12</td>\n",
       "      <td>1</td>\n",
       "      <td>3</td>\n",
       "      <td>0</td>\n",
       "      <td>0</td>\n",
       "      <td>1</td>\n",
       "      <td>0.103297</td>\n",
       "    </tr>\n",
       "  </tbody>\n",
       "</table>\n",
       "<p>1684 rows × 12 columns</p>\n",
       "</div>"
      ],
      "text/plain": [
       "      HomeTeam  AwayTeam  Referee  HC  HF  AF  HY  AY  HR  AR  FTHG       xHG\n",
       "0           10        34       12   7  10  14   3   2   0   0     0  0.000000\n",
       "1           13        37        7   3  12  15   2   2   0   0     0  0.000000\n",
       "2           14        35       18   5  10  14   0   0   0   0     1  0.103297\n",
       "3           18        20       20   5   8  17   2   2   0   0     2  1.103297\n",
       "4           22        33       34   9  11  14   1   2   0   0     2  0.999340\n",
       "...        ...       ...      ...  ..  ..  ..  ..  ..  ..  ..   ...       ...\n",
       "1679         9        40        1   5  13   8   2   1   0   0     3  0.940175\n",
       "1680        37         1       18   3   7   4   1   2   0   0     0  0.056729\n",
       "1681        25        20       33   3  10  11   0   2   0   0     1  0.320681\n",
       "1682        12        22        3   5  11  10   3   1   0   0     1  0.010900\n",
       "1683        31        21        2   1   5  12   1   3   0   0     1  0.103297\n",
       "\n",
       "[1684 rows x 12 columns]"
      ]
     },
     "execution_count": 448,
     "metadata": {},
     "output_type": "execute_result"
    }
   ],
   "source": [
    "home_training_data"
   ]
  },
  {
   "cell_type": "code",
   "execution_count": 449,
   "metadata": {},
   "outputs": [],
   "source": [
    "home_pred_data = pd.get_dummies(home_model_input_data)\n",
    "home_r = model_home.predict(home_pred_data)\n",
    "home_r = pd.DataFrame(home_r)"
   ]
  },
  {
   "cell_type": "code",
   "execution_count": 450,
   "metadata": {},
   "outputs": [],
   "source": [
    "home_r.columns= ['Predicted FTHG']\n",
    "home_training_data.reset_index(drop=True, inplace=True)\n",
    "home_results = pd.concat([home_training_data, home_r], axis=1)\n",
    "home_results[\"Deviation in FTHG\"] = abs(home_results[\"Predicted FTHG\"] - home_results[\"FTHG\"])"
   ]
  },
  {
   "cell_type": "markdown",
   "metadata": {},
   "source": [
    "### FTAG Results"
   ]
  },
  {
   "cell_type": "code",
   "execution_count": 451,
   "metadata": {},
   "outputs": [],
   "source": [
    "away_training_data = general_training_data.copy().drop(['FTHG', 'HC', 'xHG', 'FTR'], axis=1)\n",
    "away_model_input_data = away_training_data.copy().drop(columns=['FTAG'])"
   ]
  },
  {
   "cell_type": "code",
   "execution_count": 452,
   "metadata": {},
   "outputs": [],
   "source": [
    "away_pred_data = pd.get_dummies(away_model_input_data)\n",
    "away_r = model_away.predict(away_pred_data)\n",
    "away_r = pd.DataFrame(away_r)"
   ]
  },
  {
   "cell_type": "code",
   "execution_count": 453,
   "metadata": {},
   "outputs": [],
   "source": [
    "away_r.columns= ['Predicted FTAG']\n",
    "away_training_data.reset_index(drop=True, inplace=True)\n",
    "away_results = pd.concat([away_training_data, away_r], axis=1)\n",
    "away_results[\"Deviation in FTAG\"] = abs(away_results[\"Predicted FTAG\"] - away_results[\"FTAG\"])"
   ]
  },
  {
   "cell_type": "markdown",
   "metadata": {},
   "source": [
    "### Merging results of both models"
   ]
  },
  {
   "cell_type": "code",
   "execution_count": 454,
   "metadata": {},
   "outputs": [
    {
     "data": {
      "text/html": [
       "<div>\n",
       "<style scoped>\n",
       "    .dataframe tbody tr th:only-of-type {\n",
       "        vertical-align: middle;\n",
       "    }\n",
       "\n",
       "    .dataframe tbody tr th {\n",
       "        vertical-align: top;\n",
       "    }\n",
       "\n",
       "    .dataframe thead th {\n",
       "        text-align: right;\n",
       "    }\n",
       "</style>\n",
       "<table border=\"1\" class=\"dataframe\">\n",
       "  <thead>\n",
       "    <tr style=\"text-align: right;\">\n",
       "      <th></th>\n",
       "      <th>HomeTeam</th>\n",
       "      <th>AwayTeam</th>\n",
       "      <th>Referee</th>\n",
       "      <th>HC</th>\n",
       "      <th>AC</th>\n",
       "      <th>HF</th>\n",
       "      <th>AF</th>\n",
       "      <th>HY</th>\n",
       "      <th>AY</th>\n",
       "      <th>HR</th>\n",
       "      <th>AR</th>\n",
       "      <th>FTHG</th>\n",
       "      <th>FTAG</th>\n",
       "      <th>FTR</th>\n",
       "      <th>xHG</th>\n",
       "      <th>xAG</th>\n",
       "      <th>Predicted FTHG</th>\n",
       "      <th>Predicted FTAG</th>\n",
       "    </tr>\n",
       "  </thead>\n",
       "  <tbody>\n",
       "    <tr>\n",
       "      <th>0</th>\n",
       "      <td>10</td>\n",
       "      <td>34</td>\n",
       "      <td>12</td>\n",
       "      <td>7</td>\n",
       "      <td>4</td>\n",
       "      <td>10</td>\n",
       "      <td>14</td>\n",
       "      <td>3</td>\n",
       "      <td>2</td>\n",
       "      <td>0</td>\n",
       "      <td>0</td>\n",
       "      <td>0</td>\n",
       "      <td>1</td>\n",
       "      <td>A</td>\n",
       "      <td>0.000000</td>\n",
       "      <td>0.429106</td>\n",
       "      <td>0.00</td>\n",
       "      <td>0.98</td>\n",
       "    </tr>\n",
       "    <tr>\n",
       "      <th>1</th>\n",
       "      <td>13</td>\n",
       "      <td>37</td>\n",
       "      <td>7</td>\n",
       "      <td>3</td>\n",
       "      <td>6</td>\n",
       "      <td>12</td>\n",
       "      <td>15</td>\n",
       "      <td>2</td>\n",
       "      <td>2</td>\n",
       "      <td>0</td>\n",
       "      <td>0</td>\n",
       "      <td>0</td>\n",
       "      <td>1</td>\n",
       "      <td>A</td>\n",
       "      <td>0.000000</td>\n",
       "      <td>0.429106</td>\n",
       "      <td>0.00</td>\n",
       "      <td>1.02</td>\n",
       "    </tr>\n",
       "    <tr>\n",
       "      <th>2</th>\n",
       "      <td>14</td>\n",
       "      <td>35</td>\n",
       "      <td>18</td>\n",
       "      <td>5</td>\n",
       "      <td>6</td>\n",
       "      <td>10</td>\n",
       "      <td>14</td>\n",
       "      <td>0</td>\n",
       "      <td>0</td>\n",
       "      <td>0</td>\n",
       "      <td>0</td>\n",
       "      <td>1</td>\n",
       "      <td>1</td>\n",
       "      <td>D</td>\n",
       "      <td>0.103297</td>\n",
       "      <td>0.429106</td>\n",
       "      <td>1.07</td>\n",
       "      <td>0.86</td>\n",
       "    </tr>\n",
       "    <tr>\n",
       "      <th>3</th>\n",
       "      <td>18</td>\n",
       "      <td>20</td>\n",
       "      <td>20</td>\n",
       "      <td>5</td>\n",
       "      <td>3</td>\n",
       "      <td>8</td>\n",
       "      <td>17</td>\n",
       "      <td>2</td>\n",
       "      <td>2</td>\n",
       "      <td>0</td>\n",
       "      <td>0</td>\n",
       "      <td>2</td>\n",
       "      <td>1</td>\n",
       "      <td>H</td>\n",
       "      <td>1.103297</td>\n",
       "      <td>0.999136</td>\n",
       "      <td>2.09</td>\n",
       "      <td>1.12</td>\n",
       "    </tr>\n",
       "    <tr>\n",
       "      <th>4</th>\n",
       "      <td>22</td>\n",
       "      <td>33</td>\n",
       "      <td>34</td>\n",
       "      <td>9</td>\n",
       "      <td>6</td>\n",
       "      <td>11</td>\n",
       "      <td>14</td>\n",
       "      <td>1</td>\n",
       "      <td>2</td>\n",
       "      <td>0</td>\n",
       "      <td>0</td>\n",
       "      <td>2</td>\n",
       "      <td>1</td>\n",
       "      <td>H</td>\n",
       "      <td>0.999340</td>\n",
       "      <td>0.429106</td>\n",
       "      <td>1.93</td>\n",
       "      <td>0.98</td>\n",
       "    </tr>\n",
       "    <tr>\n",
       "      <th>...</th>\n",
       "      <td>...</td>\n",
       "      <td>...</td>\n",
       "      <td>...</td>\n",
       "      <td>...</td>\n",
       "      <td>...</td>\n",
       "      <td>...</td>\n",
       "      <td>...</td>\n",
       "      <td>...</td>\n",
       "      <td>...</td>\n",
       "      <td>...</td>\n",
       "      <td>...</td>\n",
       "      <td>...</td>\n",
       "      <td>...</td>\n",
       "      <td>...</td>\n",
       "      <td>...</td>\n",
       "      <td>...</td>\n",
       "      <td>...</td>\n",
       "      <td>...</td>\n",
       "    </tr>\n",
       "    <tr>\n",
       "      <th>1679</th>\n",
       "      <td>9</td>\n",
       "      <td>40</td>\n",
       "      <td>1</td>\n",
       "      <td>5</td>\n",
       "      <td>8</td>\n",
       "      <td>13</td>\n",
       "      <td>8</td>\n",
       "      <td>2</td>\n",
       "      <td>1</td>\n",
       "      <td>0</td>\n",
       "      <td>0</td>\n",
       "      <td>3</td>\n",
       "      <td>3</td>\n",
       "      <td>D</td>\n",
       "      <td>0.940175</td>\n",
       "      <td>0.099108</td>\n",
       "      <td>2.65</td>\n",
       "      <td>2.23</td>\n",
       "    </tr>\n",
       "    <tr>\n",
       "      <th>1680</th>\n",
       "      <td>37</td>\n",
       "      <td>1</td>\n",
       "      <td>18</td>\n",
       "      <td>3</td>\n",
       "      <td>5</td>\n",
       "      <td>7</td>\n",
       "      <td>4</td>\n",
       "      <td>1</td>\n",
       "      <td>2</td>\n",
       "      <td>0</td>\n",
       "      <td>0</td>\n",
       "      <td>0</td>\n",
       "      <td>4</td>\n",
       "      <td>A</td>\n",
       "      <td>0.056729</td>\n",
       "      <td>0.692021</td>\n",
       "      <td>1.49</td>\n",
       "      <td>0.85</td>\n",
       "    </tr>\n",
       "    <tr>\n",
       "      <th>1681</th>\n",
       "      <td>25</td>\n",
       "      <td>20</td>\n",
       "      <td>33</td>\n",
       "      <td>3</td>\n",
       "      <td>6</td>\n",
       "      <td>10</td>\n",
       "      <td>11</td>\n",
       "      <td>0</td>\n",
       "      <td>2</td>\n",
       "      <td>0</td>\n",
       "      <td>0</td>\n",
       "      <td>1</td>\n",
       "      <td>2</td>\n",
       "      <td>A</td>\n",
       "      <td>0.320681</td>\n",
       "      <td>1.183681</td>\n",
       "      <td>1.28</td>\n",
       "      <td>1.43</td>\n",
       "    </tr>\n",
       "    <tr>\n",
       "      <th>1682</th>\n",
       "      <td>12</td>\n",
       "      <td>22</td>\n",
       "      <td>3</td>\n",
       "      <td>5</td>\n",
       "      <td>3</td>\n",
       "      <td>11</td>\n",
       "      <td>10</td>\n",
       "      <td>3</td>\n",
       "      <td>1</td>\n",
       "      <td>0</td>\n",
       "      <td>0</td>\n",
       "      <td>1</td>\n",
       "      <td>3</td>\n",
       "      <td>A</td>\n",
       "      <td>0.010900</td>\n",
       "      <td>0.167596</td>\n",
       "      <td>1.04</td>\n",
       "      <td>2.62</td>\n",
       "    </tr>\n",
       "    <tr>\n",
       "      <th>1683</th>\n",
       "      <td>31</td>\n",
       "      <td>21</td>\n",
       "      <td>2</td>\n",
       "      <td>1</td>\n",
       "      <td>10</td>\n",
       "      <td>5</td>\n",
       "      <td>12</td>\n",
       "      <td>1</td>\n",
       "      <td>3</td>\n",
       "      <td>0</td>\n",
       "      <td>0</td>\n",
       "      <td>1</td>\n",
       "      <td>0</td>\n",
       "      <td>H</td>\n",
       "      <td>0.103297</td>\n",
       "      <td>0.000000</td>\n",
       "      <td>1.01</td>\n",
       "      <td>0.00</td>\n",
       "    </tr>\n",
       "  </tbody>\n",
       "</table>\n",
       "<p>1684 rows × 18 columns</p>\n",
       "</div>"
      ],
      "text/plain": [
       "      HomeTeam  AwayTeam  Referee  HC  AC  HF  AF  HY  AY  HR  AR  FTHG  FTAG  \\\n",
       "0           10        34       12   7   4  10  14   3   2   0   0     0     1   \n",
       "1           13        37        7   3   6  12  15   2   2   0   0     0     1   \n",
       "2           14        35       18   5   6  10  14   0   0   0   0     1     1   \n",
       "3           18        20       20   5   3   8  17   2   2   0   0     2     1   \n",
       "4           22        33       34   9   6  11  14   1   2   0   0     2     1   \n",
       "...        ...       ...      ...  ..  ..  ..  ..  ..  ..  ..  ..   ...   ...   \n",
       "1679         9        40        1   5   8  13   8   2   1   0   0     3     3   \n",
       "1680        37         1       18   3   5   7   4   1   2   0   0     0     4   \n",
       "1681        25        20       33   3   6  10  11   0   2   0   0     1     2   \n",
       "1682        12        22        3   5   3  11  10   3   1   0   0     1     3   \n",
       "1683        31        21        2   1  10   5  12   1   3   0   0     1     0   \n",
       "\n",
       "     FTR       xHG       xAG  Predicted FTHG  Predicted FTAG  \n",
       "0      A  0.000000  0.429106            0.00            0.98  \n",
       "1      A  0.000000  0.429106            0.00            1.02  \n",
       "2      D  0.103297  0.429106            1.07            0.86  \n",
       "3      H  1.103297  0.999136            2.09            1.12  \n",
       "4      H  0.999340  0.429106            1.93            0.98  \n",
       "...   ..       ...       ...             ...             ...  \n",
       "1679   D  0.940175  0.099108            2.65            2.23  \n",
       "1680   A  0.056729  0.692021            1.49            0.85  \n",
       "1681   A  0.320681  1.183681            1.28            1.43  \n",
       "1682   A  0.010900  0.167596            1.04            2.62  \n",
       "1683   H  0.103297  0.000000            1.01            0.00  \n",
       "\n",
       "[1684 rows x 18 columns]"
      ]
     },
     "execution_count": 454,
     "metadata": {},
     "output_type": "execute_result"
    }
   ],
   "source": [
    "complete_non_shot_predictions = general_training_data.copy()\n",
    "\n",
    "# Add predicted FTHG\n",
    "complete_non_shot_predictions['Predicted FTHG'] = home_results['Predicted FTHG']\n",
    "\n",
    "# Add predicted FTAG\n",
    "complete_non_shot_predictions['Predicted FTAG'] = away_results['Predicted FTAG']\n",
    "\n",
    "complete_non_shot_predictions"
   ]
  },
  {
   "cell_type": "code",
   "execution_count": 455,
   "metadata": {},
   "outputs": [],
   "source": [
    "path = os.path.join(os.getcwd(), \"output/non_shot_predictions.csv\")\n",
    "complete_non_shot_predictions.to_csv(path, index=False)"
   ]
  },
  {
   "cell_type": "markdown",
   "metadata": {},
   "source": [
    "### ELO Rating classifier"
   ]
  },
  {
   "cell_type": "markdown",
   "metadata": {},
   "source": [
    "## Offensive and defensive ELO ratings to predict number of goals\n",
    "\n",
    "We keep track of two ratings for all teams offensive rating ($R_O$) and defensive rating ($R_D$).\n",
    "\n",
    "We can then predict the number of goals a team will score by taking the difference of their offensive rating and the opponent's defensive rating.\n",
    "\n",
    "The number of goals scored against them can be calculated by considering it from the opponent's perspective.\n",
    "\n",
    "$E[\\text{team}] = R_O[\\text{team}] - R_D[\\text{opponent}]$\n",
    "\n",
    "We can update a team's offensive rating by adding the difference between the actual number of goals and the expected goals multiplied by the learning rate.\n",
    "We can update a team's defensive rating by adding the difference between the expected goals scored against them and the actual number of goals scored against them multiplied by the learning rate.\n",
    "\n",
    "$R_O[\\text{team}] = R_O[\\text{team}] + k(G[\\text{team}] - E[\\text{team}])$\n",
    "\n",
    "$R_D[\\text{team}] = R_D[\\text{team}] + k(E[\\text{opponent}] - G[\\text{opponent}])$\n",
    "\n",
    "We start every team with a rating of 0. The order of the training data makes a difference to the model and so the training data should be in chronological order in order to account for teams changing over team.\n",
    "\n",
    "We take the output of the elo rating predictor and use it to predict the final result. This is done using a simple piecewise function with an optimised draw size and a SVC. The results are compared and the SVC is chosen because it is more accurate.\n"
   ]
  },
  {
   "cell_type": "code",
   "execution_count": 8,
   "metadata": {},
   "outputs": [],
   "source": [
    "class GoalElo:\n",
    "    def __init__(self, initial_rating=0, learning_rate=0.05, draw_size=0.5):\n",
    "        self.offensive_ratings = defaultdict(lambda: initial_rating)\n",
    "        self.defensive_ratings = defaultdict(lambda: initial_rating)\n",
    "        self.match_count = defaultdict(lambda: 0)\n",
    "        self.learning_rate = learning_rate\n",
    "        self.draw_size = draw_size\n",
    "\n",
    "    def predict(self, team, opponent):\n",
    "        ''' Predicts the number of goals team will score against opponent. '''\n",
    "        return self.offensive_ratings[team] - self.defensive_ratings[opponent]\n",
    "\n",
    "    def predict_result(self, team, opponent):\n",
    "        ''' Predicts the result of a match. 1 if team wins, 0 if opponent wins and 0.5 if it is a draw. '''\n",
    "        goals_scored = self.predict(team, opponent)\n",
    "        goals_conceded = self.predict(opponent, team)\n",
    "        return self.classify_result(goals_scored, goals_conceded)\n",
    "\n",
    "    def classify_result(self, goals_scored, goals_conceded):\n",
    "        ''' Piecewise function to predict result from number of goals '''\n",
    "        goal_difference = goals_scored - goals_conceded\n",
    "        # result = round(1 / (1 + 10**(-goal_difference)))\n",
    "        result = 1 if goal_difference > 0 else 0\n",
    "        if abs(goal_difference) < self.draw_size:\n",
    "            result = 0.5\n",
    "        return result\n",
    "\n",
    "\n",
    "    def predict_data(self, df):\n",
    "        ''' Takes a data frame of home and away teams to predict the number of goals and result of '''\n",
    "        out = df.copy()\n",
    "        for i, row in out.iterrows():\n",
    "            out.at[i, 'EHG'] = self.predict(row['HomeTeam'], row['AwayTeam'])\n",
    "            out.at[i, 'EAG'] = self.predict(row['AwayTeam'], row['HomeTeam'])\n",
    "            out.at[i, 'ER'] = decode_result(self.predict_result(row['HomeTeam'], row['AwayTeam']))\n",
    "        return out\n",
    "\n",
    "    def update_match(self, home, away, home_actual_goals, away_actual_goals):\n",
    "        ''' Updates the offensive and defensive ratings of both teams in a match. '''\n",
    "        home_expected_goals = self.predict(home, away)\n",
    "        away_expected_goals = self.predict(away, home)\n",
    "        self.offensive_ratings[home] += self.learning_rate * (home_actual_goals - home_expected_goals)\n",
    "        self.offensive_ratings[away] += self.learning_rate * (away_actual_goals - away_expected_goals)\n",
    "        self.defensive_ratings[home] += self.learning_rate * (away_expected_goals - away_actual_goals)\n",
    "        self.defensive_ratings[away] += self.learning_rate * (home_expected_goals - home_actual_goals)\n",
    "        self.match_count[home] += 1\n",
    "        self.match_count[away] += 1\n",
    "\n",
    "    def ratings_dataframe(self):\n",
    "        ''' Creates an easy to read dataframe of the ratings '''\n",
    "        df = pd.DataFrame(self.offensive_ratings.items(), columns=['Team', 'Offensive Rating'])\n",
    "        df['Defensive Rating'] = df['Team'].map(self.defensive_ratings)\n",
    "        df['Matches'] = df['Team'].map(self.match_count)\n",
    "        df = df.sort_values('Offensive Rating', ascending=False)\n",
    "        return df\n",
    "\n",
    "    def fit(self, df):\n",
    "        ''' Takes a data frame of matches with columns HomeTeam, AwayTeam, Predicted FTHG, Predicted FTAG and updates teams ratings using the data in order. '''\n",
    "        for i, row in df.iterrows():\n",
    "            if 'Predicted FTHG' in row:\n",
    "                self.update_match(row['HomeTeam'], row['AwayTeam'], row['Predicted FTHG'], row['Predicted FTAG'])\n",
    "            else:\n",
    "                self.update_match(row['HomeTeam'], row['AwayTeam'], row['FTHG'], row['FTAG'])\n"
   ]
  },
  {
   "cell_type": "code",
   "execution_count": 9,
   "metadata": {},
   "outputs": [],
   "source": [
    "def decode_result(result):\n",
    "    if result == 1:\n",
    "        return 'H'\n",
    "    elif result == 0:\n",
    "        return 'A'\n",
    "    return 'D'"
   ]
  },
  {
   "cell_type": "code",
   "execution_count": 10,
   "metadata": {},
   "outputs": [],
   "source": [
    "match_data = pd.read_csv(os.path.join(os.getcwd(), \"output/non_shot_predictions.csv\"))"
   ]
  },
  {
   "cell_type": "code",
   "execution_count": 11,
   "metadata": {},
   "outputs": [],
   "source": [
    "training, test = train_test_split(match_data, test_size=0.05, shuffle=False)"
   ]
  },
  {
   "cell_type": "code",
   "execution_count": 12,
   "metadata": {},
   "outputs": [],
   "source": [
    "# Train elo ratings\n",
    "goal_elo = GoalElo()\n",
    "goal_elo.fit(training)\n"
   ]
  },
  {
   "cell_type": "code",
   "execution_count": 34,
   "metadata": {},
   "outputs": [],
   "source": [
    "# Generating reverse teams mappings \n",
    "teams_data = pd.read_csv(os.path.join(os.getcwd(), \"data/standard/standard.teamnames.csv\"))\n",
    "teamname, teamID = list(teams_data['Standard teamname']), list(teams_data['TeamID'])\n",
    "teamname_mapping = dict(zip(teamID, teamname))\n",
    "teamname_mapping_inverse = dict(zip(teamname, teamID))"
   ]
  },
  {
   "cell_type": "code",
   "execution_count": 27,
   "metadata": {},
   "outputs": [
    {
     "output_type": "execute_result",
     "data": {
      "text/plain": [
       "    Team  Offensive Rating  Defensive Rating  Matches          TeamName\n",
       "15    21          1.670332         -0.536489      160         Liverpool\n",
       "8     22          1.604888         -0.102581      159          Man City\n",
       "7     20          1.090975         -0.504264      160         Leicester\n",
       "17    23          1.089504         -0.415656      159        Man United\n",
       "18    12          1.086708         -0.537025      161           Chelsea\n",
       "14     1          0.926346         -0.438510      160           Arsenal\n",
       "28     2          0.889398         -0.562561       45       Aston Villa\n",
       "12    31          0.877671         -0.554901      160       Southampton\n",
       "19    38          0.865563         -0.518995      160          West Ham\n",
       "5     35          0.823517         -0.585725      160         Tottenham\n",
       "4     14          0.774523         -0.737113      160           Everton\n",
       "13    36          0.681744         -0.696452      152           Watford\n",
       "22    25          0.628738         -0.671067      123         Newcastle\n",
       "2     13          0.599010         -0.724809      160    Crystal Palace\n",
       "16     8          0.595878         -0.864251      152       Bournemouth\n",
       "20     9          0.583668         -0.587294      122          Brighton\n",
       "25    40          0.580969         -0.399648       84            Wolves\n",
       "0     10          0.562749         -0.613210      159           Burnley\n",
       "29    19          0.500108         -0.345791        8             Leeds\n",
       "27    30          0.475669         -0.534818       46  Sheffield United\n",
       "11    32          0.470559         -0.811499       76             Stoke\n",
       "1     34          0.453494         -0.728133       76           Swansea\n",
       "24    15          0.435100         -1.010508       46            Fulham\n",
       "3     37          0.374384         -0.927690       84         West Brom\n",
       "6     18          0.347400         -1.189707       38              Hull\n",
       "23    11          0.320972         -0.666503       38           Cardiff\n",
       "26    26          0.263829         -0.889496       38           Norwich\n",
       "21    17          0.224684         -0.912734       76      Huddersfield\n",
       "10    24          0.094618         -0.823779       38     Middlesbrough\n",
       "9     33          0.051529         -1.053318       38        Sunderland"
      ],
      "text/html": "<div>\n<style scoped>\n    .dataframe tbody tr th:only-of-type {\n        vertical-align: middle;\n    }\n\n    .dataframe tbody tr th {\n        vertical-align: top;\n    }\n\n    .dataframe thead th {\n        text-align: right;\n    }\n</style>\n<table border=\"1\" class=\"dataframe\">\n  <thead>\n    <tr style=\"text-align: right;\">\n      <th></th>\n      <th>Team</th>\n      <th>Offensive Rating</th>\n      <th>Defensive Rating</th>\n      <th>Matches</th>\n      <th>TeamName</th>\n    </tr>\n  </thead>\n  <tbody>\n    <tr>\n      <th>15</th>\n      <td>21</td>\n      <td>1.670332</td>\n      <td>-0.536489</td>\n      <td>160</td>\n      <td>Liverpool</td>\n    </tr>\n    <tr>\n      <th>8</th>\n      <td>22</td>\n      <td>1.604888</td>\n      <td>-0.102581</td>\n      <td>159</td>\n      <td>Man City</td>\n    </tr>\n    <tr>\n      <th>7</th>\n      <td>20</td>\n      <td>1.090975</td>\n      <td>-0.504264</td>\n      <td>160</td>\n      <td>Leicester</td>\n    </tr>\n    <tr>\n      <th>17</th>\n      <td>23</td>\n      <td>1.089504</td>\n      <td>-0.415656</td>\n      <td>159</td>\n      <td>Man United</td>\n    </tr>\n    <tr>\n      <th>18</th>\n      <td>12</td>\n      <td>1.086708</td>\n      <td>-0.537025</td>\n      <td>161</td>\n      <td>Chelsea</td>\n    </tr>\n    <tr>\n      <th>14</th>\n      <td>1</td>\n      <td>0.926346</td>\n      <td>-0.438510</td>\n      <td>160</td>\n      <td>Arsenal</td>\n    </tr>\n    <tr>\n      <th>28</th>\n      <td>2</td>\n      <td>0.889398</td>\n      <td>-0.562561</td>\n      <td>45</td>\n      <td>Aston Villa</td>\n    </tr>\n    <tr>\n      <th>12</th>\n      <td>31</td>\n      <td>0.877671</td>\n      <td>-0.554901</td>\n      <td>160</td>\n      <td>Southampton</td>\n    </tr>\n    <tr>\n      <th>19</th>\n      <td>38</td>\n      <td>0.865563</td>\n      <td>-0.518995</td>\n      <td>160</td>\n      <td>West Ham</td>\n    </tr>\n    <tr>\n      <th>5</th>\n      <td>35</td>\n      <td>0.823517</td>\n      <td>-0.585725</td>\n      <td>160</td>\n      <td>Tottenham</td>\n    </tr>\n    <tr>\n      <th>4</th>\n      <td>14</td>\n      <td>0.774523</td>\n      <td>-0.737113</td>\n      <td>160</td>\n      <td>Everton</td>\n    </tr>\n    <tr>\n      <th>13</th>\n      <td>36</td>\n      <td>0.681744</td>\n      <td>-0.696452</td>\n      <td>152</td>\n      <td>Watford</td>\n    </tr>\n    <tr>\n      <th>22</th>\n      <td>25</td>\n      <td>0.628738</td>\n      <td>-0.671067</td>\n      <td>123</td>\n      <td>Newcastle</td>\n    </tr>\n    <tr>\n      <th>2</th>\n      <td>13</td>\n      <td>0.599010</td>\n      <td>-0.724809</td>\n      <td>160</td>\n      <td>Crystal Palace</td>\n    </tr>\n    <tr>\n      <th>16</th>\n      <td>8</td>\n      <td>0.595878</td>\n      <td>-0.864251</td>\n      <td>152</td>\n      <td>Bournemouth</td>\n    </tr>\n    <tr>\n      <th>20</th>\n      <td>9</td>\n      <td>0.583668</td>\n      <td>-0.587294</td>\n      <td>122</td>\n      <td>Brighton</td>\n    </tr>\n    <tr>\n      <th>25</th>\n      <td>40</td>\n      <td>0.580969</td>\n      <td>-0.399648</td>\n      <td>84</td>\n      <td>Wolves</td>\n    </tr>\n    <tr>\n      <th>0</th>\n      <td>10</td>\n      <td>0.562749</td>\n      <td>-0.613210</td>\n      <td>159</td>\n      <td>Burnley</td>\n    </tr>\n    <tr>\n      <th>29</th>\n      <td>19</td>\n      <td>0.500108</td>\n      <td>-0.345791</td>\n      <td>8</td>\n      <td>Leeds</td>\n    </tr>\n    <tr>\n      <th>27</th>\n      <td>30</td>\n      <td>0.475669</td>\n      <td>-0.534818</td>\n      <td>46</td>\n      <td>Sheffield United</td>\n    </tr>\n    <tr>\n      <th>11</th>\n      <td>32</td>\n      <td>0.470559</td>\n      <td>-0.811499</td>\n      <td>76</td>\n      <td>Stoke</td>\n    </tr>\n    <tr>\n      <th>1</th>\n      <td>34</td>\n      <td>0.453494</td>\n      <td>-0.728133</td>\n      <td>76</td>\n      <td>Swansea</td>\n    </tr>\n    <tr>\n      <th>24</th>\n      <td>15</td>\n      <td>0.435100</td>\n      <td>-1.010508</td>\n      <td>46</td>\n      <td>Fulham</td>\n    </tr>\n    <tr>\n      <th>3</th>\n      <td>37</td>\n      <td>0.374384</td>\n      <td>-0.927690</td>\n      <td>84</td>\n      <td>West Brom</td>\n    </tr>\n    <tr>\n      <th>6</th>\n      <td>18</td>\n      <td>0.347400</td>\n      <td>-1.189707</td>\n      <td>38</td>\n      <td>Hull</td>\n    </tr>\n    <tr>\n      <th>23</th>\n      <td>11</td>\n      <td>0.320972</td>\n      <td>-0.666503</td>\n      <td>38</td>\n      <td>Cardiff</td>\n    </tr>\n    <tr>\n      <th>26</th>\n      <td>26</td>\n      <td>0.263829</td>\n      <td>-0.889496</td>\n      <td>38</td>\n      <td>Norwich</td>\n    </tr>\n    <tr>\n      <th>21</th>\n      <td>17</td>\n      <td>0.224684</td>\n      <td>-0.912734</td>\n      <td>76</td>\n      <td>Huddersfield</td>\n    </tr>\n    <tr>\n      <th>10</th>\n      <td>24</td>\n      <td>0.094618</td>\n      <td>-0.823779</td>\n      <td>38</td>\n      <td>Middlesbrough</td>\n    </tr>\n    <tr>\n      <th>9</th>\n      <td>33</td>\n      <td>0.051529</td>\n      <td>-1.053318</td>\n      <td>38</td>\n      <td>Sunderland</td>\n    </tr>\n  </tbody>\n</table>\n</div>"
     },
     "metadata": {},
     "execution_count": 27
    }
   ],
   "source": [
    "# Display elo ratings\n",
    "ratings_display = goal_elo.ratings_dataframe()\n",
    "for i, row in ratings_display.iterrows():\n",
    "    ratings_display.at[i, 'TeamName'] = teamname_mapping[row['Team']]\n",
    "ratings_display"
   ]
  },
  {
   "cell_type": "code",
   "execution_count": 28,
   "metadata": {},
   "outputs": [
    {
     "output_type": "execute_result",
     "data": {
      "text/plain": [
       "SVC(gamma='auto')"
      ]
     },
     "metadata": {},
     "execution_count": 28
    }
   ],
   "source": [
    "# Predict number of goals for use in training result classifier\n",
    "goal_predicted_data = goal_elo.predict_data(training)\n",
    "\n",
    "X = np.array([goal_predicted_data['EHG'].to_numpy(), goal_predicted_data['EAG'].to_numpy()]).T\n",
    "y = goal_predicted_data['FTR'].to_numpy()\n",
    "# y = [decode_result(r) for r in goal_predicted_data['FTR'].to_numpy()]\n",
    "\n",
    "# Train classifier to predict result from number of goals\n",
    "goal_result_classifier = SVC(gamma='auto')\n",
    "goal_result_classifier.fit(X, y)"
   ]
  },
  {
   "cell_type": "code",
   "execution_count": 31,
   "metadata": {},
   "outputs": [
    {
     "output_type": "stream",
     "name": "stdout",
     "text": [
      "Accuracy:\nDS:  0.4117647058823529\nSVC:  0.4588235294117647\nF1 Score:\nDS:  0.41335453100158986\nSVC:  0.37063202452196764\n"
     ]
    }
   ],
   "source": [
    "# Predict number of goals scored using goal_elo\n",
    "goal_prediction = goal_elo.predict_data(test)\n",
    "X_test = np.array([goal_prediction['EHG'].to_numpy(), goal_prediction['EAG'].to_numpy()]).T\n",
    "y_test = goal_prediction['FTR'].to_numpy()\n",
    "# Predict result using SVC and elo predicted number of goals\n",
    "y_pred = goal_result_classifier.predict(X_test)\n",
    "# Predict result using piecewise function and elo predicted number of goals\n",
    "y_pred2 = goal_prediction['ER'].to_numpy()\n",
    "\n",
    "# Measure accuracy\n",
    "print(\"Accuracy:\")\n",
    "print(\"DS: \", accuracy_score(y_test, y_pred2))\n",
    "print(\"SVC: \", accuracy_score(y_test, y_pred))\n",
    "\n",
    "# Measure f1 score\n",
    "print(\"F1 Score:\")\n",
    "print(\"DS: \", f1_score(y_test, y_pred2, average='weighted'))\n",
    "print(\"SVC: \", f1_score(y_test, y_pred, average='weighted'))"
   ]
  },
  {
   "cell_type": "markdown",
   "metadata": {},
   "source": [
    "### Results\n",
    "\n",
    "``<insert model tests here>``"
   ]
  },
  {
   "cell_type": "markdown",
   "metadata": {},
   "source": [
    "### Final predictions"
   ]
  },
  {
   "cell_type": "code",
   "execution_count": 32,
   "metadata": {},
   "outputs": [
    {
     "output_type": "execute_result",
     "data": {
      "text/plain": [
       "        Date          HomeTeam        AwayTeam\n",
       "0  16 Jan 21           Arsenal       Newcastle\n",
       "1  16 Jan 21       Aston Villa         Everton\n",
       "2  16 Jan 21            Fulham         Chelsea\n",
       "3  16 Jan 21             Leeds        Brighton\n",
       "4  16 Jan 21         Leicester     Southampton\n",
       "5  16 Jan 21         Liverpool      Man United\n",
       "6  16 Jan 21          Man City  Crystal Palace\n",
       "7  16 Jan 21  Sheffield United       Tottenham\n",
       "8  16 Jan 21          West Ham         Burnley\n",
       "9  16 Jan 21            Wolves       West Brom"
      ],
      "text/html": "<div>\n<style scoped>\n    .dataframe tbody tr th:only-of-type {\n        vertical-align: middle;\n    }\n\n    .dataframe tbody tr th {\n        vertical-align: top;\n    }\n\n    .dataframe thead th {\n        text-align: right;\n    }\n</style>\n<table border=\"1\" class=\"dataframe\">\n  <thead>\n    <tr style=\"text-align: right;\">\n      <th></th>\n      <th>Date</th>\n      <th>HomeTeam</th>\n      <th>AwayTeam</th>\n    </tr>\n  </thead>\n  <tbody>\n    <tr>\n      <th>0</th>\n      <td>16 Jan 21</td>\n      <td>Arsenal</td>\n      <td>Newcastle</td>\n    </tr>\n    <tr>\n      <th>1</th>\n      <td>16 Jan 21</td>\n      <td>Aston Villa</td>\n      <td>Everton</td>\n    </tr>\n    <tr>\n      <th>2</th>\n      <td>16 Jan 21</td>\n      <td>Fulham</td>\n      <td>Chelsea</td>\n    </tr>\n    <tr>\n      <th>3</th>\n      <td>16 Jan 21</td>\n      <td>Leeds</td>\n      <td>Brighton</td>\n    </tr>\n    <tr>\n      <th>4</th>\n      <td>16 Jan 21</td>\n      <td>Leicester</td>\n      <td>Southampton</td>\n    </tr>\n    <tr>\n      <th>5</th>\n      <td>16 Jan 21</td>\n      <td>Liverpool</td>\n      <td>Man United</td>\n    </tr>\n    <tr>\n      <th>6</th>\n      <td>16 Jan 21</td>\n      <td>Man City</td>\n      <td>Crystal Palace</td>\n    </tr>\n    <tr>\n      <th>7</th>\n      <td>16 Jan 21</td>\n      <td>Sheffield United</td>\n      <td>Tottenham</td>\n    </tr>\n    <tr>\n      <th>8</th>\n      <td>16 Jan 21</td>\n      <td>West Ham</td>\n      <td>Burnley</td>\n    </tr>\n    <tr>\n      <th>9</th>\n      <td>16 Jan 21</td>\n      <td>Wolves</td>\n      <td>West Brom</td>\n    </tr>\n  </tbody>\n</table>\n</div>"
     },
     "metadata": {},
     "execution_count": 32
    }
   ],
   "source": [
    "# Import data to predict\n",
    "final_test_data = pd.read_csv(os.path.join(os.getcwd(), 'data/epl-test.csv'))\n",
    "final_test_data"
   ]
  },
  {
   "cell_type": "code",
   "execution_count": 35,
   "metadata": {},
   "outputs": [],
   "source": [
    "# Use elo to predict goals\n",
    "for i, r in final_test_data.iterrows():\n",
    "    final_test_data.at[i, 'HomeGoals'] = goal_elo.predict(teamname_mapping_inverse[r['HomeTeam']], teamname_mapping_inverse[r['AwayTeam']])\n",
    "    final_test_data.at[i, 'AwayGoals'] = goal_elo.predict(teamname_mapping_inverse[r['AwayTeam']], teamname_mapping_inverse[r['HomeTeam']])"
   ]
  },
  {
   "cell_type": "code",
   "execution_count": 36,
   "metadata": {},
   "outputs": [
    {
     "output_type": "execute_result",
     "data": {
      "text/plain": [
       "        Date          HomeTeam        AwayTeam  HomeGoals  AwayGoals\n",
       "0  16 Jan 21           Arsenal       Newcastle   1.597414   1.067248\n",
       "1  16 Jan 21       Aston Villa         Everton   1.626511   1.337084\n",
       "2  16 Jan 21            Fulham         Chelsea   0.972125   2.097216\n",
       "3  16 Jan 21             Leeds        Brighton   1.087403   0.929460\n",
       "4  16 Jan 21         Leicester     Southampton   1.645876   1.381934\n",
       "5  16 Jan 21         Liverpool      Man United   2.085988   1.625993\n",
       "6  16 Jan 21          Man City  Crystal Palace   2.329697   0.701591\n",
       "7  16 Jan 21  Sheffield United       Tottenham   1.061394   1.358335\n",
       "8  16 Jan 21          West Ham         Burnley   1.478773   1.081744\n",
       "9  16 Jan 21            Wolves       West Brom   1.508660   0.774032"
      ],
      "text/html": "<div>\n<style scoped>\n    .dataframe tbody tr th:only-of-type {\n        vertical-align: middle;\n    }\n\n    .dataframe tbody tr th {\n        vertical-align: top;\n    }\n\n    .dataframe thead th {\n        text-align: right;\n    }\n</style>\n<table border=\"1\" class=\"dataframe\">\n  <thead>\n    <tr style=\"text-align: right;\">\n      <th></th>\n      <th>Date</th>\n      <th>HomeTeam</th>\n      <th>AwayTeam</th>\n      <th>HomeGoals</th>\n      <th>AwayGoals</th>\n    </tr>\n  </thead>\n  <tbody>\n    <tr>\n      <th>0</th>\n      <td>16 Jan 21</td>\n      <td>Arsenal</td>\n      <td>Newcastle</td>\n      <td>1.597414</td>\n      <td>1.067248</td>\n    </tr>\n    <tr>\n      <th>1</th>\n      <td>16 Jan 21</td>\n      <td>Aston Villa</td>\n      <td>Everton</td>\n      <td>1.626511</td>\n      <td>1.337084</td>\n    </tr>\n    <tr>\n      <th>2</th>\n      <td>16 Jan 21</td>\n      <td>Fulham</td>\n      <td>Chelsea</td>\n      <td>0.972125</td>\n      <td>2.097216</td>\n    </tr>\n    <tr>\n      <th>3</th>\n      <td>16 Jan 21</td>\n      <td>Leeds</td>\n      <td>Brighton</td>\n      <td>1.087403</td>\n      <td>0.929460</td>\n    </tr>\n    <tr>\n      <th>4</th>\n      <td>16 Jan 21</td>\n      <td>Leicester</td>\n      <td>Southampton</td>\n      <td>1.645876</td>\n      <td>1.381934</td>\n    </tr>\n    <tr>\n      <th>5</th>\n      <td>16 Jan 21</td>\n      <td>Liverpool</td>\n      <td>Man United</td>\n      <td>2.085988</td>\n      <td>1.625993</td>\n    </tr>\n    <tr>\n      <th>6</th>\n      <td>16 Jan 21</td>\n      <td>Man City</td>\n      <td>Crystal Palace</td>\n      <td>2.329697</td>\n      <td>0.701591</td>\n    </tr>\n    <tr>\n      <th>7</th>\n      <td>16 Jan 21</td>\n      <td>Sheffield United</td>\n      <td>Tottenham</td>\n      <td>1.061394</td>\n      <td>1.358335</td>\n    </tr>\n    <tr>\n      <th>8</th>\n      <td>16 Jan 21</td>\n      <td>West Ham</td>\n      <td>Burnley</td>\n      <td>1.478773</td>\n      <td>1.081744</td>\n    </tr>\n    <tr>\n      <th>9</th>\n      <td>16 Jan 21</td>\n      <td>Wolves</td>\n      <td>West Brom</td>\n      <td>1.508660</td>\n      <td>0.774032</td>\n    </tr>\n  </tbody>\n</table>\n</div>"
     },
     "metadata": {},
     "execution_count": 36
    }
   ],
   "source": [
    "final_test_data"
   ]
  },
  {
   "cell_type": "code",
   "execution_count": 37,
   "metadata": {},
   "outputs": [],
   "source": [
    "goal_predictions = np.array([final_test_data['HomeGoals'].to_numpy(), final_test_data['AwayGoals'].to_numpy()]).T"
   ]
  },
  {
   "cell_type": "code",
   "execution_count": 38,
   "metadata": {},
   "outputs": [],
   "source": [
    "final_test_data['FTR'] = goal_result_classifier.predict(goal_predictions)"
   ]
  },
  {
   "cell_type": "code",
   "execution_count": 39,
   "metadata": {},
   "outputs": [
    {
     "output_type": "execute_result",
     "data": {
      "text/plain": [
       "        Date          HomeTeam        AwayTeam  HomeGoals  AwayGoals FTR\n",
       "0  16 Jan 21           Arsenal       Newcastle   1.597414   1.067248   H\n",
       "1  16 Jan 21       Aston Villa         Everton   1.626511   1.337084   H\n",
       "2  16 Jan 21            Fulham         Chelsea   0.972125   2.097216   A\n",
       "3  16 Jan 21             Leeds        Brighton   1.087403   0.929460   H\n",
       "4  16 Jan 21         Leicester     Southampton   1.645876   1.381934   H\n",
       "5  16 Jan 21         Liverpool      Man United   2.085988   1.625993   H\n",
       "6  16 Jan 21          Man City  Crystal Palace   2.329697   0.701591   H\n",
       "7  16 Jan 21  Sheffield United       Tottenham   1.061394   1.358335   H\n",
       "8  16 Jan 21          West Ham         Burnley   1.478773   1.081744   H\n",
       "9  16 Jan 21            Wolves       West Brom   1.508660   0.774032   H"
      ],
      "text/html": "<div>\n<style scoped>\n    .dataframe tbody tr th:only-of-type {\n        vertical-align: middle;\n    }\n\n    .dataframe tbody tr th {\n        vertical-align: top;\n    }\n\n    .dataframe thead th {\n        text-align: right;\n    }\n</style>\n<table border=\"1\" class=\"dataframe\">\n  <thead>\n    <tr style=\"text-align: right;\">\n      <th></th>\n      <th>Date</th>\n      <th>HomeTeam</th>\n      <th>AwayTeam</th>\n      <th>HomeGoals</th>\n      <th>AwayGoals</th>\n      <th>FTR</th>\n    </tr>\n  </thead>\n  <tbody>\n    <tr>\n      <th>0</th>\n      <td>16 Jan 21</td>\n      <td>Arsenal</td>\n      <td>Newcastle</td>\n      <td>1.597414</td>\n      <td>1.067248</td>\n      <td>H</td>\n    </tr>\n    <tr>\n      <th>1</th>\n      <td>16 Jan 21</td>\n      <td>Aston Villa</td>\n      <td>Everton</td>\n      <td>1.626511</td>\n      <td>1.337084</td>\n      <td>H</td>\n    </tr>\n    <tr>\n      <th>2</th>\n      <td>16 Jan 21</td>\n      <td>Fulham</td>\n      <td>Chelsea</td>\n      <td>0.972125</td>\n      <td>2.097216</td>\n      <td>A</td>\n    </tr>\n    <tr>\n      <th>3</th>\n      <td>16 Jan 21</td>\n      <td>Leeds</td>\n      <td>Brighton</td>\n      <td>1.087403</td>\n      <td>0.929460</td>\n      <td>H</td>\n    </tr>\n    <tr>\n      <th>4</th>\n      <td>16 Jan 21</td>\n      <td>Leicester</td>\n      <td>Southampton</td>\n      <td>1.645876</td>\n      <td>1.381934</td>\n      <td>H</td>\n    </tr>\n    <tr>\n      <th>5</th>\n      <td>16 Jan 21</td>\n      <td>Liverpool</td>\n      <td>Man United</td>\n      <td>2.085988</td>\n      <td>1.625993</td>\n      <td>H</td>\n    </tr>\n    <tr>\n      <th>6</th>\n      <td>16 Jan 21</td>\n      <td>Man City</td>\n      <td>Crystal Palace</td>\n      <td>2.329697</td>\n      <td>0.701591</td>\n      <td>H</td>\n    </tr>\n    <tr>\n      <th>7</th>\n      <td>16 Jan 21</td>\n      <td>Sheffield United</td>\n      <td>Tottenham</td>\n      <td>1.061394</td>\n      <td>1.358335</td>\n      <td>H</td>\n    </tr>\n    <tr>\n      <th>8</th>\n      <td>16 Jan 21</td>\n      <td>West Ham</td>\n      <td>Burnley</td>\n      <td>1.478773</td>\n      <td>1.081744</td>\n      <td>H</td>\n    </tr>\n    <tr>\n      <th>9</th>\n      <td>16 Jan 21</td>\n      <td>Wolves</td>\n      <td>West Brom</td>\n      <td>1.508660</td>\n      <td>0.774032</td>\n      <td>H</td>\n    </tr>\n  </tbody>\n</table>\n</div>"
     },
     "metadata": {},
     "execution_count": 39
    }
   ],
   "source": [
    "final_test_data"
   ]
  },
  {
   "cell_type": "code",
   "execution_count": null,
   "metadata": {},
   "outputs": [],
   "source": []
  }
 ],
 "metadata": {
  "kernelspec": {
   "display_name": "Python 3",
   "language": "python",
   "name": "python3"
  },
  "language_info": {
   "codemirror_mode": {
    "name": "ipython",
    "version": 3
   },
   "file_extension": ".py",
   "mimetype": "text/x-python",
   "name": "python",
   "nbconvert_exporter": "python",
   "pygments_lexer": "ipython3",
   "version": "3.8.3-final"
  }
 },
 "nbformat": 4,
 "nbformat_minor": 4
}