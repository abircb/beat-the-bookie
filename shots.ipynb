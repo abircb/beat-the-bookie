{
 "cells": [
  {
   "cell_type": "code",
   "execution_count": 3,
   "metadata": {},
   "outputs": [],
   "source": [
    "import numpy as np\n",
    "import pandas as pd\n",
    "import sklearn as sk\n",
    "import matplotlib.pyplot as plt\n",
    "import torch as tor\n",
    "import plotly as ply\n",
    "import os\n",
    "import re\n",
    "import requests\n",
    "import json\n",
    "from IPython.core.display import HTML\n",
    "from bs4 import BeautifulSoup"
   ]
  },
  {
   "cell_type": "code",
   "execution_count": null,
   "metadata": {},
   "outputs": [],
   "source": []
  },
  {
   "cell_type": "markdown",
   "metadata": {},
   "source": [
    "# Match Report extraction"
   ]
  },
  {
   "cell_type": "code",
   "execution_count": 2,
   "metadata": {},
   "outputs": [],
   "source": [
    "def get_match_table(link_string):\n",
    "    req = requests.get(link_string)\n",
    "    \n",
    "    html = req.text\n",
    "    \n",
    "    # extract first table in the page\n",
    "    start = html.index('<table')\n",
    "    end = html[start:].index('</table>') + start\n",
    "    \n",
    "    table = html[start:end]\n",
    "    \n",
    "    return table\n",
    "        \n",
    "def get_report_links(table):\n",
    "    contain_links = [cl.group() for cl in list(re.finditer('<td class=\"left group_start\".*</a></td>', table))]\n",
    "    \n",
    "    links = []\n",
    "    \n",
    "    for cl in contain_links:\n",
    "\n",
    "        link = re.search('href=\".*\"', cl).group().replace('href=', '').replace('\"', '')\n",
    "        \n",
    "        link = 'https://fbref.com' + link\n",
    "        \n",
    "        links.append(link)\n",
    "    \n",
    "    # for some reason there are two of each.\n",
    "    return links[::2]"
   ]
  },
  {
   "cell_type": "markdown",
   "metadata": {},
   "source": [
    "# Shot Table Extraction"
   ]
  },
  {
   "cell_type": "code",
   "execution_count": 3,
   "metadata": {},
   "outputs": [],
   "source": [
    "def get_match_timestamp(html):\n",
    "    date = re.search('data-venue-date=\"[^\"]*\"', html)\\\n",
    "            .group()\\\n",
    "            .replace('data-venue-date=', '')\\\n",
    "            .replace('\"', '')\n",
    "    time = re.search('data-venue-time=\"[^\"]*\"', html)\\\n",
    "            .group()\\\n",
    "            .replace('data-venue-time=', '')\\\n",
    "            .replace('\"', '')\n",
    "    \n",
    "    timestamp = pd.to_datetime(date + ' ' + time)\n",
    "    \n",
    "    return timestamp\n",
    "\n",
    "def get_shot_table(link_string):\n",
    "    \n",
    "    req = requests.get(link_string)\n",
    "    print(req)\n",
    "    html = req.text\n",
    "    \n",
    "    timestamp = get_match_timestamp(html)\n",
    "    \n",
    "    # extract table with id 'shots_all'\n",
    "    start = re.search('<table .* id=\"shots_all\"', html).span()[0]\n",
    "    end = html[start:].index('</table>') + start\n",
    "    \n",
    "    table = html[start:end]\n",
    "    \n",
    "    return table, timestamp"
   ]
  },
  {
   "cell_type": "markdown",
   "metadata": {},
   "source": [
    "# Season and Team Ids"
   ]
  },
  {
   "cell_type": "code",
   "execution_count": 4,
   "metadata": {},
   "outputs": [],
   "source": [
    "html = requests.get('https://fbref.com/en/comps/9/Premier-League-Stats#all_stats_shooting_squads').text"
   ]
  },
  {
   "cell_type": "code",
   "execution_count": 5,
   "metadata": {},
   "outputs": [],
   "source": [
    "start = html.index('<table')\n",
    "end = html[start:].index('</table>') + start"
   ]
  },
  {
   "cell_type": "code",
   "execution_count": 6,
   "metadata": {},
   "outputs": [],
   "source": [
    "table = html[start: end]"
   ]
  },
  {
   "cell_type": "code",
   "execution_count": 7,
   "metadata": {},
   "outputs": [],
   "source": [
    "links = re.findall('href=\"[^\"]*squads[^\"]*\"', table)\n",
    "props = np.asarray([l.replace('href=', '')\n",
    "                    .replace('\"', '')\n",
    "                    .replace('-Stats', '')\n",
    "                    .split('/') for l in links])"
   ]
  },
  {
   "cell_type": "code",
   "execution_count": 8,
   "metadata": {},
   "outputs": [],
   "source": [
    "ids = props[:, 3]\n",
    "names = np.asarray([n.replace('-', ' ') for n in props[:, 4]])"
   ]
  },
  {
   "cell_type": "code",
   "execution_count": 9,
   "metadata": {},
   "outputs": [],
   "source": [
    "seasons = {'s10728':'2020-2021',\n",
    "          's3232':'2019-2020',\n",
    "          's1889':'2018-2019',\n",
    "          's1631':'2017-2018',\n",
    "          's1526':'2016-2017',\n",
    "          's1467':'2015-2016',\n",
    "          's733':'2014-2015'}"
   ]
  },
  {
   "cell_type": "markdown",
   "metadata": {},
   "source": [
    "# Generate Links"
   ]
  },
  {
   "cell_type": "code",
   "execution_count": 10,
   "metadata": {},
   "outputs": [],
   "source": [
    "from urllib.parse import urlparse"
   ]
  },
  {
   "cell_type": "code",
   "execution_count": 11,
   "metadata": {},
   "outputs": [],
   "source": [
    "premier_league_link = 'https://fbref.com/en/squads/7c21e445/2014-2015/matchlogs/s733/shooting/West-Ham-United-Match-Logs-Premier-League'\n",
    "\n",
    "path = urlparse(premier_league_link).path"
   ]
  },
  {
   "cell_type": "code",
   "execution_count": 12,
   "metadata": {},
   "outputs": [],
   "source": [
    "path = path.split('/')"
   ]
  },
  {
   "cell_type": "code",
   "execution_count": 13,
   "metadata": {},
   "outputs": [],
   "source": [
    "team_links = []\n",
    "\n",
    "for k, v in seasons.items():\n",
    "    for n, i in zip(names, ids):\n",
    "        path[3] = i\n",
    "        path[4] = v\n",
    "        path[6] = k\n",
    "        path[8] = n.replace(' ', '-') + '-Match-Logs-Premier-League'\n",
    "        \n",
    "        team_links.append('/'.join(path))"
   ]
  },
  {
   "cell_type": "code",
   "execution_count": 14,
   "metadata": {},
   "outputs": [],
   "source": [
    "team_links = ['https://fbref.com' + tl for tl in team_links]"
   ]
  },
  {
   "cell_type": "markdown",
   "metadata": {},
   "source": [
    "# Shot table to df"
   ]
  },
  {
   "cell_type": "code",
   "execution_count": 15,
   "metadata": {},
   "outputs": [],
   "source": [
    "def get_shot_table_df(report_link):\n",
    "\n",
    "    table_html, timestamp = get_shot_table(report_link)\n",
    "\n",
    "    # gives a list of tables, only one table is given\n",
    "    table = pd.read_html(table_html)[0]\n",
    "\n",
    "    table.columns = [c[1] if 'Unnamed' in c[0] else c[0] + ' ' + c[1] for c in table.columns]\n",
    "\n",
    "    table = table.dropna(how='all')\n",
    "\n",
    "    # set minutes as ints\n",
    "    table['Minute'] = table['Minute'].astype(str)\n",
    "    table.loc[:, 'Minute'] = [minute_plus(m) for m in table['Minute']]\n",
    "    table['Minute'] = table['Minute'].astype(float).astype(int)\n",
    "\n",
    "    # opposite in match\n",
    "    map_ = table['Squad'].unique()\n",
    "    table['Against'] = [map_[int(o)] for o in ~(table['Squad'] == map_[1])]\n",
    "\n",
    "    cols = table.columns.tolist()\n",
    "\n",
    "    table = table[cols[:3] + cols[-1:] + cols[3:-1]]\n",
    "\n",
    "    table['Timestamp'] = [timestamp for i in table['Squad']]\n",
    "    \n",
    "    return table\n",
    "\n",
    "\n",
    "def extract_tables(team_link):\n",
    "    tables = []\n",
    "    event_dfs = []\n",
    "\n",
    "    match_table = get_match_table(team_link)\n",
    "\n",
    "    report_links = get_report_links(match_table)\n",
    "    \n",
    "    for rl in report_links:\n",
    "        table = get_shot_table_df(rl)\n",
    "        \n",
    "        tables.append(table)\n",
    "            \n",
    "    return tables, event_dfs"
   ]
  },
  {
   "cell_type": "markdown",
   "metadata": {},
   "source": [
    "# Create Event Tables functions"
   ]
  },
  {
   "cell_type": "code",
   "execution_count": 16,
   "metadata": {},
   "outputs": [],
   "source": [
    "def soup_get_lines(soup):\n",
    "\n",
    "    text = soup.get_text()\n",
    "\n",
    "    # break into lines and remove leading and trailing space on each\n",
    "    lines = [line.strip() for line in text.splitlines()]\n",
    "    # break multi-headlines into a line each\n",
    "    chunks = [phrase.strip() for line in lines for phrase in line.split(\"  \")]\n",
    "    # remove empty elements\n",
    "    chunks = [chunk for chunk in chunks if len(chunk) > 0]\n",
    "    \n",
    "    return chunks\n",
    "\n",
    "def get_team_names(full_soup):\n",
    "    \n",
    "    lines = soup_get_lines(full_soup)\n",
    "    \n",
    "    return lines[1], lines[2]\n",
    "\n",
    "def event_to_list(event_soup, team_name, opponent_team, is_team_a):\n",
    "    # to list\n",
    "    event = soup_get_lines(event_soup)\n",
    "    # correct time\n",
    "    event[0] = event[0].replace('&rsquor;', '')\n",
    "    # correct event desc\n",
    "    event[-1] = event[-1].replace('—\\xa0', '')\n",
    "    # even out length of list\n",
    "    while len(event) < 6:\n",
    "        event.append(None)\n",
    "    # add team name\n",
    "    event.append(team_name)\n",
    "    # add opponent team name\n",
    "    event.append(opponent_team)\n",
    "    # set score to the difference in goals\n",
    "    a, b = event[1].split(':')[0], event[1].split(':')[-1]\n",
    "    dif = int(a) - int(b)\n",
    "    # in case of team a: goals_a - goals_b\n",
    "    event[1] = dif if is_team_a else -dif\n",
    "    \n",
    "    return event\n",
    "\n",
    "def list_events(link):\n",
    "    req = requests.get(link)\n",
    "    \n",
    "    print(req)\n",
    "    \n",
    "    html = req.text\n",
    "    \n",
    "    start = re.search('<div[\\\\s]+id=\"events_wrap\">', html).span()[0]\n",
    "    \n",
    "    end = re.search('<div[\\\\s]+id=\"team_stats\">', html).span()[0]\n",
    "    \n",
    "    all_events = html[start:end]\n",
    "    \n",
    "    full_soup = BeautifulSoup(all_events)\n",
    "    \n",
    "    team_a, team_b = get_team_names(full_soup)\n",
    "    \n",
    "    # extract team_a events\n",
    "    \n",
    "    a_soups = full_soup.findAll(\"div\", {\"class\": \"event a\"})\n",
    "    \n",
    "    a_events = [event_to_list(a_soup, team_a, team_b, True) for a_soup in a_soups]\n",
    "    \n",
    "    # extract team_b events\n",
    "    \n",
    "    b_soups = full_soup.findAll(\"div\", {\"class\": \"event b\"})\n",
    "    \n",
    "    b_events = [event_to_list(b_soup, team_b, team_a, False) for b_soup in b_soups]\n",
    "    \n",
    "    events = a_events + b_events\n",
    "    \n",
    "    return events, get_match_timestamp(html)\n",
    "\n",
    "def minute_plus(minute):\n",
    "    # to turn minute values with + to ints\n",
    "    # 100 is added to values greater than 45 to separate the first half\n",
    "    if '+' in minute:\n",
    "        ms = minute.split('+')\n",
    "\n",
    "        if int(float(ms[0])) > 45:\n",
    "            return int(float(ms[0])) + int(float(ms[1])) + 100\n",
    "        else:\n",
    "            return int(float(ms[0])) + int(float(ms[1]))\n",
    "    else:\n",
    "        if int(float(minute)) > 45:\n",
    "            return int(float(minute)) + 100\n",
    "        else:\n",
    "            return int(float(minute))\n",
    "\n",
    "def get_event_df(link):\n",
    "    \n",
    "    events, timestamp = list_events(link)    \n",
    "    \n",
    "    events_df = pd.DataFrame(events)\n",
    "    \n",
    "    # drop substitution rows\n",
    "    events_df = events_df[np.logical_not(['for ' in e for e in events_df[3]])].sort_values(0).reset_index(drop=True)\n",
    "    \n",
    "    # name columns\n",
    "    events_df.columns = ['Minute', 'Score', 'Player', 'Notes', 'SCA 1 Player', 'SCA 1 Event', 'Squad', 'Against']\n",
    "    \n",
    "    # set timestamp\n",
    "    events_df['Timestamp'] = timestamp\n",
    "    \n",
    "    # move 'assist' to SCA 1 Event\n",
    "    assists = events_df['Notes'] == 'Assist:'\n",
    "    events_df.loc[assists, 'Notes'] = events_df[assists]['SCA 1 Event']\n",
    "    events_df.loc[assists, 'SCA 1 Event'] = 'Assist'\n",
    "    \n",
    "    # set minutes as ints\n",
    "    events_df.loc[:, 'Minute'] = [minute_plus(m) for m in events_df.loc[:, 'Minute']]\n",
    "    events_df['Minute'] = events_df['Minute'].astype('int64')\n",
    "    \n",
    "    # add player advantage feature\n",
    "    events_df['Player Advantage'] = np.zeros(len(events_df))\n",
    "    red_cards = events_df[events_df['Notes'] == 'Red Card']\n",
    "    for i, red_card in red_cards.iterrows():\n",
    "        time = events_df['Minute'] >= red_card['Minute']\n",
    "        team = events_df['Squad'] == red_card['Squad']\n",
    "        events_df.loc[np.logical_and(time, team), 'Player Advantage'] -= 1\n",
    "        events_df.loc[np.logical_and(time, ~team), 'Player Advantage'] += 1\n",
    "    \n",
    "    return events_df.sort_values('Minute').reset_index(drop=True)\n",
    "\n",
    "def extract_team_event_dfs(team_link):\n",
    "    match_table = get_match_table(team_link)\n",
    "\n",
    "    report_links = get_report_links(match_table)\n",
    "\n",
    "    return pd.concat([get_event_df(rl) for rl in report_links], ignore_index=True)"
   ]
  },
  {
   "cell_type": "markdown",
   "metadata": {},
   "source": [
    "# Function for Generating Dataframe\n",
    "given team link"
   ]
  },
  {
   "cell_type": "code",
   "execution_count": 17,
   "metadata": {},
   "outputs": [],
   "source": [
    "def extract_shooting_data(team_link):\n",
    "    match_table = get_match_table(team_link)\n",
    "\n",
    "    report_links = get_report_links(match_table)\n",
    "    \n",
    "    all_dfs = []\n",
    "    \n",
    "    for rl in report_links:\n",
    "        event_df = get_event_df(rl)\n",
    "        \n",
    "        shot_df = get_shot_table_df(rl)\n",
    "        \n",
    "        shot_df['Score'] = np.zeros(len(shot_df))\n",
    "        shot_df['Player Advantage'] = np.zeros(len(shot_df))\n",
    "        for i, event in event_df.iterrows():\n",
    "            time = shot_df['Minute'] >= event['Minute']\n",
    "            shot_df.loc[time, 'Score'] = event['Score']\n",
    "            shot_df.loc[time, 'Player Advantage'] = event['Player Advantage']\n",
    "            \n",
    "        all_dfs.append(shot_df)\n",
    "        \n",
    "    concat_df = pd.concat(all_dfs, ignore_index=True)\n",
    "    \n",
    "    return concat_df"
   ]
  },
  {
   "cell_type": "markdown",
   "metadata": {},
   "source": [
    "# Generate all tables"
   ]
  },
  {
   "cell_type": "code",
   "execution_count": 18,
   "metadata": {
    "scrolled": true
   },
   "outputs": [],
   "source": [
    "# all_tables = [ ]\n",
    "# errors = []\n",
    "# for team_link in team_links:\n",
    "#     try:\n",
    "#         all_tables.append(extract_shooting_data(team_link))\n",
    "#     except:\n",
    "#         print('error')\n",
    "#         errors.append(team_link)"
   ]
  },
  {
   "cell_type": "code",
   "execution_count": 19,
   "metadata": {},
   "outputs": [],
   "source": [
    "# final_df = pd.concat(all_tables, ignore_index=True)\n",
    "# final_df.to_csv('shot_data_raw.csv')"
   ]
  },
  {
   "cell_type": "code",
   "execution_count": 21,
   "metadata": {},
   "outputs": [],
   "source": [
    "shot_data_raw = shot_data_raw = pd.read_csv('data/fantasy-league/shot_data_raw.csv', index_col=0)\n",
    "shot_data_raw = shot_data_raw.drop_duplicates().reset_index(drop=True)"
   ]
  },
  {
   "cell_type": "code",
   "execution_count": 22,
   "metadata": {},
   "outputs": [
    {
     "data": {
      "text/html": [
       "<div>\n",
       "<style scoped>\n",
       "    .dataframe tbody tr th:only-of-type {\n",
       "        vertical-align: middle;\n",
       "    }\n",
       "\n",
       "    .dataframe tbody tr th {\n",
       "        vertical-align: top;\n",
       "    }\n",
       "\n",
       "    .dataframe thead th {\n",
       "        text-align: right;\n",
       "    }\n",
       "</style>\n",
       "<table border=\"1\" class=\"dataframe\">\n",
       "  <thead>\n",
       "    <tr style=\"text-align: right;\">\n",
       "      <th></th>\n",
       "      <th>Minute</th>\n",
       "      <th>Player</th>\n",
       "      <th>Squad</th>\n",
       "      <th>Against</th>\n",
       "      <th>Outcome</th>\n",
       "      <th>Distance</th>\n",
       "      <th>Body Part</th>\n",
       "      <th>Notes</th>\n",
       "      <th>SCA 1 Player</th>\n",
       "      <th>SCA 1 Event</th>\n",
       "      <th>SCA 2 Player</th>\n",
       "      <th>SCA 2 Event</th>\n",
       "      <th>Timestamp</th>\n",
       "      <th>Score</th>\n",
       "      <th>Player Advantage</th>\n",
       "    </tr>\n",
       "  </thead>\n",
       "  <tbody>\n",
       "    <tr>\n",
       "      <th>0</th>\n",
       "      <td>7</td>\n",
       "      <td>Andros Townsend</td>\n",
       "      <td>Crystal Palace</td>\n",
       "      <td>Manchester Utd</td>\n",
       "      <td>Goal</td>\n",
       "      <td>8.0</td>\n",
       "      <td>Right Foot</td>\n",
       "      <td>NaN</td>\n",
       "      <td>Jeffrey Schlupp</td>\n",
       "      <td>Pass (Live)</td>\n",
       "      <td>Tyrick Mitchell</td>\n",
       "      <td>Pass (Live)</td>\n",
       "      <td>2020-09-19 17:30:00</td>\n",
       "      <td>1.0</td>\n",
       "      <td>0.0</td>\n",
       "    </tr>\n",
       "    <tr>\n",
       "      <th>1</th>\n",
       "      <td>11</td>\n",
       "      <td>Andros Townsend</td>\n",
       "      <td>Crystal Palace</td>\n",
       "      <td>Manchester Utd</td>\n",
       "      <td>Off Target</td>\n",
       "      <td>29.0</td>\n",
       "      <td>Left Foot</td>\n",
       "      <td>NaN</td>\n",
       "      <td>Jeffrey Schlupp</td>\n",
       "      <td>Pass (Live)</td>\n",
       "      <td>Wilfried Zaha</td>\n",
       "      <td>Pass (Live)</td>\n",
       "      <td>2020-09-19 17:30:00</td>\n",
       "      <td>1.0</td>\n",
       "      <td>0.0</td>\n",
       "    </tr>\n",
       "    <tr>\n",
       "      <th>2</th>\n",
       "      <td>13</td>\n",
       "      <td>Timothy Fosu-Mensah</td>\n",
       "      <td>Manchester Utd</td>\n",
       "      <td>Crystal Palace</td>\n",
       "      <td>Blocked</td>\n",
       "      <td>28.0</td>\n",
       "      <td>Right Foot</td>\n",
       "      <td>NaN</td>\n",
       "      <td>Bruno Fernandes</td>\n",
       "      <td>Pass (Live)</td>\n",
       "      <td>Marcus Rashford</td>\n",
       "      <td>Pass (Live)</td>\n",
       "      <td>2020-09-19 17:30:00</td>\n",
       "      <td>1.0</td>\n",
       "      <td>0.0</td>\n",
       "    </tr>\n",
       "    <tr>\n",
       "      <th>3</th>\n",
       "      <td>20</td>\n",
       "      <td>Paul Pogba</td>\n",
       "      <td>Manchester Utd</td>\n",
       "      <td>Crystal Palace</td>\n",
       "      <td>Saved</td>\n",
       "      <td>21.0</td>\n",
       "      <td>Right Foot</td>\n",
       "      <td>NaN</td>\n",
       "      <td>Marcus Rashford</td>\n",
       "      <td>Pass (Live)</td>\n",
       "      <td>Luke Shaw</td>\n",
       "      <td>Pass (Live)</td>\n",
       "      <td>2020-09-19 17:30:00</td>\n",
       "      <td>1.0</td>\n",
       "      <td>0.0</td>\n",
       "    </tr>\n",
       "    <tr>\n",
       "      <th>4</th>\n",
       "      <td>22</td>\n",
       "      <td>Scott McTominay</td>\n",
       "      <td>Manchester Utd</td>\n",
       "      <td>Crystal Palace</td>\n",
       "      <td>Blocked</td>\n",
       "      <td>22.0</td>\n",
       "      <td>Right Foot</td>\n",
       "      <td>NaN</td>\n",
       "      <td>Bruno Fernandes</td>\n",
       "      <td>Pass (Live)</td>\n",
       "      <td>Marcus Rashford</td>\n",
       "      <td>Pass (Live)</td>\n",
       "      <td>2020-09-19 17:30:00</td>\n",
       "      <td>1.0</td>\n",
       "      <td>0.0</td>\n",
       "    </tr>\n",
       "  </tbody>\n",
       "</table>\n",
       "</div>"
      ],
      "text/plain": [
       "   Minute               Player           Squad         Against     Outcome  \\\n",
       "0       7      Andros Townsend  Crystal Palace  Manchester Utd        Goal   \n",
       "1      11      Andros Townsend  Crystal Palace  Manchester Utd  Off Target   \n",
       "2      13  Timothy Fosu-Mensah  Manchester Utd  Crystal Palace     Blocked   \n",
       "3      20           Paul Pogba  Manchester Utd  Crystal Palace       Saved   \n",
       "4      22      Scott McTominay  Manchester Utd  Crystal Palace     Blocked   \n",
       "\n",
       "   Distance   Body Part Notes     SCA 1 Player  SCA 1 Event     SCA 2 Player  \\\n",
       "0       8.0  Right Foot   NaN  Jeffrey Schlupp  Pass (Live)  Tyrick Mitchell   \n",
       "1      29.0   Left Foot   NaN  Jeffrey Schlupp  Pass (Live)    Wilfried Zaha   \n",
       "2      28.0  Right Foot   NaN  Bruno Fernandes  Pass (Live)  Marcus Rashford   \n",
       "3      21.0  Right Foot   NaN  Marcus Rashford  Pass (Live)        Luke Shaw   \n",
       "4      22.0  Right Foot   NaN  Bruno Fernandes  Pass (Live)  Marcus Rashford   \n",
       "\n",
       "   SCA 2 Event            Timestamp  Score  Player Advantage  \n",
       "0  Pass (Live)  2020-09-19 17:30:00    1.0               0.0  \n",
       "1  Pass (Live)  2020-09-19 17:30:00    1.0               0.0  \n",
       "2  Pass (Live)  2020-09-19 17:30:00    1.0               0.0  \n",
       "3  Pass (Live)  2020-09-19 17:30:00    1.0               0.0  \n",
       "4  Pass (Live)  2020-09-19 17:30:00    1.0               0.0  "
      ]
     },
     "execution_count": 22,
     "metadata": {},
     "output_type": "execute_result"
    }
   ],
   "source": [
    "shot_data_raw.head()"
   ]
  },
  {
   "cell_type": "markdown",
   "metadata": {},
   "source": [
    "# Penalty Dataframe"
   ]
  },
  {
   "cell_type": "code",
   "execution_count": 23,
   "metadata": {
    "scrolled": true
   },
   "outputs": [],
   "source": [
    "# # extract all event tables\n",
    "# event_table = []\n",
    "# event_errors = []\n",
    "# for team_link in team_links:\n",
    "#     try:\n",
    "#         event_table.append(extract_team_event_dfs(team_link))\n",
    "#     except:\n",
    "#         print('error')\n",
    "#         event_errors.append(team_link)\n",
    "\n",
    "# event_df = pd.concat(event_table, ignore_index=True).drop_duplicates().reset_index(drop=True)"
   ]
  },
  {
   "cell_type": "code",
   "execution_count": 24,
   "metadata": {},
   "outputs": [],
   "source": [
    "event_df = pd.read_csv('data/fantasy-league/events_raw.csv', index_col=0)\n",
    "event_df['Timestamp'] = pd.to_datetime(event_df['Timestamp'])"
   ]
  },
  {
   "cell_type": "code",
   "execution_count": 25,
   "metadata": {},
   "outputs": [
    {
     "data": {
      "text/html": [
       "<div>\n",
       "<style scoped>\n",
       "    .dataframe tbody tr th:only-of-type {\n",
       "        vertical-align: middle;\n",
       "    }\n",
       "\n",
       "    .dataframe tbody tr th {\n",
       "        vertical-align: top;\n",
       "    }\n",
       "\n",
       "    .dataframe thead th {\n",
       "        text-align: right;\n",
       "    }\n",
       "</style>\n",
       "<table border=\"1\" class=\"dataframe\">\n",
       "  <thead>\n",
       "    <tr style=\"text-align: right;\">\n",
       "      <th></th>\n",
       "      <th>Minute</th>\n",
       "      <th>Score</th>\n",
       "      <th>Player</th>\n",
       "      <th>Notes</th>\n",
       "      <th>SCA 1 Player</th>\n",
       "      <th>SCA 1 Event</th>\n",
       "      <th>Squad</th>\n",
       "      <th>Against</th>\n",
       "      <th>Timestamp</th>\n",
       "      <th>Player Advantage</th>\n",
       "      <th>Outcome</th>\n",
       "    </tr>\n",
       "  </thead>\n",
       "  <tbody>\n",
       "    <tr>\n",
       "      <th>0</th>\n",
       "      <td>174</td>\n",
       "      <td>2</td>\n",
       "      <td>Wilfried Zaha</td>\n",
       "      <td>Penalty Kick</td>\n",
       "      <td>Substitute</td>\n",
       "      <td>NaN</td>\n",
       "      <td>Crystal Palace</td>\n",
       "      <td>Manchester United</td>\n",
       "      <td>2020-09-19 17:30:00</td>\n",
       "      <td>0.0</td>\n",
       "      <td>Goal</td>\n",
       "    </tr>\n",
       "    <tr>\n",
       "      <th>1</th>\n",
       "      <td>40</td>\n",
       "      <td>1</td>\n",
       "      <td>Neal Maupay</td>\n",
       "      <td>Penalty Kick</td>\n",
       "      <td>Yellow Card</td>\n",
       "      <td>NaN</td>\n",
       "      <td>Brighton &amp; Hove Albion</td>\n",
       "      <td>Manchester United</td>\n",
       "      <td>2020-09-26 12:30:00</td>\n",
       "      <td>0.0</td>\n",
       "      <td>Goal</td>\n",
       "    </tr>\n",
       "    <tr>\n",
       "      <th>2</th>\n",
       "      <td>200</td>\n",
       "      <td>1</td>\n",
       "      <td>Bruno Fernandes</td>\n",
       "      <td>Penalty Kick</td>\n",
       "      <td>Yellow Card</td>\n",
       "      <td>NaN</td>\n",
       "      <td>Manchester United</td>\n",
       "      <td>Brighton &amp; Hove Albion</td>\n",
       "      <td>2020-09-26 12:30:00</td>\n",
       "      <td>0.0</td>\n",
       "      <td>Goal</td>\n",
       "    </tr>\n",
       "    <tr>\n",
       "      <th>3</th>\n",
       "      <td>2</td>\n",
       "      <td>1</td>\n",
       "      <td>Bruno Fernandes</td>\n",
       "      <td>Penalty Kick</td>\n",
       "      <td>—</td>\n",
       "      <td>NaN</td>\n",
       "      <td>Manchester United</td>\n",
       "      <td>Tottenham Hotspur</td>\n",
       "      <td>2020-10-04 16:30:00</td>\n",
       "      <td>0.0</td>\n",
       "      <td>Goal</td>\n",
       "    </tr>\n",
       "    <tr>\n",
       "      <th>4</th>\n",
       "      <td>179</td>\n",
       "      <td>5</td>\n",
       "      <td>Harry Kane</td>\n",
       "      <td>Penalty Kick</td>\n",
       "      <td>Substitute</td>\n",
       "      <td>NaN</td>\n",
       "      <td>Tottenham Hotspur</td>\n",
       "      <td>Manchester United</td>\n",
       "      <td>2020-10-04 16:30:00</td>\n",
       "      <td>1.0</td>\n",
       "      <td>Goal</td>\n",
       "    </tr>\n",
       "  </tbody>\n",
       "</table>\n",
       "</div>"
      ],
      "text/plain": [
       "   Minute  Score           Player         Notes SCA 1 Player SCA 1 Event  \\\n",
       "0     174      2    Wilfried Zaha  Penalty Kick   Substitute         NaN   \n",
       "1      40      1      Neal Maupay  Penalty Kick  Yellow Card         NaN   \n",
       "2     200      1  Bruno Fernandes  Penalty Kick  Yellow Card         NaN   \n",
       "3       2      1  Bruno Fernandes  Penalty Kick            —         NaN   \n",
       "4     179      5       Harry Kane  Penalty Kick   Substitute         NaN   \n",
       "\n",
       "                    Squad                 Against           Timestamp  \\\n",
       "0          Crystal Palace       Manchester United 2020-09-19 17:30:00   \n",
       "1  Brighton & Hove Albion       Manchester United 2020-09-26 12:30:00   \n",
       "2       Manchester United  Brighton & Hove Albion 2020-09-26 12:30:00   \n",
       "3       Manchester United       Tottenham Hotspur 2020-10-04 16:30:00   \n",
       "4       Tottenham Hotspur       Manchester United 2020-10-04 16:30:00   \n",
       "\n",
       "   Player Advantage Outcome  \n",
       "0               0.0    Goal  \n",
       "1               0.0    Goal  \n",
       "2               0.0    Goal  \n",
       "3               0.0    Goal  \n",
       "4               1.0    Goal  "
      ]
     },
     "execution_count": 25,
     "metadata": {},
     "output_type": "execute_result"
    }
   ],
   "source": [
    "# extract penalties\n",
    "penalty_df = event_df[event_df['Notes'] == 'Penalty Kick'].reset_index()\n",
    "# adds column to indicate whether a penalty was a goal or not\n",
    "same_timestamp = penalty_df['Timestamp'].to_numpy() == event_df.iloc[penalty_df['index'] - 1]['Timestamp'].to_numpy()\n",
    "penalty_df.loc[same_timestamp, 'Goal'] = abs(abs(penalty_df.loc[same_timestamp, 'Score'].to_numpy()) - abs(event_df.iloc[penalty_df.loc[same_timestamp, 'index'] - 1, :]['Score'].to_numpy()))\n",
    "penalty_df.loc[np.logical_not(same_timestamp), 'Goal'] = penalty_df.loc[np.logical_not(same_timestamp), 'Score']\n",
    "\n",
    "# Set outcome table\n",
    "penalty_df['Outcome'] = ['Goal' if g != 0 else 'Blocked' for g in penalty_df['Goal']]\n",
    "penalty_df = penalty_df.drop(columns=['Goal', 'index'])\n",
    "\n",
    "penalty_df.head()"
   ]
  },
  {
   "cell_type": "code",
   "execution_count": 26,
   "metadata": {},
   "outputs": [],
   "source": [
    "# combine\n",
    "shot_data_raw = pd.concat([shot_data_raw, penalty_df], ignore_index=True, axis=0)\n",
    "shot_data_raw = shot_data_raw.reset_index(drop=True)\n",
    "shot_data_raw = shot_data_raw.sort_values(['Timestamp', 'Minute'])\n",
    "shot_data_raw = shot_data_raw.reset_index(drop=True)"
   ]
  },
  {
   "cell_type": "code",
   "execution_count": 27,
   "metadata": {},
   "outputs": [
    {
     "data": {
      "text/html": [
       "<div>\n",
       "<style scoped>\n",
       "    .dataframe tbody tr th:only-of-type {\n",
       "        vertical-align: middle;\n",
       "    }\n",
       "\n",
       "    .dataframe tbody tr th {\n",
       "        vertical-align: top;\n",
       "    }\n",
       "\n",
       "    .dataframe thead th {\n",
       "        text-align: right;\n",
       "    }\n",
       "</style>\n",
       "<table border=\"1\" class=\"dataframe\">\n",
       "  <thead>\n",
       "    <tr style=\"text-align: right;\">\n",
       "      <th></th>\n",
       "      <th>Minute</th>\n",
       "      <th>Player</th>\n",
       "      <th>Squad</th>\n",
       "      <th>Against</th>\n",
       "      <th>Outcome</th>\n",
       "      <th>Distance</th>\n",
       "      <th>Body Part</th>\n",
       "      <th>Notes</th>\n",
       "      <th>SCA 1 Player</th>\n",
       "      <th>SCA 1 Event</th>\n",
       "      <th>SCA 2 Player</th>\n",
       "      <th>SCA 2 Event</th>\n",
       "      <th>Timestamp</th>\n",
       "      <th>Score</th>\n",
       "      <th>Player Advantage</th>\n",
       "    </tr>\n",
       "  </thead>\n",
       "  <tbody>\n",
       "    <tr>\n",
       "      <th>0</th>\n",
       "      <td>42</td>\n",
       "      <td>Saido Berahino</td>\n",
       "      <td>West Bromwich Albion</td>\n",
       "      <td>Sunderland</td>\n",
       "      <td>Goal</td>\n",
       "      <td>NaN</td>\n",
       "      <td>NaN</td>\n",
       "      <td>Penalty Kick</td>\n",
       "      <td>Yellow Card</td>\n",
       "      <td>NaN</td>\n",
       "      <td>NaN</td>\n",
       "      <td>NaN</td>\n",
       "      <td>2014-08-16 15:00:00</td>\n",
       "      <td>0.0</td>\n",
       "      <td>0.0</td>\n",
       "    </tr>\n",
       "    <tr>\n",
       "      <th>1</th>\n",
       "      <td>149</td>\n",
       "      <td>Steven Gerrard</td>\n",
       "      <td>Liverpool</td>\n",
       "      <td>Tottenham Hotspur</td>\n",
       "      <td>Goal</td>\n",
       "      <td>NaN</td>\n",
       "      <td>NaN</td>\n",
       "      <td>Penalty Kick</td>\n",
       "      <td>Yellow Card</td>\n",
       "      <td>NaN</td>\n",
       "      <td>NaN</td>\n",
       "      <td>NaN</td>\n",
       "      <td>2014-08-31 13:30:00</td>\n",
       "      <td>2.0</td>\n",
       "      <td>0.0</td>\n",
       "    </tr>\n",
       "    <tr>\n",
       "      <th>2</th>\n",
       "      <td>163</td>\n",
       "      <td>David Nugent</td>\n",
       "      <td>Leicester City</td>\n",
       "      <td>Manchester United</td>\n",
       "      <td>Goal</td>\n",
       "      <td>NaN</td>\n",
       "      <td>NaN</td>\n",
       "      <td>Penalty Kick</td>\n",
       "      <td>Goal</td>\n",
       "      <td>NaN</td>\n",
       "      <td>NaN</td>\n",
       "      <td>NaN</td>\n",
       "      <td>2014-09-21 13:30:00</td>\n",
       "      <td>-1.0</td>\n",
       "      <td>0.0</td>\n",
       "    </tr>\n",
       "    <tr>\n",
       "      <th>3</th>\n",
       "      <td>183</td>\n",
       "      <td>Leonardo Ulloa</td>\n",
       "      <td>Leicester City</td>\n",
       "      <td>Manchester United</td>\n",
       "      <td>Goal</td>\n",
       "      <td>NaN</td>\n",
       "      <td>NaN</td>\n",
       "      <td>Penalty Kick</td>\n",
       "      <td>Red Card</td>\n",
       "      <td>NaN</td>\n",
       "      <td>NaN</td>\n",
       "      <td>NaN</td>\n",
       "      <td>2014-09-21 13:30:00</td>\n",
       "      <td>2.0</td>\n",
       "      <td>1.0</td>\n",
       "    </tr>\n",
       "    <tr>\n",
       "      <th>4</th>\n",
       "      <td>30</td>\n",
       "      <td>Mile Jedinak</td>\n",
       "      <td>Crystal Palace</td>\n",
       "      <td>Everton</td>\n",
       "      <td>Goal</td>\n",
       "      <td>NaN</td>\n",
       "      <td>NaN</td>\n",
       "      <td>Penalty Kick</td>\n",
       "      <td>Goal</td>\n",
       "      <td>NaN</td>\n",
       "      <td>NaN</td>\n",
       "      <td>NaN</td>\n",
       "      <td>2014-09-21 16:00:00</td>\n",
       "      <td>0.0</td>\n",
       "      <td>0.0</td>\n",
       "    </tr>\n",
       "  </tbody>\n",
       "</table>\n",
       "</div>"
      ],
      "text/plain": [
       "   Minute          Player                 Squad            Against Outcome  \\\n",
       "0      42  Saido Berahino  West Bromwich Albion         Sunderland    Goal   \n",
       "1     149  Steven Gerrard             Liverpool  Tottenham Hotspur    Goal   \n",
       "2     163    David Nugent        Leicester City  Manchester United    Goal   \n",
       "3     183  Leonardo Ulloa        Leicester City  Manchester United    Goal   \n",
       "4      30    Mile Jedinak        Crystal Palace            Everton    Goal   \n",
       "\n",
       "   Distance Body Part         Notes SCA 1 Player SCA 1 Event SCA 2 Player  \\\n",
       "0       NaN       NaN  Penalty Kick  Yellow Card         NaN          NaN   \n",
       "1       NaN       NaN  Penalty Kick  Yellow Card         NaN          NaN   \n",
       "2       NaN       NaN  Penalty Kick         Goal         NaN          NaN   \n",
       "3       NaN       NaN  Penalty Kick     Red Card         NaN          NaN   \n",
       "4       NaN       NaN  Penalty Kick         Goal         NaN          NaN   \n",
       "\n",
       "  SCA 2 Event            Timestamp  Score  Player Advantage  \n",
       "0         NaN  2014-08-16 15:00:00    0.0               0.0  \n",
       "1         NaN  2014-08-31 13:30:00    2.0               0.0  \n",
       "2         NaN  2014-09-21 13:30:00   -1.0               0.0  \n",
       "3         NaN  2014-09-21 13:30:00    2.0               1.0  \n",
       "4         NaN  2014-09-21 16:00:00    0.0               0.0  "
      ]
     },
     "execution_count": 27,
     "metadata": {},
     "output_type": "execute_result"
    }
   ],
   "source": [
    "shot_data_raw.head()"
   ]
  },
  {
   "cell_type": "code",
   "execution_count": 28,
   "metadata": {},
   "outputs": [],
   "source": [
    "# shot_data_raw.to_csv('shot_penalty_raw.csv')"
   ]
  },
  {
   "cell_type": "markdown",
   "metadata": {},
   "source": [
    "# Sanitize Data"
   ]
  },
  {
   "cell_type": "code",
   "execution_count": 29,
   "metadata": {},
   "outputs": [],
   "source": [
    "shot_data_raw = pd.read_csv('data/fantasy-league/shot_penalty_raw.csv', index_col=0)"
   ]
  },
  {
   "cell_type": "code",
   "execution_count": 30,
   "metadata": {},
   "outputs": [
    {
     "data": {
      "text/html": [
       "<div>\n",
       "<style scoped>\n",
       "    .dataframe tbody tr th:only-of-type {\n",
       "        vertical-align: middle;\n",
       "    }\n",
       "\n",
       "    .dataframe tbody tr th {\n",
       "        vertical-align: top;\n",
       "    }\n",
       "\n",
       "    .dataframe thead th {\n",
       "        text-align: right;\n",
       "    }\n",
       "</style>\n",
       "<table border=\"1\" class=\"dataframe\">\n",
       "  <thead>\n",
       "    <tr style=\"text-align: right;\">\n",
       "      <th></th>\n",
       "      <th>Minute</th>\n",
       "      <th>Player</th>\n",
       "      <th>Squad</th>\n",
       "      <th>Against</th>\n",
       "      <th>Outcome</th>\n",
       "      <th>Distance</th>\n",
       "      <th>Body Part</th>\n",
       "      <th>Notes</th>\n",
       "      <th>SCA 1 Player</th>\n",
       "      <th>SCA 1 Event</th>\n",
       "      <th>SCA 2 Player</th>\n",
       "      <th>SCA 2 Event</th>\n",
       "      <th>Timestamp</th>\n",
       "      <th>Score</th>\n",
       "      <th>Player Advantage</th>\n",
       "    </tr>\n",
       "  </thead>\n",
       "  <tbody>\n",
       "    <tr>\n",
       "      <th>0</th>\n",
       "      <td>42</td>\n",
       "      <td>Saido Berahino</td>\n",
       "      <td>West Bromwich Albion</td>\n",
       "      <td>Sunderland</td>\n",
       "      <td>Goal</td>\n",
       "      <td>NaN</td>\n",
       "      <td>NaN</td>\n",
       "      <td>Penalty Kick</td>\n",
       "      <td>Yellow Card</td>\n",
       "      <td>NaN</td>\n",
       "      <td>NaN</td>\n",
       "      <td>NaN</td>\n",
       "      <td>2014-08-16 15:00:00</td>\n",
       "      <td>0.0</td>\n",
       "      <td>0.0</td>\n",
       "    </tr>\n",
       "    <tr>\n",
       "      <th>1</th>\n",
       "      <td>149</td>\n",
       "      <td>Steven Gerrard</td>\n",
       "      <td>Liverpool</td>\n",
       "      <td>Tottenham Hotspur</td>\n",
       "      <td>Goal</td>\n",
       "      <td>NaN</td>\n",
       "      <td>NaN</td>\n",
       "      <td>Penalty Kick</td>\n",
       "      <td>Yellow Card</td>\n",
       "      <td>NaN</td>\n",
       "      <td>NaN</td>\n",
       "      <td>NaN</td>\n",
       "      <td>2014-08-31 13:30:00</td>\n",
       "      <td>2.0</td>\n",
       "      <td>0.0</td>\n",
       "    </tr>\n",
       "    <tr>\n",
       "      <th>2</th>\n",
       "      <td>163</td>\n",
       "      <td>David Nugent</td>\n",
       "      <td>Leicester City</td>\n",
       "      <td>Manchester United</td>\n",
       "      <td>Goal</td>\n",
       "      <td>NaN</td>\n",
       "      <td>NaN</td>\n",
       "      <td>Penalty Kick</td>\n",
       "      <td>Goal</td>\n",
       "      <td>NaN</td>\n",
       "      <td>NaN</td>\n",
       "      <td>NaN</td>\n",
       "      <td>2014-09-21 13:30:00</td>\n",
       "      <td>-1.0</td>\n",
       "      <td>0.0</td>\n",
       "    </tr>\n",
       "    <tr>\n",
       "      <th>3</th>\n",
       "      <td>183</td>\n",
       "      <td>Leonardo Ulloa</td>\n",
       "      <td>Leicester City</td>\n",
       "      <td>Manchester United</td>\n",
       "      <td>Goal</td>\n",
       "      <td>NaN</td>\n",
       "      <td>NaN</td>\n",
       "      <td>Penalty Kick</td>\n",
       "      <td>Red Card</td>\n",
       "      <td>NaN</td>\n",
       "      <td>NaN</td>\n",
       "      <td>NaN</td>\n",
       "      <td>2014-09-21 13:30:00</td>\n",
       "      <td>2.0</td>\n",
       "      <td>1.0</td>\n",
       "    </tr>\n",
       "    <tr>\n",
       "      <th>4</th>\n",
       "      <td>30</td>\n",
       "      <td>Mile Jedinak</td>\n",
       "      <td>Crystal Palace</td>\n",
       "      <td>Everton</td>\n",
       "      <td>Goal</td>\n",
       "      <td>NaN</td>\n",
       "      <td>NaN</td>\n",
       "      <td>Penalty Kick</td>\n",
       "      <td>Goal</td>\n",
       "      <td>NaN</td>\n",
       "      <td>NaN</td>\n",
       "      <td>NaN</td>\n",
       "      <td>2014-09-21 16:00:00</td>\n",
       "      <td>0.0</td>\n",
       "      <td>0.0</td>\n",
       "    </tr>\n",
       "  </tbody>\n",
       "</table>\n",
       "</div>"
      ],
      "text/plain": [
       "   Minute          Player                 Squad            Against Outcome  \\\n",
       "0      42  Saido Berahino  West Bromwich Albion         Sunderland    Goal   \n",
       "1     149  Steven Gerrard             Liverpool  Tottenham Hotspur    Goal   \n",
       "2     163    David Nugent        Leicester City  Manchester United    Goal   \n",
       "3     183  Leonardo Ulloa        Leicester City  Manchester United    Goal   \n",
       "4      30    Mile Jedinak        Crystal Palace            Everton    Goal   \n",
       "\n",
       "   Distance Body Part         Notes SCA 1 Player SCA 1 Event SCA 2 Player  \\\n",
       "0       NaN       NaN  Penalty Kick  Yellow Card         NaN          NaN   \n",
       "1       NaN       NaN  Penalty Kick  Yellow Card         NaN          NaN   \n",
       "2       NaN       NaN  Penalty Kick         Goal         NaN          NaN   \n",
       "3       NaN       NaN  Penalty Kick     Red Card         NaN          NaN   \n",
       "4       NaN       NaN  Penalty Kick         Goal         NaN          NaN   \n",
       "\n",
       "  SCA 2 Event            Timestamp  Score  Player Advantage  \n",
       "0         NaN  2014-08-16 15:00:00    0.0               0.0  \n",
       "1         NaN  2014-08-31 13:30:00    2.0               0.0  \n",
       "2         NaN  2014-09-21 13:30:00   -1.0               0.0  \n",
       "3         NaN  2014-09-21 13:30:00    2.0               1.0  \n",
       "4         NaN  2014-09-21 16:00:00    0.0               0.0  "
      ]
     },
     "execution_count": 30,
     "metadata": {},
     "output_type": "execute_result"
    }
   ],
   "source": [
    "shot_data_raw.head()"
   ]
  },
  {
   "cell_type": "code",
   "execution_count": null,
   "metadata": {},
   "outputs": [],
   "source": []
  },
  {
   "cell_type": "code",
   "execution_count": 31,
   "metadata": {},
   "outputs": [],
   "source": [
    "shot_data_raw['Timestamp'] = pd.to_datetime(shot_data_raw['Timestamp'])"
   ]
  },
  {
   "cell_type": "code",
   "execution_count": 32,
   "metadata": {},
   "outputs": [],
   "source": [
    "# remove data from before 2016 since no shot data exists (only penalty data)\n",
    "shot_data_raw = shot_data_raw[shot_data_raw['Timestamp'] > pd.to_datetime('2016-08-01')].reset_index(drop=True)"
   ]
  },
  {
   "cell_type": "code",
   "execution_count": 33,
   "metadata": {},
   "outputs": [
    {
     "data": {
      "text/html": [
       "<div>\n",
       "<style scoped>\n",
       "    .dataframe tbody tr th:only-of-type {\n",
       "        vertical-align: middle;\n",
       "    }\n",
       "\n",
       "    .dataframe tbody tr th {\n",
       "        vertical-align: top;\n",
       "    }\n",
       "\n",
       "    .dataframe thead th {\n",
       "        text-align: right;\n",
       "    }\n",
       "</style>\n",
       "<table border=\"1\" class=\"dataframe\">\n",
       "  <thead>\n",
       "    <tr style=\"text-align: right;\">\n",
       "      <th></th>\n",
       "      <th>Timestamp</th>\n",
       "      <th>Score</th>\n",
       "      <th>Player Advantage</th>\n",
       "      <th>Minute</th>\n",
       "      <th>Player</th>\n",
       "      <th>Squad</th>\n",
       "      <th>Against</th>\n",
       "      <th>Outcome</th>\n",
       "      <th>Distance</th>\n",
       "      <th>Body Part</th>\n",
       "      <th>Notes</th>\n",
       "      <th>SCA 1 Player</th>\n",
       "      <th>SCA 1 Event</th>\n",
       "      <th>SCA 2 Player</th>\n",
       "      <th>SCA 2 Event</th>\n",
       "    </tr>\n",
       "  </thead>\n",
       "  <tbody>\n",
       "    <tr>\n",
       "      <th>0</th>\n",
       "      <td>2016-08-13 12:30:00</td>\n",
       "      <td>0.0</td>\n",
       "      <td>0.0</td>\n",
       "      <td>147</td>\n",
       "      <td>Riyad Mahrez</td>\n",
       "      <td>Leicester City</td>\n",
       "      <td>Hull City</td>\n",
       "      <td>Goal</td>\n",
       "      <td>NaN</td>\n",
       "      <td>NaN</td>\n",
       "      <td>Penalty Kick</td>\n",
       "      <td>Goal</td>\n",
       "      <td>NaN</td>\n",
       "      <td>NaN</td>\n",
       "      <td>NaN</td>\n",
       "    </tr>\n",
       "    <tr>\n",
       "      <th>1</th>\n",
       "      <td>2016-08-13 17:30:00</td>\n",
       "      <td>1.0</td>\n",
       "      <td>0.0</td>\n",
       "      <td>4</td>\n",
       "      <td>Sergio Agüero</td>\n",
       "      <td>Manchester City</td>\n",
       "      <td>Sunderland</td>\n",
       "      <td>Goal</td>\n",
       "      <td>NaN</td>\n",
       "      <td>NaN</td>\n",
       "      <td>Penalty Kick</td>\n",
       "      <td>—</td>\n",
       "      <td>NaN</td>\n",
       "      <td>NaN</td>\n",
       "      <td>NaN</td>\n",
       "    </tr>\n",
       "    <tr>\n",
       "      <th>2</th>\n",
       "      <td>2016-08-15 20:00:00</td>\n",
       "      <td>1.0</td>\n",
       "      <td>0.0</td>\n",
       "      <td>147</td>\n",
       "      <td>Eden Hazard</td>\n",
       "      <td>Chelsea</td>\n",
       "      <td>West Ham United</td>\n",
       "      <td>Goal</td>\n",
       "      <td>NaN</td>\n",
       "      <td>NaN</td>\n",
       "      <td>Penalty Kick</td>\n",
       "      <td>Yellow Card</td>\n",
       "      <td>NaN</td>\n",
       "      <td>NaN</td>\n",
       "      <td>NaN</td>\n",
       "    </tr>\n",
       "    <tr>\n",
       "      <th>3</th>\n",
       "      <td>2016-08-19 20:00:00</td>\n",
       "      <td>2.0</td>\n",
       "      <td>0.0</td>\n",
       "      <td>152</td>\n",
       "      <td>Zlatan Ibrahimović</td>\n",
       "      <td>Manchester United</td>\n",
       "      <td>Southampton</td>\n",
       "      <td>Goal</td>\n",
       "      <td>NaN</td>\n",
       "      <td>NaN</td>\n",
       "      <td>Penalty Kick</td>\n",
       "      <td>Goal</td>\n",
       "      <td>NaN</td>\n",
       "      <td>NaN</td>\n",
       "      <td>NaN</td>\n",
       "    </tr>\n",
       "    <tr>\n",
       "      <th>4</th>\n",
       "      <td>2016-08-20 12:30:00</td>\n",
       "      <td>1.0</td>\n",
       "      <td>0.0</td>\n",
       "      <td>27</td>\n",
       "      <td>Sergio Agüero</td>\n",
       "      <td>Manchester City</td>\n",
       "      <td>Stoke City</td>\n",
       "      <td>Goal</td>\n",
       "      <td>NaN</td>\n",
       "      <td>NaN</td>\n",
       "      <td>Penalty Kick</td>\n",
       "      <td>Yellow Card</td>\n",
       "      <td>NaN</td>\n",
       "      <td>NaN</td>\n",
       "      <td>NaN</td>\n",
       "    </tr>\n",
       "  </tbody>\n",
       "</table>\n",
       "</div>"
      ],
      "text/plain": [
       "            Timestamp  Score  Player Advantage  Minute              Player  \\\n",
       "0 2016-08-13 12:30:00    0.0               0.0     147        Riyad Mahrez   \n",
       "1 2016-08-13 17:30:00    1.0               0.0       4       Sergio Agüero   \n",
       "2 2016-08-15 20:00:00    1.0               0.0     147         Eden Hazard   \n",
       "3 2016-08-19 20:00:00    2.0               0.0     152  Zlatan Ibrahimović   \n",
       "4 2016-08-20 12:30:00    1.0               0.0      27       Sergio Agüero   \n",
       "\n",
       "               Squad          Against Outcome  Distance Body Part  \\\n",
       "0     Leicester City        Hull City    Goal       NaN       NaN   \n",
       "1    Manchester City       Sunderland    Goal       NaN       NaN   \n",
       "2            Chelsea  West Ham United    Goal       NaN       NaN   \n",
       "3  Manchester United      Southampton    Goal       NaN       NaN   \n",
       "4    Manchester City       Stoke City    Goal       NaN       NaN   \n",
       "\n",
       "          Notes SCA 1 Player SCA 1 Event SCA 2 Player SCA 2 Event  \n",
       "0  Penalty Kick         Goal         NaN          NaN         NaN  \n",
       "1  Penalty Kick            —         NaN          NaN         NaN  \n",
       "2  Penalty Kick  Yellow Card         NaN          NaN         NaN  \n",
       "3  Penalty Kick         Goal         NaN          NaN         NaN  \n",
       "4  Penalty Kick  Yellow Card         NaN          NaN         NaN  "
      ]
     },
     "execution_count": 33,
     "metadata": {},
     "output_type": "execute_result"
    }
   ],
   "source": [
    "# set Timestamp as the first column\n",
    "timestamp_index = shot_data_raw.columns.tolist().index('Timestamp')\n",
    "columns = shot_data_raw.columns.tolist()\n",
    "new_columns = columns[timestamp_index:] + columns[:timestamp_index]\n",
    "shot_data_raw = shot_data_raw[new_columns]\n",
    "shot_data_raw.head()"
   ]
  },
  {
   "cell_type": "markdown",
   "metadata": {},
   "source": [
    "## Add threat of player"
   ]
  },
  {
   "cell_type": "code",
   "execution_count": 34,
   "metadata": {},
   "outputs": [],
   "source": [
    "def split_into_name(name):\n",
    "    names = re.split('[\\\\s]+', name)\n",
    "    first_name = names[0]\n",
    "    second_name = ' '.join(names[1:])\n",
    "    \n",
    "    return first_name, second_name\n",
    "\n",
    "def get_player_threat(player_csv, player_name):\n",
    "\n",
    "    f_name_match = player_csv['full_name'] == player_name\n",
    "    \n",
    "    threat = player_csv[f_name_match]['threat']\n",
    "    \n",
    "    if threat.empty:\n",
    "        return np.NaN\n",
    "    else:\n",
    "        return threat.iloc[0]"
   ]
  },
  {
   "cell_type": "code",
   "execution_count": 35,
   "metadata": {},
   "outputs": [],
   "source": [
    "matches_2020_21 = np.logical_and(shot_data_raw['Timestamp'] > pd.to_datetime('2020-08-01'), shot_data_raw['Timestamp'] < pd.to_datetime('2021-08-01'))\n",
    "matches_2019_20 = np.logical_and(shot_data_raw['Timestamp'] > pd.to_datetime('2019-08-01'), shot_data_raw['Timestamp'] < pd.to_datetime('2020-08-01'))\n",
    "matches_2018_19 = np.logical_and(shot_data_raw['Timestamp'] > pd.to_datetime('2018-08-01'), shot_data_raw['Timestamp'] < pd.to_datetime('2019-08-01'))\n",
    "matches_2017_18 = np.logical_and(shot_data_raw['Timestamp'] > pd.to_datetime('2017-08-01'), shot_data_raw['Timestamp'] < pd.to_datetime('2018-08-01'))\n",
    "matches_2016_17 = np.logical_and(shot_data_raw['Timestamp'] > pd.to_datetime('2016-08-01'), shot_data_raw['Timestamp'] < pd.to_datetime('2017-08-01'))\n",
    "\n",
    "matches_year = [matches_2020_21, matches_2019_20, matches_2018_19, matches_2017_18, matches_2016_17]"
   ]
  },
  {
   "cell_type": "code",
   "execution_count": 36,
   "metadata": {},
   "outputs": [],
   "source": [
    "players_csv = [pd.read_csv('data/fantasy-league/2020-21/players_raw.csv'),\n",
    "              pd.read_csv('data/fantasy-league/2019-20/players_raw.csv'),\n",
    "              pd.read_csv('data/fantasy-league/2018-19/players_raw.csv'),\n",
    "              pd.read_csv('data/fantasy-league/2017-18/players_raw.csv'),\n",
    "              pd.read_csv('data/fantasy-league/2016-17/players_raw.csv')]\n",
    "\n",
    "for csv in players_csv:\n",
    "    csv['full_name'] = csv['first_name'] + ' ' + csv['second_name']"
   ]
  },
  {
   "cell_type": "code",
   "execution_count": 129,
   "metadata": {},
   "outputs": [],
   "source": [
    "threats = [[get_player_threat(csv, p) for p in shot_data_raw[year]['Player']] for year, csv in zip(matches_year, players_csv)]"
   ]
  },
  {
   "cell_type": "code",
   "execution_count": 130,
   "metadata": {},
   "outputs": [],
   "source": [
    "shot_data_raw['Threat'] = np.concatenate(threats)"
   ]
  },
  {
   "cell_type": "code",
   "execution_count": 131,
   "metadata": {},
   "outputs": [
    {
     "data": {
      "text/html": [
       "<div>\n",
       "<style scoped>\n",
       "    .dataframe tbody tr th:only-of-type {\n",
       "        vertical-align: middle;\n",
       "    }\n",
       "\n",
       "    .dataframe tbody tr th {\n",
       "        vertical-align: top;\n",
       "    }\n",
       "\n",
       "    .dataframe thead th {\n",
       "        text-align: right;\n",
       "    }\n",
       "</style>\n",
       "<table border=\"1\" class=\"dataframe\">\n",
       "  <thead>\n",
       "    <tr style=\"text-align: right;\">\n",
       "      <th></th>\n",
       "      <th>Timestamp</th>\n",
       "      <th>Score</th>\n",
       "      <th>Player Advantage</th>\n",
       "      <th>Minute</th>\n",
       "      <th>Player</th>\n",
       "      <th>Squad</th>\n",
       "      <th>Against</th>\n",
       "      <th>Outcome</th>\n",
       "      <th>Distance</th>\n",
       "      <th>Body Part</th>\n",
       "      <th>Notes</th>\n",
       "      <th>SCA 1 Player</th>\n",
       "      <th>SCA 1 Event</th>\n",
       "      <th>SCA 2 Player</th>\n",
       "      <th>SCA 2 Event</th>\n",
       "      <th>Threat</th>\n",
       "    </tr>\n",
       "  </thead>\n",
       "  <tbody>\n",
       "    <tr>\n",
       "      <th>0</th>\n",
       "      <td>2016-08-13 12:30:00</td>\n",
       "      <td>0.0</td>\n",
       "      <td>0.0</td>\n",
       "      <td>147</td>\n",
       "      <td>Riyad Mahrez</td>\n",
       "      <td>Leicester City</td>\n",
       "      <td>Hull City</td>\n",
       "      <td>Goal</td>\n",
       "      <td>NaN</td>\n",
       "      <td>NaN</td>\n",
       "      <td>Penalty Kick</td>\n",
       "      <td>Goal</td>\n",
       "      <td>NaN</td>\n",
       "      <td>NaN</td>\n",
       "      <td>NaN</td>\n",
       "      <td>720.0</td>\n",
       "    </tr>\n",
       "    <tr>\n",
       "      <th>1</th>\n",
       "      <td>2016-08-13 17:30:00</td>\n",
       "      <td>1.0</td>\n",
       "      <td>0.0</td>\n",
       "      <td>4</td>\n",
       "      <td>Sergio Agüero</td>\n",
       "      <td>Manchester City</td>\n",
       "      <td>Sunderland</td>\n",
       "      <td>Goal</td>\n",
       "      <td>NaN</td>\n",
       "      <td>NaN</td>\n",
       "      <td>Penalty Kick</td>\n",
       "      <td>—</td>\n",
       "      <td>NaN</td>\n",
       "      <td>NaN</td>\n",
       "      <td>NaN</td>\n",
       "      <td>720.0</td>\n",
       "    </tr>\n",
       "    <tr>\n",
       "      <th>2</th>\n",
       "      <td>2016-08-15 20:00:00</td>\n",
       "      <td>1.0</td>\n",
       "      <td>0.0</td>\n",
       "      <td>147</td>\n",
       "      <td>Eden Hazard</td>\n",
       "      <td>Chelsea</td>\n",
       "      <td>West Ham United</td>\n",
       "      <td>Goal</td>\n",
       "      <td>NaN</td>\n",
       "      <td>NaN</td>\n",
       "      <td>Penalty Kick</td>\n",
       "      <td>Yellow Card</td>\n",
       "      <td>NaN</td>\n",
       "      <td>NaN</td>\n",
       "      <td>NaN</td>\n",
       "      <td>627.0</td>\n",
       "    </tr>\n",
       "    <tr>\n",
       "      <th>3</th>\n",
       "      <td>2016-08-19 20:00:00</td>\n",
       "      <td>2.0</td>\n",
       "      <td>0.0</td>\n",
       "      <td>152</td>\n",
       "      <td>Zlatan Ibrahimović</td>\n",
       "      <td>Manchester United</td>\n",
       "      <td>Southampton</td>\n",
       "      <td>Goal</td>\n",
       "      <td>NaN</td>\n",
       "      <td>NaN</td>\n",
       "      <td>Penalty Kick</td>\n",
       "      <td>Goal</td>\n",
       "      <td>NaN</td>\n",
       "      <td>NaN</td>\n",
       "      <td>NaN</td>\n",
       "      <td>627.0</td>\n",
       "    </tr>\n",
       "    <tr>\n",
       "      <th>4</th>\n",
       "      <td>2016-08-20 12:30:00</td>\n",
       "      <td>1.0</td>\n",
       "      <td>0.0</td>\n",
       "      <td>27</td>\n",
       "      <td>Sergio Agüero</td>\n",
       "      <td>Manchester City</td>\n",
       "      <td>Stoke City</td>\n",
       "      <td>Goal</td>\n",
       "      <td>NaN</td>\n",
       "      <td>NaN</td>\n",
       "      <td>Penalty Kick</td>\n",
       "      <td>Yellow Card</td>\n",
       "      <td>NaN</td>\n",
       "      <td>NaN</td>\n",
       "      <td>NaN</td>\n",
       "      <td>NaN</td>\n",
       "    </tr>\n",
       "  </tbody>\n",
       "</table>\n",
       "</div>"
      ],
      "text/plain": [
       "            Timestamp  Score  Player Advantage  Minute              Player  \\\n",
       "0 2016-08-13 12:30:00    0.0               0.0     147        Riyad Mahrez   \n",
       "1 2016-08-13 17:30:00    1.0               0.0       4       Sergio Agüero   \n",
       "2 2016-08-15 20:00:00    1.0               0.0     147         Eden Hazard   \n",
       "3 2016-08-19 20:00:00    2.0               0.0     152  Zlatan Ibrahimović   \n",
       "4 2016-08-20 12:30:00    1.0               0.0      27       Sergio Agüero   \n",
       "\n",
       "               Squad          Against Outcome  Distance Body Part  \\\n",
       "0     Leicester City        Hull City    Goal       NaN       NaN   \n",
       "1    Manchester City       Sunderland    Goal       NaN       NaN   \n",
       "2            Chelsea  West Ham United    Goal       NaN       NaN   \n",
       "3  Manchester United      Southampton    Goal       NaN       NaN   \n",
       "4    Manchester City       Stoke City    Goal       NaN       NaN   \n",
       "\n",
       "          Notes SCA 1 Player SCA 1 Event SCA 2 Player SCA 2 Event  Threat  \n",
       "0  Penalty Kick         Goal         NaN          NaN         NaN   720.0  \n",
       "1  Penalty Kick            —         NaN          NaN         NaN   720.0  \n",
       "2  Penalty Kick  Yellow Card         NaN          NaN         NaN   627.0  \n",
       "3  Penalty Kick         Goal         NaN          NaN         NaN   627.0  \n",
       "4  Penalty Kick  Yellow Card         NaN          NaN         NaN     NaN  "
      ]
     },
     "execution_count": 131,
     "metadata": {},
     "output_type": "execute_result"
    }
   ],
   "source": [
    "shot_data_raw.head()"
   ]
  },
  {
   "cell_type": "code",
   "execution_count": 132,
   "metadata": {},
   "outputs": [],
   "source": [
    "# shot_data_raw.to_csv('shot_data.csv')"
   ]
  },
  {
   "cell_type": "code",
   "execution_count": null,
   "metadata": {
    "scrolled": true
   },
   "outputs": [],
   "source": []
  },
  {
   "cell_type": "code",
   "execution_count": null,
   "metadata": {},
   "outputs": [],
   "source": []
  },
  {
   "cell_type": "markdown",
   "metadata": {},
   "source": [
    "# Load Data"
   ]
  },
  {
   "cell_type": "code",
   "execution_count": 4,
   "metadata": {},
   "outputs": [],
   "source": [
    "shot_data = pd.read_csv('data/fantasy-league/shot_data.csv', index_col=0)"
   ]
  },
  {
   "cell_type": "code",
   "execution_count": 5,
   "metadata": {},
   "outputs": [],
   "source": [
    "shot_data['Timestamp'] = pd.to_datetime(shot_data['Timestamp'])"
   ]
  },
  {
   "cell_type": "code",
   "execution_count": null,
   "metadata": {},
   "outputs": [],
   "source": []
  },
  {
   "cell_type": "code",
   "execution_count": 6,
   "metadata": {},
   "outputs": [],
   "source": [
    "shot_data['Notes'] = shot_data['Notes'].fillna('normal')"
   ]
  },
  {
   "cell_type": "code",
   "execution_count": 7,
   "metadata": {},
   "outputs": [
    {
     "data": {
      "text/html": [
       "<div>\n",
       "<style scoped>\n",
       "    .dataframe tbody tr th:only-of-type {\n",
       "        vertical-align: middle;\n",
       "    }\n",
       "\n",
       "    .dataframe tbody tr th {\n",
       "        vertical-align: top;\n",
       "    }\n",
       "\n",
       "    .dataframe thead th {\n",
       "        text-align: right;\n",
       "    }\n",
       "</style>\n",
       "<table border=\"1\" class=\"dataframe\">\n",
       "  <thead>\n",
       "    <tr style=\"text-align: right;\">\n",
       "      <th></th>\n",
       "      <th>Timestamp</th>\n",
       "      <th>Score</th>\n",
       "      <th>Player Advantage</th>\n",
       "      <th>Minute</th>\n",
       "      <th>Player</th>\n",
       "      <th>Squad</th>\n",
       "      <th>Against</th>\n",
       "      <th>Outcome</th>\n",
       "      <th>Distance</th>\n",
       "      <th>Body Part</th>\n",
       "      <th>Notes</th>\n",
       "      <th>SCA 1 Player</th>\n",
       "      <th>SCA 1 Event</th>\n",
       "      <th>SCA 2 Player</th>\n",
       "      <th>SCA 2 Event</th>\n",
       "      <th>Threat</th>\n",
       "    </tr>\n",
       "  </thead>\n",
       "  <tbody>\n",
       "    <tr>\n",
       "      <th>0</th>\n",
       "      <td>2016-08-13 12:30:00</td>\n",
       "      <td>0.0</td>\n",
       "      <td>0.0</td>\n",
       "      <td>147</td>\n",
       "      <td>Riyad Mahrez</td>\n",
       "      <td>Leicester City</td>\n",
       "      <td>Hull City</td>\n",
       "      <td>Goal</td>\n",
       "      <td>NaN</td>\n",
       "      <td>NaN</td>\n",
       "      <td>Penalty Kick</td>\n",
       "      <td>Goal</td>\n",
       "      <td>NaN</td>\n",
       "      <td>NaN</td>\n",
       "      <td>NaN</td>\n",
       "      <td>720.0</td>\n",
       "    </tr>\n",
       "    <tr>\n",
       "      <th>1</th>\n",
       "      <td>2016-08-13 17:30:00</td>\n",
       "      <td>1.0</td>\n",
       "      <td>0.0</td>\n",
       "      <td>4</td>\n",
       "      <td>Sergio Agüero</td>\n",
       "      <td>Manchester City</td>\n",
       "      <td>Sunderland</td>\n",
       "      <td>Goal</td>\n",
       "      <td>NaN</td>\n",
       "      <td>NaN</td>\n",
       "      <td>Penalty Kick</td>\n",
       "      <td>—</td>\n",
       "      <td>NaN</td>\n",
       "      <td>NaN</td>\n",
       "      <td>NaN</td>\n",
       "      <td>720.0</td>\n",
       "    </tr>\n",
       "    <tr>\n",
       "      <th>2</th>\n",
       "      <td>2016-08-15 20:00:00</td>\n",
       "      <td>1.0</td>\n",
       "      <td>0.0</td>\n",
       "      <td>147</td>\n",
       "      <td>Eden Hazard</td>\n",
       "      <td>Chelsea</td>\n",
       "      <td>West Ham United</td>\n",
       "      <td>Goal</td>\n",
       "      <td>NaN</td>\n",
       "      <td>NaN</td>\n",
       "      <td>Penalty Kick</td>\n",
       "      <td>Yellow Card</td>\n",
       "      <td>NaN</td>\n",
       "      <td>NaN</td>\n",
       "      <td>NaN</td>\n",
       "      <td>627.0</td>\n",
       "    </tr>\n",
       "    <tr>\n",
       "      <th>3</th>\n",
       "      <td>2016-08-19 20:00:00</td>\n",
       "      <td>2.0</td>\n",
       "      <td>0.0</td>\n",
       "      <td>152</td>\n",
       "      <td>Zlatan Ibrahimović</td>\n",
       "      <td>Manchester United</td>\n",
       "      <td>Southampton</td>\n",
       "      <td>Goal</td>\n",
       "      <td>NaN</td>\n",
       "      <td>NaN</td>\n",
       "      <td>Penalty Kick</td>\n",
       "      <td>Goal</td>\n",
       "      <td>NaN</td>\n",
       "      <td>NaN</td>\n",
       "      <td>NaN</td>\n",
       "      <td>627.0</td>\n",
       "    </tr>\n",
       "    <tr>\n",
       "      <th>4</th>\n",
       "      <td>2016-08-20 12:30:00</td>\n",
       "      <td>1.0</td>\n",
       "      <td>0.0</td>\n",
       "      <td>27</td>\n",
       "      <td>Sergio Agüero</td>\n",
       "      <td>Manchester City</td>\n",
       "      <td>Stoke City</td>\n",
       "      <td>Goal</td>\n",
       "      <td>NaN</td>\n",
       "      <td>NaN</td>\n",
       "      <td>Penalty Kick</td>\n",
       "      <td>Yellow Card</td>\n",
       "      <td>NaN</td>\n",
       "      <td>NaN</td>\n",
       "      <td>NaN</td>\n",
       "      <td>NaN</td>\n",
       "    </tr>\n",
       "  </tbody>\n",
       "</table>\n",
       "</div>"
      ],
      "text/plain": [
       "            Timestamp  Score  Player Advantage  Minute              Player  \\\n",
       "0 2016-08-13 12:30:00    0.0               0.0     147        Riyad Mahrez   \n",
       "1 2016-08-13 17:30:00    1.0               0.0       4       Sergio Agüero   \n",
       "2 2016-08-15 20:00:00    1.0               0.0     147         Eden Hazard   \n",
       "3 2016-08-19 20:00:00    2.0               0.0     152  Zlatan Ibrahimović   \n",
       "4 2016-08-20 12:30:00    1.0               0.0      27       Sergio Agüero   \n",
       "\n",
       "               Squad          Against Outcome  Distance Body Part  \\\n",
       "0     Leicester City        Hull City    Goal       NaN       NaN   \n",
       "1    Manchester City       Sunderland    Goal       NaN       NaN   \n",
       "2            Chelsea  West Ham United    Goal       NaN       NaN   \n",
       "3  Manchester United      Southampton    Goal       NaN       NaN   \n",
       "4    Manchester City       Stoke City    Goal       NaN       NaN   \n",
       "\n",
       "          Notes SCA 1 Player SCA 1 Event SCA 2 Player SCA 2 Event  Threat  \n",
       "0  Penalty Kick         Goal         NaN          NaN         NaN   720.0  \n",
       "1  Penalty Kick            —         NaN          NaN         NaN   720.0  \n",
       "2  Penalty Kick  Yellow Card         NaN          NaN         NaN   627.0  \n",
       "3  Penalty Kick         Goal         NaN          NaN         NaN   627.0  \n",
       "4  Penalty Kick  Yellow Card         NaN          NaN         NaN     NaN  "
      ]
     },
     "execution_count": 7,
     "metadata": {},
     "output_type": "execute_result"
    }
   ],
   "source": [
    "shot_data.head()"
   ]
  },
  {
   "cell_type": "markdown",
   "metadata": {},
   "source": [
    "## Separate Shot by Type    "
   ]
  },
  {
   "cell_type": "code",
   "execution_count": null,
   "metadata": {},
   "outputs": [],
   "source": []
  },
  {
   "cell_type": "code",
   "execution_count": null,
   "metadata": {},
   "outputs": [],
   "source": []
  },
  {
   "cell_type": "code",
   "execution_count": 8,
   "metadata": {},
   "outputs": [],
   "source": [
    "def shot_data_by_type(type_name, df):\n",
    "    types = [v for v in df['Notes'].unique() if type_name in v.lower()]\n",
    "    \n",
    "    type_df = df[[n in types for n in df['Notes']]]\n",
    "    type_df = type_df.reset_index(drop=True)\n",
    "    \n",
    "    type_goals = type_df['Outcome'] == 'Goal'\n",
    "    \n",
    "    type_df = type_df.drop(columns=['Squad', 'Against', 'Outcome', 'Player', \n",
    "                                    'Body Part', 'SCA 1 Player', 'SCA 1 Event', \n",
    "                                   'SCA 2 Player', 'SCA 2 Event'])\n",
    "    \n",
    "    type_df = pd.concat([type_df, pd.get_dummies(type_df['Notes'])], axis=1)\n",
    "    \n",
    "    type_df['Goal'] = type_goals.astype(int)\n",
    "    \n",
    "    return type_df"
   ]
  },
  {
   "cell_type": "code",
   "execution_count": 9,
   "metadata": {},
   "outputs": [],
   "source": [
    "types = ['volley', 'header', 'free kick', 'overhead', 'back heel', 'penalty kick']\n",
    "\n",
    "type_dfs = dict()\n",
    "\n",
    "all_types = set(shot_data['Notes'].unique())\n",
    "used = set()\n",
    "\n",
    "for t in types:\n",
    "    type_dfs[t] = shot_data_by_type(t, shot_data)\n",
    "    \n",
    "    used = used.union(set([v for v in shot_data['Notes'].unique() if t in v.lower()]))"
   ]
  },
  {
   "cell_type": "code",
   "execution_count": 10,
   "metadata": {},
   "outputs": [
    {
     "data": {
      "text/plain": [
       "{'Deflected', 'Lob', 'Open goal', 'normal'}"
      ]
     },
     "execution_count": 10,
     "metadata": {},
     "output_type": "execute_result"
    }
   ],
   "source": [
    "all_types.difference(used)"
   ]
  },
  {
   "cell_type": "code",
   "execution_count": 11,
   "metadata": {},
   "outputs": [],
   "source": [
    "# remaining to be added to 'normal' shots\n",
    "rest_of_shots = list(all_types.difference(used))\n",
    "new_names = list(range(len(rest_of_shots)))\n",
    "\n",
    "for i in range(len(rest_of_shots)):\n",
    "    current = rest_of_shots[i]\n",
    "    new_names[i] = current + ' normal' if not 'normal' == current else current\n",
    "    \n",
    "# change the names in the dataframe\n",
    "for o, n in zip(rest_of_shots, new_names):\n",
    "    # 'normal' does not change\n",
    "    if o != n:\n",
    "        originals = shot_data['Notes'] == o\n",
    "        shot_data.loc[originals, 'Notes'] = n"
   ]
  },
  {
   "cell_type": "code",
   "execution_count": 12,
   "metadata": {},
   "outputs": [],
   "source": [
    "type_dfs['normal'] = shot_data_by_type('normal', shot_data)\n",
    "used = used.union(set([v for v in shot_data['Notes'].unique() if 'normal' in v.lower()]))"
   ]
  },
  {
   "cell_type": "markdown",
   "metadata": {},
   "source": [
    "# Modeling"
   ]
  },
  {
   "cell_type": "code",
   "execution_count": 13,
   "metadata": {},
   "outputs": [],
   "source": [
    "volley_df = type_dfs['normal']"
   ]
  },
  {
   "cell_type": "code",
   "execution_count": 14,
   "metadata": {},
   "outputs": [
    {
     "data": {
      "text/html": [
       "<div>\n",
       "<style scoped>\n",
       "    .dataframe tbody tr th:only-of-type {\n",
       "        vertical-align: middle;\n",
       "    }\n",
       "\n",
       "    .dataframe tbody tr th {\n",
       "        vertical-align: top;\n",
       "    }\n",
       "\n",
       "    .dataframe thead th {\n",
       "        text-align: right;\n",
       "    }\n",
       "</style>\n",
       "<table border=\"1\" class=\"dataframe\">\n",
       "  <thead>\n",
       "    <tr style=\"text-align: right;\">\n",
       "      <th></th>\n",
       "      <th>Timestamp</th>\n",
       "      <th>Score</th>\n",
       "      <th>Player Advantage</th>\n",
       "      <th>Minute</th>\n",
       "      <th>Distance</th>\n",
       "      <th>Notes</th>\n",
       "      <th>Threat</th>\n",
       "      <th>Deflected normal</th>\n",
       "      <th>Lob normal</th>\n",
       "      <th>Open goal normal</th>\n",
       "      <th>normal</th>\n",
       "      <th>Goal</th>\n",
       "    </tr>\n",
       "  </thead>\n",
       "  <tbody>\n",
       "    <tr>\n",
       "      <th>0</th>\n",
       "      <td>2017-08-11 19:45:00</td>\n",
       "      <td>1.0</td>\n",
       "      <td>0.0</td>\n",
       "      <td>2</td>\n",
       "      <td>12.0</td>\n",
       "      <td>normal</td>\n",
       "      <td>109.0</td>\n",
       "      <td>0</td>\n",
       "      <td>0</td>\n",
       "      <td>0</td>\n",
       "      <td>1</td>\n",
       "      <td>1</td>\n",
       "    </tr>\n",
       "    <tr>\n",
       "      <th>1</th>\n",
       "      <td>2017-08-11 19:45:00</td>\n",
       "      <td>0.0</td>\n",
       "      <td>0.0</td>\n",
       "      <td>5</td>\n",
       "      <td>2.0</td>\n",
       "      <td>Open goal normal</td>\n",
       "      <td>112.0</td>\n",
       "      <td>0</td>\n",
       "      <td>0</td>\n",
       "      <td>1</td>\n",
       "      <td>0</td>\n",
       "      <td>1</td>\n",
       "    </tr>\n",
       "    <tr>\n",
       "      <th>2</th>\n",
       "      <td>2017-08-11 19:45:00</td>\n",
       "      <td>0.0</td>\n",
       "      <td>0.0</td>\n",
       "      <td>8</td>\n",
       "      <td>22.0</td>\n",
       "      <td>normal</td>\n",
       "      <td>381.0</td>\n",
       "      <td>0</td>\n",
       "      <td>0</td>\n",
       "      <td>0</td>\n",
       "      <td>1</td>\n",
       "      <td>0</td>\n",
       "    </tr>\n",
       "    <tr>\n",
       "      <th>3</th>\n",
       "      <td>2017-08-11 19:45:00</td>\n",
       "      <td>0.0</td>\n",
       "      <td>0.0</td>\n",
       "      <td>14</td>\n",
       "      <td>23.0</td>\n",
       "      <td>normal</td>\n",
       "      <td>NaN</td>\n",
       "      <td>0</td>\n",
       "      <td>0</td>\n",
       "      <td>0</td>\n",
       "      <td>1</td>\n",
       "      <td>0</td>\n",
       "    </tr>\n",
       "    <tr>\n",
       "      <th>4</th>\n",
       "      <td>2017-08-11 19:45:00</td>\n",
       "      <td>0.0</td>\n",
       "      <td>0.0</td>\n",
       "      <td>22</td>\n",
       "      <td>10.0</td>\n",
       "      <td>normal</td>\n",
       "      <td>399.0</td>\n",
       "      <td>0</td>\n",
       "      <td>0</td>\n",
       "      <td>0</td>\n",
       "      <td>1</td>\n",
       "      <td>0</td>\n",
       "    </tr>\n",
       "  </tbody>\n",
       "</table>\n",
       "</div>"
      ],
      "text/plain": [
       "            Timestamp  Score  Player Advantage  Minute  Distance  \\\n",
       "0 2017-08-11 19:45:00    1.0               0.0       2      12.0   \n",
       "1 2017-08-11 19:45:00    0.0               0.0       5       2.0   \n",
       "2 2017-08-11 19:45:00    0.0               0.0       8      22.0   \n",
       "3 2017-08-11 19:45:00    0.0               0.0      14      23.0   \n",
       "4 2017-08-11 19:45:00    0.0               0.0      22      10.0   \n",
       "\n",
       "              Notes  Threat  Deflected normal  Lob normal  Open goal normal  \\\n",
       "0            normal   109.0                 0           0                 0   \n",
       "1  Open goal normal   112.0                 0           0                 1   \n",
       "2            normal   381.0                 0           0                 0   \n",
       "3            normal     NaN                 0           0                 0   \n",
       "4            normal   399.0                 0           0                 0   \n",
       "\n",
       "   normal  Goal  \n",
       "0       1     1  \n",
       "1       0     1  \n",
       "2       1     0  \n",
       "3       1     0  \n",
       "4       1     0  "
      ]
     },
     "execution_count": 14,
     "metadata": {},
     "output_type": "execute_result"
    }
   ],
   "source": [
    "volley_df.head()"
   ]
  },
  {
   "cell_type": "code",
   "execution_count": 15,
   "metadata": {},
   "outputs": [],
   "source": [
    "volley_data = volley_df.drop(columns=['Timestamp', 'Notes', 'Minute'])"
   ]
  },
  {
   "cell_type": "code",
   "execution_count": 16,
   "metadata": {},
   "outputs": [
    {
     "data": {
      "text/html": [
       "<div>\n",
       "<style scoped>\n",
       "    .dataframe tbody tr th:only-of-type {\n",
       "        vertical-align: middle;\n",
       "    }\n",
       "\n",
       "    .dataframe tbody tr th {\n",
       "        vertical-align: top;\n",
       "    }\n",
       "\n",
       "    .dataframe thead th {\n",
       "        text-align: right;\n",
       "    }\n",
       "</style>\n",
       "<table border=\"1\" class=\"dataframe\">\n",
       "  <thead>\n",
       "    <tr style=\"text-align: right;\">\n",
       "      <th></th>\n",
       "      <th>Score</th>\n",
       "      <th>Player Advantage</th>\n",
       "      <th>Distance</th>\n",
       "      <th>Threat</th>\n",
       "      <th>Deflected normal</th>\n",
       "      <th>Lob normal</th>\n",
       "      <th>Open goal normal</th>\n",
       "      <th>normal</th>\n",
       "      <th>Goal</th>\n",
       "    </tr>\n",
       "  </thead>\n",
       "  <tbody>\n",
       "    <tr>\n",
       "      <th>0</th>\n",
       "      <td>1.0</td>\n",
       "      <td>0.0</td>\n",
       "      <td>12.0</td>\n",
       "      <td>109.0</td>\n",
       "      <td>0</td>\n",
       "      <td>0</td>\n",
       "      <td>0</td>\n",
       "      <td>1</td>\n",
       "      <td>1</td>\n",
       "    </tr>\n",
       "    <tr>\n",
       "      <th>1</th>\n",
       "      <td>0.0</td>\n",
       "      <td>0.0</td>\n",
       "      <td>2.0</td>\n",
       "      <td>112.0</td>\n",
       "      <td>0</td>\n",
       "      <td>0</td>\n",
       "      <td>1</td>\n",
       "      <td>0</td>\n",
       "      <td>1</td>\n",
       "    </tr>\n",
       "    <tr>\n",
       "      <th>2</th>\n",
       "      <td>0.0</td>\n",
       "      <td>0.0</td>\n",
       "      <td>22.0</td>\n",
       "      <td>381.0</td>\n",
       "      <td>0</td>\n",
       "      <td>0</td>\n",
       "      <td>0</td>\n",
       "      <td>1</td>\n",
       "      <td>0</td>\n",
       "    </tr>\n",
       "    <tr>\n",
       "      <th>3</th>\n",
       "      <td>0.0</td>\n",
       "      <td>0.0</td>\n",
       "      <td>23.0</td>\n",
       "      <td>NaN</td>\n",
       "      <td>0</td>\n",
       "      <td>0</td>\n",
       "      <td>0</td>\n",
       "      <td>1</td>\n",
       "      <td>0</td>\n",
       "    </tr>\n",
       "    <tr>\n",
       "      <th>4</th>\n",
       "      <td>0.0</td>\n",
       "      <td>0.0</td>\n",
       "      <td>10.0</td>\n",
       "      <td>399.0</td>\n",
       "      <td>0</td>\n",
       "      <td>0</td>\n",
       "      <td>0</td>\n",
       "      <td>1</td>\n",
       "      <td>0</td>\n",
       "    </tr>\n",
       "  </tbody>\n",
       "</table>\n",
       "</div>"
      ],
      "text/plain": [
       "   Score  Player Advantage  Distance  Threat  Deflected normal  Lob normal  \\\n",
       "0    1.0               0.0      12.0   109.0                 0           0   \n",
       "1    0.0               0.0       2.0   112.0                 0           0   \n",
       "2    0.0               0.0      22.0   381.0                 0           0   \n",
       "3    0.0               0.0      23.0     NaN                 0           0   \n",
       "4    0.0               0.0      10.0   399.0                 0           0   \n",
       "\n",
       "   Open goal normal  normal  Goal  \n",
       "0                 0       1     1  \n",
       "1                 1       0     1  \n",
       "2                 0       1     0  \n",
       "3                 0       1     0  \n",
       "4                 0       1     0  "
      ]
     },
     "execution_count": 16,
     "metadata": {},
     "output_type": "execute_result"
    }
   ],
   "source": [
    "volley_data.head()"
   ]
  },
  {
   "cell_type": "code",
   "execution_count": 17,
   "metadata": {},
   "outputs": [],
   "source": [
    "volley_data['Threat'] = volley_data['Threat'].fillna(volley_data['Threat'].mean())"
   ]
  },
  {
   "cell_type": "code",
   "execution_count": 18,
   "metadata": {},
   "outputs": [
    {
     "data": {
      "text/html": [
       "<div>\n",
       "<style scoped>\n",
       "    .dataframe tbody tr th:only-of-type {\n",
       "        vertical-align: middle;\n",
       "    }\n",
       "\n",
       "    .dataframe tbody tr th {\n",
       "        vertical-align: top;\n",
       "    }\n",
       "\n",
       "    .dataframe thead th {\n",
       "        text-align: right;\n",
       "    }\n",
       "</style>\n",
       "<table border=\"1\" class=\"dataframe\">\n",
       "  <thead>\n",
       "    <tr style=\"text-align: right;\">\n",
       "      <th></th>\n",
       "      <th>Score</th>\n",
       "      <th>Player Advantage</th>\n",
       "      <th>Distance</th>\n",
       "      <th>Threat</th>\n",
       "      <th>Deflected normal</th>\n",
       "      <th>Lob normal</th>\n",
       "      <th>Open goal normal</th>\n",
       "      <th>normal</th>\n",
       "      <th>Goal</th>\n",
       "    </tr>\n",
       "  </thead>\n",
       "  <tbody>\n",
       "    <tr>\n",
       "      <th>0</th>\n",
       "      <td>1.0</td>\n",
       "      <td>0.0</td>\n",
       "      <td>12.0</td>\n",
       "      <td>109.00000</td>\n",
       "      <td>0</td>\n",
       "      <td>0</td>\n",
       "      <td>0</td>\n",
       "      <td>1</td>\n",
       "      <td>1</td>\n",
       "    </tr>\n",
       "    <tr>\n",
       "      <th>1</th>\n",
       "      <td>0.0</td>\n",
       "      <td>0.0</td>\n",
       "      <td>2.0</td>\n",
       "      <td>112.00000</td>\n",
       "      <td>0</td>\n",
       "      <td>0</td>\n",
       "      <td>1</td>\n",
       "      <td>0</td>\n",
       "      <td>1</td>\n",
       "    </tr>\n",
       "    <tr>\n",
       "      <th>2</th>\n",
       "      <td>0.0</td>\n",
       "      <td>0.0</td>\n",
       "      <td>22.0</td>\n",
       "      <td>381.00000</td>\n",
       "      <td>0</td>\n",
       "      <td>0</td>\n",
       "      <td>0</td>\n",
       "      <td>1</td>\n",
       "      <td>0</td>\n",
       "    </tr>\n",
       "    <tr>\n",
       "      <th>3</th>\n",
       "      <td>0.0</td>\n",
       "      <td>0.0</td>\n",
       "      <td>23.0</td>\n",
       "      <td>590.79994</td>\n",
       "      <td>0</td>\n",
       "      <td>0</td>\n",
       "      <td>0</td>\n",
       "      <td>1</td>\n",
       "      <td>0</td>\n",
       "    </tr>\n",
       "    <tr>\n",
       "      <th>4</th>\n",
       "      <td>0.0</td>\n",
       "      <td>0.0</td>\n",
       "      <td>10.0</td>\n",
       "      <td>399.00000</td>\n",
       "      <td>0</td>\n",
       "      <td>0</td>\n",
       "      <td>0</td>\n",
       "      <td>1</td>\n",
       "      <td>0</td>\n",
       "    </tr>\n",
       "  </tbody>\n",
       "</table>\n",
       "</div>"
      ],
      "text/plain": [
       "   Score  Player Advantage  Distance     Threat  Deflected normal  Lob normal  \\\n",
       "0    1.0               0.0      12.0  109.00000                 0           0   \n",
       "1    0.0               0.0       2.0  112.00000                 0           0   \n",
       "2    0.0               0.0      22.0  381.00000                 0           0   \n",
       "3    0.0               0.0      23.0  590.79994                 0           0   \n",
       "4    0.0               0.0      10.0  399.00000                 0           0   \n",
       "\n",
       "   Open goal normal  normal  Goal  \n",
       "0                 0       1     1  \n",
       "1                 1       0     1  \n",
       "2                 0       1     0  \n",
       "3                 0       1     0  \n",
       "4                 0       1     0  "
      ]
     },
     "execution_count": 18,
     "metadata": {},
     "output_type": "execute_result"
    }
   ],
   "source": [
    "volley_data.head()"
   ]
  },
  {
   "cell_type": "code",
   "execution_count": 19,
   "metadata": {},
   "outputs": [],
   "source": [
    "volley_goals = volley_data['Goal']\n",
    "volley_data = volley_data.drop(columns=['Goal'])"
   ]
  },
  {
   "cell_type": "code",
   "execution_count": 20,
   "metadata": {},
   "outputs": [],
   "source": [
    "import random"
   ]
  },
  {
   "cell_type": "code",
   "execution_count": 21,
   "metadata": {},
   "outputs": [],
   "source": [
    "total = len(volley_goals)\n",
    "\n",
    "shuffle = np.random.permutation(total)\n",
    "\n",
    "train_volley_data = volley_data.iloc[shuffle][:int(total*0.9)]\n",
    "train_volley_labels = volley_goals[shuffle][:int(total*0.9)]\n",
    "\n",
    "test_volley_data = volley_data.iloc[shuffle][int(total*0.9):]\n",
    "test_volley_labels = volley_goals[shuffle][int(total*0.9):]\n"
   ]
  },
  {
   "cell_type": "code",
   "execution_count": 22,
   "metadata": {},
   "outputs": [
    {
     "data": {
      "text/plain": [
       "286"
      ]
     },
     "execution_count": 22,
     "metadata": {},
     "output_type": "execute_result"
    }
   ],
   "source": [
    "from sklearn.linear_model import LogisticRegression\n",
    "\n",
    "lr = LogisticRegression(max_iter=180)\n",
    "lr.fit(train_volley_data, train_volley_labels)\n",
    "sum(lr.predict(test_volley_data) != test_volley_labels)"
   ]
  },
  {
   "cell_type": "code",
   "execution_count": 23,
   "metadata": {},
   "outputs": [
    {
     "data": {
      "text/plain": [
       "array([[ 4.97311263e-01,  2.57674182e-01, -1.00327384e-01,\n",
       "         6.28343781e-05,  6.13750949e-01,  2.13513615e-01,\n",
       "         5.69784161e-01, -1.30287075e+00]])"
      ]
     },
     "execution_count": 23,
     "metadata": {},
     "output_type": "execute_result"
    }
   ],
   "source": [
    "lr.coef_"
   ]
  },
  {
   "cell_type": "code",
   "execution_count": 24,
   "metadata": {},
   "outputs": [
    {
     "data": {
      "text/plain": [
       "Index(['Score', 'Player Advantage', 'Distance', 'Threat', 'Deflected normal',\n",
       "       'Lob normal', 'Open goal normal', 'normal'],\n",
       "      dtype='object')"
      ]
     },
     "execution_count": 24,
     "metadata": {},
     "output_type": "execute_result"
    }
   ],
   "source": [
    "test_volley_data.columns"
   ]
  },
  {
   "cell_type": "code",
   "execution_count": 25,
   "metadata": {},
   "outputs": [],
   "source": [
    "pre = lr.predict(test_volley_data)\n",
    "pre[pre > 0.5] = 1\n",
    "pre[pre <= 0.5] = 0"
   ]
  },
  {
   "cell_type": "code",
   "execution_count": 26,
   "metadata": {},
   "outputs": [
    {
     "data": {
      "text/plain": [
       "286"
      ]
     },
     "execution_count": 26,
     "metadata": {},
     "output_type": "execute_result"
    }
   ],
   "source": [
    "sum(pre != test_volley_labels)"
   ]
  },
  {
   "cell_type": "code",
   "execution_count": 27,
   "metadata": {},
   "outputs": [
    {
     "data": {
      "text/plain": [
       "16"
      ]
     },
     "execution_count": 27,
     "metadata": {},
     "output_type": "execute_result"
    }
   ],
   "source": [
    "sum(test_volley_labels[test_volley_labels > 0] == pre[test_volley_labels > 0])"
   ]
  },
  {
   "cell_type": "code",
   "execution_count": null,
   "metadata": {},
   "outputs": [],
   "source": [
    "from sklearn.pipeline import make_pipeline\n",
    "from sklearn.preprocessing import StandardScaler\n",
    "from sklearn.svm import SVC\n",
    "clf = make_pipeline(StandardScaler(), SVC(kernel='poly', probability=True))\n",
    "trained = clf.fit(train_volley_data, train_volley_labels * 2 - 1)"
   ]
  },
  {
   "cell_type": "code",
   "execution_count": null,
   "metadata": {},
   "outputs": [],
   "source": [
    "pred = trained.predict_proba(test_volley_data)"
   ]
  },
  {
   "cell_type": "code",
   "execution_count": null,
   "metadata": {},
   "outputs": [],
   "source": [
    "pred = np.argmax(pred, axis=1)"
   ]
  },
  {
   "cell_type": "code",
   "execution_count": null,
   "metadata": {},
   "outputs": [],
   "source": [
    "sum(pred > 0)"
   ]
  },
  {
   "cell_type": "code",
   "execution_count": 127,
   "metadata": {},
   "outputs": [
    {
     "data": {
      "text/plain": [
       "0.8922204213938412"
      ]
     },
     "execution_count": 127,
     "metadata": {},
     "output_type": "execute_result"
    }
   ],
   "source": [
    "1 - sum(pred != test_volley_labels) / len(test_volley_labels)"
   ]
  },
  {
   "cell_type": "code",
   "execution_count": 114,
   "metadata": {},
   "outputs": [
    {
     "data": {
      "text/plain": [
       "25"
      ]
     },
     "execution_count": 114,
     "metadata": {},
     "output_type": "execute_result"
    }
   ],
   "source": [
    "sum(test_volley_labels[test_volley_labels > 0] == pred[test_volley_labels > 0])"
   ]
  },
  {
   "cell_type": "code",
   "execution_count": 28,
   "metadata": {},
   "outputs": [],
   "source": [
    "from sklearn.naive_bayes import GaussianNB\n",
    "clf = GaussianNB()\n",
    "clf.fit(train_volley_data, train_volley_labels)\n",
    "pred = clf.predict_proba(test_volley_data)"
   ]
  },
  {
   "cell_type": "code",
   "execution_count": 29,
   "metadata": {},
   "outputs": [
    {
     "data": {
      "text/plain": [
       "0.8804700162074555"
      ]
     },
     "execution_count": 29,
     "metadata": {},
     "output_type": "execute_result"
    }
   ],
   "source": [
    "1 - sum(np.argmax(pred, axis=1)!= test_volley_labels) / len(test_volley_labels)"
   ]
  },
  {
   "cell_type": "code",
   "execution_count": 30,
   "metadata": {},
   "outputs": [
    {
     "data": {
      "text/plain": [
       "30"
      ]
     },
     "execution_count": 30,
     "metadata": {},
     "output_type": "execute_result"
    }
   ],
   "source": [
    "sum(test_volley_labels[test_volley_labels > 0] == np.argmax(pred, axis=1)[test_volley_labels > 0])"
   ]
  },
  {
   "cell_type": "code",
   "execution_count": 31,
   "metadata": {},
   "outputs": [
    {
     "data": {
      "text/plain": [
       "282"
      ]
     },
     "execution_count": 31,
     "metadata": {},
     "output_type": "execute_result"
    }
   ],
   "source": [
    "len(test_volley_labels[test_volley_labels > 0])"
   ]
  },
  {
   "cell_type": "code",
   "execution_count": 47,
   "metadata": {},
   "outputs": [],
   "source": [
    "from sklearn.neighbors import KNeighborsClassifier\n",
    "neigh = KNeighborsClassifier(n_neighbors=1)\n",
    "neigh.fit(train_volley_data, train_volley_labels)\n",
    "pred = neigh.predict(test_volley_data)"
   ]
  },
  {
   "cell_type": "code",
   "execution_count": 48,
   "metadata": {},
   "outputs": [
    {
     "data": {
      "text/plain": [
       "422"
      ]
     },
     "execution_count": 48,
     "metadata": {},
     "output_type": "execute_result"
    }
   ],
   "source": [
    "sum(pred != test_volley_labels)"
   ]
  },
  {
   "cell_type": "code",
   "execution_count": 49,
   "metadata": {},
   "outputs": [
    {
     "data": {
      "text/plain": [
       "56"
      ]
     },
     "execution_count": 49,
     "metadata": {},
     "output_type": "execute_result"
    }
   ],
   "source": [
    "sum(test_volley_labels[test_volley_labels > 0] == pred[test_volley_labels > 0])"
   ]
  },
  {
   "cell_type": "code",
   "execution_count": 50,
   "metadata": {},
   "outputs": [],
   "source": [
    "from sklearn.ensemble import RandomForestClassifier\n",
    "clf = RandomForestClassifier(max_depth=1, random_state=0)\n",
    "clf.fit(train_volley_data, train_volley_labels)\n",
    "pred = clf.predict(test_volley_data)"
   ]
  },
  {
   "cell_type": "code",
   "execution_count": 51,
   "metadata": {},
   "outputs": [
    {
     "data": {
      "text/plain": [
       "282"
      ]
     },
     "execution_count": 51,
     "metadata": {},
     "output_type": "execute_result"
    }
   ],
   "source": [
    "sum(pred != test_volley_labels)"
   ]
  },
  {
   "cell_type": "code",
   "execution_count": 52,
   "metadata": {},
   "outputs": [
    {
     "data": {
      "text/plain": [
       "0"
      ]
     },
     "execution_count": 52,
     "metadata": {},
     "output_type": "execute_result"
    }
   ],
   "source": [
    "sum(test_volley_labels[test_volley_labels > 0] == pred[test_volley_labels > 0])"
   ]
  },
  {
   "cell_type": "code",
   "execution_count": null,
   "metadata": {},
   "outputs": [],
   "source": []
  },
  {
   "cell_type": "code",
   "execution_count": null,
   "metadata": {},
   "outputs": [],
   "source": []
  }
 ],
 "metadata": {
  "kernelspec": {
   "display_name": "Python 3",
   "language": "python",
   "name": "python3"
  },
  "language_info": {
   "codemirror_mode": {
    "name": "ipython",
    "version": 3
   },
   "file_extension": ".py",
   "mimetype": "text/x-python",
   "name": "python",
   "nbconvert_exporter": "python",
   "pygments_lexer": "ipython3",
   "version": "3.7.4"
  }
 },
 "nbformat": 4,
 "nbformat_minor": 4
}
